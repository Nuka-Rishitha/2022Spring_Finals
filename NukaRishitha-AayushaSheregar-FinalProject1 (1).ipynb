{
 "cells": [
  {
   "cell_type": "code",
   "execution_count": 546,
   "id": "7f7ecdf7",
   "metadata": {},
   "outputs": [],
   "source": [
    "import numpy as np\n",
    "import pandas as pd\n",
    "import matplotlib.pyplot as plt\n",
    "import plotly.express as px\n",
    "from mpl_toolkits.mplot3d import axes3d\n",
    "import seaborn as sns"
   ]
  },
  {
   "cell_type": "code",
   "execution_count": 547,
   "id": "c398d093",
   "metadata": {},
   "outputs": [],
   "source": [
    "GDP_data = pd.read_csv('Data_files\\\\GDP.csv')\n",
    "fr2 = pd.read_csv('Data_files\\\\exports and imports of india(1997-2022) - exports and imports.csv')\n",
    "fr3 =  pd.read_csv('Data_files\\\\india_population.csv')\n",
    "Export_data = pd.read_csv('Data_files\\\\2018-2010_export.csv')\n",
    "Trade_data = pd.read_csv(\"Data_files\\\\Net_Trade.csv\")\n",
    "file2= pd.read_csv('Data_files\\\\GDP.csv')"
   ]
  },
  {
   "cell_type": "code",
   "execution_count": 548,
   "id": "40e199b4",
   "metadata": {},
   "outputs": [],
   "source": [
    "# duplicate_fr1 = fr1"
   ]
  },
  {
   "cell_type": "code",
   "execution_count": 549,
   "outputs": [],
   "source": [
    "def clean_data(file1,file3):\n",
    "    global final_stacked\n",
    "    for i in range(1960, 2010):\n",
    "        file1 = file1.drop(columns = str(i))\n",
    "    file2 = file1.drop(columns = ['Indicator Name', 'Indicator Code', 'Country Code'])\n",
    "    file2 = file2.set_index('Country Name')\n",
    "    file2 = file2.stack()\n",
    "    df = pd.DataFrame(file2)\n",
    "    final_stacked = df.index.set_names('Year', level=len(df.index.names)-1, inplace=True)\n",
    "    final_stacked= df.reset_index().rename(columns={0:'GDP'})\n",
    "    final_stacked['Country Name'] = final_stacked['Country Name'].str.upper()\n",
    "    final_stacked['Year'] =final_stacked['Year'].str.replace(',','')\n",
    "    final_stacked= final_stacked.astype({\"Year\": \"int\"})\n",
    "    file3 = file3.drop(columns = ['Year(end)'])\n",
    "    file3['Country'] = file3['Country'].str.upper()\n",
    "    combined = pd.merge(left=file3 , right=final_stacked, left_on=['Country', 'Year(start)'], right_on=['Country Name', 'Year'], how='inner')\n",
    "    return combined"
   ],
   "metadata": {
    "collapsed": false,
    "pycharm": {
     "name": "#%%\n"
    }
   }
  },
  {
   "cell_type": "code",
   "execution_count": 550,
   "outputs": [],
   "source": [
    "cleaned_data = clean_data(GDP_data, fr2)"
   ],
   "metadata": {
    "collapsed": false,
    "pycharm": {
     "name": "#%%\n"
    }
   }
  },
  {
   "cell_type": "code",
   "execution_count": 551,
   "outputs": [
    {
     "data": {
      "text/plain": "          Country  Export  Import Total Trade Trade Balance  Year(start)  \\\n0     AFGHANISTAN  422.41  146.03      568.44        276.38         2010   \n1     AFGHANISTAN   510.9   132.5      643.41         378.4         2011   \n2     AFGHANISTAN  472.63  159.55      632.18        313.07         2012   \n3     AFGHANISTAN  474.34  208.77       683.1        265.57         2013   \n4     AFGHANISTAN  422.56  261.91      684.47        160.65         2014   \n...           ...     ...     ...         ...           ...          ...   \n1753     ZIMBABWE  109.08   60.46      169.54         48.63         2016   \n1754     ZIMBABWE  163.54    62.2      225.74        101.34         2017   \n1755     ZIMBABWE  181.72    7.79      189.51        173.93         2018   \n1756     ZIMBABWE  161.13   13.59      174.72        147.54         2019   \n1757     ZIMBABWE  175.72    5.71      181.42        170.01         2020   \n\n     Country Name  Year           GDP  \n0     AFGHANISTAN  2010  1.585668e+10  \n1     AFGHANISTAN  2011  1.780511e+10  \n2     AFGHANISTAN  2012  1.990732e+10  \n3     AFGHANISTAN  2013  2.014640e+10  \n4     AFGHANISTAN  2014  2.049713e+10  \n...           ...   ...           ...  \n1753     ZIMBABWE  2016  2.054868e+10  \n1754     ZIMBABWE  2017  1.758489e+10  \n1755     ZIMBABWE  2018  1.811554e+10  \n1756     ZIMBABWE  2019  1.928429e+10  \n1757     ZIMBABWE  2020  1.805117e+10  \n\n[1758 rows x 9 columns]",
      "text/html": "<div>\n<style scoped>\n    .dataframe tbody tr th:only-of-type {\n        vertical-align: middle;\n    }\n\n    .dataframe tbody tr th {\n        vertical-align: top;\n    }\n\n    .dataframe thead th {\n        text-align: right;\n    }\n</style>\n<table border=\"1\" class=\"dataframe\">\n  <thead>\n    <tr style=\"text-align: right;\">\n      <th></th>\n      <th>Country</th>\n      <th>Export</th>\n      <th>Import</th>\n      <th>Total Trade</th>\n      <th>Trade Balance</th>\n      <th>Year(start)</th>\n      <th>Country Name</th>\n      <th>Year</th>\n      <th>GDP</th>\n    </tr>\n  </thead>\n  <tbody>\n    <tr>\n      <th>0</th>\n      <td>AFGHANISTAN</td>\n      <td>422.41</td>\n      <td>146.03</td>\n      <td>568.44</td>\n      <td>276.38</td>\n      <td>2010</td>\n      <td>AFGHANISTAN</td>\n      <td>2010</td>\n      <td>1.585668e+10</td>\n    </tr>\n    <tr>\n      <th>1</th>\n      <td>AFGHANISTAN</td>\n      <td>510.9</td>\n      <td>132.5</td>\n      <td>643.41</td>\n      <td>378.4</td>\n      <td>2011</td>\n      <td>AFGHANISTAN</td>\n      <td>2011</td>\n      <td>1.780511e+10</td>\n    </tr>\n    <tr>\n      <th>2</th>\n      <td>AFGHANISTAN</td>\n      <td>472.63</td>\n      <td>159.55</td>\n      <td>632.18</td>\n      <td>313.07</td>\n      <td>2012</td>\n      <td>AFGHANISTAN</td>\n      <td>2012</td>\n      <td>1.990732e+10</td>\n    </tr>\n    <tr>\n      <th>3</th>\n      <td>AFGHANISTAN</td>\n      <td>474.34</td>\n      <td>208.77</td>\n      <td>683.1</td>\n      <td>265.57</td>\n      <td>2013</td>\n      <td>AFGHANISTAN</td>\n      <td>2013</td>\n      <td>2.014640e+10</td>\n    </tr>\n    <tr>\n      <th>4</th>\n      <td>AFGHANISTAN</td>\n      <td>422.56</td>\n      <td>261.91</td>\n      <td>684.47</td>\n      <td>160.65</td>\n      <td>2014</td>\n      <td>AFGHANISTAN</td>\n      <td>2014</td>\n      <td>2.049713e+10</td>\n    </tr>\n    <tr>\n      <th>...</th>\n      <td>...</td>\n      <td>...</td>\n      <td>...</td>\n      <td>...</td>\n      <td>...</td>\n      <td>...</td>\n      <td>...</td>\n      <td>...</td>\n      <td>...</td>\n    </tr>\n    <tr>\n      <th>1753</th>\n      <td>ZIMBABWE</td>\n      <td>109.08</td>\n      <td>60.46</td>\n      <td>169.54</td>\n      <td>48.63</td>\n      <td>2016</td>\n      <td>ZIMBABWE</td>\n      <td>2016</td>\n      <td>2.054868e+10</td>\n    </tr>\n    <tr>\n      <th>1754</th>\n      <td>ZIMBABWE</td>\n      <td>163.54</td>\n      <td>62.2</td>\n      <td>225.74</td>\n      <td>101.34</td>\n      <td>2017</td>\n      <td>ZIMBABWE</td>\n      <td>2017</td>\n      <td>1.758489e+10</td>\n    </tr>\n    <tr>\n      <th>1755</th>\n      <td>ZIMBABWE</td>\n      <td>181.72</td>\n      <td>7.79</td>\n      <td>189.51</td>\n      <td>173.93</td>\n      <td>2018</td>\n      <td>ZIMBABWE</td>\n      <td>2018</td>\n      <td>1.811554e+10</td>\n    </tr>\n    <tr>\n      <th>1756</th>\n      <td>ZIMBABWE</td>\n      <td>161.13</td>\n      <td>13.59</td>\n      <td>174.72</td>\n      <td>147.54</td>\n      <td>2019</td>\n      <td>ZIMBABWE</td>\n      <td>2019</td>\n      <td>1.928429e+10</td>\n    </tr>\n    <tr>\n      <th>1757</th>\n      <td>ZIMBABWE</td>\n      <td>175.72</td>\n      <td>5.71</td>\n      <td>181.42</td>\n      <td>170.01</td>\n      <td>2020</td>\n      <td>ZIMBABWE</td>\n      <td>2020</td>\n      <td>1.805117e+10</td>\n    </tr>\n  </tbody>\n</table>\n<p>1758 rows × 9 columns</p>\n</div>"
     },
     "execution_count": 551,
     "metadata": {},
     "output_type": "execute_result"
    }
   ],
   "source": [
    "cleaned_data"
   ],
   "metadata": {
    "collapsed": false,
    "pycharm": {
     "name": "#%%\n"
    }
   }
  },
  {
   "cell_type": "code",
   "execution_count": 552,
   "outputs": [],
   "source": [
    "def refine_more(filename):\n",
    "    filename['Total Trade'] = filename['Total Trade'].str.replace(',','')\n",
    "    filename['Export'] = filename['Export'].str.replace(',','')\n",
    "    filename['Import'] = filename['Import'].str.replace(',','')\n",
    "    filename['Trade Balance'] = filename['Trade Balance'].str.replace(',','')\n",
    "    filename['Total Trade'] = filename['Total Trade'].astype(float)\n",
    "    filename['Export'] = filename['Export'].astype(float)\n",
    "    filename['Import'] = filename['Import'].astype(float)\n",
    "    filename['Trade Balance'] = filename['Trade Balance'].astype(float)\n",
    "    return filename"
   ],
   "metadata": {
    "collapsed": false,
    "pycharm": {
     "name": "#%%\n"
    }
   }
  },
  {
   "cell_type": "code",
   "execution_count": 553,
   "outputs": [],
   "source": [
    "refined_data = refine_more(cleaned_data)"
   ],
   "metadata": {
    "collapsed": false,
    "pycharm": {
     "name": "#%%\n"
    }
   }
  },
  {
   "cell_type": "code",
   "execution_count": 554,
   "outputs": [
    {
     "data": {
      "text/plain": "          Country  Export  Import  Total Trade  Trade Balance  Year(start)  \\\n0     AFGHANISTAN  422.41  146.03       568.44         276.38         2010   \n1     AFGHANISTAN  510.90  132.50       643.41         378.40         2011   \n2     AFGHANISTAN  472.63  159.55       632.18         313.07         2012   \n3     AFGHANISTAN  474.34  208.77       683.10         265.57         2013   \n4     AFGHANISTAN  422.56  261.91       684.47         160.65         2014   \n...           ...     ...     ...          ...            ...          ...   \n1753     ZIMBABWE  109.08   60.46       169.54          48.63         2016   \n1754     ZIMBABWE  163.54   62.20       225.74         101.34         2017   \n1755     ZIMBABWE  181.72    7.79       189.51         173.93         2018   \n1756     ZIMBABWE  161.13   13.59       174.72         147.54         2019   \n1757     ZIMBABWE  175.72    5.71       181.42         170.01         2020   \n\n     Country Name  Year           GDP  \n0     AFGHANISTAN  2010  1.585668e+10  \n1     AFGHANISTAN  2011  1.780511e+10  \n2     AFGHANISTAN  2012  1.990732e+10  \n3     AFGHANISTAN  2013  2.014640e+10  \n4     AFGHANISTAN  2014  2.049713e+10  \n...           ...   ...           ...  \n1753     ZIMBABWE  2016  2.054868e+10  \n1754     ZIMBABWE  2017  1.758489e+10  \n1755     ZIMBABWE  2018  1.811554e+10  \n1756     ZIMBABWE  2019  1.928429e+10  \n1757     ZIMBABWE  2020  1.805117e+10  \n\n[1758 rows x 9 columns]",
      "text/html": "<div>\n<style scoped>\n    .dataframe tbody tr th:only-of-type {\n        vertical-align: middle;\n    }\n\n    .dataframe tbody tr th {\n        vertical-align: top;\n    }\n\n    .dataframe thead th {\n        text-align: right;\n    }\n</style>\n<table border=\"1\" class=\"dataframe\">\n  <thead>\n    <tr style=\"text-align: right;\">\n      <th></th>\n      <th>Country</th>\n      <th>Export</th>\n      <th>Import</th>\n      <th>Total Trade</th>\n      <th>Trade Balance</th>\n      <th>Year(start)</th>\n      <th>Country Name</th>\n      <th>Year</th>\n      <th>GDP</th>\n    </tr>\n  </thead>\n  <tbody>\n    <tr>\n      <th>0</th>\n      <td>AFGHANISTAN</td>\n      <td>422.41</td>\n      <td>146.03</td>\n      <td>568.44</td>\n      <td>276.38</td>\n      <td>2010</td>\n      <td>AFGHANISTAN</td>\n      <td>2010</td>\n      <td>1.585668e+10</td>\n    </tr>\n    <tr>\n      <th>1</th>\n      <td>AFGHANISTAN</td>\n      <td>510.90</td>\n      <td>132.50</td>\n      <td>643.41</td>\n      <td>378.40</td>\n      <td>2011</td>\n      <td>AFGHANISTAN</td>\n      <td>2011</td>\n      <td>1.780511e+10</td>\n    </tr>\n    <tr>\n      <th>2</th>\n      <td>AFGHANISTAN</td>\n      <td>472.63</td>\n      <td>159.55</td>\n      <td>632.18</td>\n      <td>313.07</td>\n      <td>2012</td>\n      <td>AFGHANISTAN</td>\n      <td>2012</td>\n      <td>1.990732e+10</td>\n    </tr>\n    <tr>\n      <th>3</th>\n      <td>AFGHANISTAN</td>\n      <td>474.34</td>\n      <td>208.77</td>\n      <td>683.10</td>\n      <td>265.57</td>\n      <td>2013</td>\n      <td>AFGHANISTAN</td>\n      <td>2013</td>\n      <td>2.014640e+10</td>\n    </tr>\n    <tr>\n      <th>4</th>\n      <td>AFGHANISTAN</td>\n      <td>422.56</td>\n      <td>261.91</td>\n      <td>684.47</td>\n      <td>160.65</td>\n      <td>2014</td>\n      <td>AFGHANISTAN</td>\n      <td>2014</td>\n      <td>2.049713e+10</td>\n    </tr>\n    <tr>\n      <th>...</th>\n      <td>...</td>\n      <td>...</td>\n      <td>...</td>\n      <td>...</td>\n      <td>...</td>\n      <td>...</td>\n      <td>...</td>\n      <td>...</td>\n      <td>...</td>\n    </tr>\n    <tr>\n      <th>1753</th>\n      <td>ZIMBABWE</td>\n      <td>109.08</td>\n      <td>60.46</td>\n      <td>169.54</td>\n      <td>48.63</td>\n      <td>2016</td>\n      <td>ZIMBABWE</td>\n      <td>2016</td>\n      <td>2.054868e+10</td>\n    </tr>\n    <tr>\n      <th>1754</th>\n      <td>ZIMBABWE</td>\n      <td>163.54</td>\n      <td>62.20</td>\n      <td>225.74</td>\n      <td>101.34</td>\n      <td>2017</td>\n      <td>ZIMBABWE</td>\n      <td>2017</td>\n      <td>1.758489e+10</td>\n    </tr>\n    <tr>\n      <th>1755</th>\n      <td>ZIMBABWE</td>\n      <td>181.72</td>\n      <td>7.79</td>\n      <td>189.51</td>\n      <td>173.93</td>\n      <td>2018</td>\n      <td>ZIMBABWE</td>\n      <td>2018</td>\n      <td>1.811554e+10</td>\n    </tr>\n    <tr>\n      <th>1756</th>\n      <td>ZIMBABWE</td>\n      <td>161.13</td>\n      <td>13.59</td>\n      <td>174.72</td>\n      <td>147.54</td>\n      <td>2019</td>\n      <td>ZIMBABWE</td>\n      <td>2019</td>\n      <td>1.928429e+10</td>\n    </tr>\n    <tr>\n      <th>1757</th>\n      <td>ZIMBABWE</td>\n      <td>175.72</td>\n      <td>5.71</td>\n      <td>181.42</td>\n      <td>170.01</td>\n      <td>2020</td>\n      <td>ZIMBABWE</td>\n      <td>2020</td>\n      <td>1.805117e+10</td>\n    </tr>\n  </tbody>\n</table>\n<p>1758 rows × 9 columns</p>\n</div>"
     },
     "execution_count": 554,
     "metadata": {},
     "output_type": "execute_result"
    }
   ],
   "source": [
    "refined_data"
   ],
   "metadata": {
    "collapsed": false,
    "pycharm": {
     "name": "#%%\n"
    }
   }
  },
  {
   "cell_type": "code",
   "execution_count": 555,
   "outputs": [],
   "source": [
    "refined_data['GDP'] = round(refined_data['GDP']/1000000,2)"
   ],
   "metadata": {
    "collapsed": false,
    "pycharm": {
     "name": "#%%\n"
    }
   }
  },
  {
   "cell_type": "code",
   "execution_count": 556,
   "outputs": [
    {
     "data": {
      "text/plain": "          Country  Export  Import  Total Trade  Trade Balance  Year(start)  \\\n0     AFGHANISTAN  422.41  146.03       568.44         276.38         2010   \n1     AFGHANISTAN  510.90  132.50       643.41         378.40         2011   \n2     AFGHANISTAN  472.63  159.55       632.18         313.07         2012   \n3     AFGHANISTAN  474.34  208.77       683.10         265.57         2013   \n4     AFGHANISTAN  422.56  261.91       684.47         160.65         2014   \n...           ...     ...     ...          ...            ...          ...   \n1753     ZIMBABWE  109.08   60.46       169.54          48.63         2016   \n1754     ZIMBABWE  163.54   62.20       225.74         101.34         2017   \n1755     ZIMBABWE  181.72    7.79       189.51         173.93         2018   \n1756     ZIMBABWE  161.13   13.59       174.72         147.54         2019   \n1757     ZIMBABWE  175.72    5.71       181.42         170.01         2020   \n\n     Country Name  Year       GDP  \n0     AFGHANISTAN  2010  15856.68  \n1     AFGHANISTAN  2011  17805.11  \n2     AFGHANISTAN  2012  19907.32  \n3     AFGHANISTAN  2013  20146.40  \n4     AFGHANISTAN  2014  20497.13  \n...           ...   ...       ...  \n1753     ZIMBABWE  2016  20548.68  \n1754     ZIMBABWE  2017  17584.89  \n1755     ZIMBABWE  2018  18115.54  \n1756     ZIMBABWE  2019  19284.29  \n1757     ZIMBABWE  2020  18051.17  \n\n[1758 rows x 9 columns]",
      "text/html": "<div>\n<style scoped>\n    .dataframe tbody tr th:only-of-type {\n        vertical-align: middle;\n    }\n\n    .dataframe tbody tr th {\n        vertical-align: top;\n    }\n\n    .dataframe thead th {\n        text-align: right;\n    }\n</style>\n<table border=\"1\" class=\"dataframe\">\n  <thead>\n    <tr style=\"text-align: right;\">\n      <th></th>\n      <th>Country</th>\n      <th>Export</th>\n      <th>Import</th>\n      <th>Total Trade</th>\n      <th>Trade Balance</th>\n      <th>Year(start)</th>\n      <th>Country Name</th>\n      <th>Year</th>\n      <th>GDP</th>\n    </tr>\n  </thead>\n  <tbody>\n    <tr>\n      <th>0</th>\n      <td>AFGHANISTAN</td>\n      <td>422.41</td>\n      <td>146.03</td>\n      <td>568.44</td>\n      <td>276.38</td>\n      <td>2010</td>\n      <td>AFGHANISTAN</td>\n      <td>2010</td>\n      <td>15856.68</td>\n    </tr>\n    <tr>\n      <th>1</th>\n      <td>AFGHANISTAN</td>\n      <td>510.90</td>\n      <td>132.50</td>\n      <td>643.41</td>\n      <td>378.40</td>\n      <td>2011</td>\n      <td>AFGHANISTAN</td>\n      <td>2011</td>\n      <td>17805.11</td>\n    </tr>\n    <tr>\n      <th>2</th>\n      <td>AFGHANISTAN</td>\n      <td>472.63</td>\n      <td>159.55</td>\n      <td>632.18</td>\n      <td>313.07</td>\n      <td>2012</td>\n      <td>AFGHANISTAN</td>\n      <td>2012</td>\n      <td>19907.32</td>\n    </tr>\n    <tr>\n      <th>3</th>\n      <td>AFGHANISTAN</td>\n      <td>474.34</td>\n      <td>208.77</td>\n      <td>683.10</td>\n      <td>265.57</td>\n      <td>2013</td>\n      <td>AFGHANISTAN</td>\n      <td>2013</td>\n      <td>20146.40</td>\n    </tr>\n    <tr>\n      <th>4</th>\n      <td>AFGHANISTAN</td>\n      <td>422.56</td>\n      <td>261.91</td>\n      <td>684.47</td>\n      <td>160.65</td>\n      <td>2014</td>\n      <td>AFGHANISTAN</td>\n      <td>2014</td>\n      <td>20497.13</td>\n    </tr>\n    <tr>\n      <th>...</th>\n      <td>...</td>\n      <td>...</td>\n      <td>...</td>\n      <td>...</td>\n      <td>...</td>\n      <td>...</td>\n      <td>...</td>\n      <td>...</td>\n      <td>...</td>\n    </tr>\n    <tr>\n      <th>1753</th>\n      <td>ZIMBABWE</td>\n      <td>109.08</td>\n      <td>60.46</td>\n      <td>169.54</td>\n      <td>48.63</td>\n      <td>2016</td>\n      <td>ZIMBABWE</td>\n      <td>2016</td>\n      <td>20548.68</td>\n    </tr>\n    <tr>\n      <th>1754</th>\n      <td>ZIMBABWE</td>\n      <td>163.54</td>\n      <td>62.20</td>\n      <td>225.74</td>\n      <td>101.34</td>\n      <td>2017</td>\n      <td>ZIMBABWE</td>\n      <td>2017</td>\n      <td>17584.89</td>\n    </tr>\n    <tr>\n      <th>1755</th>\n      <td>ZIMBABWE</td>\n      <td>181.72</td>\n      <td>7.79</td>\n      <td>189.51</td>\n      <td>173.93</td>\n      <td>2018</td>\n      <td>ZIMBABWE</td>\n      <td>2018</td>\n      <td>18115.54</td>\n    </tr>\n    <tr>\n      <th>1756</th>\n      <td>ZIMBABWE</td>\n      <td>161.13</td>\n      <td>13.59</td>\n      <td>174.72</td>\n      <td>147.54</td>\n      <td>2019</td>\n      <td>ZIMBABWE</td>\n      <td>2019</td>\n      <td>19284.29</td>\n    </tr>\n    <tr>\n      <th>1757</th>\n      <td>ZIMBABWE</td>\n      <td>175.72</td>\n      <td>5.71</td>\n      <td>181.42</td>\n      <td>170.01</td>\n      <td>2020</td>\n      <td>ZIMBABWE</td>\n      <td>2020</td>\n      <td>18051.17</td>\n    </tr>\n  </tbody>\n</table>\n<p>1758 rows × 9 columns</p>\n</div>"
     },
     "execution_count": 556,
     "metadata": {},
     "output_type": "execute_result"
    }
   ],
   "source": [
    "refined_data"
   ],
   "metadata": {
    "collapsed": false,
    "pycharm": {
     "name": "#%%\n"
    }
   }
  },
  {
   "cell_type": "code",
   "execution_count": 557,
   "id": "1c12a103",
   "metadata": {},
   "outputs": [],
   "source": [
    "def filtering_countries(combined, country):\n",
    "    new = combined.loc[combined['Country'] == country]\n",
    "    year = new.loc[:, [\"Export\", \"Import\", \"Country\", \"Year\"]]\n",
    "    year = year.set_index([\"Country\", \"Year\"])\n",
    "    year = year.groupby([\"Country\", \"Year\"]).apply(lambda x: x.sort_values ([\"Country\", \"Year\"]))\n",
    "    return year"
   ]
  },
  {
   "cell_type": "code",
   "execution_count": 558,
   "id": "dbe6e429",
   "metadata": {},
   "outputs": [],
   "source": [
    "def plotting(datafile, country):\n",
    "     Graph = datafile.plot(kind = 'bar', figsize =(30,10), title = country)\n",
    "     return Graph"
   ]
  },
  {
   "cell_type": "code",
   "execution_count": 559,
   "id": "7b306061",
   "metadata": {},
   "outputs": [
    {
     "data": {
      "text/plain": "<AxesSubplot:title={'center':'CHINA P RP'}, xlabel='Country,Year'>"
     },
     "execution_count": 559,
     "metadata": {},
     "output_type": "execute_result"
    },
    {
     "data": {
      "text/plain": "<Figure size 2160x720 with 1 Axes>",
      "image/png": "[encoded data removed]"
     },
     "metadata": {},
     "output_type": "display_data"
    }
   ],
   "source": [
    "GraphAF = filtering_countries(refined_data, \"CHINA P RP\")\n",
    "plotting(GraphAF, \"CHINA P RP\")"
   ]
  },
  {
   "cell_type": "code",
   "execution_count": 560,
   "id": "1250ec1d",
   "metadata": {},
   "outputs": [],
   "source": [
    "India = final_stacked.loc[final_stacked['Country Name'] == 'INDIA']"
   ]
  },
  {
   "cell_type": "code",
   "execution_count": 561,
   "id": "bd005847",
   "metadata": {},
   "outputs": [
    {
     "data": {
      "text/plain": "     Country Name  Year           GDP\n1161        INDIA  2010  1.675620e+12\n1162        INDIA  2011  1.823050e+12\n1163        INDIA  2012  1.827640e+12\n1164        INDIA  2013  1.856720e+12\n1165        INDIA  2014  2.039130e+12\n1166        INDIA  2015  2.103590e+12\n1167        INDIA  2016  2.294800e+12\n1168        INDIA  2017  2.651470e+12\n1169        INDIA  2018  2.701110e+12\n1170        INDIA  2019  2.870500e+12\n1171        INDIA  2020  2.660250e+12",
      "text/html": "<div>\n<style scoped>\n    .dataframe tbody tr th:only-of-type {\n        vertical-align: middle;\n    }\n\n    .dataframe tbody tr th {\n        vertical-align: top;\n    }\n\n    .dataframe thead th {\n        text-align: right;\n    }\n</style>\n<table border=\"1\" class=\"dataframe\">\n  <thead>\n    <tr style=\"text-align: right;\">\n      <th></th>\n      <th>Country Name</th>\n      <th>Year</th>\n      <th>GDP</th>\n    </tr>\n  </thead>\n  <tbody>\n    <tr>\n      <th>1161</th>\n      <td>INDIA</td>\n      <td>2010</td>\n      <td>1.675620e+12</td>\n    </tr>\n    <tr>\n      <th>1162</th>\n      <td>INDIA</td>\n      <td>2011</td>\n      <td>1.823050e+12</td>\n    </tr>\n    <tr>\n      <th>1163</th>\n      <td>INDIA</td>\n      <td>2012</td>\n      <td>1.827640e+12</td>\n    </tr>\n    <tr>\n      <th>1164</th>\n      <td>INDIA</td>\n      <td>2013</td>\n      <td>1.856720e+12</td>\n    </tr>\n    <tr>\n      <th>1165</th>\n      <td>INDIA</td>\n      <td>2014</td>\n      <td>2.039130e+12</td>\n    </tr>\n    <tr>\n      <th>1166</th>\n      <td>INDIA</td>\n      <td>2015</td>\n      <td>2.103590e+12</td>\n    </tr>\n    <tr>\n      <th>1167</th>\n      <td>INDIA</td>\n      <td>2016</td>\n      <td>2.294800e+12</td>\n    </tr>\n    <tr>\n      <th>1168</th>\n      <td>INDIA</td>\n      <td>2017</td>\n      <td>2.651470e+12</td>\n    </tr>\n    <tr>\n      <th>1169</th>\n      <td>INDIA</td>\n      <td>2018</td>\n      <td>2.701110e+12</td>\n    </tr>\n    <tr>\n      <th>1170</th>\n      <td>INDIA</td>\n      <td>2019</td>\n      <td>2.870500e+12</td>\n    </tr>\n    <tr>\n      <th>1171</th>\n      <td>INDIA</td>\n      <td>2020</td>\n      <td>2.660250e+12</td>\n    </tr>\n  </tbody>\n</table>\n</div>"
     },
     "execution_count": 561,
     "metadata": {},
     "output_type": "execute_result"
    }
   ],
   "source": [
    "India"
   ]
  },
  {
   "cell_type": "code",
   "execution_count": 562,
   "id": "72e5cdaa",
   "metadata": {},
   "outputs": [
    {
     "name": "stderr",
     "output_type": "stream",
     "text": [
      "C:\\Users\\RISHITHA\\AppData\\Local\\Temp/ipykernel_20396/355004255.py:1: SettingWithCopyWarning:\n",
      "\n",
      "\n",
      "A value is trying to be set on a copy of a slice from a DataFrame.\n",
      "Try using .loc[row_indexer,col_indexer] = value instead\n",
      "\n",
      "See the caveats in the documentation: https://pandas.pydata.org/pandas-docs/stable/user_guide/indexing.html#returning-a-view-versus-a-copy\n",
      "\n"
     ]
    }
   ],
   "source": [
    "India['GDP'] = round(India['GDP']/1000000,2)"
   ]
  },
  {
   "cell_type": "code",
   "execution_count": 563,
   "id": "9f7badab",
   "metadata": {},
   "outputs": [
    {
     "data": {
      "text/plain": "     Country Name  Year        GDP\n1161        INDIA  2010  1675620.0\n1162        INDIA  2011  1823050.0\n1163        INDIA  2012  1827640.0\n1164        INDIA  2013  1856720.0\n1165        INDIA  2014  2039130.0\n1166        INDIA  2015  2103590.0\n1167        INDIA  2016  2294800.0\n1168        INDIA  2017  2651470.0\n1169        INDIA  2018  2701110.0\n1170        INDIA  2019  2870500.0\n1171        INDIA  2020  2660250.0",
      "text/html": "<div>\n<style scoped>\n    .dataframe tbody tr th:only-of-type {\n        vertical-align: middle;\n    }\n\n    .dataframe tbody tr th {\n        vertical-align: top;\n    }\n\n    .dataframe thead th {\n        text-align: right;\n    }\n</style>\n<table border=\"1\" class=\"dataframe\">\n  <thead>\n    <tr style=\"text-align: right;\">\n      <th></th>\n      <th>Country Name</th>\n      <th>Year</th>\n      <th>GDP</th>\n    </tr>\n  </thead>\n  <tbody>\n    <tr>\n      <th>1161</th>\n      <td>INDIA</td>\n      <td>2010</td>\n      <td>1675620.0</td>\n    </tr>\n    <tr>\n      <th>1162</th>\n      <td>INDIA</td>\n      <td>2011</td>\n      <td>1823050.0</td>\n    </tr>\n    <tr>\n      <th>1163</th>\n      <td>INDIA</td>\n      <td>2012</td>\n      <td>1827640.0</td>\n    </tr>\n    <tr>\n      <th>1164</th>\n      <td>INDIA</td>\n      <td>2013</td>\n      <td>1856720.0</td>\n    </tr>\n    <tr>\n      <th>1165</th>\n      <td>INDIA</td>\n      <td>2014</td>\n      <td>2039130.0</td>\n    </tr>\n    <tr>\n      <th>1166</th>\n      <td>INDIA</td>\n      <td>2015</td>\n      <td>2103590.0</td>\n    </tr>\n    <tr>\n      <th>1167</th>\n      <td>INDIA</td>\n      <td>2016</td>\n      <td>2294800.0</td>\n    </tr>\n    <tr>\n      <th>1168</th>\n      <td>INDIA</td>\n      <td>2017</td>\n      <td>2651470.0</td>\n    </tr>\n    <tr>\n      <th>1169</th>\n      <td>INDIA</td>\n      <td>2018</td>\n      <td>2701110.0</td>\n    </tr>\n    <tr>\n      <th>1170</th>\n      <td>INDIA</td>\n      <td>2019</td>\n      <td>2870500.0</td>\n    </tr>\n    <tr>\n      <th>1171</th>\n      <td>INDIA</td>\n      <td>2020</td>\n      <td>2660250.0</td>\n    </tr>\n  </tbody>\n</table>\n</div>"
     },
     "execution_count": 563,
     "metadata": {},
     "output_type": "execute_result"
    }
   ],
   "source": [
    "India"
   ]
  },
  {
   "cell_type": "code",
   "execution_count": 564,
   "id": "a893a92b",
   "metadata": {},
   "outputs": [
    {
     "data": {
      "application/vnd.plotly.v1+json": {
       "data": [
        {
         "hovertemplate": "variable=GDP<br>Year=%{x}<br>value=%{y}<extra></extra>",
         "legendgroup": "GDP",
         "line": {
          "color": "#636efa",
          "dash": "solid"
         },
         "marker": {
          "symbol": "circle"
         },
         "mode": "lines",
         "name": "GDP",
         "orientation": "v",
         "showlegend": true,
         "x": [
          2010,
          2011,
          2012,
          2013,
          2014,
          2015,
          2016,
          2017,
          2018,
          2019,
          2020
         ],
         "xaxis": "x",
         "y": [
          1675620.0,
          1823050.0,
          1827640.0,
          1856720.0,
          2039130.0,
          2103590.0,
          2294800.0,
          2651470.0,
          2701110.0,
          2870500.0,
          2660250.0
         ],
         "yaxis": "y",
         "type": "scatter"
        }
       ],
       "layout": {
        "template": {
         "data": {
          "histogram2dcontour": [
           {
            "type": "histogram2dcontour",
            "colorbar": {
             "outlinewidth": 0,
             "ticks": ""
            },
            "colorscale": [
             [
              0.0,
              "#0d0887"
             ],
             [
              0.1111111111111111,
              "#46039f"
             ],
             [
              0.2222222222222222,
              "#7201a8"
             ],
             [
              0.3333333333333333,
              "#9c179e"
             ],
             [
              0.4444444444444444,
              "#bd3786"
             ],
             [
              0.5555555555555556,
              "#d8576b"
             ],
             [
              0.6666666666666666,
              "#ed7953"
             ],
             [
              0.7777777777777778,
              "#fb9f3a"
             ],
             [
              0.8888888888888888,
              "#fdca26"
             ],
             [
              1.0,
              "#f0f921"
             ]
            ]
           }
          ],
          "choropleth": [
           {
            "type": "choropleth",
            "colorbar": {
             "outlinewidth": 0,
             "ticks": ""
            }
           }
          ],
          "histogram2d": [
           {
            "type": "histogram2d",
            "colorbar": {
             "outlinewidth": 0,
             "ticks": ""
            },
            "colorscale": [
             [
              0.0,
              "#0d0887"
             ],
             [
              0.1111111111111111,
              "#46039f"
             ],
             [
              0.2222222222222222,
              "#7201a8"
             ],
             [
              0.3333333333333333,
              "#9c179e"
             ],
             [
              0.4444444444444444,
              "#bd3786"
             ],
             [
              0.5555555555555556,
              "#d8576b"
             ],
             [
              0.6666666666666666,
              "#ed7953"
             ],
             [
              0.7777777777777778,
              "#fb9f3a"
             ],
             [
              0.8888888888888888,
              "#fdca26"
             ],
             [
              1.0,
              "#f0f921"
             ]
            ]
           }
          ],
          "heatmap": [
           {
            "type": "heatmap",
            "colorbar": {
             "outlinewidth": 0,
             "ticks": ""
            },
            "colorscale": [
             [
              0.0,
              "#0d0887"
             ],
             [
              0.1111111111111111,
              "#46039f"
             ],
             [
              0.2222222222222222,
              "#7201a8"
             ],
             [
              0.3333333333333333,
              "#9c179e"
             ],
             [
              0.4444444444444444,
              "#bd3786"
             ],
             [
              0.5555555555555556,
              "#d8576b"
             ],
             [
              0.6666666666666666,
              "#ed7953"
             ],
             [
              0.7777777777777778,
              "#fb9f3a"
             ],
             [
              0.8888888888888888,
              "#fdca26"
             ],
             [
              1.0,
              "#f0f921"
             ]
            ]
           }
          ],
          "heatmapgl": [
           {
            "type": "heatmapgl",
            "colorbar": {
             "outlinewidth": 0,
             "ticks": ""
            },
            "colorscale": [
             [
              0.0,
              "#0d0887"
             ],
             [
              0.1111111111111111,
              "#46039f"
             ],
             [
              0.2222222222222222,
              "#7201a8"
             ],
             [
              0.3333333333333333,
              "#9c179e"
             ],
             [
              0.4444444444444444,
              "#bd3786"
             ],
             [
              0.5555555555555556,
              "#d8576b"
             ],
             [
              0.6666666666666666,
              "#ed7953"
             ],
             [
              0.7777777777777778,
              "#fb9f3a"
             ],
             [
              0.8888888888888888,
              "#fdca26"
             ],
             [
              1.0,
              "#f0f921"
             ]
            ]
           }
          ],
          "contourcarpet": [
           {
            "type": "contourcarpet",
            "colorbar": {
             "outlinewidth": 0,
             "ticks": ""
            }
           }
          ],
          "contour": [
           {
            "type": "contour",
            "colorbar": {
             "outlinewidth": 0,
             "ticks": ""
            },
            "colorscale": [
             [
              0.0,
              "#0d0887"
             ],
             [
              0.1111111111111111,
              "#46039f"
             ],
             [
              0.2222222222222222,
              "#7201a8"
             ],
             [
              0.3333333333333333,
              "#9c179e"
             ],
             [
              0.4444444444444444,
              "#bd3786"
             ],
             [
              0.5555555555555556,
              "#d8576b"
             ],
             [
              0.6666666666666666,
              "#ed7953"
             ],
             [
              0.7777777777777778,
              "#fb9f3a"
             ],
             [
              0.8888888888888888,
              "#fdca26"
             ],
             [
              1.0,
              "#f0f921"
             ]
            ]
           }
          ],
          "surface": [
           {
            "type": "surface",
            "colorbar": {
             "outlinewidth": 0,
             "ticks": ""
            },
            "colorscale": [
             [
              0.0,
              "#0d0887"
             ],
             [
              0.1111111111111111,
              "#46039f"
             ],
             [
              0.2222222222222222,
              "#7201a8"
             ],
             [
              0.3333333333333333,
              "#9c179e"
             ],
             [
              0.4444444444444444,
              "#bd3786"
             ],
             [
              0.5555555555555556,
              "#d8576b"
             ],
             [
              0.6666666666666666,
              "#ed7953"
             ],
             [
              0.7777777777777778,
              "#fb9f3a"
             ],
             [
              0.8888888888888888,
              "#fdca26"
             ],
             [
              1.0,
              "#f0f921"
             ]
            ]
           }
          ],
          "mesh3d": [
           {
            "type": "mesh3d",
            "colorbar": {
             "outlinewidth": 0,
             "ticks": ""
            }
           }
          ],
          "scatter": [
           {
            "fillpattern": {
             "fillmode": "overlay",
             "size": 10,
             "solidity": 0.2
            },
            "type": "scatter"
           }
          ],
          "parcoords": [
           {
            "type": "parcoords",
            "line": {
             "colorbar": {
              "outlinewidth": 0,
              "ticks": ""
             }
            }
           }
          ],
          "scatterpolargl": [
           {
            "type": "scatterpolargl",
            "marker": {
             "colorbar": {
              "outlinewidth": 0,
              "ticks": ""
             }
            }
           }
          ],
          "bar": [
           {
            "error_x": {
             "color": "#2a3f5f"
            },
            "error_y": {
             "color": "#2a3f5f"
            },
            "marker": {
             "line": {
              "color": "#E5ECF6",
              "width": 0.5
             },
             "pattern": {
              "fillmode": "overlay",
              "size": 10,
              "solidity": 0.2
             }
            },
            "type": "bar"
           }
          ],
          "scattergeo": [
           {
            "type": "scattergeo",
            "marker": {
             "colorbar": {
              "outlinewidth": 0,
              "ticks": ""
             }
            }
           }
          ],
          "scatterpolar": [
           {
            "type": "scatterpolar",
            "marker": {
             "colorbar": {
              "outlinewidth": 0,
              "ticks": ""
             }
            }
           }
          ],
          "histogram": [
           {
            "marker": {
             "pattern": {
              "fillmode": "overlay",
              "size": 10,
              "solidity": 0.2
             }
            },
            "type": "histogram"
           }
          ],
          "scattergl": [
           {
            "type": "scattergl",
            "marker": {
             "colorbar": {
              "outlinewidth": 0,
              "ticks": ""
             }
            }
           }
          ],
          "scatter3d": [
           {
            "type": "scatter3d",
            "line": {
             "colorbar": {
              "outlinewidth": 0,
              "ticks": ""
             }
            },
            "marker": {
             "colorbar": {
              "outlinewidth": 0,
              "ticks": ""
             }
            }
           }
          ],
          "scattermapbox": [
           {
            "type": "scattermapbox",
            "marker": {
             "colorbar": {
              "outlinewidth": 0,
              "ticks": ""
             }
            }
           }
          ],
          "scatterternary": [
           {
            "type": "scatterternary",
            "marker": {
             "colorbar": {
              "outlinewidth": 0,
              "ticks": ""
             }
            }
           }
          ],
          "scattercarpet": [
           {
            "type": "scattercarpet",
            "marker": {
             "colorbar": {
              "outlinewidth": 0,
              "ticks": ""
             }
            }
           }
          ],
          "carpet": [
           {
            "aaxis": {
             "endlinecolor": "#2a3f5f",
             "gridcolor": "white",
             "linecolor": "white",
             "minorgridcolor": "white",
             "startlinecolor": "#2a3f5f"
            },
            "baxis": {
             "endlinecolor": "#2a3f5f",
             "gridcolor": "white",
             "linecolor": "white",
             "minorgridcolor": "white",
             "startlinecolor": "#2a3f5f"
            },
            "type": "carpet"
           }
          ],
          "table": [
           {
            "cells": {
             "fill": {
              "color": "#EBF0F8"
             },
             "line": {
              "color": "white"
             }
            },
            "header": {
             "fill": {
              "color": "#C8D4E3"
             },
             "line": {
              "color": "white"
             }
            },
            "type": "table"
           }
          ],
          "barpolar": [
           {
            "marker": {
             "line": {
              "color": "#E5ECF6",
              "width": 0.5
             },
             "pattern": {
              "fillmode": "overlay",
              "size": 10,
              "solidity": 0.2
             }
            },
            "type": "barpolar"
           }
          ],
          "pie": [
           {
            "automargin": true,
            "type": "pie"
           }
          ]
         },
         "layout": {
          "autotypenumbers": "strict",
          "colorway": [
           "#636efa",
           "#EF553B",
           "#00cc96",
           "#ab63fa",
           "#FFA15A",
           "#19d3f3",
           "#FF6692",
           "#B6E880",
           "#FF97FF",
           "#FECB52"
          ],
          "font": {
           "color": "#2a3f5f"
          },
          "hovermode": "closest",
          "hoverlabel": {
           "align": "left"
          },
          "paper_bgcolor": "white",
          "plot_bgcolor": "#E5ECF6",
          "polar": {
           "bgcolor": "#E5ECF6",
           "angularaxis": {
            "gridcolor": "white",
            "linecolor": "white",
            "ticks": ""
           },
           "radialaxis": {
            "gridcolor": "white",
            "linecolor": "white",
            "ticks": ""
           }
          },
          "ternary": {
           "bgcolor": "#E5ECF6",
           "aaxis": {
            "gridcolor": "white",
            "linecolor": "white",
            "ticks": ""
           },
           "baxis": {
            "gridcolor": "white",
            "linecolor": "white",
            "ticks": ""
           },
           "caxis": {
            "gridcolor": "white",
            "linecolor": "white",
            "ticks": ""
           }
          },
          "coloraxis": {
           "colorbar": {
            "outlinewidth": 0,
            "ticks": ""
           }
          },
          "colorscale": {
           "sequential": [
            [
             0.0,
             "#0d0887"
            ],
            [
             0.1111111111111111,
             "#46039f"
            ],
            [
             0.2222222222222222,
             "#7201a8"
            ],
            [
             0.3333333333333333,
             "#9c179e"
            ],
            [
             0.4444444444444444,
             "#bd3786"
            ],
            [
             0.5555555555555556,
             "#d8576b"
            ],
            [
             0.6666666666666666,
             "#ed7953"
            ],
            [
             0.7777777777777778,
             "#fb9f3a"
            ],
            [
             0.8888888888888888,
             "#fdca26"
            ],
            [
             1.0,
             "#f0f921"
            ]
           ],
           "sequentialminus": [
            [
             0.0,
             "#0d0887"
            ],
            [
             0.1111111111111111,
             "#46039f"
            ],
            [
             0.2222222222222222,
             "#7201a8"
            ],
            [
             0.3333333333333333,
             "#9c179e"
            ],
            [
             0.4444444444444444,
             "#bd3786"
            ],
            [
             0.5555555555555556,
             "#d8576b"
            ],
            [
             0.6666666666666666,
             "#ed7953"
            ],
            [
             0.7777777777777778,
             "#fb9f3a"
            ],
            [
             0.8888888888888888,
             "#fdca26"
            ],
            [
             1.0,
             "#f0f921"
            ]
           ],
           "diverging": [
            [
             0,
             "#8e0152"
            ],
            [
             0.1,
             "#c51b7d"
            ],
            [
             0.2,
             "#de77ae"
            ],
            [
             0.3,
             "#f1b6da"
            ],
            [
             0.4,
             "#fde0ef"
            ],
            [
             0.5,
             "#f7f7f7"
            ],
            [
             0.6,
             "#e6f5d0"
            ],
            [
             0.7,
             "#b8e186"
            ],
            [
             0.8,
             "#7fbc41"
            ],
            [
             0.9,
             "#4d9221"
            ],
            [
             1,
             "#276419"
            ]
           ]
          },
          "xaxis": {
           "gridcolor": "white",
           "linecolor": "white",
           "ticks": "",
           "title": {
            "standoff": 15
           },
           "zerolinecolor": "white",
           "automargin": true,
           "zerolinewidth": 2
          },
          "yaxis": {
           "gridcolor": "white",
           "linecolor": "white",
           "ticks": "",
           "title": {
            "standoff": 15
           },
           "zerolinecolor": "white",
           "automargin": true,
           "zerolinewidth": 2
          },
          "scene": {
           "xaxis": {
            "backgroundcolor": "#E5ECF6",
            "gridcolor": "white",
            "linecolor": "white",
            "showbackground": true,
            "ticks": "",
            "zerolinecolor": "white",
            "gridwidth": 2
           },
           "yaxis": {
            "backgroundcolor": "#E5ECF6",
            "gridcolor": "white",
            "linecolor": "white",
            "showbackground": true,
            "ticks": "",
            "zerolinecolor": "white",
            "gridwidth": 2
           },
           "zaxis": {
            "backgroundcolor": "#E5ECF6",
            "gridcolor": "white",
            "linecolor": "white",
            "showbackground": true,
            "ticks": "",
            "zerolinecolor": "white",
            "gridwidth": 2
           }
          },
          "shapedefaults": {
           "line": {
            "color": "#2a3f5f"
           }
          },
          "annotationdefaults": {
           "arrowcolor": "#2a3f5f",
           "arrowhead": 0,
           "arrowwidth": 1
          },
          "geo": {
           "bgcolor": "white",
           "landcolor": "#E5ECF6",
           "subunitcolor": "white",
           "showland": true,
           "showlakes": true,
           "lakecolor": "white"
          },
          "title": {
           "x": 0.05
          },
          "mapbox": {
           "style": "light"
          }
         }
        },
        "xaxis": {
         "anchor": "y",
         "domain": [
          0.0,
          1.0
         ],
         "title": {
          "text": "Year"
         }
        },
        "yaxis": {
         "anchor": "x",
         "domain": [
          0.0,
          1.0
         ],
         "title": {
          "text": "value"
         }
        },
        "legend": {
         "title": {
          "text": "variable"
         },
         "tracegroupgap": 0
        },
        "title": {
         "text": "GDP over past 10 years"
        }
       },
       "config": {
        "plotlyServerURL": "https://plot.ly"
       }
      },
      "text/html": "<div>                            <div id=\"d64ac25b-c251-4991-9f80-759b6e4a3d5c\" class=\"plotly-graph-div\" style=\"height:525px; width:100%;\"></div>            <script type=\"text/javascript\">                require([\"plotly\"], function(Plotly) {                    window.PLOTLYENV=window.PLOTLYENV || {};                                    if (document.getElementById(\"d64ac25b-c251-4991-9f80-759b6e4a3d5c\")) {                    Plotly.newPlot(                        \"d64ac25b-c251-4991-9f80-759b6e4a3d5c\",                        [{\"hovertemplate\":\"variable=GDP<br>Year=%{x}<br>value=%{y}<extra></extra>\",\"legendgroup\":\"GDP\",\"line\":{\"color\":\"#636efa\",\"dash\":\"solid\"},\"marker\":{\"symbol\":\"circle\"},\"mode\":\"lines\",\"name\":\"GDP\",\"orientation\":\"v\",\"showlegend\":true,\"x\":[2010,2011,2012,2013,2014,2015,2016,2017,2018,2019,2020],\"xaxis\":\"x\",\"y\":[1675620.0,1823050.0,1827640.0,1856720.0,2039130.0,2103590.0,2294800.0,2651470.0,2701110.0,2870500.0,2660250.0],\"yaxis\":\"y\",\"type\":\"scatter\"}],                        {\"template\":{\"data\":{\"histogram2dcontour\":[{\"type\":\"histogram2dcontour\",\"colorbar\":{\"outlinewidth\":0,\"ticks\":\"\"},\"colorscale\":[[0.0,\"#0d0887\"],[0.1111111111111111,\"#46039f\"],[0.2222222222222222,\"#7201a8\"],[0.3333333333333333,\"#9c179e\"],[0.4444444444444444,\"#bd3786\"],[0.5555555555555556,\"#d8576b\"],[0.6666666666666666,\"#ed7953\"],[0.7777777777777778,\"#fb9f3a\"],[0.8888888888888888,\"#fdca26\"],[1.0,\"#f0f921\"]]}],\"choropleth\":[{\"type\":\"choropleth\",\"colorbar\":{\"outlinewidth\":0,\"ticks\":\"\"}}],\"histogram2d\":[{\"type\":\"histogram2d\",\"colorbar\":{\"outlinewidth\":0,\"ticks\":\"\"},\"colorscale\":[[0.0,\"#0d0887\"],[0.1111111111111111,\"#46039f\"],[0.2222222222222222,\"#7201a8\"],[0.3333333333333333,\"#9c179e\"],[0.4444444444444444,\"#bd3786\"],[0.5555555555555556,\"#d8576b\"],[0.6666666666666666,\"#ed7953\"],[0.7777777777777778,\"#fb9f3a\"],[0.8888888888888888,\"#fdca26\"],[1.0,\"#f0f921\"]]}],\"heatmap\":[{\"type\":\"heatmap\",\"colorbar\":{\"outlinewidth\":0,\"ticks\":\"\"},\"colorscale\":[[0.0,\"#0d0887\"],[0.1111111111111111,\"#46039f\"],[0.2222222222222222,\"#7201a8\"],[0.3333333333333333,\"#9c179e\"],[0.4444444444444444,\"#bd3786\"],[0.5555555555555556,\"#d8576b\"],[0.6666666666666666,\"#ed7953\"],[0.7777777777777778,\"#fb9f3a\"],[0.8888888888888888,\"#fdca26\"],[1.0,\"#f0f921\"]]}],\"heatmapgl\":[{\"type\":\"heatmapgl\",\"colorbar\":{\"outlinewidth\":0,\"ticks\":\"\"},\"colorscale\":[[0.0,\"#0d0887\"],[0.1111111111111111,\"#46039f\"],[0.2222222222222222,\"#7201a8\"],[0.3333333333333333,\"#9c179e\"],[0.4444444444444444,\"#bd3786\"],[0.5555555555555556,\"#d8576b\"],[0.6666666666666666,\"#ed7953\"],[0.7777777777777778,\"#fb9f3a\"],[0.8888888888888888,\"#fdca26\"],[1.0,\"#f0f921\"]]}],\"contourcarpet\":[{\"type\":\"contourcarpet\",\"colorbar\":{\"outlinewidth\":0,\"ticks\":\"\"}}],\"contour\":[{\"type\":\"contour\",\"colorbar\":{\"outlinewidth\":0,\"ticks\":\"\"},\"colorscale\":[[0.0,\"#0d0887\"],[0.1111111111111111,\"#46039f\"],[0.2222222222222222,\"#7201a8\"],[0.3333333333333333,\"#9c179e\"],[0.4444444444444444,\"#bd3786\"],[0.5555555555555556,\"#d8576b\"],[0.6666666666666666,\"#ed7953\"],[0.7777777777777778,\"#fb9f3a\"],[0.8888888888888888,\"#fdca26\"],[1.0,\"#f0f921\"]]}],\"surface\":[{\"type\":\"surface\",\"colorbar\":{\"outlinewidth\":0,\"ticks\":\"\"},\"colorscale\":[[0.0,\"#0d0887\"],[0.1111111111111111,\"#46039f\"],[0.2222222222222222,\"#7201a8\"],[0.3333333333333333,\"#9c179e\"],[0.4444444444444444,\"#bd3786\"],[0.5555555555555556,\"#d8576b\"],[0.6666666666666666,\"#ed7953\"],[0.7777777777777778,\"#fb9f3a\"],[0.8888888888888888,\"#fdca26\"],[1.0,\"#f0f921\"]]}],\"mesh3d\":[{\"type\":\"mesh3d\",\"colorbar\":{\"outlinewidth\":0,\"ticks\":\"\"}}],\"scatter\":[{\"fillpattern\":{\"fillmode\":\"overlay\",\"size\":10,\"solidity\":0.2},\"type\":\"scatter\"}],\"parcoords\":[{\"type\":\"parcoords\",\"line\":{\"colorbar\":{\"outlinewidth\":0,\"ticks\":\"\"}}}],\"scatterpolargl\":[{\"type\":\"scatterpolargl\",\"marker\":{\"colorbar\":{\"outlinewidth\":0,\"ticks\":\"\"}}}],\"bar\":[{\"error_x\":{\"color\":\"#2a3f5f\"},\"error_y\":{\"color\":\"#2a3f5f\"},\"marker\":{\"line\":{\"color\":\"#E5ECF6\",\"width\":0.5},\"pattern\":{\"fillmode\":\"overlay\",\"size\":10,\"solidity\":0.2}},\"type\":\"bar\"}],\"scattergeo\":[{\"type\":\"scattergeo\",\"marker\":{\"colorbar\":{\"outlinewidth\":0,\"ticks\":\"\"}}}],\"scatterpolar\":[{\"type\":\"scatterpolar\",\"marker\":{\"colorbar\":{\"outlinewidth\":0,\"ticks\":\"\"}}}],\"histogram\":[{\"marker\":{\"pattern\":{\"fillmode\":\"overlay\",\"size\":10,\"solidity\":0.2}},\"type\":\"histogram\"}],\"scattergl\":[{\"type\":\"scattergl\",\"marker\":{\"colorbar\":{\"outlinewidth\":0,\"ticks\":\"\"}}}],\"scatter3d\":[{\"type\":\"scatter3d\",\"line\":{\"colorbar\":{\"outlinewidth\":0,\"ticks\":\"\"}},\"marker\":{\"colorbar\":{\"outlinewidth\":0,\"ticks\":\"\"}}}],\"scattermapbox\":[{\"type\":\"scattermapbox\",\"marker\":{\"colorbar\":{\"outlinewidth\":0,\"ticks\":\"\"}}}],\"scatterternary\":[{\"type\":\"scatterternary\",\"marker\":{\"colorbar\":{\"outlinewidth\":0,\"ticks\":\"\"}}}],\"scattercarpet\":[{\"type\":\"scattercarpet\",\"marker\":{\"colorbar\":{\"outlinewidth\":0,\"ticks\":\"\"}}}],\"carpet\":[{\"aaxis\":{\"endlinecolor\":\"#2a3f5f\",\"gridcolor\":\"white\",\"linecolor\":\"white\",\"minorgridcolor\":\"white\",\"startlinecolor\":\"#2a3f5f\"},\"baxis\":{\"endlinecolor\":\"#2a3f5f\",\"gridcolor\":\"white\",\"linecolor\":\"white\",\"minorgridcolor\":\"white\",\"startlinecolor\":\"#2a3f5f\"},\"type\":\"carpet\"}],\"table\":[{\"cells\":{\"fill\":{\"color\":\"#EBF0F8\"},\"line\":{\"color\":\"white\"}},\"header\":{\"fill\":{\"color\":\"#C8D4E3\"},\"line\":{\"color\":\"white\"}},\"type\":\"table\"}],\"barpolar\":[{\"marker\":{\"line\":{\"color\":\"#E5ECF6\",\"width\":0.5},\"pattern\":{\"fillmode\":\"overlay\",\"size\":10,\"solidity\":0.2}},\"type\":\"barpolar\"}],\"pie\":[{\"automargin\":true,\"type\":\"pie\"}]},\"layout\":{\"autotypenumbers\":\"strict\",\"colorway\":[\"#636efa\",\"#EF553B\",\"#00cc96\",\"#ab63fa\",\"#FFA15A\",\"#19d3f3\",\"#FF6692\",\"#B6E880\",\"#FF97FF\",\"#FECB52\"],\"font\":{\"color\":\"#2a3f5f\"},\"hovermode\":\"closest\",\"hoverlabel\":{\"align\":\"left\"},\"paper_bgcolor\":\"white\",\"plot_bgcolor\":\"#E5ECF6\",\"polar\":{\"bgcolor\":\"#E5ECF6\",\"angularaxis\":{\"gridcolor\":\"white\",\"linecolor\":\"white\",\"ticks\":\"\"},\"radialaxis\":{\"gridcolor\":\"white\",\"linecolor\":\"white\",\"ticks\":\"\"}},\"ternary\":{\"bgcolor\":\"#E5ECF6\",\"aaxis\":{\"gridcolor\":\"white\",\"linecolor\":\"white\",\"ticks\":\"\"},\"baxis\":{\"gridcolor\":\"white\",\"linecolor\":\"white\",\"ticks\":\"\"},\"caxis\":{\"gridcolor\":\"white\",\"linecolor\":\"white\",\"ticks\":\"\"}},\"coloraxis\":{\"colorbar\":{\"outlinewidth\":0,\"ticks\":\"\"}},\"colorscale\":{\"sequential\":[[0.0,\"#0d0887\"],[0.1111111111111111,\"#46039f\"],[0.2222222222222222,\"#7201a8\"],[0.3333333333333333,\"#9c179e\"],[0.4444444444444444,\"#bd3786\"],[0.5555555555555556,\"#d8576b\"],[0.6666666666666666,\"#ed7953\"],[0.7777777777777778,\"#fb9f3a\"],[0.8888888888888888,\"#fdca26\"],[1.0,\"#f0f921\"]],\"sequentialminus\":[[0.0,\"#0d0887\"],[0.1111111111111111,\"#46039f\"],[0.2222222222222222,\"#7201a8\"],[0.3333333333333333,\"#9c179e\"],[0.4444444444444444,\"#bd3786\"],[0.5555555555555556,\"#d8576b\"],[0.6666666666666666,\"#ed7953\"],[0.7777777777777778,\"#fb9f3a\"],[0.8888888888888888,\"#fdca26\"],[1.0,\"#f0f921\"]],\"diverging\":[[0,\"#8e0152\"],[0.1,\"#c51b7d\"],[0.2,\"#de77ae\"],[0.3,\"#f1b6da\"],[0.4,\"#fde0ef\"],[0.5,\"#f7f7f7\"],[0.6,\"#e6f5d0\"],[0.7,\"#b8e186\"],[0.8,\"#7fbc41\"],[0.9,\"#4d9221\"],[1,\"#276419\"]]},\"xaxis\":{\"gridcolor\":\"white\",\"linecolor\":\"white\",\"ticks\":\"\",\"title\":{\"standoff\":15},\"zerolinecolor\":\"white\",\"automargin\":true,\"zerolinewidth\":2},\"yaxis\":{\"gridcolor\":\"white\",\"linecolor\":\"white\",\"ticks\":\"\",\"title\":{\"standoff\":15},\"zerolinecolor\":\"white\",\"automargin\":true,\"zerolinewidth\":2},\"scene\":{\"xaxis\":{\"backgroundcolor\":\"#E5ECF6\",\"gridcolor\":\"white\",\"linecolor\":\"white\",\"showbackground\":true,\"ticks\":\"\",\"zerolinecolor\":\"white\",\"gridwidth\":2},\"yaxis\":{\"backgroundcolor\":\"#E5ECF6\",\"gridcolor\":\"white\",\"linecolor\":\"white\",\"showbackground\":true,\"ticks\":\"\",\"zerolinecolor\":\"white\",\"gridwidth\":2},\"zaxis\":{\"backgroundcolor\":\"#E5ECF6\",\"gridcolor\":\"white\",\"linecolor\":\"white\",\"showbackground\":true,\"ticks\":\"\",\"zerolinecolor\":\"white\",\"gridwidth\":2}},\"shapedefaults\":{\"line\":{\"color\":\"#2a3f5f\"}},\"annotationdefaults\":{\"arrowcolor\":\"#2a3f5f\",\"arrowhead\":0,\"arrowwidth\":1},\"geo\":{\"bgcolor\":\"white\",\"landcolor\":\"#E5ECF6\",\"subunitcolor\":\"white\",\"showland\":true,\"showlakes\":true,\"lakecolor\":\"white\"},\"title\":{\"x\":0.05},\"mapbox\":{\"style\":\"light\"}}},\"xaxis\":{\"anchor\":\"y\",\"domain\":[0.0,1.0],\"title\":{\"text\":\"Year\"}},\"yaxis\":{\"anchor\":\"x\",\"domain\":[0.0,1.0],\"title\":{\"text\":\"value\"}},\"legend\":{\"title\":{\"text\":\"variable\"},\"tracegroupgap\":0},\"title\":{\"text\":\"GDP over past 10 years\"}},                        {\"responsive\": true}                    ).then(function(){\n                            \nvar gd = document.getElementById('d64ac25b-c251-4991-9f80-759b6e4a3d5c');\nvar x = new MutationObserver(function (mutations, observer) {{\n        var display = window.getComputedStyle(gd).display;\n        if (!display || display === 'none') {{\n            console.log([gd, 'removed!']);\n            Plotly.purge(gd);\n            observer.disconnect();\n        }}\n}});\n\n// Listen for the removal of the full notebook cells\nvar notebookContainer = gd.closest('#notebook-container');\nif (notebookContainer) {{\n    x.observe(notebookContainer, {childList: true});\n}}\n\n// Listen for the clearing of the current output cell\nvar outputEl = gd.closest('.output');\nif (outputEl) {{\n    x.observe(outputEl, {childList: true});\n}}\n\n                        })                };                });            </script>        </div>"
     },
     "metadata": {},
     "output_type": "display_data"
    }
   ],
   "source": [
    "px.line(India,\n",
    "x='Year',\n",
    "y=['GDP'],\n",
    "title='GDP over past 10 years')\n"
   ]
  },
  {
   "cell_type": "code",
   "execution_count": 565,
   "id": "9a0b1350",
   "metadata": {},
   "outputs": [
    {
     "data": {
      "text/plain": "    Year  Population  Yearly % Change  Yearly Change  Migrants (net)  \\\n0   2020  1380004385             0.99       13586631         -532687   \n1   2019  1366417754             1.02       13775474         -532687   \n2   2018  1352642280             1.04       13965495         -532687   \n3   2017  1338676785             1.07       14159536         -532687   \n4   2016  1324517249             1.10       14364846         -532687   \n5   2015  1310152403             1.20       15174247         -470015   \n6   2010  1234281170             1.47       17334249         -531169   \n7   2005  1147609927             1.67       18206876         -377797   \n8   2000  1056575549             1.85       18530592         -136514   \n9   1995   963922588             1.99       18128958         -110590   \n10  1990   873277798             2.17       17783558            9030   \n11  1985   784360008             2.33       17081433          115942   \n12  1980   698952844             2.32       15169989          222247   \n13  1975   623102897             2.33       13582621          421208   \n14  1970   555189792             2.15       11213294          -68569   \n15  1965   499123324             2.07        9715129          -17078   \n16  1960   450547679             1.91        8133417          -30805   \n17  1955   409880595             1.72        6711079          -21140   \n\n    Median Age  Fertility Rate  Density (P/Km²)  Urban Pop %  \\\n0         28.4            2.24              464         35.0   \n1         27.1            2.36              460         34.5   \n2         27.1            2.36              455         34.1   \n3         27.1            2.36              450         33.6   \n4         27.1            2.36              445         33.2   \n5         26.8            2.40              441         32.7   \n6         25.1            2.80              415         30.8   \n7         23.8            3.14              386         29.1   \n8         22.7            3.48              355         27.6   \n9         21.8            3.83              324         26.5   \n10        21.1            4.27              294         25.5   \n11        20.6            4.68              264         24.3   \n12        20.2            4.97              235         23.0   \n13        19.7            5.41              210         21.3   \n14        19.3            5.72              187         19.7   \n15        19.6            5.89              168         18.7   \n16        20.2            5.90              152         17.9   \n17        20.7            5.90              138         17.6   \n\n    Urban Population  Country's Share of World Pop  World Population  \\\n0          483098640                         17.70        7794798739   \n1          471828295                         17.71        7713468100   \n2          460779764                         17.73        7631091040   \n3          449963381                         17.74        7547858925   \n4          439391699                         17.75        7464022049   \n5          429069459                         17.75        7379797139   \n6          380744554                         17.74        6956823603   \n7          334479406                         17.54        6541907027   \n8          291350282                         17.20        6143493823   \n9          255558824                         16.78        5744212979   \n10         222296728                         16.39        5327231061   \n11         190321782                         16.10        4870921740   \n12         160941941                         15.68        4458003514   \n13         132533810                         15.27        4079480606   \n14         109388950                         15.00        3700437046   \n15          93493844                         14.95        3339583597   \n16          80565723                         14.85        3034949748   \n17          71958495                         14.78        2773019936   \n\n    India Global Rank  \n0                   2  \n1                   2  \n2                   2  \n3                   2  \n4                   2  \n5                   2  \n6                   2  \n7                   2  \n8                   2  \n9                   2  \n10                  2  \n11                  2  \n12                  2  \n13                  2  \n14                  2  \n15                  2  \n16                  2  \n17                  2  ",
      "text/html": "<div>\n<style scoped>\n    .dataframe tbody tr th:only-of-type {\n        vertical-align: middle;\n    }\n\n    .dataframe tbody tr th {\n        vertical-align: top;\n    }\n\n    .dataframe thead th {\n        text-align: right;\n    }\n</style>\n<table border=\"1\" class=\"dataframe\">\n  <thead>\n    <tr style=\"text-align: right;\">\n      <th></th>\n      <th>Year</th>\n      <th>Population</th>\n      <th>Yearly % Change</th>\n      <th>Yearly Change</th>\n      <th>Migrants (net)</th>\n      <th>Median Age</th>\n      <th>Fertility Rate</th>\n      <th>Density (P/Km²)</th>\n      <th>Urban Pop %</th>\n      <th>Urban Population</th>\n      <th>Country's Share of World Pop</th>\n      <th>World Population</th>\n      <th>India Global Rank</th>\n    </tr>\n  </thead>\n  <tbody>\n    <tr>\n      <th>0</th>\n      <td>2020</td>\n      <td>1380004385</td>\n      <td>0.99</td>\n      <td>13586631</td>\n      <td>-532687</td>\n      <td>28.4</td>\n      <td>2.24</td>\n      <td>464</td>\n      <td>35.0</td>\n      <td>483098640</td>\n      <td>17.70</td>\n      <td>7794798739</td>\n      <td>2</td>\n    </tr>\n    <tr>\n      <th>1</th>\n      <td>2019</td>\n      <td>1366417754</td>\n      <td>1.02</td>\n      <td>13775474</td>\n      <td>-532687</td>\n      <td>27.1</td>\n      <td>2.36</td>\n      <td>460</td>\n      <td>34.5</td>\n      <td>471828295</td>\n      <td>17.71</td>\n      <td>7713468100</td>\n      <td>2</td>\n    </tr>\n    <tr>\n      <th>2</th>\n      <td>2018</td>\n      <td>1352642280</td>\n      <td>1.04</td>\n      <td>13965495</td>\n      <td>-532687</td>\n      <td>27.1</td>\n      <td>2.36</td>\n      <td>455</td>\n      <td>34.1</td>\n      <td>460779764</td>\n      <td>17.73</td>\n      <td>7631091040</td>\n      <td>2</td>\n    </tr>\n    <tr>\n      <th>3</th>\n      <td>2017</td>\n      <td>1338676785</td>\n      <td>1.07</td>\n      <td>14159536</td>\n      <td>-532687</td>\n      <td>27.1</td>\n      <td>2.36</td>\n      <td>450</td>\n      <td>33.6</td>\n      <td>449963381</td>\n      <td>17.74</td>\n      <td>7547858925</td>\n      <td>2</td>\n    </tr>\n    <tr>\n      <th>4</th>\n      <td>2016</td>\n      <td>1324517249</td>\n      <td>1.10</td>\n      <td>14364846</td>\n      <td>-532687</td>\n      <td>27.1</td>\n      <td>2.36</td>\n      <td>445</td>\n      <td>33.2</td>\n      <td>439391699</td>\n      <td>17.75</td>\n      <td>7464022049</td>\n      <td>2</td>\n    </tr>\n    <tr>\n      <th>5</th>\n      <td>2015</td>\n      <td>1310152403</td>\n      <td>1.20</td>\n      <td>15174247</td>\n      <td>-470015</td>\n      <td>26.8</td>\n      <td>2.40</td>\n      <td>441</td>\n      <td>32.7</td>\n      <td>429069459</td>\n      <td>17.75</td>\n      <td>7379797139</td>\n      <td>2</td>\n    </tr>\n    <tr>\n      <th>6</th>\n      <td>2010</td>\n      <td>1234281170</td>\n      <td>1.47</td>\n      <td>17334249</td>\n      <td>-531169</td>\n      <td>25.1</td>\n      <td>2.80</td>\n      <td>415</td>\n      <td>30.8</td>\n      <td>380744554</td>\n      <td>17.74</td>\n      <td>6956823603</td>\n      <td>2</td>\n    </tr>\n    <tr>\n      <th>7</th>\n      <td>2005</td>\n      <td>1147609927</td>\n      <td>1.67</td>\n      <td>18206876</td>\n      <td>-377797</td>\n      <td>23.8</td>\n      <td>3.14</td>\n      <td>386</td>\n      <td>29.1</td>\n      <td>334479406</td>\n      <td>17.54</td>\n      <td>6541907027</td>\n      <td>2</td>\n    </tr>\n    <tr>\n      <th>8</th>\n      <td>2000</td>\n      <td>1056575549</td>\n      <td>1.85</td>\n      <td>18530592</td>\n      <td>-136514</td>\n      <td>22.7</td>\n      <td>3.48</td>\n      <td>355</td>\n      <td>27.6</td>\n      <td>291350282</td>\n      <td>17.20</td>\n      <td>6143493823</td>\n      <td>2</td>\n    </tr>\n    <tr>\n      <th>9</th>\n      <td>1995</td>\n      <td>963922588</td>\n      <td>1.99</td>\n      <td>18128958</td>\n      <td>-110590</td>\n      <td>21.8</td>\n      <td>3.83</td>\n      <td>324</td>\n      <td>26.5</td>\n      <td>255558824</td>\n      <td>16.78</td>\n      <td>5744212979</td>\n      <td>2</td>\n    </tr>\n    <tr>\n      <th>10</th>\n      <td>1990</td>\n      <td>873277798</td>\n      <td>2.17</td>\n      <td>17783558</td>\n      <td>9030</td>\n      <td>21.1</td>\n      <td>4.27</td>\n      <td>294</td>\n      <td>25.5</td>\n      <td>222296728</td>\n      <td>16.39</td>\n      <td>5327231061</td>\n      <td>2</td>\n    </tr>\n    <tr>\n      <th>11</th>\n      <td>1985</td>\n      <td>784360008</td>\n      <td>2.33</td>\n      <td>17081433</td>\n      <td>115942</td>\n      <td>20.6</td>\n      <td>4.68</td>\n      <td>264</td>\n      <td>24.3</td>\n      <td>190321782</td>\n      <td>16.10</td>\n      <td>4870921740</td>\n      <td>2</td>\n    </tr>\n    <tr>\n      <th>12</th>\n      <td>1980</td>\n      <td>698952844</td>\n      <td>2.32</td>\n      <td>15169989</td>\n      <td>222247</td>\n      <td>20.2</td>\n      <td>4.97</td>\n      <td>235</td>\n      <td>23.0</td>\n      <td>160941941</td>\n      <td>15.68</td>\n      <td>4458003514</td>\n      <td>2</td>\n    </tr>\n    <tr>\n      <th>13</th>\n      <td>1975</td>\n      <td>623102897</td>\n      <td>2.33</td>\n      <td>13582621</td>\n      <td>421208</td>\n      <td>19.7</td>\n      <td>5.41</td>\n      <td>210</td>\n      <td>21.3</td>\n      <td>132533810</td>\n      <td>15.27</td>\n      <td>4079480606</td>\n      <td>2</td>\n    </tr>\n    <tr>\n      <th>14</th>\n      <td>1970</td>\n      <td>555189792</td>\n      <td>2.15</td>\n      <td>11213294</td>\n      <td>-68569</td>\n      <td>19.3</td>\n      <td>5.72</td>\n      <td>187</td>\n      <td>19.7</td>\n      <td>109388950</td>\n      <td>15.00</td>\n      <td>3700437046</td>\n      <td>2</td>\n    </tr>\n    <tr>\n      <th>15</th>\n      <td>1965</td>\n      <td>499123324</td>\n      <td>2.07</td>\n      <td>9715129</td>\n      <td>-17078</td>\n      <td>19.6</td>\n      <td>5.89</td>\n      <td>168</td>\n      <td>18.7</td>\n      <td>93493844</td>\n      <td>14.95</td>\n      <td>3339583597</td>\n      <td>2</td>\n    </tr>\n    <tr>\n      <th>16</th>\n      <td>1960</td>\n      <td>450547679</td>\n      <td>1.91</td>\n      <td>8133417</td>\n      <td>-30805</td>\n      <td>20.2</td>\n      <td>5.90</td>\n      <td>152</td>\n      <td>17.9</td>\n      <td>80565723</td>\n      <td>14.85</td>\n      <td>3034949748</td>\n      <td>2</td>\n    </tr>\n    <tr>\n      <th>17</th>\n      <td>1955</td>\n      <td>409880595</td>\n      <td>1.72</td>\n      <td>6711079</td>\n      <td>-21140</td>\n      <td>20.7</td>\n      <td>5.90</td>\n      <td>138</td>\n      <td>17.6</td>\n      <td>71958495</td>\n      <td>14.78</td>\n      <td>2773019936</td>\n      <td>2</td>\n    </tr>\n  </tbody>\n</table>\n</div>"
     },
     "execution_count": 565,
     "metadata": {},
     "output_type": "execute_result"
    }
   ],
   "source": [
    "fr3"
   ]
  },
  {
   "cell_type": "code",
   "execution_count": 566,
   "id": "8d6fa4ee",
   "metadata": {},
   "outputs": [
    {
     "data": {
      "application/vnd.plotly.v1+json": {
       "data": [
        {
         "hovertemplate": "variable=Population<br>Year=%{x}<br>value=%{y}<extra></extra>",
         "legendgroup": "Population",
         "line": {
          "color": "#636efa",
          "dash": "solid"
         },
         "marker": {
          "symbol": "circle"
         },
         "mode": "lines",
         "name": "Population",
         "orientation": "v",
         "showlegend": true,
         "x": [
          2020,
          2019,
          2018,
          2017,
          2016,
          2015,
          2010,
          2005,
          2000,
          1995,
          1990,
          1985,
          1980,
          1975,
          1970,
          1965,
          1960,
          1955
         ],
         "xaxis": "x",
         "y": [
          1380004385,
          1366417754,
          1352642280,
          1338676785,
          1324517249,
          1310152403,
          1234281170,
          1147609927,
          1056575549,
          963922588,
          873277798,
          784360008,
          698952844,
          623102897,
          555189792,
          499123324,
          450547679,
          409880595
         ],
         "yaxis": "y",
         "type": "scatter"
        }
       ],
       "layout": {
        "template": {
         "data": {
          "histogram2dcontour": [
           {
            "type": "histogram2dcontour",
            "colorbar": {
             "outlinewidth": 0,
             "ticks": ""
            },
            "colorscale": [
             [
              0.0,
              "#0d0887"
             ],
             [
              0.1111111111111111,
              "#46039f"
             ],
             [
              0.2222222222222222,
              "#7201a8"
             ],
             [
              0.3333333333333333,
              "#9c179e"
             ],
             [
              0.4444444444444444,
              "#bd3786"
             ],
             [
              0.5555555555555556,
              "#d8576b"
             ],
             [
              0.6666666666666666,
              "#ed7953"
             ],
             [
              0.7777777777777778,
              "#fb9f3a"
             ],
             [
              0.8888888888888888,
              "#fdca26"
             ],
             [
              1.0,
              "#f0f921"
             ]
            ]
           }
          ],
          "choropleth": [
           {
            "type": "choropleth",
            "colorbar": {
             "outlinewidth": 0,
             "ticks": ""
            }
           }
          ],
          "histogram2d": [
           {
            "type": "histogram2d",
            "colorbar": {
             "outlinewidth": 0,
             "ticks": ""
            },
            "colorscale": [
             [
              0.0,
              "#0d0887"
             ],
             [
              0.1111111111111111,
              "#46039f"
             ],
             [
              0.2222222222222222,
              "#7201a8"
             ],
             [
              0.3333333333333333,
              "#9c179e"
             ],
             [
              0.4444444444444444,
              "#bd3786"
             ],
             [
              0.5555555555555556,
              "#d8576b"
             ],
             [
              0.6666666666666666,
              "#ed7953"
             ],
             [
              0.7777777777777778,
              "#fb9f3a"
             ],
             [
              0.8888888888888888,
              "#fdca26"
             ],
             [
              1.0,
              "#f0f921"
             ]
            ]
           }
          ],
          "heatmap": [
           {
            "type": "heatmap",
            "colorbar": {
             "outlinewidth": 0,
             "ticks": ""
            },
            "colorscale": [
             [
              0.0,
              "#0d0887"
             ],
             [
              0.1111111111111111,
              "#46039f"
             ],
             [
              0.2222222222222222,
              "#7201a8"
             ],
             [
              0.3333333333333333,
              "#9c179e"
             ],
             [
              0.4444444444444444,
              "#bd3786"
             ],
             [
              0.5555555555555556,
              "#d8576b"
             ],
             [
              0.6666666666666666,
              "#ed7953"
             ],
             [
              0.7777777777777778,
              "#fb9f3a"
             ],
             [
              0.8888888888888888,
              "#fdca26"
             ],
             [
              1.0,
              "#f0f921"
             ]
            ]
           }
          ],
          "heatmapgl": [
           {
            "type": "heatmapgl",
            "colorbar": {
             "outlinewidth": 0,
             "ticks": ""
            },
            "colorscale": [
             [
              0.0,
              "#0d0887"
             ],
             [
              0.1111111111111111,
              "#46039f"
             ],
             [
              0.2222222222222222,
              "#7201a8"
             ],
             [
              0.3333333333333333,
              "#9c179e"
             ],
             [
              0.4444444444444444,
              "#bd3786"
             ],
             [
              0.5555555555555556,
              "#d8576b"
             ],
             [
              0.6666666666666666,
              "#ed7953"
             ],
             [
              0.7777777777777778,
              "#fb9f3a"
             ],
             [
              0.8888888888888888,
              "#fdca26"
             ],
             [
              1.0,
              "#f0f921"
             ]
            ]
           }
          ],
          "contourcarpet": [
           {
            "type": "contourcarpet",
            "colorbar": {
             "outlinewidth": 0,
             "ticks": ""
            }
           }
          ],
          "contour": [
           {
            "type": "contour",
            "colorbar": {
             "outlinewidth": 0,
             "ticks": ""
            },
            "colorscale": [
             [
              0.0,
              "#0d0887"
             ],
             [
              0.1111111111111111,
              "#46039f"
             ],
             [
              0.2222222222222222,
              "#7201a8"
             ],
             [
              0.3333333333333333,
              "#9c179e"
             ],
             [
              0.4444444444444444,
              "#bd3786"
             ],
             [
              0.5555555555555556,
              "#d8576b"
             ],
             [
              0.6666666666666666,
              "#ed7953"
             ],
             [
              0.7777777777777778,
              "#fb9f3a"
             ],
             [
              0.8888888888888888,
              "#fdca26"
             ],
             [
              1.0,
              "#f0f921"
             ]
            ]
           }
          ],
          "surface": [
           {
            "type": "surface",
            "colorbar": {
             "outlinewidth": 0,
             "ticks": ""
            },
            "colorscale": [
             [
              0.0,
              "#0d0887"
             ],
             [
              0.1111111111111111,
              "#46039f"
             ],
             [
              0.2222222222222222,
              "#7201a8"
             ],
             [
              0.3333333333333333,
              "#9c179e"
             ],
             [
              0.4444444444444444,
              "#bd3786"
             ],
             [
              0.5555555555555556,
              "#d8576b"
             ],
             [
              0.6666666666666666,
              "#ed7953"
             ],
             [
              0.7777777777777778,
              "#fb9f3a"
             ],
             [
              0.8888888888888888,
              "#fdca26"
             ],
             [
              1.0,
              "#f0f921"
             ]
            ]
           }
          ],
          "mesh3d": [
           {
            "type": "mesh3d",
            "colorbar": {
             "outlinewidth": 0,
             "ticks": ""
            }
           }
          ],
          "scatter": [
           {
            "fillpattern": {
             "fillmode": "overlay",
             "size": 10,
             "solidity": 0.2
            },
            "type": "scatter"
           }
          ],
          "parcoords": [
           {
            "type": "parcoords",
            "line": {
             "colorbar": {
              "outlinewidth": 0,
              "ticks": ""
             }
            }
           }
          ],
          "scatterpolargl": [
           {
            "type": "scatterpolargl",
            "marker": {
             "colorbar": {
              "outlinewidth": 0,
              "ticks": ""
             }
            }
           }
          ],
          "bar": [
           {
            "error_x": {
             "color": "#2a3f5f"
            },
            "error_y": {
             "color": "#2a3f5f"
            },
            "marker": {
             "line": {
              "color": "#E5ECF6",
              "width": 0.5
             },
             "pattern": {
              "fillmode": "overlay",
              "size": 10,
              "solidity": 0.2
             }
            },
            "type": "bar"
           }
          ],
          "scattergeo": [
           {
            "type": "scattergeo",
            "marker": {
             "colorbar": {
              "outlinewidth": 0,
              "ticks": ""
             }
            }
           }
          ],
          "scatterpolar": [
           {
            "type": "scatterpolar",
            "marker": {
             "colorbar": {
              "outlinewidth": 0,
              "ticks": ""
             }
            }
           }
          ],
          "histogram": [
           {
            "marker": {
             "pattern": {
              "fillmode": "overlay",
              "size": 10,
              "solidity": 0.2
             }
            },
            "type": "histogram"
           }
          ],
          "scattergl": [
           {
            "type": "scattergl",
            "marker": {
             "colorbar": {
              "outlinewidth": 0,
              "ticks": ""
             }
            }
           }
          ],
          "scatter3d": [
           {
            "type": "scatter3d",
            "line": {
             "colorbar": {
              "outlinewidth": 0,
              "ticks": ""
             }
            },
            "marker": {
             "colorbar": {
              "outlinewidth": 0,
              "ticks": ""
             }
            }
           }
          ],
          "scattermapbox": [
           {
            "type": "scattermapbox",
            "marker": {
             "colorbar": {
              "outlinewidth": 0,
              "ticks": ""
             }
            }
           }
          ],
          "scatterternary": [
           {
            "type": "scatterternary",
            "marker": {
             "colorbar": {
              "outlinewidth": 0,
              "ticks": ""
             }
            }
           }
          ],
          "scattercarpet": [
           {
            "type": "scattercarpet",
            "marker": {
             "colorbar": {
              "outlinewidth": 0,
              "ticks": ""
             }
            }
           }
          ],
          "carpet": [
           {
            "aaxis": {
             "endlinecolor": "#2a3f5f",
             "gridcolor": "white",
             "linecolor": "white",
             "minorgridcolor": "white",
             "startlinecolor": "#2a3f5f"
            },
            "baxis": {
             "endlinecolor": "#2a3f5f",
             "gridcolor": "white",
             "linecolor": "white",
             "minorgridcolor": "white",
             "startlinecolor": "#2a3f5f"
            },
            "type": "carpet"
           }
          ],
          "table": [
           {
            "cells": {
             "fill": {
              "color": "#EBF0F8"
             },
             "line": {
              "color": "white"
             }
            },
            "header": {
             "fill": {
              "color": "#C8D4E3"
             },
             "line": {
              "color": "white"
             }
            },
            "type": "table"
           }
          ],
          "barpolar": [
           {
            "marker": {
             "line": {
              "color": "#E5ECF6",
              "width": 0.5
             },
             "pattern": {
              "fillmode": "overlay",
              "size": 10,
              "solidity": 0.2
             }
            },
            "type": "barpolar"
           }
          ],
          "pie": [
           {
            "automargin": true,
            "type": "pie"
           }
          ]
         },
         "layout": {
          "autotypenumbers": "strict",
          "colorway": [
           "#636efa",
           "#EF553B",
           "#00cc96",
           "#ab63fa",
           "#FFA15A",
           "#19d3f3",
           "#FF6692",
           "#B6E880",
           "#FF97FF",
           "#FECB52"
          ],
          "font": {
           "color": "#2a3f5f"
          },
          "hovermode": "closest",
          "hoverlabel": {
           "align": "left"
          },
          "paper_bgcolor": "white",
          "plot_bgcolor": "#E5ECF6",
          "polar": {
           "bgcolor": "#E5ECF6",
           "angularaxis": {
            "gridcolor": "white",
            "linecolor": "white",
            "ticks": ""
           },
           "radialaxis": {
            "gridcolor": "white",
            "linecolor": "white",
            "ticks": ""
           }
          },
          "ternary": {
           "bgcolor": "#E5ECF6",
           "aaxis": {
            "gridcolor": "white",
            "linecolor": "white",
            "ticks": ""
           },
           "baxis": {
            "gridcolor": "white",
            "linecolor": "white",
            "ticks": ""
           },
           "caxis": {
            "gridcolor": "white",
            "linecolor": "white",
            "ticks": ""
           }
          },
          "coloraxis": {
           "colorbar": {
            "outlinewidth": 0,
            "ticks": ""
           }
          },
          "colorscale": {
           "sequential": [
            [
             0.0,
             "#0d0887"
            ],
            [
             0.1111111111111111,
             "#46039f"
            ],
            [
             0.2222222222222222,
             "#7201a8"
            ],
            [
             0.3333333333333333,
             "#9c179e"
            ],
            [
             0.4444444444444444,
             "#bd3786"
            ],
            [
             0.5555555555555556,
             "#d8576b"
            ],
            [
             0.6666666666666666,
             "#ed7953"
            ],
            [
             0.7777777777777778,
             "#fb9f3a"
            ],
            [
             0.8888888888888888,
             "#fdca26"
            ],
            [
             1.0,
             "#f0f921"
            ]
           ],
           "sequentialminus": [
            [
             0.0,
             "#0d0887"
            ],
            [
             0.1111111111111111,
             "#46039f"
            ],
            [
             0.2222222222222222,
             "#7201a8"
            ],
            [
             0.3333333333333333,
             "#9c179e"
            ],
            [
             0.4444444444444444,
             "#bd3786"
            ],
            [
             0.5555555555555556,
             "#d8576b"
            ],
            [
             0.6666666666666666,
             "#ed7953"
            ],
            [
             0.7777777777777778,
             "#fb9f3a"
            ],
            [
             0.8888888888888888,
             "#fdca26"
            ],
            [
             1.0,
             "#f0f921"
            ]
           ],
           "diverging": [
            [
             0,
             "#8e0152"
            ],
            [
             0.1,
             "#c51b7d"
            ],
            [
             0.2,
             "#de77ae"
            ],
            [
             0.3,
             "#f1b6da"
            ],
            [
             0.4,
             "#fde0ef"
            ],
            [
             0.5,
             "#f7f7f7"
            ],
            [
             0.6,
             "#e6f5d0"
            ],
            [
             0.7,
             "#b8e186"
            ],
            [
             0.8,
             "#7fbc41"
            ],
            [
             0.9,
             "#4d9221"
            ],
            [
             1,
             "#276419"
            ]
           ]
          },
          "xaxis": {
           "gridcolor": "white",
           "linecolor": "white",
           "ticks": "",
           "title": {
            "standoff": 15
           },
           "zerolinecolor": "white",
           "automargin": true,
           "zerolinewidth": 2
          },
          "yaxis": {
           "gridcolor": "white",
           "linecolor": "white",
           "ticks": "",
           "title": {
            "standoff": 15
           },
           "zerolinecolor": "white",
           "automargin": true,
           "zerolinewidth": 2
          },
          "scene": {
           "xaxis": {
            "backgroundcolor": "#E5ECF6",
            "gridcolor": "white",
            "linecolor": "white",
            "showbackground": true,
            "ticks": "",
            "zerolinecolor": "white",
            "gridwidth": 2
           },
           "yaxis": {
            "backgroundcolor": "#E5ECF6",
            "gridcolor": "white",
            "linecolor": "white",
            "showbackground": true,
            "ticks": "",
            "zerolinecolor": "white",
            "gridwidth": 2
           },
           "zaxis": {
            "backgroundcolor": "#E5ECF6",
            "gridcolor": "white",
            "linecolor": "white",
            "showbackground": true,
            "ticks": "",
            "zerolinecolor": "white",
            "gridwidth": 2
           }
          },
          "shapedefaults": {
           "line": {
            "color": "#2a3f5f"
           }
          },
          "annotationdefaults": {
           "arrowcolor": "#2a3f5f",
           "arrowhead": 0,
           "arrowwidth": 1
          },
          "geo": {
           "bgcolor": "white",
           "landcolor": "#E5ECF6",
           "subunitcolor": "white",
           "showland": true,
           "showlakes": true,
           "lakecolor": "white"
          },
          "title": {
           "x": 0.05
          },
          "mapbox": {
           "style": "light"
          }
         }
        },
        "xaxis": {
         "anchor": "y",
         "domain": [
          0.0,
          1.0
         ],
         "title": {
          "text": "Year"
         }
        },
        "yaxis": {
         "anchor": "x",
         "domain": [
          0.0,
          1.0
         ],
         "title": {
          "text": "value"
         }
        },
        "legend": {
         "title": {
          "text": "variable"
         },
         "tracegroupgap": 0
        },
        "title": {
         "text": "Population density"
        }
       },
       "config": {
        "plotlyServerURL": "https://plot.ly"
       }
      },
      "text/html": "<div>                            <div id=\"cf3bd0b1-0d8d-466a-9371-51a4d13f1b40\" class=\"plotly-graph-div\" style=\"height:525px; width:100%;\"></div>            <script type=\"text/javascript\">                require([\"plotly\"], function(Plotly) {                    window.PLOTLYENV=window.PLOTLYENV || {};                                    if (document.getElementById(\"cf3bd0b1-0d8d-466a-9371-51a4d13f1b40\")) {                    Plotly.newPlot(                        \"cf3bd0b1-0d8d-466a-9371-51a4d13f1b40\",                        [{\"hovertemplate\":\"variable=Population<br>Year=%{x}<br>value=%{y}<extra></extra>\",\"legendgroup\":\"Population\",\"line\":{\"color\":\"#636efa\",\"dash\":\"solid\"},\"marker\":{\"symbol\":\"circle\"},\"mode\":\"lines\",\"name\":\"Population\",\"orientation\":\"v\",\"showlegend\":true,\"x\":[2020,2019,2018,2017,2016,2015,2010,2005,2000,1995,1990,1985,1980,1975,1970,1965,1960,1955],\"xaxis\":\"x\",\"y\":[1380004385,1366417754,1352642280,1338676785,1324517249,1310152403,1234281170,1147609927,1056575549,963922588,873277798,784360008,698952844,623102897,555189792,499123324,450547679,409880595],\"yaxis\":\"y\",\"type\":\"scatter\"}],                        {\"template\":{\"data\":{\"histogram2dcontour\":[{\"type\":\"histogram2dcontour\",\"colorbar\":{\"outlinewidth\":0,\"ticks\":\"\"},\"colorscale\":[[0.0,\"#0d0887\"],[0.1111111111111111,\"#46039f\"],[0.2222222222222222,\"#7201a8\"],[0.3333333333333333,\"#9c179e\"],[0.4444444444444444,\"#bd3786\"],[0.5555555555555556,\"#d8576b\"],[0.6666666666666666,\"#ed7953\"],[0.7777777777777778,\"#fb9f3a\"],[0.8888888888888888,\"#fdca26\"],[1.0,\"#f0f921\"]]}],\"choropleth\":[{\"type\":\"choropleth\",\"colorbar\":{\"outlinewidth\":0,\"ticks\":\"\"}}],\"histogram2d\":[{\"type\":\"histogram2d\",\"colorbar\":{\"outlinewidth\":0,\"ticks\":\"\"},\"colorscale\":[[0.0,\"#0d0887\"],[0.1111111111111111,\"#46039f\"],[0.2222222222222222,\"#7201a8\"],[0.3333333333333333,\"#9c179e\"],[0.4444444444444444,\"#bd3786\"],[0.5555555555555556,\"#d8576b\"],[0.6666666666666666,\"#ed7953\"],[0.7777777777777778,\"#fb9f3a\"],[0.8888888888888888,\"#fdca26\"],[1.0,\"#f0f921\"]]}],\"heatmap\":[{\"type\":\"heatmap\",\"colorbar\":{\"outlinewidth\":0,\"ticks\":\"\"},\"colorscale\":[[0.0,\"#0d0887\"],[0.1111111111111111,\"#46039f\"],[0.2222222222222222,\"#7201a8\"],[0.3333333333333333,\"#9c179e\"],[0.4444444444444444,\"#bd3786\"],[0.5555555555555556,\"#d8576b\"],[0.6666666666666666,\"#ed7953\"],[0.7777777777777778,\"#fb9f3a\"],[0.8888888888888888,\"#fdca26\"],[1.0,\"#f0f921\"]]}],\"heatmapgl\":[{\"type\":\"heatmapgl\",\"colorbar\":{\"outlinewidth\":0,\"ticks\":\"\"},\"colorscale\":[[0.0,\"#0d0887\"],[0.1111111111111111,\"#46039f\"],[0.2222222222222222,\"#7201a8\"],[0.3333333333333333,\"#9c179e\"],[0.4444444444444444,\"#bd3786\"],[0.5555555555555556,\"#d8576b\"],[0.6666666666666666,\"#ed7953\"],[0.7777777777777778,\"#fb9f3a\"],[0.8888888888888888,\"#fdca26\"],[1.0,\"#f0f921\"]]}],\"contourcarpet\":[{\"type\":\"contourcarpet\",\"colorbar\":{\"outlinewidth\":0,\"ticks\":\"\"}}],\"contour\":[{\"type\":\"contour\",\"colorbar\":{\"outlinewidth\":0,\"ticks\":\"\"},\"colorscale\":[[0.0,\"#0d0887\"],[0.1111111111111111,\"#46039f\"],[0.2222222222222222,\"#7201a8\"],[0.3333333333333333,\"#9c179e\"],[0.4444444444444444,\"#bd3786\"],[0.5555555555555556,\"#d8576b\"],[0.6666666666666666,\"#ed7953\"],[0.7777777777777778,\"#fb9f3a\"],[0.8888888888888888,\"#fdca26\"],[1.0,\"#f0f921\"]]}],\"surface\":[{\"type\":\"surface\",\"colorbar\":{\"outlinewidth\":0,\"ticks\":\"\"},\"colorscale\":[[0.0,\"#0d0887\"],[0.1111111111111111,\"#46039f\"],[0.2222222222222222,\"#7201a8\"],[0.3333333333333333,\"#9c179e\"],[0.4444444444444444,\"#bd3786\"],[0.5555555555555556,\"#d8576b\"],[0.6666666666666666,\"#ed7953\"],[0.7777777777777778,\"#fb9f3a\"],[0.8888888888888888,\"#fdca26\"],[1.0,\"#f0f921\"]]}],\"mesh3d\":[{\"type\":\"mesh3d\",\"colorbar\":{\"outlinewidth\":0,\"ticks\":\"\"}}],\"scatter\":[{\"fillpattern\":{\"fillmode\":\"overlay\",\"size\":10,\"solidity\":0.2},\"type\":\"scatter\"}],\"parcoords\":[{\"type\":\"parcoords\",\"line\":{\"colorbar\":{\"outlinewidth\":0,\"ticks\":\"\"}}}],\"scatterpolargl\":[{\"type\":\"scatterpolargl\",\"marker\":{\"colorbar\":{\"outlinewidth\":0,\"ticks\":\"\"}}}],\"bar\":[{\"error_x\":{\"color\":\"#2a3f5f\"},\"error_y\":{\"color\":\"#2a3f5f\"},\"marker\":{\"line\":{\"color\":\"#E5ECF6\",\"width\":0.5},\"pattern\":{\"fillmode\":\"overlay\",\"size\":10,\"solidity\":0.2}},\"type\":\"bar\"}],\"scattergeo\":[{\"type\":\"scattergeo\",\"marker\":{\"colorbar\":{\"outlinewidth\":0,\"ticks\":\"\"}}}],\"scatterpolar\":[{\"type\":\"scatterpolar\",\"marker\":{\"colorbar\":{\"outlinewidth\":0,\"ticks\":\"\"}}}],\"histogram\":[{\"marker\":{\"pattern\":{\"fillmode\":\"overlay\",\"size\":10,\"solidity\":0.2}},\"type\":\"histogram\"}],\"scattergl\":[{\"type\":\"scattergl\",\"marker\":{\"colorbar\":{\"outlinewidth\":0,\"ticks\":\"\"}}}],\"scatter3d\":[{\"type\":\"scatter3d\",\"line\":{\"colorbar\":{\"outlinewidth\":0,\"ticks\":\"\"}},\"marker\":{\"colorbar\":{\"outlinewidth\":0,\"ticks\":\"\"}}}],\"scattermapbox\":[{\"type\":\"scattermapbox\",\"marker\":{\"colorbar\":{\"outlinewidth\":0,\"ticks\":\"\"}}}],\"scatterternary\":[{\"type\":\"scatterternary\",\"marker\":{\"colorbar\":{\"outlinewidth\":0,\"ticks\":\"\"}}}],\"scattercarpet\":[{\"type\":\"scattercarpet\",\"marker\":{\"colorbar\":{\"outlinewidth\":0,\"ticks\":\"\"}}}],\"carpet\":[{\"aaxis\":{\"endlinecolor\":\"#2a3f5f\",\"gridcolor\":\"white\",\"linecolor\":\"white\",\"minorgridcolor\":\"white\",\"startlinecolor\":\"#2a3f5f\"},\"baxis\":{\"endlinecolor\":\"#2a3f5f\",\"gridcolor\":\"white\",\"linecolor\":\"white\",\"minorgridcolor\":\"white\",\"startlinecolor\":\"#2a3f5f\"},\"type\":\"carpet\"}],\"table\":[{\"cells\":{\"fill\":{\"color\":\"#EBF0F8\"},\"line\":{\"color\":\"white\"}},\"header\":{\"fill\":{\"color\":\"#C8D4E3\"},\"line\":{\"color\":\"white\"}},\"type\":\"table\"}],\"barpolar\":[{\"marker\":{\"line\":{\"color\":\"#E5ECF6\",\"width\":0.5},\"pattern\":{\"fillmode\":\"overlay\",\"size\":10,\"solidity\":0.2}},\"type\":\"barpolar\"}],\"pie\":[{\"automargin\":true,\"type\":\"pie\"}]},\"layout\":{\"autotypenumbers\":\"strict\",\"colorway\":[\"#636efa\",\"#EF553B\",\"#00cc96\",\"#ab63fa\",\"#FFA15A\",\"#19d3f3\",\"#FF6692\",\"#B6E880\",\"#FF97FF\",\"#FECB52\"],\"font\":{\"color\":\"#2a3f5f\"},\"hovermode\":\"closest\",\"hoverlabel\":{\"align\":\"left\"},\"paper_bgcolor\":\"white\",\"plot_bgcolor\":\"#E5ECF6\",\"polar\":{\"bgcolor\":\"#E5ECF6\",\"angularaxis\":{\"gridcolor\":\"white\",\"linecolor\":\"white\",\"ticks\":\"\"},\"radialaxis\":{\"gridcolor\":\"white\",\"linecolor\":\"white\",\"ticks\":\"\"}},\"ternary\":{\"bgcolor\":\"#E5ECF6\",\"aaxis\":{\"gridcolor\":\"white\",\"linecolor\":\"white\",\"ticks\":\"\"},\"baxis\":{\"gridcolor\":\"white\",\"linecolor\":\"white\",\"ticks\":\"\"},\"caxis\":{\"gridcolor\":\"white\",\"linecolor\":\"white\",\"ticks\":\"\"}},\"coloraxis\":{\"colorbar\":{\"outlinewidth\":0,\"ticks\":\"\"}},\"colorscale\":{\"sequential\":[[0.0,\"#0d0887\"],[0.1111111111111111,\"#46039f\"],[0.2222222222222222,\"#7201a8\"],[0.3333333333333333,\"#9c179e\"],[0.4444444444444444,\"#bd3786\"],[0.5555555555555556,\"#d8576b\"],[0.6666666666666666,\"#ed7953\"],[0.7777777777777778,\"#fb9f3a\"],[0.8888888888888888,\"#fdca26\"],[1.0,\"#f0f921\"]],\"sequentialminus\":[[0.0,\"#0d0887\"],[0.1111111111111111,\"#46039f\"],[0.2222222222222222,\"#7201a8\"],[0.3333333333333333,\"#9c179e\"],[0.4444444444444444,\"#bd3786\"],[0.5555555555555556,\"#d8576b\"],[0.6666666666666666,\"#ed7953\"],[0.7777777777777778,\"#fb9f3a\"],[0.8888888888888888,\"#fdca26\"],[1.0,\"#f0f921\"]],\"diverging\":[[0,\"#8e0152\"],[0.1,\"#c51b7d\"],[0.2,\"#de77ae\"],[0.3,\"#f1b6da\"],[0.4,\"#fde0ef\"],[0.5,\"#f7f7f7\"],[0.6,\"#e6f5d0\"],[0.7,\"#b8e186\"],[0.8,\"#7fbc41\"],[0.9,\"#4d9221\"],[1,\"#276419\"]]},\"xaxis\":{\"gridcolor\":\"white\",\"linecolor\":\"white\",\"ticks\":\"\",\"title\":{\"standoff\":15},\"zerolinecolor\":\"white\",\"automargin\":true,\"zerolinewidth\":2},\"yaxis\":{\"gridcolor\":\"white\",\"linecolor\":\"white\",\"ticks\":\"\",\"title\":{\"standoff\":15},\"zerolinecolor\":\"white\",\"automargin\":true,\"zerolinewidth\":2},\"scene\":{\"xaxis\":{\"backgroundcolor\":\"#E5ECF6\",\"gridcolor\":\"white\",\"linecolor\":\"white\",\"showbackground\":true,\"ticks\":\"\",\"zerolinecolor\":\"white\",\"gridwidth\":2},\"yaxis\":{\"backgroundcolor\":\"#E5ECF6\",\"gridcolor\":\"white\",\"linecolor\":\"white\",\"showbackground\":true,\"ticks\":\"\",\"zerolinecolor\":\"white\",\"gridwidth\":2},\"zaxis\":{\"backgroundcolor\":\"#E5ECF6\",\"gridcolor\":\"white\",\"linecolor\":\"white\",\"showbackground\":true,\"ticks\":\"\",\"zerolinecolor\":\"white\",\"gridwidth\":2}},\"shapedefaults\":{\"line\":{\"color\":\"#2a3f5f\"}},\"annotationdefaults\":{\"arrowcolor\":\"#2a3f5f\",\"arrowhead\":0,\"arrowwidth\":1},\"geo\":{\"bgcolor\":\"white\",\"landcolor\":\"#E5ECF6\",\"subunitcolor\":\"white\",\"showland\":true,\"showlakes\":true,\"lakecolor\":\"white\"},\"title\":{\"x\":0.05},\"mapbox\":{\"style\":\"light\"}}},\"xaxis\":{\"anchor\":\"y\",\"domain\":[0.0,1.0],\"title\":{\"text\":\"Year\"}},\"yaxis\":{\"anchor\":\"x\",\"domain\":[0.0,1.0],\"title\":{\"text\":\"value\"}},\"legend\":{\"title\":{\"text\":\"variable\"},\"tracegroupgap\":0},\"title\":{\"text\":\"Population density\"}},                        {\"responsive\": true}                    ).then(function(){\n                            \nvar gd = document.getElementById('cf3bd0b1-0d8d-466a-9371-51a4d13f1b40');\nvar x = new MutationObserver(function (mutations, observer) {{\n        var display = window.getComputedStyle(gd).display;\n        if (!display || display === 'none') {{\n            console.log([gd, 'removed!']);\n            Plotly.purge(gd);\n            observer.disconnect();\n        }}\n}});\n\n// Listen for the removal of the full notebook cells\nvar notebookContainer = gd.closest('#notebook-container');\nif (notebookContainer) {{\n    x.observe(notebookContainer, {childList: true});\n}}\n\n// Listen for the clearing of the current output cell\nvar outputEl = gd.closest('.output');\nif (outputEl) {{\n    x.observe(outputEl, {childList: true});\n}}\n\n                        })                };                });            </script>        </div>"
     },
     "metadata": {},
     "output_type": "display_data"
    }
   ],
   "source": [
    "px.line(fr3,\n",
    "x='Year',\n",
    "y=['Population'],\n",
    "title='Population density')"
   ]
  },
  {
   "cell_type": "code",
   "execution_count": 567,
   "outputs": [],
   "source": [
    "def arrange_TradeData(file):\n",
    "    file = file.drop(columns = ['Country Code','Indicator Name','Indicator Code'])\n",
    "    file = file.set_index('Country Name')\n",
    "    file = file.stack()\n",
    "    final_stacked_Trade = file.index.set_names('Year', level=len(file.index.names)-1, inplace=True)\n",
    "    final_stacked_Trade = file.reset_index().rename(columns={0:'Net_Trade'})\n",
    "    final_stacked_Trade = pd.DataFrame(final_stacked_Trade)\n",
    "    final_stacked_Trade ['Country Name'] = final_stacked_Trade ['Country Name'].str.upper()\n",
    "    final_stacked_Trade['Net_Trade'] = final_stacked_Trade['Net_Trade'].astype('float')\n",
    "    final_stacked_Trade['Year'] = final_stacked_Trade['Year'].astype('int')\n",
    "    return final_stacked_Trade"
   ],
   "metadata": {
    "collapsed": false,
    "pycharm": {
     "name": "#%%\n"
    }
   }
  },
  {
   "cell_type": "code",
   "execution_count": 568,
   "outputs": [],
   "source": [
    "Trade_data1 = arrange_TradeData(Trade_data)"
   ],
   "metadata": {
    "collapsed": false,
    "pycharm": {
     "name": "#%%\n"
    }
   }
  },
  {
   "cell_type": "code",
   "execution_count": 569,
   "id": "54119f65",
   "metadata": {},
   "outputs": [],
   "source": [
    "def filter_def(filename):\n",
    "    df = filename[(filename['Year'] > 2009 ) & (filename['Year'] < 2021) & (filename['Net_Trade'] < 0)]\n",
    "    df2 = df.groupby('Year').apply(lambda x: x.sort_values(by = 'Net_Trade', ascending = True).head(5))\n",
    "    df3 = df2.groupby('Country Name').count() > 9 \n",
    "    df4 = df3.loc[df3['Year'] == True]\n",
    "    print(df4)"
   ]
  },
  {
   "cell_type": "code",
   "execution_count": 570,
   "id": "e91aedec",
   "metadata": {},
   "outputs": [
    {
     "name": "stdout",
     "output_type": "stream",
     "text": [
      "               Year  Net_Trade\n",
      "Country Name                  \n",
      "INDIA          True       True\n",
      "UNITED STATES  True       True\n"
     ]
    }
   ],
   "source": [
    "filter_def(Trade_data1)"
   ]
  },
  {
   "cell_type": "code",
   "execution_count": 571,
   "id": "1fe49467",
   "metadata": {},
   "outputs": [],
   "source": [
    "#After finding USA and INDIA as the trade deficeit countries I defined a function to plot the Net trade of both these countries \n",
    "def plot_country(filename, country1, country2):\n",
    "        df = filename[(filename['Year'] > 2009 ) & (filename['Year'] < 2021) & (filename['Net_Trade'] < 0)]\n",
    "        df2 = df.loc[df['Country Name'].isin([country1, country2])]\n",
    "        sns.set()\n",
    "        sns.catplot(x='Year', hue='Country Name', col='Country Name', y='Net_Trade', data=df2, kind='bar', col_wrap=3)\n"
   ]
  },
  {
   "cell_type": "code",
   "execution_count": 572,
   "id": "f8c2df7d",
   "metadata": {},
   "outputs": [
    {
     "data": {
      "text/plain": "<Figure size 1080x360 with 2 Axes>",
      "image/png": "[encoded data removed]"
     },
     "metadata": {},
     "output_type": "display_data"
    }
   ],
   "source": [
    "plot_country(Trade_data1, 'INDIA', 'UNITED STATES')"
   ]
  },
  {
   "cell_type": "code",
   "execution_count": 573,
   "outputs": [],
   "source": [
    "def arrange_GDP_data(file):\n",
    "    for i in range(1960, 2010):\n",
    "        file = file.drop(columns = str(i))\n",
    "    file = file.drop(columns = ['Indicator Name', 'Indicator Code', 'Country Code'])\n",
    "    file = file.set_index('Country Name')\n",
    "    file = file.stack()\n",
    "    df_GDP = pd.DataFrame(file)\n",
    "    final_stacked_GDP = df_GDP.index.set_names('Year', level=len(df_GDP.index.names)-1, inplace=True)\n",
    "    final_stacked_GDP = df_GDP.reset_index().rename(columns={0:'GDP'})\n",
    "    final_stacked_GDP['GDP'] = round(final_stacked_GDP['GDP']/1000000,2)\n",
    "    India = final_stacked_GDP.loc[final_stacked_GDP['Country Name'] == 'India']\n",
    "    United_States = final_stacked_GDP.loc[final_stacked_GDP['Country Name'] == 'United States']\n",
    "    combined_GDP = pd.merge(India, United_States, on='Year', how='outer')\n",
    "    return combined_GDP"
   ],
   "metadata": {
    "collapsed": false,
    "pycharm": {
     "name": "#%%\n"
    }
   }
  },
  {
   "cell_type": "code",
   "execution_count": 574,
   "outputs": [],
   "source": [
    "Final_GDP = arrange_GDP_data(file2)"
   ],
   "metadata": {
    "collapsed": false,
    "pycharm": {
     "name": "#%%\n"
    }
   }
  },
  {
   "cell_type": "code",
   "execution_count": 575,
   "outputs": [
    {
     "data": {
      "text/plain": "   Country Name_x  Year      GDP_x Country Name_y       GDP_y\n0           India  2010  1675620.0  United States  14992100.0\n1           India  2011  1823050.0  United States  15542600.0\n2           India  2012  1827640.0  United States  16197000.0\n3           India  2013  1856720.0  United States  16784800.0\n4           India  2014  2039130.0  United States  17527200.0\n5           India  2015  2103590.0  United States  18238300.0\n6           India  2016  2294800.0  United States  18745100.0\n7           India  2017  2651470.0  United States  19543000.0\n8           India  2018  2701110.0  United States  20611900.0\n9           India  2019  2870500.0  United States  21433200.0\n10          India  2020  2660250.0  United States  20953000.0",
      "text/html": "<div>\n<style scoped>\n    .dataframe tbody tr th:only-of-type {\n        vertical-align: middle;\n    }\n\n    .dataframe tbody tr th {\n        vertical-align: top;\n    }\n\n    .dataframe thead th {\n        text-align: right;\n    }\n</style>\n<table border=\"1\" class=\"dataframe\">\n  <thead>\n    <tr style=\"text-align: right;\">\n      <th></th>\n      <th>Country Name_x</th>\n      <th>Year</th>\n      <th>GDP_x</th>\n      <th>Country Name_y</th>\n      <th>GDP_y</th>\n    </tr>\n  </thead>\n  <tbody>\n    <tr>\n      <th>0</th>\n      <td>India</td>\n      <td>2010</td>\n      <td>1675620.0</td>\n      <td>United States</td>\n      <td>14992100.0</td>\n    </tr>\n    <tr>\n      <th>1</th>\n      <td>India</td>\n      <td>2011</td>\n      <td>1823050.0</td>\n      <td>United States</td>\n      <td>15542600.0</td>\n    </tr>\n    <tr>\n      <th>2</th>\n      <td>India</td>\n      <td>2012</td>\n      <td>1827640.0</td>\n      <td>United States</td>\n      <td>16197000.0</td>\n    </tr>\n    <tr>\n      <th>3</th>\n      <td>India</td>\n      <td>2013</td>\n      <td>1856720.0</td>\n      <td>United States</td>\n      <td>16784800.0</td>\n    </tr>\n    <tr>\n      <th>4</th>\n      <td>India</td>\n      <td>2014</td>\n      <td>2039130.0</td>\n      <td>United States</td>\n      <td>17527200.0</td>\n    </tr>\n    <tr>\n      <th>5</th>\n      <td>India</td>\n      <td>2015</td>\n      <td>2103590.0</td>\n      <td>United States</td>\n      <td>18238300.0</td>\n    </tr>\n    <tr>\n      <th>6</th>\n      <td>India</td>\n      <td>2016</td>\n      <td>2294800.0</td>\n      <td>United States</td>\n      <td>18745100.0</td>\n    </tr>\n    <tr>\n      <th>7</th>\n      <td>India</td>\n      <td>2017</td>\n      <td>2651470.0</td>\n      <td>United States</td>\n      <td>19543000.0</td>\n    </tr>\n    <tr>\n      <th>8</th>\n      <td>India</td>\n      <td>2018</td>\n      <td>2701110.0</td>\n      <td>United States</td>\n      <td>20611900.0</td>\n    </tr>\n    <tr>\n      <th>9</th>\n      <td>India</td>\n      <td>2019</td>\n      <td>2870500.0</td>\n      <td>United States</td>\n      <td>21433200.0</td>\n    </tr>\n    <tr>\n      <th>10</th>\n      <td>India</td>\n      <td>2020</td>\n      <td>2660250.0</td>\n      <td>United States</td>\n      <td>20953000.0</td>\n    </tr>\n  </tbody>\n</table>\n</div>"
     },
     "execution_count": 575,
     "metadata": {},
     "output_type": "execute_result"
    }
   ],
   "source": [
    "Final_GDP"
   ],
   "metadata": {
    "collapsed": false,
    "pycharm": {
     "name": "#%%\n"
    }
   }
  },
  {
   "cell_type": "code",
   "execution_count": 576,
   "id": "a3239d15",
   "metadata": {},
   "outputs": [
    {
     "data": {
      "text/plain": "<AxesSubplot:xlabel='Year', ylabel='GDP_x'>"
     },
     "execution_count": 576,
     "metadata": {},
     "output_type": "execute_result"
    },
    {
     "data": {
      "text/plain": "<Figure size 432x288 with 1 Axes>",
      "image/png": "[encoded data removed]"
     },
     "metadata": {},
     "output_type": "display_data"
    }
   ],
   "source": [
    "import seaborn as sns\n",
    "sns.lineplot(x='Year', y='GDP_x', hue='Country Name_x', data=Final_GDP)"
   ]
  },
  {
   "cell_type": "code",
   "execution_count": 577,
   "id": "959ceb42",
   "metadata": {},
   "outputs": [
    {
     "data": {
      "text/plain": "<AxesSubplot:xlabel='Year', ylabel='GDP_y'>"
     },
     "execution_count": 577,
     "metadata": {},
     "output_type": "execute_result"
    },
    {
     "data": {
      "text/plain": "<Figure size 432x288 with 1 Axes>",
      "image/png": "[encoded data removed]"
     },
     "metadata": {},
     "output_type": "display_data"
    }
   ],
   "source": [
    "sns.lineplot(x='Year', y='GDP_y', hue='Country Name_y', data=Final_GDP)"
   ]
  },
  {
   "cell_type": "code",
   "execution_count": 578,
   "id": "e1eebebb",
   "metadata": {},
   "outputs": [
    {
     "name": "stderr",
     "output_type": "stream",
     "text": [
      "C:\\Users\\RISHITHA\\AppData\\Local\\Temp/ipykernel_20396/1129498604.py:1: FutureWarning:\n",
      "\n",
      "Indexing with multiple keys (implicitly converted to a tuple of keys) will be deprecated, use a list instead.\n",
      "\n"
     ]
    }
   ],
   "source": [
    "expimp = refined_data.groupby('Year')['Export','Import','GDP'].sum().sort_values('Year' , ascending=True).reset_index()"
   ]
  },
  {
   "cell_type": "code",
   "execution_count": 579,
   "id": "e6d0a599",
   "metadata": {},
   "outputs": [
    {
     "data": {
      "text/plain": "<AxesSubplot:xlabel='Year'>"
     },
     "execution_count": 579,
     "metadata": {},
     "output_type": "execute_result"
    },
    {
     "data": {
      "text/plain": "<Figure size 2160x720 with 1 Axes>",
      "image/png": "[encoded data removed]"
     },
     "metadata": {},
     "output_type": "display_data"
    }
   ],
   "source": [
    "expimp.plot(x='Year' , y = ['Export','Import'],\n",
    "kind = 'line',figsize=(30,10))"
   ]
  },
  {
   "cell_type": "code",
   "execution_count": 580,
   "outputs": [],
   "source": [
    "def mineral_sorting(file):\n",
    "    file = file.drop(columns = ['country', 'HSCode'])\n",
    "    file = file.set_index(['year','Commodity'])\n",
    "    df = file.groupby([\"year\",\"Commodity\"])['value'].sum()\n",
    "    df = df.reset_index(name='value')\n",
    "    df = df.groupby('year').apply(lambda x: x.sort_values(by = 'value', ascending = False).head(2))\n",
    "    df.index = df.index.droplevel()\n",
    "    df2 = df['year'].tolist()\n",
    "    df3 = df['Commodity'].tolist()\n",
    "    df4 = df['value'].tolist()\n",
    "    arrays = [df2,df3]\n",
    "    tuples = list(zip(*arrays))\n",
    "    index = pd.MultiIndex.from_tuples(tuples, names=['year', 'Commodity'])\n",
    "    final_df = pd.DataFrame({'value': df4}, index=index)\n",
    "    final_df = final_df.unstack(level = 1)\n",
    "    final_df = final_df.value.rename_axis([None], axis=1).reset_index()\n",
    "    final_df.rename(columns = {'MINERAL FUELS, MINERAL OILS AND PRODUCTS OF THEIR DISTILLATION; BITUMINOUS SUBSTANCES; MINERAL WAXES.':'Mineral_Fuels', 'NATURAL OR CULTURED PEARLS,PRECIOUS OR SEMIPRECIOUS STONES,PRE.METALS,CLAD WITH PRE.METAL AND ARTCLS THEREOF;IMIT.JEWLRY;COIN.':'Natural_Gems'}, inplace = True)\n",
    "    return final_df"
   ],
   "metadata": {
    "collapsed": false,
    "pycharm": {
     "name": "#%%\n"
    }
   }
  },
  {
   "cell_type": "code",
   "execution_count": 581,
   "outputs": [],
   "source": [
    "final_export = mineral_sorting(Export_data)"
   ],
   "metadata": {
    "collapsed": false,
    "pycharm": {
     "name": "#%%\n"
    }
   }
  },
  {
   "cell_type": "code",
   "execution_count": 582,
   "outputs": [
    {
     "data": {
      "text/plain": "   year  Mineral_Fuels  Natural_Gems\n0  2010       42735.86      43684.89\n1  2011       57391.80      47277.76\n2  2012       62105.38      43768.29\n3  2013       64685.28      41692.10\n4  2014       57619.94      41549.59\n5  2015       31231.47      39553.82\n6  2016       32435.54      43623.03\n7  2017       38469.31      41743.33\n8  2018       47920.23      40449.05",
      "text/html": "<div>\n<style scoped>\n    .dataframe tbody tr th:only-of-type {\n        vertical-align: middle;\n    }\n\n    .dataframe tbody tr th {\n        vertical-align: top;\n    }\n\n    .dataframe thead th {\n        text-align: right;\n    }\n</style>\n<table border=\"1\" class=\"dataframe\">\n  <thead>\n    <tr style=\"text-align: right;\">\n      <th></th>\n      <th>year</th>\n      <th>Mineral_Fuels</th>\n      <th>Natural_Gems</th>\n    </tr>\n  </thead>\n  <tbody>\n    <tr>\n      <th>0</th>\n      <td>2010</td>\n      <td>42735.86</td>\n      <td>43684.89</td>\n    </tr>\n    <tr>\n      <th>1</th>\n      <td>2011</td>\n      <td>57391.80</td>\n      <td>47277.76</td>\n    </tr>\n    <tr>\n      <th>2</th>\n      <td>2012</td>\n      <td>62105.38</td>\n      <td>43768.29</td>\n    </tr>\n    <tr>\n      <th>3</th>\n      <td>2013</td>\n      <td>64685.28</td>\n      <td>41692.10</td>\n    </tr>\n    <tr>\n      <th>4</th>\n      <td>2014</td>\n      <td>57619.94</td>\n      <td>41549.59</td>\n    </tr>\n    <tr>\n      <th>5</th>\n      <td>2015</td>\n      <td>31231.47</td>\n      <td>39553.82</td>\n    </tr>\n    <tr>\n      <th>6</th>\n      <td>2016</td>\n      <td>32435.54</td>\n      <td>43623.03</td>\n    </tr>\n    <tr>\n      <th>7</th>\n      <td>2017</td>\n      <td>38469.31</td>\n      <td>41743.33</td>\n    </tr>\n    <tr>\n      <th>8</th>\n      <td>2018</td>\n      <td>47920.23</td>\n      <td>40449.05</td>\n    </tr>\n  </tbody>\n</table>\n</div>"
     },
     "execution_count": 582,
     "metadata": {},
     "output_type": "execute_result"
    }
   ],
   "source": [
    "final_export"
   ],
   "metadata": {
    "collapsed": false,
    "pycharm": {
     "name": "#%%\n"
    }
   }
  },
  {
   "cell_type": "code",
   "execution_count": 583,
   "id": "73415379",
   "metadata": {
    "scrolled": true,
    "pycharm": {
     "name": "#%%\n"
    }
   },
   "outputs": [
    {
     "data": {
      "text/plain": "<Figure size 360x360 with 1 Axes>",
      "image/png": "[encoded data removed]"
     },
     "metadata": {},
     "output_type": "display_data"
    }
   ],
   "source": [
    "# Importing the required libraries\n",
    "from matplotlib import pyplot as plt\n",
    "import numpy as np\n",
    "\n",
    "# Visualizing the data with multiple bar chart\n",
    "plt.figure(figsize=[5, 5])\n",
    "\n",
    "# Set the width of the bars\n",
    "wd = 0.3\n",
    "x_pos = np.arange(1, 2*len(final_export), 2)\n",
    "\n",
    "# Plotting the multiple bar graphs on the same figure\n",
    "plt.bar(x_pos, final_export.Mineral_Fuels, color='r', width=wd,edgecolor = 'k', label='Mineral Fuels')\n",
    "plt.bar(x_pos+wd, final_export.Natural_Gems, color='b', width=wd, edgecolor = 'k' ,label='Natural Gems')\n",
    "\n",
    "# Add xticks\n",
    "plt.xticks(x_pos+wd, final_export.year.values, fontsize=9)\n",
    "plt.yticks(fontsize=10)\n",
    "plt.title('The Total Indian Export Of The Top 2 Commodities By Year', fontsize=7)\n",
    "plt.xlabel('Year', fontsize=7)\n",
    "plt.ylabel('USD', fontsize=7)\n",
    "\n",
    "plt.legend(loc='upper center', fontsize=7)\n",
    "plt.show()"
   ]
  }
 ],
 "metadata": {
  "kernelspec": {
   "display_name": "Python 3 (ipykernel)",
   "language": "python",
   "name": "python3"
  },
  "language_info": {
   "codemirror_mode": {
    "name": "ipython",
    "version": 3
   },
   "file_extension": ".py",
   "mimetype": "text/x-python",
   "name": "python",
   "nbconvert_exporter": "python",
   "pygments_lexer": "ipython3",
   "version": "3.9.7"
  }
 },
 "nbformat": 4,
 "nbformat_minor": 5
}
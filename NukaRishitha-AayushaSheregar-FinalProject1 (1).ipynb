{
 "cells": [
  {
   "cell_type": "code",
   "execution_count": 237,
   "id": "7f7ecdf7",
   "metadata": {},
   "outputs": [],
   "source": [
    "import numpy as np\n",
    "import pandas as pd\n",
    "import matplotlib.pyplot as plt\n",
    "import plotly.express as px\n",
    "from mpl_toolkits.mplot3d import axes3d\n",
    "import seaborn as sns"
   ]
  },
  {
   "cell_type": "code",
   "execution_count": 238,
   "id": "c398d093",
   "metadata": {},
   "outputs": [],
   "source": [
    "fr1 = pd.read_csv('Data_files\\\\GDP.csv')\n",
    "fr2 = pd.read_csv('Data_files\\\\exports and imports of india(1997-2022) - exports and imports.csv')\n",
    "fr3 =  pd.read_csv('Data_files\\\\india_population.csv')\n",
    "fr4 = pd.read_csv('Data_files\\\\2018-2010_export.csv')\n",
    "file1 = pd.read_csv(\"Data_files\\\\Net_Trade.csv\")\n",
    "file2= pd.read_csv('Data_files\\\\GDP.csv')"
   ]
  },
  {
   "cell_type": "code",
   "execution_count": 239,
   "outputs": [],
   "source": [
    "duplicate_file1 = file1"
   ],
   "metadata": {
    "collapsed": false,
    "pycharm": {
     "name": "#%%\n"
    }
   }
  },
  {
   "cell_type": "code",
   "execution_count": 240,
   "id": "40e199b4",
   "metadata": {},
   "outputs": [],
   "source": [
    "duplicate_fr1 = fr1"
   ]
  },
  {
   "cell_type": "code",
   "execution_count": 241,
   "id": "0cc2c20c",
   "metadata": {},
   "outputs": [],
   "source": [
    "for i in range(1960, 2010):\n",
    "    fr1 = fr1.drop(columns = str(i))"
   ]
  },
  {
   "cell_type": "code",
   "execution_count": 242,
   "id": "6d3ed78c",
   "metadata": {},
   "outputs": [
    {
     "data": {
      "text/plain": "                    Country Name Country Code     Indicator Name  \\\n0                          Aruba          ABW  GDP (current US$)   \n1    Africa Eastern and Southern          AFE  GDP (current US$)   \n2                    Afghanistan          AFG  GDP (current US$)   \n3     Africa Western and Central          AFW  GDP (current US$)   \n4                         Angola          AGO  GDP (current US$)   \n..                           ...          ...                ...   \n261                       Kosovo          XKX  GDP (current US$)   \n262                Yemen Republc          YEM  GDP (current US$)   \n263                 South Africa          ZAF  GDP (current US$)   \n264                       Zambia          ZMB  GDP (current US$)   \n265                     Zimbabwe          ZWE  GDP (current US$)   \n\n     Indicator Code          2010          2011          2012          2013  \\\n0    NY.GDP.MKTP.CD  2.390503e+09  2.549721e+09  2.534637e+09  2.727850e+09   \n1    NY.GDP.MKTP.CD  8.474090e+11  9.433780e+11  9.505210e+11  9.642420e+11   \n2    NY.GDP.MKTP.CD  1.585668e+10  1.780511e+10  1.990732e+10  2.014640e+10   \n3    NY.GDP.MKTP.CD  5.915830e+11  6.709630e+11  7.275710e+11  8.207880e+11   \n4    NY.GDP.MKTP.CD  8.379950e+10  1.117900e+11  1.280530e+11  1.367100e+11   \n..              ...           ...           ...           ...           ...   \n261  NY.GDP.MKTP.CD  5.344014e+09  6.341737e+09  6.163785e+09  6.735731e+09   \n262  NY.GDP.MKTP.CD  3.090675e+10  3.272642e+10  3.540134e+10  4.041524e+10   \n263  NY.GDP.MKTP.CD  4.173650e+11  4.582020e+11  4.344010e+11  4.008860e+11   \n264  NY.GDP.MKTP.CD  2.026556e+10  2.345952e+10  2.550306e+10  2.803724e+10   \n265  NY.GDP.MKTP.CD  1.204166e+10  1.410192e+10  1.711485e+10  1.909102e+10   \n\n             2014          2015          2016          2017          2018  \\\n0    2.790849e+09  2.962905e+09  2.983637e+09  3.092430e+09  3.202189e+09   \n1    9.848070e+11  9.199300e+11  8.733550e+11  9.853560e+11  1.012850e+12   \n2    2.049713e+10  1.913421e+10  1.811656e+10  1.875347e+10  1.805323e+10   \n3    8.649670e+11  7.607300e+11  6.905430e+11  6.837420e+11  7.416920e+11   \n4    1.457120e+11  1.161940e+11  1.011240e+11  1.221240e+11  1.013530e+11   \n..            ...           ...           ...           ...           ...   \n261  7.074658e+09  6.295820e+09  6.682833e+09  7.180813e+09  7.878509e+09   \n262  4.322859e+10  4.244510e+10  3.131737e+10  2.684013e+10  2.160614e+10   \n263  3.811990e+11  3.467100e+11  3.235860e+11  3.814490e+11  4.048420e+11   \n264  2.714102e+10  2.125122e+10  2.095841e+10  2.587360e+10  2.631159e+10   \n265  1.949552e+10  1.996312e+10  2.054868e+10  1.758489e+10  1.811554e+10   \n\n             2019          2020  \n0             NaN           NaN  \n1    1.009910e+12  9.207920e+11  \n2    1.879945e+10  2.011614e+10  \n3    7.945720e+11  7.845880e+11  \n4    8.941719e+10  5.837598e+10  \n..            ...           ...  \n261  7.899879e+09  7.716925e+09  \n262           NaN           NaN  \n263  3.879350e+11  3.354420e+11  \n264  2.330867e+10  1.811063e+10  \n265  1.928429e+10  1.805117e+10  \n\n[266 rows x 15 columns]",
      "text/html": "<div>\n<style scoped>\n    .dataframe tbody tr th:only-of-type {\n        vertical-align: middle;\n    }\n\n    .dataframe tbody tr th {\n        vertical-align: top;\n    }\n\n    .dataframe thead th {\n        text-align: right;\n    }\n</style>\n<table border=\"1\" class=\"dataframe\">\n  <thead>\n    <tr style=\"text-align: right;\">\n      <th></th>\n      <th>Country Name</th>\n      <th>Country Code</th>\n      <th>Indicator Name</th>\n      <th>Indicator Code</th>\n      <th>2010</th>\n      <th>2011</th>\n      <th>2012</th>\n      <th>2013</th>\n      <th>2014</th>\n      <th>2015</th>\n      <th>2016</th>\n      <th>2017</th>\n      <th>2018</th>\n      <th>2019</th>\n      <th>2020</th>\n    </tr>\n  </thead>\n  <tbody>\n    <tr>\n      <th>0</th>\n      <td>Aruba</td>\n      <td>ABW</td>\n      <td>GDP (current US$)</td>\n      <td>NY.GDP.MKTP.CD</td>\n      <td>2.390503e+09</td>\n      <td>2.549721e+09</td>\n      <td>2.534637e+09</td>\n      <td>2.727850e+09</td>\n      <td>2.790849e+09</td>\n      <td>2.962905e+09</td>\n      <td>2.983637e+09</td>\n      <td>3.092430e+09</td>\n      <td>3.202189e+09</td>\n      <td>NaN</td>\n      <td>NaN</td>\n    </tr>\n    <tr>\n      <th>1</th>\n      <td>Africa Eastern and Southern</td>\n      <td>AFE</td>\n      <td>GDP (current US$)</td>\n      <td>NY.GDP.MKTP.CD</td>\n      <td>8.474090e+11</td>\n      <td>9.433780e+11</td>\n      <td>9.505210e+11</td>\n      <td>9.642420e+11</td>\n      <td>9.848070e+11</td>\n      <td>9.199300e+11</td>\n      <td>8.733550e+11</td>\n      <td>9.853560e+11</td>\n      <td>1.012850e+12</td>\n      <td>1.009910e+12</td>\n      <td>9.207920e+11</td>\n    </tr>\n    <tr>\n      <th>2</th>\n      <td>Afghanistan</td>\n      <td>AFG</td>\n      <td>GDP (current US$)</td>\n      <td>NY.GDP.MKTP.CD</td>\n      <td>1.585668e+10</td>\n      <td>1.780511e+10</td>\n      <td>1.990732e+10</td>\n      <td>2.014640e+10</td>\n      <td>2.049713e+10</td>\n      <td>1.913421e+10</td>\n      <td>1.811656e+10</td>\n      <td>1.875347e+10</td>\n      <td>1.805323e+10</td>\n      <td>1.879945e+10</td>\n      <td>2.011614e+10</td>\n    </tr>\n    <tr>\n      <th>3</th>\n      <td>Africa Western and Central</td>\n      <td>AFW</td>\n      <td>GDP (current US$)</td>\n      <td>NY.GDP.MKTP.CD</td>\n      <td>5.915830e+11</td>\n      <td>6.709630e+11</td>\n      <td>7.275710e+11</td>\n      <td>8.207880e+11</td>\n      <td>8.649670e+11</td>\n      <td>7.607300e+11</td>\n      <td>6.905430e+11</td>\n      <td>6.837420e+11</td>\n      <td>7.416920e+11</td>\n      <td>7.945720e+11</td>\n      <td>7.845880e+11</td>\n    </tr>\n    <tr>\n      <th>4</th>\n      <td>Angola</td>\n      <td>AGO</td>\n      <td>GDP (current US$)</td>\n      <td>NY.GDP.MKTP.CD</td>\n      <td>8.379950e+10</td>\n      <td>1.117900e+11</td>\n      <td>1.280530e+11</td>\n      <td>1.367100e+11</td>\n      <td>1.457120e+11</td>\n      <td>1.161940e+11</td>\n      <td>1.011240e+11</td>\n      <td>1.221240e+11</td>\n      <td>1.013530e+11</td>\n      <td>8.941719e+10</td>\n      <td>5.837598e+10</td>\n    </tr>\n    <tr>\n      <th>...</th>\n      <td>...</td>\n      <td>...</td>\n      <td>...</td>\n      <td>...</td>\n      <td>...</td>\n      <td>...</td>\n      <td>...</td>\n      <td>...</td>\n      <td>...</td>\n      <td>...</td>\n      <td>...</td>\n      <td>...</td>\n      <td>...</td>\n      <td>...</td>\n      <td>...</td>\n    </tr>\n    <tr>\n      <th>261</th>\n      <td>Kosovo</td>\n      <td>XKX</td>\n      <td>GDP (current US$)</td>\n      <td>NY.GDP.MKTP.CD</td>\n      <td>5.344014e+09</td>\n      <td>6.341737e+09</td>\n      <td>6.163785e+09</td>\n      <td>6.735731e+09</td>\n      <td>7.074658e+09</td>\n      <td>6.295820e+09</td>\n      <td>6.682833e+09</td>\n      <td>7.180813e+09</td>\n      <td>7.878509e+09</td>\n      <td>7.899879e+09</td>\n      <td>7.716925e+09</td>\n    </tr>\n    <tr>\n      <th>262</th>\n      <td>Yemen Republc</td>\n      <td>YEM</td>\n      <td>GDP (current US$)</td>\n      <td>NY.GDP.MKTP.CD</td>\n      <td>3.090675e+10</td>\n      <td>3.272642e+10</td>\n      <td>3.540134e+10</td>\n      <td>4.041524e+10</td>\n      <td>4.322859e+10</td>\n      <td>4.244510e+10</td>\n      <td>3.131737e+10</td>\n      <td>2.684013e+10</td>\n      <td>2.160614e+10</td>\n      <td>NaN</td>\n      <td>NaN</td>\n    </tr>\n    <tr>\n      <th>263</th>\n      <td>South Africa</td>\n      <td>ZAF</td>\n      <td>GDP (current US$)</td>\n      <td>NY.GDP.MKTP.CD</td>\n      <td>4.173650e+11</td>\n      <td>4.582020e+11</td>\n      <td>4.344010e+11</td>\n      <td>4.008860e+11</td>\n      <td>3.811990e+11</td>\n      <td>3.467100e+11</td>\n      <td>3.235860e+11</td>\n      <td>3.814490e+11</td>\n      <td>4.048420e+11</td>\n      <td>3.879350e+11</td>\n      <td>3.354420e+11</td>\n    </tr>\n    <tr>\n      <th>264</th>\n      <td>Zambia</td>\n      <td>ZMB</td>\n      <td>GDP (current US$)</td>\n      <td>NY.GDP.MKTP.CD</td>\n      <td>2.026556e+10</td>\n      <td>2.345952e+10</td>\n      <td>2.550306e+10</td>\n      <td>2.803724e+10</td>\n      <td>2.714102e+10</td>\n      <td>2.125122e+10</td>\n      <td>2.095841e+10</td>\n      <td>2.587360e+10</td>\n      <td>2.631159e+10</td>\n      <td>2.330867e+10</td>\n      <td>1.811063e+10</td>\n    </tr>\n    <tr>\n      <th>265</th>\n      <td>Zimbabwe</td>\n      <td>ZWE</td>\n      <td>GDP (current US$)</td>\n      <td>NY.GDP.MKTP.CD</td>\n      <td>1.204166e+10</td>\n      <td>1.410192e+10</td>\n      <td>1.711485e+10</td>\n      <td>1.909102e+10</td>\n      <td>1.949552e+10</td>\n      <td>1.996312e+10</td>\n      <td>2.054868e+10</td>\n      <td>1.758489e+10</td>\n      <td>1.811554e+10</td>\n      <td>1.928429e+10</td>\n      <td>1.805117e+10</td>\n    </tr>\n  </tbody>\n</table>\n<p>266 rows × 15 columns</p>\n</div>"
     },
     "execution_count": 242,
     "metadata": {},
     "output_type": "execute_result"
    }
   ],
   "source": [
    "fr1"
   ]
  },
  {
   "cell_type": "code",
   "execution_count": 243,
   "id": "a6d88422",
   "metadata": {},
   "outputs": [],
   "source": [
    "fr1 = fr1.drop(columns = ['Indicator Name', 'Indicator Code', 'Country Code'])"
   ]
  },
  {
   "cell_type": "code",
   "execution_count": 244,
   "id": "d128a4f1",
   "metadata": {},
   "outputs": [
    {
     "data": {
      "text/plain": "                    Country Name          2010          2011          2012  \\\n0                          Aruba  2.390503e+09  2.549721e+09  2.534637e+09   \n1    Africa Eastern and Southern  8.474090e+11  9.433780e+11  9.505210e+11   \n2                    Afghanistan  1.585668e+10  1.780511e+10  1.990732e+10   \n3     Africa Western and Central  5.915830e+11  6.709630e+11  7.275710e+11   \n4                         Angola  8.379950e+10  1.117900e+11  1.280530e+11   \n..                           ...           ...           ...           ...   \n261                       Kosovo  5.344014e+09  6.341737e+09  6.163785e+09   \n262                Yemen Republc  3.090675e+10  3.272642e+10  3.540134e+10   \n263                 South Africa  4.173650e+11  4.582020e+11  4.344010e+11   \n264                       Zambia  2.026556e+10  2.345952e+10  2.550306e+10   \n265                     Zimbabwe  1.204166e+10  1.410192e+10  1.711485e+10   \n\n             2013          2014          2015          2016          2017  \\\n0    2.727850e+09  2.790849e+09  2.962905e+09  2.983637e+09  3.092430e+09   \n1    9.642420e+11  9.848070e+11  9.199300e+11  8.733550e+11  9.853560e+11   \n2    2.014640e+10  2.049713e+10  1.913421e+10  1.811656e+10  1.875347e+10   \n3    8.207880e+11  8.649670e+11  7.607300e+11  6.905430e+11  6.837420e+11   \n4    1.367100e+11  1.457120e+11  1.161940e+11  1.011240e+11  1.221240e+11   \n..            ...           ...           ...           ...           ...   \n261  6.735731e+09  7.074658e+09  6.295820e+09  6.682833e+09  7.180813e+09   \n262  4.041524e+10  4.322859e+10  4.244510e+10  3.131737e+10  2.684013e+10   \n263  4.008860e+11  3.811990e+11  3.467100e+11  3.235860e+11  3.814490e+11   \n264  2.803724e+10  2.714102e+10  2.125122e+10  2.095841e+10  2.587360e+10   \n265  1.909102e+10  1.949552e+10  1.996312e+10  2.054868e+10  1.758489e+10   \n\n             2018          2019          2020  \n0    3.202189e+09           NaN           NaN  \n1    1.012850e+12  1.009910e+12  9.207920e+11  \n2    1.805323e+10  1.879945e+10  2.011614e+10  \n3    7.416920e+11  7.945720e+11  7.845880e+11  \n4    1.013530e+11  8.941719e+10  5.837598e+10  \n..            ...           ...           ...  \n261  7.878509e+09  7.899879e+09  7.716925e+09  \n262  2.160614e+10           NaN           NaN  \n263  4.048420e+11  3.879350e+11  3.354420e+11  \n264  2.631159e+10  2.330867e+10  1.811063e+10  \n265  1.811554e+10  1.928429e+10  1.805117e+10  \n\n[266 rows x 12 columns]",
      "text/html": "<div>\n<style scoped>\n    .dataframe tbody tr th:only-of-type {\n        vertical-align: middle;\n    }\n\n    .dataframe tbody tr th {\n        vertical-align: top;\n    }\n\n    .dataframe thead th {\n        text-align: right;\n    }\n</style>\n<table border=\"1\" class=\"dataframe\">\n  <thead>\n    <tr style=\"text-align: right;\">\n      <th></th>\n      <th>Country Name</th>\n      <th>2010</th>\n      <th>2011</th>\n      <th>2012</th>\n      <th>2013</th>\n      <th>2014</th>\n      <th>2015</th>\n      <th>2016</th>\n      <th>2017</th>\n      <th>2018</th>\n      <th>2019</th>\n      <th>2020</th>\n    </tr>\n  </thead>\n  <tbody>\n    <tr>\n      <th>0</th>\n      <td>Aruba</td>\n      <td>2.390503e+09</td>\n      <td>2.549721e+09</td>\n      <td>2.534637e+09</td>\n      <td>2.727850e+09</td>\n      <td>2.790849e+09</td>\n      <td>2.962905e+09</td>\n      <td>2.983637e+09</td>\n      <td>3.092430e+09</td>\n      <td>3.202189e+09</td>\n      <td>NaN</td>\n      <td>NaN</td>\n    </tr>\n    <tr>\n      <th>1</th>\n      <td>Africa Eastern and Southern</td>\n      <td>8.474090e+11</td>\n      <td>9.433780e+11</td>\n      <td>9.505210e+11</td>\n      <td>9.642420e+11</td>\n      <td>9.848070e+11</td>\n      <td>9.199300e+11</td>\n      <td>8.733550e+11</td>\n      <td>9.853560e+11</td>\n      <td>1.012850e+12</td>\n      <td>1.009910e+12</td>\n      <td>9.207920e+11</td>\n    </tr>\n    <tr>\n      <th>2</th>\n      <td>Afghanistan</td>\n      <td>1.585668e+10</td>\n      <td>1.780511e+10</td>\n      <td>1.990732e+10</td>\n      <td>2.014640e+10</td>\n      <td>2.049713e+10</td>\n      <td>1.913421e+10</td>\n      <td>1.811656e+10</td>\n      <td>1.875347e+10</td>\n      <td>1.805323e+10</td>\n      <td>1.879945e+10</td>\n      <td>2.011614e+10</td>\n    </tr>\n    <tr>\n      <th>3</th>\n      <td>Africa Western and Central</td>\n      <td>5.915830e+11</td>\n      <td>6.709630e+11</td>\n      <td>7.275710e+11</td>\n      <td>8.207880e+11</td>\n      <td>8.649670e+11</td>\n      <td>7.607300e+11</td>\n      <td>6.905430e+11</td>\n      <td>6.837420e+11</td>\n      <td>7.416920e+11</td>\n      <td>7.945720e+11</td>\n      <td>7.845880e+11</td>\n    </tr>\n    <tr>\n      <th>4</th>\n      <td>Angola</td>\n      <td>8.379950e+10</td>\n      <td>1.117900e+11</td>\n      <td>1.280530e+11</td>\n      <td>1.367100e+11</td>\n      <td>1.457120e+11</td>\n      <td>1.161940e+11</td>\n      <td>1.011240e+11</td>\n      <td>1.221240e+11</td>\n      <td>1.013530e+11</td>\n      <td>8.941719e+10</td>\n      <td>5.837598e+10</td>\n    </tr>\n    <tr>\n      <th>...</th>\n      <td>...</td>\n      <td>...</td>\n      <td>...</td>\n      <td>...</td>\n      <td>...</td>\n      <td>...</td>\n      <td>...</td>\n      <td>...</td>\n      <td>...</td>\n      <td>...</td>\n      <td>...</td>\n      <td>...</td>\n    </tr>\n    <tr>\n      <th>261</th>\n      <td>Kosovo</td>\n      <td>5.344014e+09</td>\n      <td>6.341737e+09</td>\n      <td>6.163785e+09</td>\n      <td>6.735731e+09</td>\n      <td>7.074658e+09</td>\n      <td>6.295820e+09</td>\n      <td>6.682833e+09</td>\n      <td>7.180813e+09</td>\n      <td>7.878509e+09</td>\n      <td>7.899879e+09</td>\n      <td>7.716925e+09</td>\n    </tr>\n    <tr>\n      <th>262</th>\n      <td>Yemen Republc</td>\n      <td>3.090675e+10</td>\n      <td>3.272642e+10</td>\n      <td>3.540134e+10</td>\n      <td>4.041524e+10</td>\n      <td>4.322859e+10</td>\n      <td>4.244510e+10</td>\n      <td>3.131737e+10</td>\n      <td>2.684013e+10</td>\n      <td>2.160614e+10</td>\n      <td>NaN</td>\n      <td>NaN</td>\n    </tr>\n    <tr>\n      <th>263</th>\n      <td>South Africa</td>\n      <td>4.173650e+11</td>\n      <td>4.582020e+11</td>\n      <td>4.344010e+11</td>\n      <td>4.008860e+11</td>\n      <td>3.811990e+11</td>\n      <td>3.467100e+11</td>\n      <td>3.235860e+11</td>\n      <td>3.814490e+11</td>\n      <td>4.048420e+11</td>\n      <td>3.879350e+11</td>\n      <td>3.354420e+11</td>\n    </tr>\n    <tr>\n      <th>264</th>\n      <td>Zambia</td>\n      <td>2.026556e+10</td>\n      <td>2.345952e+10</td>\n      <td>2.550306e+10</td>\n      <td>2.803724e+10</td>\n      <td>2.714102e+10</td>\n      <td>2.125122e+10</td>\n      <td>2.095841e+10</td>\n      <td>2.587360e+10</td>\n      <td>2.631159e+10</td>\n      <td>2.330867e+10</td>\n      <td>1.811063e+10</td>\n    </tr>\n    <tr>\n      <th>265</th>\n      <td>Zimbabwe</td>\n      <td>1.204166e+10</td>\n      <td>1.410192e+10</td>\n      <td>1.711485e+10</td>\n      <td>1.909102e+10</td>\n      <td>1.949552e+10</td>\n      <td>1.996312e+10</td>\n      <td>2.054868e+10</td>\n      <td>1.758489e+10</td>\n      <td>1.811554e+10</td>\n      <td>1.928429e+10</td>\n      <td>1.805117e+10</td>\n    </tr>\n  </tbody>\n</table>\n<p>266 rows × 12 columns</p>\n</div>"
     },
     "execution_count": 244,
     "metadata": {},
     "output_type": "execute_result"
    }
   ],
   "source": [
    "fr1\n"
   ]
  },
  {
   "cell_type": "code",
   "execution_count": 245,
   "id": "944aac95",
   "metadata": {},
   "outputs": [],
   "source": [
    "fr1 = fr1.set_index('Country Name')"
   ]
  },
  {
   "cell_type": "code",
   "execution_count": 246,
   "id": "079fec9f",
   "metadata": {},
   "outputs": [],
   "source": [
    "fr1 = fr1.stack()"
   ]
  },
  {
   "cell_type": "code",
   "execution_count": 247,
   "id": "e37a5fd2",
   "metadata": {},
   "outputs": [
    {
     "data": {
      "text/plain": "pandas.core.series.Series"
     },
     "execution_count": 247,
     "metadata": {},
     "output_type": "execute_result"
    }
   ],
   "source": [
    "type(fr1)"
   ]
  },
  {
   "cell_type": "code",
   "execution_count": 248,
   "id": "04a04fc1",
   "metadata": {},
   "outputs": [],
   "source": [
    "df = pd.DataFrame(fr1)"
   ]
  },
  {
   "cell_type": "code",
   "execution_count": 249,
   "id": "3dd50116",
   "metadata": {},
   "outputs": [
    {
     "data": {
      "text/plain": "                              0\nCountry Name                   \nAruba        2010  2.390503e+09\n             2011  2.549721e+09\n             2012  2.534637e+09\n             2013  2.727850e+09\n             2014  2.790849e+09\n...                         ...\nZimbabwe     2016  2.054868e+10\n             2017  1.758489e+10\n             2018  1.811554e+10\n             2019  1.928429e+10\n             2020  1.805117e+10\n\n[2807 rows x 1 columns]",
      "text/html": "<div>\n<style scoped>\n    .dataframe tbody tr th:only-of-type {\n        vertical-align: middle;\n    }\n\n    .dataframe tbody tr th {\n        vertical-align: top;\n    }\n\n    .dataframe thead th {\n        text-align: right;\n    }\n</style>\n<table border=\"1\" class=\"dataframe\">\n  <thead>\n    <tr style=\"text-align: right;\">\n      <th></th>\n      <th></th>\n      <th>0</th>\n    </tr>\n    <tr>\n      <th>Country Name</th>\n      <th></th>\n      <th></th>\n    </tr>\n  </thead>\n  <tbody>\n    <tr>\n      <th rowspan=\"5\" valign=\"top\">Aruba</th>\n      <th>2010</th>\n      <td>2.390503e+09</td>\n    </tr>\n    <tr>\n      <th>2011</th>\n      <td>2.549721e+09</td>\n    </tr>\n    <tr>\n      <th>2012</th>\n      <td>2.534637e+09</td>\n    </tr>\n    <tr>\n      <th>2013</th>\n      <td>2.727850e+09</td>\n    </tr>\n    <tr>\n      <th>2014</th>\n      <td>2.790849e+09</td>\n    </tr>\n    <tr>\n      <th>...</th>\n      <th>...</th>\n      <td>...</td>\n    </tr>\n    <tr>\n      <th rowspan=\"5\" valign=\"top\">Zimbabwe</th>\n      <th>2016</th>\n      <td>2.054868e+10</td>\n    </tr>\n    <tr>\n      <th>2017</th>\n      <td>1.758489e+10</td>\n    </tr>\n    <tr>\n      <th>2018</th>\n      <td>1.811554e+10</td>\n    </tr>\n    <tr>\n      <th>2019</th>\n      <td>1.928429e+10</td>\n    </tr>\n    <tr>\n      <th>2020</th>\n      <td>1.805117e+10</td>\n    </tr>\n  </tbody>\n</table>\n<p>2807 rows × 1 columns</p>\n</div>"
     },
     "execution_count": 249,
     "metadata": {},
     "output_type": "execute_result"
    }
   ],
   "source": [
    "df"
   ]
  },
  {
   "cell_type": "code",
   "execution_count": 250,
   "id": "8195e46f",
   "metadata": {},
   "outputs": [],
   "source": [
    "final_stacked = df.index.set_names('Year', level=len(df.index.names)-1, inplace=True)\n",
    "final_stacked= df.reset_index().rename(columns={0:'GDP'}) #Source: https://stackoverflow.com/questions/32998893/set-column-names-when-stacking-pandas-dataframe#:~:text=To%20avoid%20a%20phantom%20column%20name%20when%20calling,A%202%20B%202%20C%202%20dtype%3A%20int64\n"
   ]
  },
  {
   "cell_type": "code",
   "execution_count": 251,
   "id": "df47fd1e",
   "metadata": {},
   "outputs": [
    {
     "data": {
      "text/plain": "     Country Name  Year           GDP\n0           Aruba  2010  2.390503e+09\n1           Aruba  2011  2.549721e+09\n2           Aruba  2012  2.534637e+09\n3           Aruba  2013  2.727850e+09\n4           Aruba  2014  2.790849e+09\n...           ...   ...           ...\n2802     Zimbabwe  2016  2.054868e+10\n2803     Zimbabwe  2017  1.758489e+10\n2804     Zimbabwe  2018  1.811554e+10\n2805     Zimbabwe  2019  1.928429e+10\n2806     Zimbabwe  2020  1.805117e+10\n\n[2807 rows x 3 columns]",
      "text/html": "<div>\n<style scoped>\n    .dataframe tbody tr th:only-of-type {\n        vertical-align: middle;\n    }\n\n    .dataframe tbody tr th {\n        vertical-align: top;\n    }\n\n    .dataframe thead th {\n        text-align: right;\n    }\n</style>\n<table border=\"1\" class=\"dataframe\">\n  <thead>\n    <tr style=\"text-align: right;\">\n      <th></th>\n      <th>Country Name</th>\n      <th>Year</th>\n      <th>GDP</th>\n    </tr>\n  </thead>\n  <tbody>\n    <tr>\n      <th>0</th>\n      <td>Aruba</td>\n      <td>2010</td>\n      <td>2.390503e+09</td>\n    </tr>\n    <tr>\n      <th>1</th>\n      <td>Aruba</td>\n      <td>2011</td>\n      <td>2.549721e+09</td>\n    </tr>\n    <tr>\n      <th>2</th>\n      <td>Aruba</td>\n      <td>2012</td>\n      <td>2.534637e+09</td>\n    </tr>\n    <tr>\n      <th>3</th>\n      <td>Aruba</td>\n      <td>2013</td>\n      <td>2.727850e+09</td>\n    </tr>\n    <tr>\n      <th>4</th>\n      <td>Aruba</td>\n      <td>2014</td>\n      <td>2.790849e+09</td>\n    </tr>\n    <tr>\n      <th>...</th>\n      <td>...</td>\n      <td>...</td>\n      <td>...</td>\n    </tr>\n    <tr>\n      <th>2802</th>\n      <td>Zimbabwe</td>\n      <td>2016</td>\n      <td>2.054868e+10</td>\n    </tr>\n    <tr>\n      <th>2803</th>\n      <td>Zimbabwe</td>\n      <td>2017</td>\n      <td>1.758489e+10</td>\n    </tr>\n    <tr>\n      <th>2804</th>\n      <td>Zimbabwe</td>\n      <td>2018</td>\n      <td>1.811554e+10</td>\n    </tr>\n    <tr>\n      <th>2805</th>\n      <td>Zimbabwe</td>\n      <td>2019</td>\n      <td>1.928429e+10</td>\n    </tr>\n    <tr>\n      <th>2806</th>\n      <td>Zimbabwe</td>\n      <td>2020</td>\n      <td>1.805117e+10</td>\n    </tr>\n  </tbody>\n</table>\n<p>2807 rows × 3 columns</p>\n</div>"
     },
     "execution_count": 251,
     "metadata": {},
     "output_type": "execute_result"
    }
   ],
   "source": [
    "final_stacked"
   ]
  },
  {
   "cell_type": "code",
   "execution_count": 252,
   "id": "1323cb61",
   "metadata": {},
   "outputs": [],
   "source": [
    "fr2 = fr2.drop(columns = ['Year(end)'])\n",
    "final_stacked['Country Name'] = final_stacked['Country Name'].str.upper()\n",
    "fr2['Country'] = fr2['Country'].str.upper()"
   ]
  },
  {
   "cell_type": "code",
   "execution_count": 253,
   "id": "39175912",
   "metadata": {},
   "outputs": [],
   "source": [
    "final_stacked['Year']=final_stacked['Year'].astype(int)"
   ]
  },
  {
   "cell_type": "code",
   "execution_count": 254,
   "id": "51631498",
   "metadata": {},
   "outputs": [],
   "source": [
    "combined = pd.merge(left=fr2 , right=final_stacked, left_on=['Country', 'Year(start)'], right_on=['Country Name', 'Year'], how='inner')"
   ]
  },
  {
   "cell_type": "code",
   "execution_count": 255,
   "id": "3070f56d",
   "metadata": {},
   "outputs": [],
   "source": [
    "combined['Total Trade'] = combined['Total Trade'].str.replace(',','')\n",
    "combined['Export'] = combined['Export'].str.replace(',','')\n",
    "combined['Import'] = combined['Import'].str.replace(',','')\n",
    "combined['Trade Balance'] = combined['Trade Balance'].str.replace(',','')\n",
    "combined['Total Trade'] = combined['Total Trade'].astype(float)\n",
    "combined['Export'] = combined['Export'].astype(float)\n",
    "combined['Import'] = combined['Import'].astype(float)\n",
    "combined['Trade Balance'] = combined['Trade Balance'].astype(float)"
   ]
  },
  {
   "cell_type": "code",
   "execution_count": 256,
   "id": "9ff2eebe",
   "metadata": {},
   "outputs": [
    {
     "data": {
      "text/plain": "          Country  Export  Import  Total Trade  Trade Balance  Year(start)  \\\n0     AFGHANISTAN  422.41  146.03       568.44         276.38         2010   \n1     AFGHANISTAN  510.90  132.50       643.41         378.40         2011   \n2     AFGHANISTAN  472.63  159.55       632.18         313.07         2012   \n3     AFGHANISTAN  474.34  208.77       683.10         265.57         2013   \n4     AFGHANISTAN  422.56  261.91       684.47         160.65         2014   \n...           ...     ...     ...          ...            ...          ...   \n1753     ZIMBABWE  109.08   60.46       169.54          48.63         2016   \n1754     ZIMBABWE  163.54   62.20       225.74         101.34         2017   \n1755     ZIMBABWE  181.72    7.79       189.51         173.93         2018   \n1756     ZIMBABWE  161.13   13.59       174.72         147.54         2019   \n1757     ZIMBABWE  175.72    5.71       181.42         170.01         2020   \n\n     Country Name  Year           GDP  \n0     AFGHANISTAN  2010  1.585668e+10  \n1     AFGHANISTAN  2011  1.780511e+10  \n2     AFGHANISTAN  2012  1.990732e+10  \n3     AFGHANISTAN  2013  2.014640e+10  \n4     AFGHANISTAN  2014  2.049713e+10  \n...           ...   ...           ...  \n1753     ZIMBABWE  2016  2.054868e+10  \n1754     ZIMBABWE  2017  1.758489e+10  \n1755     ZIMBABWE  2018  1.811554e+10  \n1756     ZIMBABWE  2019  1.928429e+10  \n1757     ZIMBABWE  2020  1.805117e+10  \n\n[1758 rows x 9 columns]",
      "text/html": "<div>\n<style scoped>\n    .dataframe tbody tr th:only-of-type {\n        vertical-align: middle;\n    }\n\n    .dataframe tbody tr th {\n        vertical-align: top;\n    }\n\n    .dataframe thead th {\n        text-align: right;\n    }\n</style>\n<table border=\"1\" class=\"dataframe\">\n  <thead>\n    <tr style=\"text-align: right;\">\n      <th></th>\n      <th>Country</th>\n      <th>Export</th>\n      <th>Import</th>\n      <th>Total Trade</th>\n      <th>Trade Balance</th>\n      <th>Year(start)</th>\n      <th>Country Name</th>\n      <th>Year</th>\n      <th>GDP</th>\n    </tr>\n  </thead>\n  <tbody>\n    <tr>\n      <th>0</th>\n      <td>AFGHANISTAN</td>\n      <td>422.41</td>\n      <td>146.03</td>\n      <td>568.44</td>\n      <td>276.38</td>\n      <td>2010</td>\n      <td>AFGHANISTAN</td>\n      <td>2010</td>\n      <td>1.585668e+10</td>\n    </tr>\n    <tr>\n      <th>1</th>\n      <td>AFGHANISTAN</td>\n      <td>510.90</td>\n      <td>132.50</td>\n      <td>643.41</td>\n      <td>378.40</td>\n      <td>2011</td>\n      <td>AFGHANISTAN</td>\n      <td>2011</td>\n      <td>1.780511e+10</td>\n    </tr>\n    <tr>\n      <th>2</th>\n      <td>AFGHANISTAN</td>\n      <td>472.63</td>\n      <td>159.55</td>\n      <td>632.18</td>\n      <td>313.07</td>\n      <td>2012</td>\n      <td>AFGHANISTAN</td>\n      <td>2012</td>\n      <td>1.990732e+10</td>\n    </tr>\n    <tr>\n      <th>3</th>\n      <td>AFGHANISTAN</td>\n      <td>474.34</td>\n      <td>208.77</td>\n      <td>683.10</td>\n      <td>265.57</td>\n      <td>2013</td>\n      <td>AFGHANISTAN</td>\n      <td>2013</td>\n      <td>2.014640e+10</td>\n    </tr>\n    <tr>\n      <th>4</th>\n      <td>AFGHANISTAN</td>\n      <td>422.56</td>\n      <td>261.91</td>\n      <td>684.47</td>\n      <td>160.65</td>\n      <td>2014</td>\n      <td>AFGHANISTAN</td>\n      <td>2014</td>\n      <td>2.049713e+10</td>\n    </tr>\n    <tr>\n      <th>...</th>\n      <td>...</td>\n      <td>...</td>\n      <td>...</td>\n      <td>...</td>\n      <td>...</td>\n      <td>...</td>\n      <td>...</td>\n      <td>...</td>\n      <td>...</td>\n    </tr>\n    <tr>\n      <th>1753</th>\n      <td>ZIMBABWE</td>\n      <td>109.08</td>\n      <td>60.46</td>\n      <td>169.54</td>\n      <td>48.63</td>\n      <td>2016</td>\n      <td>ZIMBABWE</td>\n      <td>2016</td>\n      <td>2.054868e+10</td>\n    </tr>\n    <tr>\n      <th>1754</th>\n      <td>ZIMBABWE</td>\n      <td>163.54</td>\n      <td>62.20</td>\n      <td>225.74</td>\n      <td>101.34</td>\n      <td>2017</td>\n      <td>ZIMBABWE</td>\n      <td>2017</td>\n      <td>1.758489e+10</td>\n    </tr>\n    <tr>\n      <th>1755</th>\n      <td>ZIMBABWE</td>\n      <td>181.72</td>\n      <td>7.79</td>\n      <td>189.51</td>\n      <td>173.93</td>\n      <td>2018</td>\n      <td>ZIMBABWE</td>\n      <td>2018</td>\n      <td>1.811554e+10</td>\n    </tr>\n    <tr>\n      <th>1756</th>\n      <td>ZIMBABWE</td>\n      <td>161.13</td>\n      <td>13.59</td>\n      <td>174.72</td>\n      <td>147.54</td>\n      <td>2019</td>\n      <td>ZIMBABWE</td>\n      <td>2019</td>\n      <td>1.928429e+10</td>\n    </tr>\n    <tr>\n      <th>1757</th>\n      <td>ZIMBABWE</td>\n      <td>175.72</td>\n      <td>5.71</td>\n      <td>181.42</td>\n      <td>170.01</td>\n      <td>2020</td>\n      <td>ZIMBABWE</td>\n      <td>2020</td>\n      <td>1.805117e+10</td>\n    </tr>\n  </tbody>\n</table>\n<p>1758 rows × 9 columns</p>\n</div>"
     },
     "execution_count": 256,
     "metadata": {},
     "output_type": "execute_result"
    }
   ],
   "source": [
    "combined"
   ]
  },
  {
   "cell_type": "code",
   "execution_count": 257,
   "id": "0b34af39",
   "metadata": {},
   "outputs": [],
   "source": [
    "combined['GDP'] = round(combined['GDP']/1000000,2)"
   ]
  },
  {
   "cell_type": "code",
   "execution_count": 258,
   "id": "7ad11fe0",
   "metadata": {},
   "outputs": [
    {
     "data": {
      "text/plain": "          Country  Export  Import  Total Trade  Trade Balance  Year(start)  \\\n0     AFGHANISTAN  422.41  146.03       568.44         276.38         2010   \n1     AFGHANISTAN  510.90  132.50       643.41         378.40         2011   \n2     AFGHANISTAN  472.63  159.55       632.18         313.07         2012   \n3     AFGHANISTAN  474.34  208.77       683.10         265.57         2013   \n4     AFGHANISTAN  422.56  261.91       684.47         160.65         2014   \n...           ...     ...     ...          ...            ...          ...   \n1753     ZIMBABWE  109.08   60.46       169.54          48.63         2016   \n1754     ZIMBABWE  163.54   62.20       225.74         101.34         2017   \n1755     ZIMBABWE  181.72    7.79       189.51         173.93         2018   \n1756     ZIMBABWE  161.13   13.59       174.72         147.54         2019   \n1757     ZIMBABWE  175.72    5.71       181.42         170.01         2020   \n\n     Country Name  Year       GDP  \n0     AFGHANISTAN  2010  15856.68  \n1     AFGHANISTAN  2011  17805.11  \n2     AFGHANISTAN  2012  19907.32  \n3     AFGHANISTAN  2013  20146.40  \n4     AFGHANISTAN  2014  20497.13  \n...           ...   ...       ...  \n1753     ZIMBABWE  2016  20548.68  \n1754     ZIMBABWE  2017  17584.89  \n1755     ZIMBABWE  2018  18115.54  \n1756     ZIMBABWE  2019  19284.29  \n1757     ZIMBABWE  2020  18051.17  \n\n[1758 rows x 9 columns]",
      "text/html": "<div>\n<style scoped>\n    .dataframe tbody tr th:only-of-type {\n        vertical-align: middle;\n    }\n\n    .dataframe tbody tr th {\n        vertical-align: top;\n    }\n\n    .dataframe thead th {\n        text-align: right;\n    }\n</style>\n<table border=\"1\" class=\"dataframe\">\n  <thead>\n    <tr style=\"text-align: right;\">\n      <th></th>\n      <th>Country</th>\n      <th>Export</th>\n      <th>Import</th>\n      <th>Total Trade</th>\n      <th>Trade Balance</th>\n      <th>Year(start)</th>\n      <th>Country Name</th>\n      <th>Year</th>\n      <th>GDP</th>\n    </tr>\n  </thead>\n  <tbody>\n    <tr>\n      <th>0</th>\n      <td>AFGHANISTAN</td>\n      <td>422.41</td>\n      <td>146.03</td>\n      <td>568.44</td>\n      <td>276.38</td>\n      <td>2010</td>\n      <td>AFGHANISTAN</td>\n      <td>2010</td>\n      <td>15856.68</td>\n    </tr>\n    <tr>\n      <th>1</th>\n      <td>AFGHANISTAN</td>\n      <td>510.90</td>\n      <td>132.50</td>\n      <td>643.41</td>\n      <td>378.40</td>\n      <td>2011</td>\n      <td>AFGHANISTAN</td>\n      <td>2011</td>\n      <td>17805.11</td>\n    </tr>\n    <tr>\n      <th>2</th>\n      <td>AFGHANISTAN</td>\n      <td>472.63</td>\n      <td>159.55</td>\n      <td>632.18</td>\n      <td>313.07</td>\n      <td>2012</td>\n      <td>AFGHANISTAN</td>\n      <td>2012</td>\n      <td>19907.32</td>\n    </tr>\n    <tr>\n      <th>3</th>\n      <td>AFGHANISTAN</td>\n      <td>474.34</td>\n      <td>208.77</td>\n      <td>683.10</td>\n      <td>265.57</td>\n      <td>2013</td>\n      <td>AFGHANISTAN</td>\n      <td>2013</td>\n      <td>20146.40</td>\n    </tr>\n    <tr>\n      <th>4</th>\n      <td>AFGHANISTAN</td>\n      <td>422.56</td>\n      <td>261.91</td>\n      <td>684.47</td>\n      <td>160.65</td>\n      <td>2014</td>\n      <td>AFGHANISTAN</td>\n      <td>2014</td>\n      <td>20497.13</td>\n    </tr>\n    <tr>\n      <th>...</th>\n      <td>...</td>\n      <td>...</td>\n      <td>...</td>\n      <td>...</td>\n      <td>...</td>\n      <td>...</td>\n      <td>...</td>\n      <td>...</td>\n      <td>...</td>\n    </tr>\n    <tr>\n      <th>1753</th>\n      <td>ZIMBABWE</td>\n      <td>109.08</td>\n      <td>60.46</td>\n      <td>169.54</td>\n      <td>48.63</td>\n      <td>2016</td>\n      <td>ZIMBABWE</td>\n      <td>2016</td>\n      <td>20548.68</td>\n    </tr>\n    <tr>\n      <th>1754</th>\n      <td>ZIMBABWE</td>\n      <td>163.54</td>\n      <td>62.20</td>\n      <td>225.74</td>\n      <td>101.34</td>\n      <td>2017</td>\n      <td>ZIMBABWE</td>\n      <td>2017</td>\n      <td>17584.89</td>\n    </tr>\n    <tr>\n      <th>1755</th>\n      <td>ZIMBABWE</td>\n      <td>181.72</td>\n      <td>7.79</td>\n      <td>189.51</td>\n      <td>173.93</td>\n      <td>2018</td>\n      <td>ZIMBABWE</td>\n      <td>2018</td>\n      <td>18115.54</td>\n    </tr>\n    <tr>\n      <th>1756</th>\n      <td>ZIMBABWE</td>\n      <td>161.13</td>\n      <td>13.59</td>\n      <td>174.72</td>\n      <td>147.54</td>\n      <td>2019</td>\n      <td>ZIMBABWE</td>\n      <td>2019</td>\n      <td>19284.29</td>\n    </tr>\n    <tr>\n      <th>1757</th>\n      <td>ZIMBABWE</td>\n      <td>175.72</td>\n      <td>5.71</td>\n      <td>181.42</td>\n      <td>170.01</td>\n      <td>2020</td>\n      <td>ZIMBABWE</td>\n      <td>2020</td>\n      <td>18051.17</td>\n    </tr>\n  </tbody>\n</table>\n<p>1758 rows × 9 columns</p>\n</div>"
     },
     "execution_count": 258,
     "metadata": {},
     "output_type": "execute_result"
    }
   ],
   "source": [
    "\n",
    "combined\n"
   ]
  },
  {
   "cell_type": "code",
   "execution_count": 259,
   "id": "1c12a103",
   "metadata": {},
   "outputs": [],
   "source": [
    "def filtering_countries(combined, country):\n",
    "    \"\"\"\n",
    "\n",
    "    :param combined: This is a merged dataframe of both the export-import dataset and the GDP dataset\n",
    "    :param country: It is the specific country for which the rows are being extracted\n",
    "    :return: The return value is all the extracted rows for the specified country\n",
    "    \"\"\"\n",
    "    new = combined.loc[combined['Country'] == country]\n",
    "    year = new.loc[:, [\"Export\", \"Import\", \"Country\", \"Year\"]]\n",
    "    year = year.set_index([\"Country\", \"Year\"])\n",
    "    year = year.groupby([\"Country\", \"Year\"]).apply(lambda x: x.sort_values ([\"Country\", \"Year\"]))\n",
    "    return year"
   ]
  },
  {
   "cell_type": "code",
   "execution_count": 260,
   "id": "dbe6e429",
   "metadata": {},
   "outputs": [],
   "source": [
    "def plotting(combined, country):\n",
    "    \"\"\"\n",
    "\n",
    "    :param combined: This is a dataframe with all the extracted rows for the specified country\n",
    "    :param country: It is the specific country for which the rows are being extracted\n",
    "    :return: It returns a graph that shows the export and import patterns\n",
    "    \"\"\"\n",
    "    Graph = combined.plot(kind = 'bar', figsize =(30,10), title = country)\n",
    "    return Graph"
   ]
  },
  {
   "cell_type": "code",
   "execution_count": 261,
   "id": "7b306061",
   "metadata": {},
   "outputs": [
    {
     "data": {
      "text/plain": "<AxesSubplot:title={'center':'CHINA P RP'}, xlabel='Country,Year'>"
     },
     "execution_count": 261,
     "metadata": {},
     "output_type": "execute_result"
    },
    {
     "data": {
      "text/plain": "<Figure size 2160x720 with 1 Axes>",
      "image/png": "[encoded data removed]"
     },
     "metadata": {},
     "output_type": "display_data"
    }
   ],
   "source": [
    "GraphAF = filtering_countries(combined, \"CHINA P RP\")\n",
    "plotting(GraphAF, \"CHINA P RP\")"
   ]
  },
  {
   "cell_type": "code",
   "execution_count": 262,
   "id": "1250ec1d",
   "metadata": {},
   "outputs": [],
   "source": [
    "India = final_stacked.loc[final_stacked['Country Name'] == 'INDIA']"
   ]
  },
  {
   "cell_type": "code",
   "execution_count": 263,
   "id": "bd005847",
   "metadata": {},
   "outputs": [
    {
     "data": {
      "text/plain": "     Country Name  Year           GDP\n1161        INDIA  2010  1.675620e+12\n1162        INDIA  2011  1.823050e+12\n1163        INDIA  2012  1.827640e+12\n1164        INDIA  2013  1.856720e+12\n1165        INDIA  2014  2.039130e+12\n1166        INDIA  2015  2.103590e+12\n1167        INDIA  2016  2.294800e+12\n1168        INDIA  2017  2.651470e+12\n1169        INDIA  2018  2.701110e+12\n1170        INDIA  2019  2.870500e+12\n1171        INDIA  2020  2.660250e+12",
      "text/html": "<div>\n<style scoped>\n    .dataframe tbody tr th:only-of-type {\n        vertical-align: middle;\n    }\n\n    .dataframe tbody tr th {\n        vertical-align: top;\n    }\n\n    .dataframe thead th {\n        text-align: right;\n    }\n</style>\n<table border=\"1\" class=\"dataframe\">\n  <thead>\n    <tr style=\"text-align: right;\">\n      <th></th>\n      <th>Country Name</th>\n      <th>Year</th>\n      <th>GDP</th>\n    </tr>\n  </thead>\n  <tbody>\n    <tr>\n      <th>1161</th>\n      <td>INDIA</td>\n      <td>2010</td>\n      <td>1.675620e+12</td>\n    </tr>\n    <tr>\n      <th>1162</th>\n      <td>INDIA</td>\n      <td>2011</td>\n      <td>1.823050e+12</td>\n    </tr>\n    <tr>\n      <th>1163</th>\n      <td>INDIA</td>\n      <td>2012</td>\n      <td>1.827640e+12</td>\n    </tr>\n    <tr>\n      <th>1164</th>\n      <td>INDIA</td>\n      <td>2013</td>\n      <td>1.856720e+12</td>\n    </tr>\n    <tr>\n      <th>1165</th>\n      <td>INDIA</td>\n      <td>2014</td>\n      <td>2.039130e+12</td>\n    </tr>\n    <tr>\n      <th>1166</th>\n      <td>INDIA</td>\n      <td>2015</td>\n      <td>2.103590e+12</td>\n    </tr>\n    <tr>\n      <th>1167</th>\n      <td>INDIA</td>\n      <td>2016</td>\n      <td>2.294800e+12</td>\n    </tr>\n    <tr>\n      <th>1168</th>\n      <td>INDIA</td>\n      <td>2017</td>\n      <td>2.651470e+12</td>\n    </tr>\n    <tr>\n      <th>1169</th>\n      <td>INDIA</td>\n      <td>2018</td>\n      <td>2.701110e+12</td>\n    </tr>\n    <tr>\n      <th>1170</th>\n      <td>INDIA</td>\n      <td>2019</td>\n      <td>2.870500e+12</td>\n    </tr>\n    <tr>\n      <th>1171</th>\n      <td>INDIA</td>\n      <td>2020</td>\n      <td>2.660250e+12</td>\n    </tr>\n  </tbody>\n</table>\n</div>"
     },
     "execution_count": 263,
     "metadata": {},
     "output_type": "execute_result"
    }
   ],
   "source": [
    "India"
   ]
  },
  {
   "cell_type": "code",
   "execution_count": 264,
   "id": "72e5cdaa",
   "metadata": {},
   "outputs": [
    {
     "name": "stderr",
     "output_type": "stream",
     "text": [
      "C:\\Users\\aayus\\AppData\\Local\\Temp\\ipykernel_3176\\355004255.py:1: SettingWithCopyWarning:\n",
      "\n",
      "\n",
      "A value is trying to be set on a copy of a slice from a DataFrame.\n",
      "Try using .loc[row_indexer,col_indexer] = value instead\n",
      "\n",
      "See the caveats in the documentation: https://pandas.pydata.org/pandas-docs/stable/user_guide/indexing.html#returning-a-view-versus-a-copy\n",
      "\n"
     ]
    }
   ],
   "source": [
    "India['GDP'] = round(India['GDP']/1000000,2)"
   ]
  },
  {
   "cell_type": "code",
   "execution_count": 265,
   "id": "9f7badab",
   "metadata": {},
   "outputs": [
    {
     "data": {
      "text/plain": "     Country Name  Year        GDP\n1161        INDIA  2010  1675620.0\n1162        INDIA  2011  1823050.0\n1163        INDIA  2012  1827640.0\n1164        INDIA  2013  1856720.0\n1165        INDIA  2014  2039130.0\n1166        INDIA  2015  2103590.0\n1167        INDIA  2016  2294800.0\n1168        INDIA  2017  2651470.0\n1169        INDIA  2018  2701110.0\n1170        INDIA  2019  2870500.0\n1171        INDIA  2020  2660250.0",
      "text/html": "<div>\n<style scoped>\n    .dataframe tbody tr th:only-of-type {\n        vertical-align: middle;\n    }\n\n    .dataframe tbody tr th {\n        vertical-align: top;\n    }\n\n    .dataframe thead th {\n        text-align: right;\n    }\n</style>\n<table border=\"1\" class=\"dataframe\">\n  <thead>\n    <tr style=\"text-align: right;\">\n      <th></th>\n      <th>Country Name</th>\n      <th>Year</th>\n      <th>GDP</th>\n    </tr>\n  </thead>\n  <tbody>\n    <tr>\n      <th>1161</th>\n      <td>INDIA</td>\n      <td>2010</td>\n      <td>1675620.0</td>\n    </tr>\n    <tr>\n      <th>1162</th>\n      <td>INDIA</td>\n      <td>2011</td>\n      <td>1823050.0</td>\n    </tr>\n    <tr>\n      <th>1163</th>\n      <td>INDIA</td>\n      <td>2012</td>\n      <td>1827640.0</td>\n    </tr>\n    <tr>\n      <th>1164</th>\n      <td>INDIA</td>\n      <td>2013</td>\n      <td>1856720.0</td>\n    </tr>\n    <tr>\n      <th>1165</th>\n      <td>INDIA</td>\n      <td>2014</td>\n      <td>2039130.0</td>\n    </tr>\n    <tr>\n      <th>1166</th>\n      <td>INDIA</td>\n      <td>2015</td>\n      <td>2103590.0</td>\n    </tr>\n    <tr>\n      <th>1167</th>\n      <td>INDIA</td>\n      <td>2016</td>\n      <td>2294800.0</td>\n    </tr>\n    <tr>\n      <th>1168</th>\n      <td>INDIA</td>\n      <td>2017</td>\n      <td>2651470.0</td>\n    </tr>\n    <tr>\n      <th>1169</th>\n      <td>INDIA</td>\n      <td>2018</td>\n      <td>2701110.0</td>\n    </tr>\n    <tr>\n      <th>1170</th>\n      <td>INDIA</td>\n      <td>2019</td>\n      <td>2870500.0</td>\n    </tr>\n    <tr>\n      <th>1171</th>\n      <td>INDIA</td>\n      <td>2020</td>\n      <td>2660250.0</td>\n    </tr>\n  </tbody>\n</table>\n</div>"
     },
     "execution_count": 265,
     "metadata": {},
     "output_type": "execute_result"
    }
   ],
   "source": [
    "India"
   ]
  },
  {
   "cell_type": "code",
   "execution_count": 266,
   "id": "a893a92b",
   "metadata": {},
   "outputs": [
    {
     "data": {
      "application/vnd.plotly.v1+json": {
       "data": [
        {
         "hovertemplate": "variable=GDP<br>Year=%{x}<br>value=%{y}<extra></extra>",
         "legendgroup": "GDP",
         "line": {
          "color": "#636efa",
          "dash": "solid"
         },
         "marker": {
          "symbol": "circle"
         },
         "mode": "lines",
         "name": "GDP",
         "orientation": "v",
         "showlegend": true,
         "x": [
          2010,
          2011,
          2012,
          2013,
          2014,
          2015,
          2016,
          2017,
          2018,
          2019,
          2020
         ],
         "xaxis": "x",
         "y": [
          1675620.0,
          1823050.0,
          1827640.0,
          1856720.0,
          2039130.0,
          2103590.0,
          2294800.0,
          2651470.0,
          2701110.0,
          2870500.0,
          2660250.0
         ],
         "yaxis": "y",
         "type": "scatter"
        }
       ],
       "layout": {
        "template": {
         "data": {
          "histogram2dcontour": [
           {
            "type": "histogram2dcontour",
            "colorbar": {
             "outlinewidth": 0,
             "ticks": ""
            },
            "colorscale": [
             [
              0.0,
              "#0d0887"
             ],
             [
              0.1111111111111111,
              "#46039f"
             ],
             [
              0.2222222222222222,
              "#7201a8"
             ],
             [
              0.3333333333333333,
              "#9c179e"
             ],
             [
              0.4444444444444444,
              "#bd3786"
             ],
             [
              0.5555555555555556,
              "#d8576b"
             ],
             [
              0.6666666666666666,
              "#ed7953"
             ],
             [
              0.7777777777777778,
              "#fb9f3a"
             ],
             [
              0.8888888888888888,
              "#fdca26"
             ],
             [
              1.0,
              "#f0f921"
             ]
            ]
           }
          ],
          "choropleth": [
           {
            "type": "choropleth",
            "colorbar": {
             "outlinewidth": 0,
             "ticks": ""
            }
           }
          ],
          "histogram2d": [
           {
            "type": "histogram2d",
            "colorbar": {
             "outlinewidth": 0,
             "ticks": ""
            },
            "colorscale": [
             [
              0.0,
              "#0d0887"
             ],
             [
              0.1111111111111111,
              "#46039f"
             ],
             [
              0.2222222222222222,
              "#7201a8"
             ],
             [
              0.3333333333333333,
              "#9c179e"
             ],
             [
              0.4444444444444444,
              "#bd3786"
             ],
             [
              0.5555555555555556,
              "#d8576b"
             ],
             [
              0.6666666666666666,
              "#ed7953"
             ],
             [
              0.7777777777777778,
              "#fb9f3a"
             ],
             [
              0.8888888888888888,
              "#fdca26"
             ],
             [
              1.0,
              "#f0f921"
             ]
            ]
           }
          ],
          "heatmap": [
           {
            "type": "heatmap",
            "colorbar": {
             "outlinewidth": 0,
             "ticks": ""
            },
            "colorscale": [
             [
              0.0,
              "#0d0887"
             ],
             [
              0.1111111111111111,
              "#46039f"
             ],
             [
              0.2222222222222222,
              "#7201a8"
             ],
             [
              0.3333333333333333,
              "#9c179e"
             ],
             [
              0.4444444444444444,
              "#bd3786"
             ],
             [
              0.5555555555555556,
              "#d8576b"
             ],
             [
              0.6666666666666666,
              "#ed7953"
             ],
             [
              0.7777777777777778,
              "#fb9f3a"
             ],
             [
              0.8888888888888888,
              "#fdca26"
             ],
             [
              1.0,
              "#f0f921"
             ]
            ]
           }
          ],
          "heatmapgl": [
           {
            "type": "heatmapgl",
            "colorbar": {
             "outlinewidth": 0,
             "ticks": ""
            },
            "colorscale": [
             [
              0.0,
              "#0d0887"
             ],
             [
              0.1111111111111111,
              "#46039f"
             ],
             [
              0.2222222222222222,
              "#7201a8"
             ],
             [
              0.3333333333333333,
              "#9c179e"
             ],
             [
              0.4444444444444444,
              "#bd3786"
             ],
             [
              0.5555555555555556,
              "#d8576b"
             ],
             [
              0.6666666666666666,
              "#ed7953"
             ],
             [
              0.7777777777777778,
              "#fb9f3a"
             ],
             [
              0.8888888888888888,
              "#fdca26"
             ],
             [
              1.0,
              "#f0f921"
             ]
            ]
           }
          ],
          "contourcarpet": [
           {
            "type": "contourcarpet",
            "colorbar": {
             "outlinewidth": 0,
             "ticks": ""
            }
           }
          ],
          "contour": [
           {
            "type": "contour",
            "colorbar": {
             "outlinewidth": 0,
             "ticks": ""
            },
            "colorscale": [
             [
              0.0,
              "#0d0887"
             ],
             [
              0.1111111111111111,
              "#46039f"
             ],
             [
              0.2222222222222222,
              "#7201a8"
             ],
             [
              0.3333333333333333,
              "#9c179e"
             ],
             [
              0.4444444444444444,
              "#bd3786"
             ],
             [
              0.5555555555555556,
              "#d8576b"
             ],
             [
              0.6666666666666666,
              "#ed7953"
             ],
             [
              0.7777777777777778,
              "#fb9f3a"
             ],
             [
              0.8888888888888888,
              "#fdca26"
             ],
             [
              1.0,
              "#f0f921"
             ]
            ]
           }
          ],
          "surface": [
           {
            "type": "surface",
            "colorbar": {
             "outlinewidth": 0,
             "ticks": ""
            },
            "colorscale": [
             [
              0.0,
              "#0d0887"
             ],
             [
              0.1111111111111111,
              "#46039f"
             ],
             [
              0.2222222222222222,
              "#7201a8"
             ],
             [
              0.3333333333333333,
              "#9c179e"
             ],
             [
              0.4444444444444444,
              "#bd3786"
             ],
             [
              0.5555555555555556,
              "#d8576b"
             ],
             [
              0.6666666666666666,
              "#ed7953"
             ],
             [
              0.7777777777777778,
              "#fb9f3a"
             ],
             [
              0.8888888888888888,
              "#fdca26"
             ],
             [
              1.0,
              "#f0f921"
             ]
            ]
           }
          ],
          "mesh3d": [
           {
            "type": "mesh3d",
            "colorbar": {
             "outlinewidth": 0,
             "ticks": ""
            }
           }
          ],
          "scatter": [
           {
            "fillpattern": {
             "fillmode": "overlay",
             "size": 10,
             "solidity": 0.2
            },
            "type": "scatter"
           }
          ],
          "parcoords": [
           {
            "type": "parcoords",
            "line": {
             "colorbar": {
              "outlinewidth": 0,
              "ticks": ""
             }
            }
           }
          ],
          "scatterpolargl": [
           {
            "type": "scatterpolargl",
            "marker": {
             "colorbar": {
              "outlinewidth": 0,
              "ticks": ""
             }
            }
           }
          ],
          "bar": [
           {
            "error_x": {
             "color": "#2a3f5f"
            },
            "error_y": {
             "color": "#2a3f5f"
            },
            "marker": {
             "line": {
              "color": "#E5ECF6",
              "width": 0.5
             },
             "pattern": {
              "fillmode": "overlay",
              "size": 10,
              "solidity": 0.2
             }
            },
            "type": "bar"
           }
          ],
          "scattergeo": [
           {
            "type": "scattergeo",
            "marker": {
             "colorbar": {
              "outlinewidth": 0,
              "ticks": ""
             }
            }
           }
          ],
          "scatterpolar": [
           {
            "type": "scatterpolar",
            "marker": {
             "colorbar": {
              "outlinewidth": 0,
              "ticks": ""
             }
            }
           }
          ],
          "histogram": [
           {
            "marker": {
             "pattern": {
              "fillmode": "overlay",
              "size": 10,
              "solidity": 0.2
             }
            },
            "type": "histogram"
           }
          ],
          "scattergl": [
           {
            "type": "scattergl",
            "marker": {
             "colorbar": {
              "outlinewidth": 0,
              "ticks": ""
             }
            }
           }
          ],
          "scatter3d": [
           {
            "type": "scatter3d",
            "line": {
             "colorbar": {
              "outlinewidth": 0,
              "ticks": ""
             }
            },
            "marker": {
             "colorbar": {
              "outlinewidth": 0,
              "ticks": ""
             }
            }
           }
          ],
          "scattermapbox": [
           {
            "type": "scattermapbox",
            "marker": {
             "colorbar": {
              "outlinewidth": 0,
              "ticks": ""
             }
            }
           }
          ],
          "scatterternary": [
           {
            "type": "scatterternary",
            "marker": {
             "colorbar": {
              "outlinewidth": 0,
              "ticks": ""
             }
            }
           }
          ],
          "scattercarpet": [
           {
            "type": "scattercarpet",
            "marker": {
             "colorbar": {
              "outlinewidth": 0,
              "ticks": ""
             }
            }
           }
          ],
          "carpet": [
           {
            "aaxis": {
             "endlinecolor": "#2a3f5f",
             "gridcolor": "white",
             "linecolor": "white",
             "minorgridcolor": "white",
             "startlinecolor": "#2a3f5f"
            },
            "baxis": {
             "endlinecolor": "#2a3f5f",
             "gridcolor": "white",
             "linecolor": "white",
             "minorgridcolor": "white",
             "startlinecolor": "#2a3f5f"
            },
            "type": "carpet"
           }
          ],
          "table": [
           {
            "cells": {
             "fill": {
              "color": "#EBF0F8"
             },
             "line": {
              "color": "white"
             }
            },
            "header": {
             "fill": {
              "color": "#C8D4E3"
             },
             "line": {
              "color": "white"
             }
            },
            "type": "table"
           }
          ],
          "barpolar": [
           {
            "marker": {
             "line": {
              "color": "#E5ECF6",
              "width": 0.5
             },
             "pattern": {
              "fillmode": "overlay",
              "size": 10,
              "solidity": 0.2
             }
            },
            "type": "barpolar"
           }
          ],
          "pie": [
           {
            "automargin": true,
            "type": "pie"
           }
          ]
         },
         "layout": {
          "autotypenumbers": "strict",
          "colorway": [
           "#636efa",
           "#EF553B",
           "#00cc96",
           "#ab63fa",
           "#FFA15A",
           "#19d3f3",
           "#FF6692",
           "#B6E880",
           "#FF97FF",
           "#FECB52"
          ],
          "font": {
           "color": "#2a3f5f"
          },
          "hovermode": "closest",
          "hoverlabel": {
           "align": "left"
          },
          "paper_bgcolor": "white",
          "plot_bgcolor": "#E5ECF6",
          "polar": {
           "bgcolor": "#E5ECF6",
           "angularaxis": {
            "gridcolor": "white",
            "linecolor": "white",
            "ticks": ""
           },
           "radialaxis": {
            "gridcolor": "white",
            "linecolor": "white",
            "ticks": ""
           }
          },
          "ternary": {
           "bgcolor": "#E5ECF6",
           "aaxis": {
            "gridcolor": "white",
            "linecolor": "white",
            "ticks": ""
           },
           "baxis": {
            "gridcolor": "white",
            "linecolor": "white",
            "ticks": ""
           },
           "caxis": {
            "gridcolor": "white",
            "linecolor": "white",
            "ticks": ""
           }
          },
          "coloraxis": {
           "colorbar": {
            "outlinewidth": 0,
            "ticks": ""
           }
          },
          "colorscale": {
           "sequential": [
            [
             0.0,
             "#0d0887"
            ],
            [
             0.1111111111111111,
             "#46039f"
            ],
            [
             0.2222222222222222,
             "#7201a8"
            ],
            [
             0.3333333333333333,
             "#9c179e"
            ],
            [
             0.4444444444444444,
             "#bd3786"
            ],
            [
             0.5555555555555556,
             "#d8576b"
            ],
            [
             0.6666666666666666,
             "#ed7953"
            ],
            [
             0.7777777777777778,
             "#fb9f3a"
            ],
            [
             0.8888888888888888,
             "#fdca26"
            ],
            [
             1.0,
             "#f0f921"
            ]
           ],
           "sequentialminus": [
            [
             0.0,
             "#0d0887"
            ],
            [
             0.1111111111111111,
             "#46039f"
            ],
            [
             0.2222222222222222,
             "#7201a8"
            ],
            [
             0.3333333333333333,
             "#9c179e"
            ],
            [
             0.4444444444444444,
             "#bd3786"
            ],
            [
             0.5555555555555556,
             "#d8576b"
            ],
            [
             0.6666666666666666,
             "#ed7953"
            ],
            [
             0.7777777777777778,
             "#fb9f3a"
            ],
            [
             0.8888888888888888,
             "#fdca26"
            ],
            [
             1.0,
             "#f0f921"
            ]
           ],
           "diverging": [
            [
             0,
             "#8e0152"
            ],
            [
             0.1,
             "#c51b7d"
            ],
            [
             0.2,
             "#de77ae"
            ],
            [
             0.3,
             "#f1b6da"
            ],
            [
             0.4,
             "#fde0ef"
            ],
            [
             0.5,
             "#f7f7f7"
            ],
            [
             0.6,
             "#e6f5d0"
            ],
            [
             0.7,
             "#b8e186"
            ],
            [
             0.8,
             "#7fbc41"
            ],
            [
             0.9,
             "#4d9221"
            ],
            [
             1,
             "#276419"
            ]
           ]
          },
          "xaxis": {
           "gridcolor": "white",
           "linecolor": "white",
           "ticks": "",
           "title": {
            "standoff": 15
           },
           "zerolinecolor": "white",
           "automargin": true,
           "zerolinewidth": 2
          },
          "yaxis": {
           "gridcolor": "white",
           "linecolor": "white",
           "ticks": "",
           "title": {
            "standoff": 15
           },
           "zerolinecolor": "white",
           "automargin": true,
           "zerolinewidth": 2
          },
          "scene": {
           "xaxis": {
            "backgroundcolor": "#E5ECF6",
            "gridcolor": "white",
            "linecolor": "white",
            "showbackground": true,
            "ticks": "",
            "zerolinecolor": "white",
            "gridwidth": 2
           },
           "yaxis": {
            "backgroundcolor": "#E5ECF6",
            "gridcolor": "white",
            "linecolor": "white",
            "showbackground": true,
            "ticks": "",
            "zerolinecolor": "white",
            "gridwidth": 2
           },
           "zaxis": {
            "backgroundcolor": "#E5ECF6",
            "gridcolor": "white",
            "linecolor": "white",
            "showbackground": true,
            "ticks": "",
            "zerolinecolor": "white",
            "gridwidth": 2
           }
          },
          "shapedefaults": {
           "line": {
            "color": "#2a3f5f"
           }
          },
          "annotationdefaults": {
           "arrowcolor": "#2a3f5f",
           "arrowhead": 0,
           "arrowwidth": 1
          },
          "geo": {
           "bgcolor": "white",
           "landcolor": "#E5ECF6",
           "subunitcolor": "white",
           "showland": true,
           "showlakes": true,
           "lakecolor": "white"
          },
          "title": {
           "x": 0.05
          },
          "mapbox": {
           "style": "light"
          }
         }
        },
        "xaxis": {
         "anchor": "y",
         "domain": [
          0.0,
          1.0
         ],
         "title": {
          "text": "Year"
         }
        },
        "yaxis": {
         "anchor": "x",
         "domain": [
          0.0,
          1.0
         ],
         "title": {
          "text": "value"
         }
        },
        "legend": {
         "title": {
          "text": "variable"
         },
         "tracegroupgap": 0
        },
        "title": {
         "text": "GDP over past 10 years"
        }
       },
       "config": {
        "plotlyServerURL": "https://plot.ly"
       }
      },
      "text/html": "<div>                            <div id=\"ca0bb1c5-13b1-4823-893d-9df0d62295ba\" class=\"plotly-graph-div\" style=\"height:525px; width:100%;\"></div>            <script type=\"text/javascript\">                require([\"plotly\"], function(Plotly) {                    window.PLOTLYENV=window.PLOTLYENV || {};                                    if (document.getElementById(\"ca0bb1c5-13b1-4823-893d-9df0d62295ba\")) {                    Plotly.newPlot(                        \"ca0bb1c5-13b1-4823-893d-9df0d62295ba\",                        [{\"hovertemplate\":\"variable=GDP<br>Year=%{x}<br>value=%{y}<extra></extra>\",\"legendgroup\":\"GDP\",\"line\":{\"color\":\"#636efa\",\"dash\":\"solid\"},\"marker\":{\"symbol\":\"circle\"},\"mode\":\"lines\",\"name\":\"GDP\",\"orientation\":\"v\",\"showlegend\":true,\"x\":[2010,2011,2012,2013,2014,2015,2016,2017,2018,2019,2020],\"xaxis\":\"x\",\"y\":[1675620.0,1823050.0,1827640.0,1856720.0,2039130.0,2103590.0,2294800.0,2651470.0,2701110.0,2870500.0,2660250.0],\"yaxis\":\"y\",\"type\":\"scatter\"}],                        {\"template\":{\"data\":{\"histogram2dcontour\":[{\"type\":\"histogram2dcontour\",\"colorbar\":{\"outlinewidth\":0,\"ticks\":\"\"},\"colorscale\":[[0.0,\"#0d0887\"],[0.1111111111111111,\"#46039f\"],[0.2222222222222222,\"#7201a8\"],[0.3333333333333333,\"#9c179e\"],[0.4444444444444444,\"#bd3786\"],[0.5555555555555556,\"#d8576b\"],[0.6666666666666666,\"#ed7953\"],[0.7777777777777778,\"#fb9f3a\"],[0.8888888888888888,\"#fdca26\"],[1.0,\"#f0f921\"]]}],\"choropleth\":[{\"type\":\"choropleth\",\"colorbar\":{\"outlinewidth\":0,\"ticks\":\"\"}}],\"histogram2d\":[{\"type\":\"histogram2d\",\"colorbar\":{\"outlinewidth\":0,\"ticks\":\"\"},\"colorscale\":[[0.0,\"#0d0887\"],[0.1111111111111111,\"#46039f\"],[0.2222222222222222,\"#7201a8\"],[0.3333333333333333,\"#9c179e\"],[0.4444444444444444,\"#bd3786\"],[0.5555555555555556,\"#d8576b\"],[0.6666666666666666,\"#ed7953\"],[0.7777777777777778,\"#fb9f3a\"],[0.8888888888888888,\"#fdca26\"],[1.0,\"#f0f921\"]]}],\"heatmap\":[{\"type\":\"heatmap\",\"colorbar\":{\"outlinewidth\":0,\"ticks\":\"\"},\"colorscale\":[[0.0,\"#0d0887\"],[0.1111111111111111,\"#46039f\"],[0.2222222222222222,\"#7201a8\"],[0.3333333333333333,\"#9c179e\"],[0.4444444444444444,\"#bd3786\"],[0.5555555555555556,\"#d8576b\"],[0.6666666666666666,\"#ed7953\"],[0.7777777777777778,\"#fb9f3a\"],[0.8888888888888888,\"#fdca26\"],[1.0,\"#f0f921\"]]}],\"heatmapgl\":[{\"type\":\"heatmapgl\",\"colorbar\":{\"outlinewidth\":0,\"ticks\":\"\"},\"colorscale\":[[0.0,\"#0d0887\"],[0.1111111111111111,\"#46039f\"],[0.2222222222222222,\"#7201a8\"],[0.3333333333333333,\"#9c179e\"],[0.4444444444444444,\"#bd3786\"],[0.5555555555555556,\"#d8576b\"],[0.6666666666666666,\"#ed7953\"],[0.7777777777777778,\"#fb9f3a\"],[0.8888888888888888,\"#fdca26\"],[1.0,\"#f0f921\"]]}],\"contourcarpet\":[{\"type\":\"contourcarpet\",\"colorbar\":{\"outlinewidth\":0,\"ticks\":\"\"}}],\"contour\":[{\"type\":\"contour\",\"colorbar\":{\"outlinewidth\":0,\"ticks\":\"\"},\"colorscale\":[[0.0,\"#0d0887\"],[0.1111111111111111,\"#46039f\"],[0.2222222222222222,\"#7201a8\"],[0.3333333333333333,\"#9c179e\"],[0.4444444444444444,\"#bd3786\"],[0.5555555555555556,\"#d8576b\"],[0.6666666666666666,\"#ed7953\"],[0.7777777777777778,\"#fb9f3a\"],[0.8888888888888888,\"#fdca26\"],[1.0,\"#f0f921\"]]}],\"surface\":[{\"type\":\"surface\",\"colorbar\":{\"outlinewidth\":0,\"ticks\":\"\"},\"colorscale\":[[0.0,\"#0d0887\"],[0.1111111111111111,\"#46039f\"],[0.2222222222222222,\"#7201a8\"],[0.3333333333333333,\"#9c179e\"],[0.4444444444444444,\"#bd3786\"],[0.5555555555555556,\"#d8576b\"],[0.6666666666666666,\"#ed7953\"],[0.7777777777777778,\"#fb9f3a\"],[0.8888888888888888,\"#fdca26\"],[1.0,\"#f0f921\"]]}],\"mesh3d\":[{\"type\":\"mesh3d\",\"colorbar\":{\"outlinewidth\":0,\"ticks\":\"\"}}],\"scatter\":[{\"fillpattern\":{\"fillmode\":\"overlay\",\"size\":10,\"solidity\":0.2},\"type\":\"scatter\"}],\"parcoords\":[{\"type\":\"parcoords\",\"line\":{\"colorbar\":{\"outlinewidth\":0,\"ticks\":\"\"}}}],\"scatterpolargl\":[{\"type\":\"scatterpolargl\",\"marker\":{\"colorbar\":{\"outlinewidth\":0,\"ticks\":\"\"}}}],\"bar\":[{\"error_x\":{\"color\":\"#2a3f5f\"},\"error_y\":{\"color\":\"#2a3f5f\"},\"marker\":{\"line\":{\"color\":\"#E5ECF6\",\"width\":0.5},\"pattern\":{\"fillmode\":\"overlay\",\"size\":10,\"solidity\":0.2}},\"type\":\"bar\"}],\"scattergeo\":[{\"type\":\"scattergeo\",\"marker\":{\"colorbar\":{\"outlinewidth\":0,\"ticks\":\"\"}}}],\"scatterpolar\":[{\"type\":\"scatterpolar\",\"marker\":{\"colorbar\":{\"outlinewidth\":0,\"ticks\":\"\"}}}],\"histogram\":[{\"marker\":{\"pattern\":{\"fillmode\":\"overlay\",\"size\":10,\"solidity\":0.2}},\"type\":\"histogram\"}],\"scattergl\":[{\"type\":\"scattergl\",\"marker\":{\"colorbar\":{\"outlinewidth\":0,\"ticks\":\"\"}}}],\"scatter3d\":[{\"type\":\"scatter3d\",\"line\":{\"colorbar\":{\"outlinewidth\":0,\"ticks\":\"\"}},\"marker\":{\"colorbar\":{\"outlinewidth\":0,\"ticks\":\"\"}}}],\"scattermapbox\":[{\"type\":\"scattermapbox\",\"marker\":{\"colorbar\":{\"outlinewidth\":0,\"ticks\":\"\"}}}],\"scatterternary\":[{\"type\":\"scatterternary\",\"marker\":{\"colorbar\":{\"outlinewidth\":0,\"ticks\":\"\"}}}],\"scattercarpet\":[{\"type\":\"scattercarpet\",\"marker\":{\"colorbar\":{\"outlinewidth\":0,\"ticks\":\"\"}}}],\"carpet\":[{\"aaxis\":{\"endlinecolor\":\"#2a3f5f\",\"gridcolor\":\"white\",\"linecolor\":\"white\",\"minorgridcolor\":\"white\",\"startlinecolor\":\"#2a3f5f\"},\"baxis\":{\"endlinecolor\":\"#2a3f5f\",\"gridcolor\":\"white\",\"linecolor\":\"white\",\"minorgridcolor\":\"white\",\"startlinecolor\":\"#2a3f5f\"},\"type\":\"carpet\"}],\"table\":[{\"cells\":{\"fill\":{\"color\":\"#EBF0F8\"},\"line\":{\"color\":\"white\"}},\"header\":{\"fill\":{\"color\":\"#C8D4E3\"},\"line\":{\"color\":\"white\"}},\"type\":\"table\"}],\"barpolar\":[{\"marker\":{\"line\":{\"color\":\"#E5ECF6\",\"width\":0.5},\"pattern\":{\"fillmode\":\"overlay\",\"size\":10,\"solidity\":0.2}},\"type\":\"barpolar\"}],\"pie\":[{\"automargin\":true,\"type\":\"pie\"}]},\"layout\":{\"autotypenumbers\":\"strict\",\"colorway\":[\"#636efa\",\"#EF553B\",\"#00cc96\",\"#ab63fa\",\"#FFA15A\",\"#19d3f3\",\"#FF6692\",\"#B6E880\",\"#FF97FF\",\"#FECB52\"],\"font\":{\"color\":\"#2a3f5f\"},\"hovermode\":\"closest\",\"hoverlabel\":{\"align\":\"left\"},\"paper_bgcolor\":\"white\",\"plot_bgcolor\":\"#E5ECF6\",\"polar\":{\"bgcolor\":\"#E5ECF6\",\"angularaxis\":{\"gridcolor\":\"white\",\"linecolor\":\"white\",\"ticks\":\"\"},\"radialaxis\":{\"gridcolor\":\"white\",\"linecolor\":\"white\",\"ticks\":\"\"}},\"ternary\":{\"bgcolor\":\"#E5ECF6\",\"aaxis\":{\"gridcolor\":\"white\",\"linecolor\":\"white\",\"ticks\":\"\"},\"baxis\":{\"gridcolor\":\"white\",\"linecolor\":\"white\",\"ticks\":\"\"},\"caxis\":{\"gridcolor\":\"white\",\"linecolor\":\"white\",\"ticks\":\"\"}},\"coloraxis\":{\"colorbar\":{\"outlinewidth\":0,\"ticks\":\"\"}},\"colorscale\":{\"sequential\":[[0.0,\"#0d0887\"],[0.1111111111111111,\"#46039f\"],[0.2222222222222222,\"#7201a8\"],[0.3333333333333333,\"#9c179e\"],[0.4444444444444444,\"#bd3786\"],[0.5555555555555556,\"#d8576b\"],[0.6666666666666666,\"#ed7953\"],[0.7777777777777778,\"#fb9f3a\"],[0.8888888888888888,\"#fdca26\"],[1.0,\"#f0f921\"]],\"sequentialminus\":[[0.0,\"#0d0887\"],[0.1111111111111111,\"#46039f\"],[0.2222222222222222,\"#7201a8\"],[0.3333333333333333,\"#9c179e\"],[0.4444444444444444,\"#bd3786\"],[0.5555555555555556,\"#d8576b\"],[0.6666666666666666,\"#ed7953\"],[0.7777777777777778,\"#fb9f3a\"],[0.8888888888888888,\"#fdca26\"],[1.0,\"#f0f921\"]],\"diverging\":[[0,\"#8e0152\"],[0.1,\"#c51b7d\"],[0.2,\"#de77ae\"],[0.3,\"#f1b6da\"],[0.4,\"#fde0ef\"],[0.5,\"#f7f7f7\"],[0.6,\"#e6f5d0\"],[0.7,\"#b8e186\"],[0.8,\"#7fbc41\"],[0.9,\"#4d9221\"],[1,\"#276419\"]]},\"xaxis\":{\"gridcolor\":\"white\",\"linecolor\":\"white\",\"ticks\":\"\",\"title\":{\"standoff\":15},\"zerolinecolor\":\"white\",\"automargin\":true,\"zerolinewidth\":2},\"yaxis\":{\"gridcolor\":\"white\",\"linecolor\":\"white\",\"ticks\":\"\",\"title\":{\"standoff\":15},\"zerolinecolor\":\"white\",\"automargin\":true,\"zerolinewidth\":2},\"scene\":{\"xaxis\":{\"backgroundcolor\":\"#E5ECF6\",\"gridcolor\":\"white\",\"linecolor\":\"white\",\"showbackground\":true,\"ticks\":\"\",\"zerolinecolor\":\"white\",\"gridwidth\":2},\"yaxis\":{\"backgroundcolor\":\"#E5ECF6\",\"gridcolor\":\"white\",\"linecolor\":\"white\",\"showbackground\":true,\"ticks\":\"\",\"zerolinecolor\":\"white\",\"gridwidth\":2},\"zaxis\":{\"backgroundcolor\":\"#E5ECF6\",\"gridcolor\":\"white\",\"linecolor\":\"white\",\"showbackground\":true,\"ticks\":\"\",\"zerolinecolor\":\"white\",\"gridwidth\":2}},\"shapedefaults\":{\"line\":{\"color\":\"#2a3f5f\"}},\"annotationdefaults\":{\"arrowcolor\":\"#2a3f5f\",\"arrowhead\":0,\"arrowwidth\":1},\"geo\":{\"bgcolor\":\"white\",\"landcolor\":\"#E5ECF6\",\"subunitcolor\":\"white\",\"showland\":true,\"showlakes\":true,\"lakecolor\":\"white\"},\"title\":{\"x\":0.05},\"mapbox\":{\"style\":\"light\"}}},\"xaxis\":{\"anchor\":\"y\",\"domain\":[0.0,1.0],\"title\":{\"text\":\"Year\"}},\"yaxis\":{\"anchor\":\"x\",\"domain\":[0.0,1.0],\"title\":{\"text\":\"value\"}},\"legend\":{\"title\":{\"text\":\"variable\"},\"tracegroupgap\":0},\"title\":{\"text\":\"GDP over past 10 years\"}},                        {\"responsive\": true}                    ).then(function(){\n                            \nvar gd = document.getElementById('ca0bb1c5-13b1-4823-893d-9df0d62295ba');\nvar x = new MutationObserver(function (mutations, observer) {{\n        var display = window.getComputedStyle(gd).display;\n        if (!display || display === 'none') {{\n            console.log([gd, 'removed!']);\n            Plotly.purge(gd);\n            observer.disconnect();\n        }}\n}});\n\n// Listen for the removal of the full notebook cells\nvar notebookContainer = gd.closest('#notebook-container');\nif (notebookContainer) {{\n    x.observe(notebookContainer, {childList: true});\n}}\n\n// Listen for the clearing of the current output cell\nvar outputEl = gd.closest('.output');\nif (outputEl) {{\n    x.observe(outputEl, {childList: true});\n}}\n\n                        })                };                });            </script>        </div>"
     },
     "metadata": {},
     "output_type": "display_data"
    }
   ],
   "source": [
    "px.line(India,\n",
    "x='Year',\n",
    "y=['GDP'],\n",
    "title='GDP over past 10 years')  #Source: https://plotly.com/python/px-arguments/\n"
   ]
  },
  {
   "cell_type": "code",
   "execution_count": 267,
   "id": "9a0b1350",
   "metadata": {},
   "outputs": [
    {
     "data": {
      "text/plain": "    Year  Population  Yearly % Change  Yearly Change  Migrants (net)  \\\n0   2020  1380004385             0.99       13586631         -532687   \n1   2019  1366417754             1.02       13775474         -532687   \n2   2018  1352642280             1.04       13965495         -532687   \n3   2017  1338676785             1.07       14159536         -532687   \n4   2016  1324517249             1.10       14364846         -532687   \n5   2015  1310152403             1.20       15174247         -470015   \n6   2010  1234281170             1.47       17334249         -531169   \n7   2005  1147609927             1.67       18206876         -377797   \n8   2000  1056575549             1.85       18530592         -136514   \n9   1995   963922588             1.99       18128958         -110590   \n10  1990   873277798             2.17       17783558            9030   \n11  1985   784360008             2.33       17081433          115942   \n12  1980   698952844             2.32       15169989          222247   \n13  1975   623102897             2.33       13582621          421208   \n14  1970   555189792             2.15       11213294          -68569   \n15  1965   499123324             2.07        9715129          -17078   \n16  1960   450547679             1.91        8133417          -30805   \n17  1955   409880595             1.72        6711079          -21140   \n\n    Median Age  Fertility Rate  Density (P/Km²)  Urban Pop %  \\\n0         28.4            2.24              464         35.0   \n1         27.1            2.36              460         34.5   \n2         27.1            2.36              455         34.1   \n3         27.1            2.36              450         33.6   \n4         27.1            2.36              445         33.2   \n5         26.8            2.40              441         32.7   \n6         25.1            2.80              415         30.8   \n7         23.8            3.14              386         29.1   \n8         22.7            3.48              355         27.6   \n9         21.8            3.83              324         26.5   \n10        21.1            4.27              294         25.5   \n11        20.6            4.68              264         24.3   \n12        20.2            4.97              235         23.0   \n13        19.7            5.41              210         21.3   \n14        19.3            5.72              187         19.7   \n15        19.6            5.89              168         18.7   \n16        20.2            5.90              152         17.9   \n17        20.7            5.90              138         17.6   \n\n    Urban Population  Country's Share of World Pop  World Population  \\\n0          483098640                         17.70        7794798739   \n1          471828295                         17.71        7713468100   \n2          460779764                         17.73        7631091040   \n3          449963381                         17.74        7547858925   \n4          439391699                         17.75        7464022049   \n5          429069459                         17.75        7379797139   \n6          380744554                         17.74        6956823603   \n7          334479406                         17.54        6541907027   \n8          291350282                         17.20        6143493823   \n9          255558824                         16.78        5744212979   \n10         222296728                         16.39        5327231061   \n11         190321782                         16.10        4870921740   \n12         160941941                         15.68        4458003514   \n13         132533810                         15.27        4079480606   \n14         109388950                         15.00        3700437046   \n15          93493844                         14.95        3339583597   \n16          80565723                         14.85        3034949748   \n17          71958495                         14.78        2773019936   \n\n    India Global Rank  \n0                   2  \n1                   2  \n2                   2  \n3                   2  \n4                   2  \n5                   2  \n6                   2  \n7                   2  \n8                   2  \n9                   2  \n10                  2  \n11                  2  \n12                  2  \n13                  2  \n14                  2  \n15                  2  \n16                  2  \n17                  2  ",
      "text/html": "<div>\n<style scoped>\n    .dataframe tbody tr th:only-of-type {\n        vertical-align: middle;\n    }\n\n    .dataframe tbody tr th {\n        vertical-align: top;\n    }\n\n    .dataframe thead th {\n        text-align: right;\n    }\n</style>\n<table border=\"1\" class=\"dataframe\">\n  <thead>\n    <tr style=\"text-align: right;\">\n      <th></th>\n      <th>Year</th>\n      <th>Population</th>\n      <th>Yearly % Change</th>\n      <th>Yearly Change</th>\n      <th>Migrants (net)</th>\n      <th>Median Age</th>\n      <th>Fertility Rate</th>\n      <th>Density (P/Km²)</th>\n      <th>Urban Pop %</th>\n      <th>Urban Population</th>\n      <th>Country's Share of World Pop</th>\n      <th>World Population</th>\n      <th>India Global Rank</th>\n    </tr>\n  </thead>\n  <tbody>\n    <tr>\n      <th>0</th>\n      <td>2020</td>\n      <td>1380004385</td>\n      <td>0.99</td>\n      <td>13586631</td>\n      <td>-532687</td>\n      <td>28.4</td>\n      <td>2.24</td>\n      <td>464</td>\n      <td>35.0</td>\n      <td>483098640</td>\n      <td>17.70</td>\n      <td>7794798739</td>\n      <td>2</td>\n    </tr>\n    <tr>\n      <th>1</th>\n      <td>2019</td>\n      <td>1366417754</td>\n      <td>1.02</td>\n      <td>13775474</td>\n      <td>-532687</td>\n      <td>27.1</td>\n      <td>2.36</td>\n      <td>460</td>\n      <td>34.5</td>\n      <td>471828295</td>\n      <td>17.71</td>\n      <td>7713468100</td>\n      <td>2</td>\n    </tr>\n    <tr>\n      <th>2</th>\n      <td>2018</td>\n      <td>1352642280</td>\n      <td>1.04</td>\n      <td>13965495</td>\n      <td>-532687</td>\n      <td>27.1</td>\n      <td>2.36</td>\n      <td>455</td>\n      <td>34.1</td>\n      <td>460779764</td>\n      <td>17.73</td>\n      <td>7631091040</td>\n      <td>2</td>\n    </tr>\n    <tr>\n      <th>3</th>\n      <td>2017</td>\n      <td>1338676785</td>\n      <td>1.07</td>\n      <td>14159536</td>\n      <td>-532687</td>\n      <td>27.1</td>\n      <td>2.36</td>\n      <td>450</td>\n      <td>33.6</td>\n      <td>449963381</td>\n      <td>17.74</td>\n      <td>7547858925</td>\n      <td>2</td>\n    </tr>\n    <tr>\n      <th>4</th>\n      <td>2016</td>\n      <td>1324517249</td>\n      <td>1.10</td>\n      <td>14364846</td>\n      <td>-532687</td>\n      <td>27.1</td>\n      <td>2.36</td>\n      <td>445</td>\n      <td>33.2</td>\n      <td>439391699</td>\n      <td>17.75</td>\n      <td>7464022049</td>\n      <td>2</td>\n    </tr>\n    <tr>\n      <th>5</th>\n      <td>2015</td>\n      <td>1310152403</td>\n      <td>1.20</td>\n      <td>15174247</td>\n      <td>-470015</td>\n      <td>26.8</td>\n      <td>2.40</td>\n      <td>441</td>\n      <td>32.7</td>\n      <td>429069459</td>\n      <td>17.75</td>\n      <td>7379797139</td>\n      <td>2</td>\n    </tr>\n    <tr>\n      <th>6</th>\n      <td>2010</td>\n      <td>1234281170</td>\n      <td>1.47</td>\n      <td>17334249</td>\n      <td>-531169</td>\n      <td>25.1</td>\n      <td>2.80</td>\n      <td>415</td>\n      <td>30.8</td>\n      <td>380744554</td>\n      <td>17.74</td>\n      <td>6956823603</td>\n      <td>2</td>\n    </tr>\n    <tr>\n      <th>7</th>\n      <td>2005</td>\n      <td>1147609927</td>\n      <td>1.67</td>\n      <td>18206876</td>\n      <td>-377797</td>\n      <td>23.8</td>\n      <td>3.14</td>\n      <td>386</td>\n      <td>29.1</td>\n      <td>334479406</td>\n      <td>17.54</td>\n      <td>6541907027</td>\n      <td>2</td>\n    </tr>\n    <tr>\n      <th>8</th>\n      <td>2000</td>\n      <td>1056575549</td>\n      <td>1.85</td>\n      <td>18530592</td>\n      <td>-136514</td>\n      <td>22.7</td>\n      <td>3.48</td>\n      <td>355</td>\n      <td>27.6</td>\n      <td>291350282</td>\n      <td>17.20</td>\n      <td>6143493823</td>\n      <td>2</td>\n    </tr>\n    <tr>\n      <th>9</th>\n      <td>1995</td>\n      <td>963922588</td>\n      <td>1.99</td>\n      <td>18128958</td>\n      <td>-110590</td>\n      <td>21.8</td>\n      <td>3.83</td>\n      <td>324</td>\n      <td>26.5</td>\n      <td>255558824</td>\n      <td>16.78</td>\n      <td>5744212979</td>\n      <td>2</td>\n    </tr>\n    <tr>\n      <th>10</th>\n      <td>1990</td>\n      <td>873277798</td>\n      <td>2.17</td>\n      <td>17783558</td>\n      <td>9030</td>\n      <td>21.1</td>\n      <td>4.27</td>\n      <td>294</td>\n      <td>25.5</td>\n      <td>222296728</td>\n      <td>16.39</td>\n      <td>5327231061</td>\n      <td>2</td>\n    </tr>\n    <tr>\n      <th>11</th>\n      <td>1985</td>\n      <td>784360008</td>\n      <td>2.33</td>\n      <td>17081433</td>\n      <td>115942</td>\n      <td>20.6</td>\n      <td>4.68</td>\n      <td>264</td>\n      <td>24.3</td>\n      <td>190321782</td>\n      <td>16.10</td>\n      <td>4870921740</td>\n      <td>2</td>\n    </tr>\n    <tr>\n      <th>12</th>\n      <td>1980</td>\n      <td>698952844</td>\n      <td>2.32</td>\n      <td>15169989</td>\n      <td>222247</td>\n      <td>20.2</td>\n      <td>4.97</td>\n      <td>235</td>\n      <td>23.0</td>\n      <td>160941941</td>\n      <td>15.68</td>\n      <td>4458003514</td>\n      <td>2</td>\n    </tr>\n    <tr>\n      <th>13</th>\n      <td>1975</td>\n      <td>623102897</td>\n      <td>2.33</td>\n      <td>13582621</td>\n      <td>421208</td>\n      <td>19.7</td>\n      <td>5.41</td>\n      <td>210</td>\n      <td>21.3</td>\n      <td>132533810</td>\n      <td>15.27</td>\n      <td>4079480606</td>\n      <td>2</td>\n    </tr>\n    <tr>\n      <th>14</th>\n      <td>1970</td>\n      <td>555189792</td>\n      <td>2.15</td>\n      <td>11213294</td>\n      <td>-68569</td>\n      <td>19.3</td>\n      <td>5.72</td>\n      <td>187</td>\n      <td>19.7</td>\n      <td>109388950</td>\n      <td>15.00</td>\n      <td>3700437046</td>\n      <td>2</td>\n    </tr>\n    <tr>\n      <th>15</th>\n      <td>1965</td>\n      <td>499123324</td>\n      <td>2.07</td>\n      <td>9715129</td>\n      <td>-17078</td>\n      <td>19.6</td>\n      <td>5.89</td>\n      <td>168</td>\n      <td>18.7</td>\n      <td>93493844</td>\n      <td>14.95</td>\n      <td>3339583597</td>\n      <td>2</td>\n    </tr>\n    <tr>\n      <th>16</th>\n      <td>1960</td>\n      <td>450547679</td>\n      <td>1.91</td>\n      <td>8133417</td>\n      <td>-30805</td>\n      <td>20.2</td>\n      <td>5.90</td>\n      <td>152</td>\n      <td>17.9</td>\n      <td>80565723</td>\n      <td>14.85</td>\n      <td>3034949748</td>\n      <td>2</td>\n    </tr>\n    <tr>\n      <th>17</th>\n      <td>1955</td>\n      <td>409880595</td>\n      <td>1.72</td>\n      <td>6711079</td>\n      <td>-21140</td>\n      <td>20.7</td>\n      <td>5.90</td>\n      <td>138</td>\n      <td>17.6</td>\n      <td>71958495</td>\n      <td>14.78</td>\n      <td>2773019936</td>\n      <td>2</td>\n    </tr>\n  </tbody>\n</table>\n</div>"
     },
     "execution_count": 267,
     "metadata": {},
     "output_type": "execute_result"
    }
   ],
   "source": [
    "fr3"
   ]
  },
  {
   "cell_type": "code",
   "execution_count": 268,
   "id": "8d6fa4ee",
   "metadata": {},
   "outputs": [
    {
     "data": {
      "application/vnd.plotly.v1+json": {
       "data": [
        {
         "hovertemplate": "variable=Population<br>Year=%{x}<br>value=%{y}<extra></extra>",
         "legendgroup": "Population",
         "line": {
          "color": "#636efa",
          "dash": "solid"
         },
         "marker": {
          "symbol": "circle"
         },
         "mode": "lines",
         "name": "Population",
         "orientation": "v",
         "showlegend": true,
         "x": [
          2020,
          2019,
          2018,
          2017,
          2016,
          2015,
          2010,
          2005,
          2000,
          1995,
          1990,
          1985,
          1980,
          1975,
          1970,
          1965,
          1960,
          1955
         ],
         "xaxis": "x",
         "y": [
          1380004385,
          1366417754,
          1352642280,
          1338676785,
          1324517249,
          1310152403,
          1234281170,
          1147609927,
          1056575549,
          963922588,
          873277798,
          784360008,
          698952844,
          623102897,
          555189792,
          499123324,
          450547679,
          409880595
         ],
         "yaxis": "y",
         "type": "scatter"
        }
       ],
       "layout": {
        "template": {
         "data": {
          "histogram2dcontour": [
           {
            "type": "histogram2dcontour",
            "colorbar": {
             "outlinewidth": 0,
             "ticks": ""
            },
            "colorscale": [
             [
              0.0,
              "#0d0887"
             ],
             [
              0.1111111111111111,
              "#46039f"
             ],
             [
              0.2222222222222222,
              "#7201a8"
             ],
             [
              0.3333333333333333,
              "#9c179e"
             ],
             [
              0.4444444444444444,
              "#bd3786"
             ],
             [
              0.5555555555555556,
              "#d8576b"
             ],
             [
              0.6666666666666666,
              "#ed7953"
             ],
             [
              0.7777777777777778,
              "#fb9f3a"
             ],
             [
              0.8888888888888888,
              "#fdca26"
             ],
             [
              1.0,
              "#f0f921"
             ]
            ]
           }
          ],
          "choropleth": [
           {
            "type": "choropleth",
            "colorbar": {
             "outlinewidth": 0,
             "ticks": ""
            }
           }
          ],
          "histogram2d": [
           {
            "type": "histogram2d",
            "colorbar": {
             "outlinewidth": 0,
             "ticks": ""
            },
            "colorscale": [
             [
              0.0,
              "#0d0887"
             ],
             [
              0.1111111111111111,
              "#46039f"
             ],
             [
              0.2222222222222222,
              "#7201a8"
             ],
             [
              0.3333333333333333,
              "#9c179e"
             ],
             [
              0.4444444444444444,
              "#bd3786"
             ],
             [
              0.5555555555555556,
              "#d8576b"
             ],
             [
              0.6666666666666666,
              "#ed7953"
             ],
             [
              0.7777777777777778,
              "#fb9f3a"
             ],
             [
              0.8888888888888888,
              "#fdca26"
             ],
             [
              1.0,
              "#f0f921"
             ]
            ]
           }
          ],
          "heatmap": [
           {
            "type": "heatmap",
            "colorbar": {
             "outlinewidth": 0,
             "ticks": ""
            },
            "colorscale": [
             [
              0.0,
              "#0d0887"
             ],
             [
              0.1111111111111111,
              "#46039f"
             ],
             [
              0.2222222222222222,
              "#7201a8"
             ],
             [
              0.3333333333333333,
              "#9c179e"
             ],
             [
              0.4444444444444444,
              "#bd3786"
             ],
             [
              0.5555555555555556,
              "#d8576b"
             ],
             [
              0.6666666666666666,
              "#ed7953"
             ],
             [
              0.7777777777777778,
              "#fb9f3a"
             ],
             [
              0.8888888888888888,
              "#fdca26"
             ],
             [
              1.0,
              "#f0f921"
             ]
            ]
           }
          ],
          "heatmapgl": [
           {
            "type": "heatmapgl",
            "colorbar": {
             "outlinewidth": 0,
             "ticks": ""
            },
            "colorscale": [
             [
              0.0,
              "#0d0887"
             ],
             [
              0.1111111111111111,
              "#46039f"
             ],
             [
              0.2222222222222222,
              "#7201a8"
             ],
             [
              0.3333333333333333,
              "#9c179e"
             ],
             [
              0.4444444444444444,
              "#bd3786"
             ],
             [
              0.5555555555555556,
              "#d8576b"
             ],
             [
              0.6666666666666666,
              "#ed7953"
             ],
             [
              0.7777777777777778,
              "#fb9f3a"
             ],
             [
              0.8888888888888888,
              "#fdca26"
             ],
             [
              1.0,
              "#f0f921"
             ]
            ]
           }
          ],
          "contourcarpet": [
           {
            "type": "contourcarpet",
            "colorbar": {
             "outlinewidth": 0,
             "ticks": ""
            }
           }
          ],
          "contour": [
           {
            "type": "contour",
            "colorbar": {
             "outlinewidth": 0,
             "ticks": ""
            },
            "colorscale": [
             [
              0.0,
              "#0d0887"
             ],
             [
              0.1111111111111111,
              "#46039f"
             ],
             [
              0.2222222222222222,
              "#7201a8"
             ],
             [
              0.3333333333333333,
              "#9c179e"
             ],
             [
              0.4444444444444444,
              "#bd3786"
             ],
             [
              0.5555555555555556,
              "#d8576b"
             ],
             [
              0.6666666666666666,
              "#ed7953"
             ],
             [
              0.7777777777777778,
              "#fb9f3a"
             ],
             [
              0.8888888888888888,
              "#fdca26"
             ],
             [
              1.0,
              "#f0f921"
             ]
            ]
           }
          ],
          "surface": [
           {
            "type": "surface",
            "colorbar": {
             "outlinewidth": 0,
             "ticks": ""
            },
            "colorscale": [
             [
              0.0,
              "#0d0887"
             ],
             [
              0.1111111111111111,
              "#46039f"
             ],
             [
              0.2222222222222222,
              "#7201a8"
             ],
             [
              0.3333333333333333,
              "#9c179e"
             ],
             [
              0.4444444444444444,
              "#bd3786"
             ],
             [
              0.5555555555555556,
              "#d8576b"
             ],
             [
              0.6666666666666666,
              "#ed7953"
             ],
             [
              0.7777777777777778,
              "#fb9f3a"
             ],
             [
              0.8888888888888888,
              "#fdca26"
             ],
             [
              1.0,
              "#f0f921"
             ]
            ]
           }
          ],
          "mesh3d": [
           {
            "type": "mesh3d",
            "colorbar": {
             "outlinewidth": 0,
             "ticks": ""
            }
           }
          ],
          "scatter": [
           {
            "fillpattern": {
             "fillmode": "overlay",
             "size": 10,
             "solidity": 0.2
            },
            "type": "scatter"
           }
          ],
          "parcoords": [
           {
            "type": "parcoords",
            "line": {
             "colorbar": {
              "outlinewidth": 0,
              "ticks": ""
             }
            }
           }
          ],
          "scatterpolargl": [
           {
            "type": "scatterpolargl",
            "marker": {
             "colorbar": {
              "outlinewidth": 0,
              "ticks": ""
             }
            }
           }
          ],
          "bar": [
           {
            "error_x": {
             "color": "#2a3f5f"
            },
            "error_y": {
             "color": "#2a3f5f"
            },
            "marker": {
             "line": {
              "color": "#E5ECF6",
              "width": 0.5
             },
             "pattern": {
              "fillmode": "overlay",
              "size": 10,
              "solidity": 0.2
             }
            },
            "type": "bar"
           }
          ],
          "scattergeo": [
           {
            "type": "scattergeo",
            "marker": {
             "colorbar": {
              "outlinewidth": 0,
              "ticks": ""
             }
            }
           }
          ],
          "scatterpolar": [
           {
            "type": "scatterpolar",
            "marker": {
             "colorbar": {
              "outlinewidth": 0,
              "ticks": ""
             }
            }
           }
          ],
          "histogram": [
           {
            "marker": {
             "pattern": {
              "fillmode": "overlay",
              "size": 10,
              "solidity": 0.2
             }
            },
            "type": "histogram"
           }
          ],
          "scattergl": [
           {
            "type": "scattergl",
            "marker": {
             "colorbar": {
              "outlinewidth": 0,
              "ticks": ""
             }
            }
           }
          ],
          "scatter3d": [
           {
            "type": "scatter3d",
            "line": {
             "colorbar": {
              "outlinewidth": 0,
              "ticks": ""
             }
            },
            "marker": {
             "colorbar": {
              "outlinewidth": 0,
              "ticks": ""
             }
            }
           }
          ],
          "scattermapbox": [
           {
            "type": "scattermapbox",
            "marker": {
             "colorbar": {
              "outlinewidth": 0,
              "ticks": ""
             }
            }
           }
          ],
          "scatterternary": [
           {
            "type": "scatterternary",
            "marker": {
             "colorbar": {
              "outlinewidth": 0,
              "ticks": ""
             }
            }
           }
          ],
          "scattercarpet": [
           {
            "type": "scattercarpet",
            "marker": {
             "colorbar": {
              "outlinewidth": 0,
              "ticks": ""
             }
            }
           }
          ],
          "carpet": [
           {
            "aaxis": {
             "endlinecolor": "#2a3f5f",
             "gridcolor": "white",
             "linecolor": "white",
             "minorgridcolor": "white",
             "startlinecolor": "#2a3f5f"
            },
            "baxis": {
             "endlinecolor": "#2a3f5f",
             "gridcolor": "white",
             "linecolor": "white",
             "minorgridcolor": "white",
             "startlinecolor": "#2a3f5f"
            },
            "type": "carpet"
           }
          ],
          "table": [
           {
            "cells": {
             "fill": {
              "color": "#EBF0F8"
             },
             "line": {
              "color": "white"
             }
            },
            "header": {
             "fill": {
              "color": "#C8D4E3"
             },
             "line": {
              "color": "white"
             }
            },
            "type": "table"
           }
          ],
          "barpolar": [
           {
            "marker": {
             "line": {
              "color": "#E5ECF6",
              "width": 0.5
             },
             "pattern": {
              "fillmode": "overlay",
              "size": 10,
              "solidity": 0.2
             }
            },
            "type": "barpolar"
           }
          ],
          "pie": [
           {
            "automargin": true,
            "type": "pie"
           }
          ]
         },
         "layout": {
          "autotypenumbers": "strict",
          "colorway": [
           "#636efa",
           "#EF553B",
           "#00cc96",
           "#ab63fa",
           "#FFA15A",
           "#19d3f3",
           "#FF6692",
           "#B6E880",
           "#FF97FF",
           "#FECB52"
          ],
          "font": {
           "color": "#2a3f5f"
          },
          "hovermode": "closest",
          "hoverlabel": {
           "align": "left"
          },
          "paper_bgcolor": "white",
          "plot_bgcolor": "#E5ECF6",
          "polar": {
           "bgcolor": "#E5ECF6",
           "angularaxis": {
            "gridcolor": "white",
            "linecolor": "white",
            "ticks": ""
           },
           "radialaxis": {
            "gridcolor": "white",
            "linecolor": "white",
            "ticks": ""
           }
          },
          "ternary": {
           "bgcolor": "#E5ECF6",
           "aaxis": {
            "gridcolor": "white",
            "linecolor": "white",
            "ticks": ""
           },
           "baxis": {
            "gridcolor": "white",
            "linecolor": "white",
            "ticks": ""
           },
           "caxis": {
            "gridcolor": "white",
            "linecolor": "white",
            "ticks": ""
           }
          },
          "coloraxis": {
           "colorbar": {
            "outlinewidth": 0,
            "ticks": ""
           }
          },
          "colorscale": {
           "sequential": [
            [
             0.0,
             "#0d0887"
            ],
            [
             0.1111111111111111,
             "#46039f"
            ],
            [
             0.2222222222222222,
             "#7201a8"
            ],
            [
             0.3333333333333333,
             "#9c179e"
            ],
            [
             0.4444444444444444,
             "#bd3786"
            ],
            [
             0.5555555555555556,
             "#d8576b"
            ],
            [
             0.6666666666666666,
             "#ed7953"
            ],
            [
             0.7777777777777778,
             "#fb9f3a"
            ],
            [
             0.8888888888888888,
             "#fdca26"
            ],
            [
             1.0,
             "#f0f921"
            ]
           ],
           "sequentialminus": [
            [
             0.0,
             "#0d0887"
            ],
            [
             0.1111111111111111,
             "#46039f"
            ],
            [
             0.2222222222222222,
             "#7201a8"
            ],
            [
             0.3333333333333333,
             "#9c179e"
            ],
            [
             0.4444444444444444,
             "#bd3786"
            ],
            [
             0.5555555555555556,
             "#d8576b"
            ],
            [
             0.6666666666666666,
             "#ed7953"
            ],
            [
             0.7777777777777778,
             "#fb9f3a"
            ],
            [
             0.8888888888888888,
             "#fdca26"
            ],
            [
             1.0,
             "#f0f921"
            ]
           ],
           "diverging": [
            [
             0,
             "#8e0152"
            ],
            [
             0.1,
             "#c51b7d"
            ],
            [
             0.2,
             "#de77ae"
            ],
            [
             0.3,
             "#f1b6da"
            ],
            [
             0.4,
             "#fde0ef"
            ],
            [
             0.5,
             "#f7f7f7"
            ],
            [
             0.6,
             "#e6f5d0"
            ],
            [
             0.7,
             "#b8e186"
            ],
            [
             0.8,
             "#7fbc41"
            ],
            [
             0.9,
             "#4d9221"
            ],
            [
             1,
             "#276419"
            ]
           ]
          },
          "xaxis": {
           "gridcolor": "white",
           "linecolor": "white",
           "ticks": "",
           "title": {
            "standoff": 15
           },
           "zerolinecolor": "white",
           "automargin": true,
           "zerolinewidth": 2
          },
          "yaxis": {
           "gridcolor": "white",
           "linecolor": "white",
           "ticks": "",
           "title": {
            "standoff": 15
           },
           "zerolinecolor": "white",
           "automargin": true,
           "zerolinewidth": 2
          },
          "scene": {
           "xaxis": {
            "backgroundcolor": "#E5ECF6",
            "gridcolor": "white",
            "linecolor": "white",
            "showbackground": true,
            "ticks": "",
            "zerolinecolor": "white",
            "gridwidth": 2
           },
           "yaxis": {
            "backgroundcolor": "#E5ECF6",
            "gridcolor": "white",
            "linecolor": "white",
            "showbackground": true,
            "ticks": "",
            "zerolinecolor": "white",
            "gridwidth": 2
           },
           "zaxis": {
            "backgroundcolor": "#E5ECF6",
            "gridcolor": "white",
            "linecolor": "white",
            "showbackground": true,
            "ticks": "",
            "zerolinecolor": "white",
            "gridwidth": 2
           }
          },
          "shapedefaults": {
           "line": {
            "color": "#2a3f5f"
           }
          },
          "annotationdefaults": {
           "arrowcolor": "#2a3f5f",
           "arrowhead": 0,
           "arrowwidth": 1
          },
          "geo": {
           "bgcolor": "white",
           "landcolor": "#E5ECF6",
           "subunitcolor": "white",
           "showland": true,
           "showlakes": true,
           "lakecolor": "white"
          },
          "title": {
           "x": 0.05
          },
          "mapbox": {
           "style": "light"
          }
         }
        },
        "xaxis": {
         "anchor": "y",
         "domain": [
          0.0,
          1.0
         ],
         "title": {
          "text": "Year"
         }
        },
        "yaxis": {
         "anchor": "x",
         "domain": [
          0.0,
          1.0
         ],
         "title": {
          "text": "value"
         }
        },
        "legend": {
         "title": {
          "text": "variable"
         },
         "tracegroupgap": 0
        },
        "title": {
         "text": "Population density"
        }
       },
       "config": {
        "plotlyServerURL": "https://plot.ly"
       }
      },
      "text/html": "<div>                            <div id=\"34f9b58d-8320-49d1-9520-b20326c707b8\" class=\"plotly-graph-div\" style=\"height:525px; width:100%;\"></div>            <script type=\"text/javascript\">                require([\"plotly\"], function(Plotly) {                    window.PLOTLYENV=window.PLOTLYENV || {};                                    if (document.getElementById(\"34f9b58d-8320-49d1-9520-b20326c707b8\")) {                    Plotly.newPlot(                        \"34f9b58d-8320-49d1-9520-b20326c707b8\",                        [{\"hovertemplate\":\"variable=Population<br>Year=%{x}<br>value=%{y}<extra></extra>\",\"legendgroup\":\"Population\",\"line\":{\"color\":\"#636efa\",\"dash\":\"solid\"},\"marker\":{\"symbol\":\"circle\"},\"mode\":\"lines\",\"name\":\"Population\",\"orientation\":\"v\",\"showlegend\":true,\"x\":[2020,2019,2018,2017,2016,2015,2010,2005,2000,1995,1990,1985,1980,1975,1970,1965,1960,1955],\"xaxis\":\"x\",\"y\":[1380004385,1366417754,1352642280,1338676785,1324517249,1310152403,1234281170,1147609927,1056575549,963922588,873277798,784360008,698952844,623102897,555189792,499123324,450547679,409880595],\"yaxis\":\"y\",\"type\":\"scatter\"}],                        {\"template\":{\"data\":{\"histogram2dcontour\":[{\"type\":\"histogram2dcontour\",\"colorbar\":{\"outlinewidth\":0,\"ticks\":\"\"},\"colorscale\":[[0.0,\"#0d0887\"],[0.1111111111111111,\"#46039f\"],[0.2222222222222222,\"#7201a8\"],[0.3333333333333333,\"#9c179e\"],[0.4444444444444444,\"#bd3786\"],[0.5555555555555556,\"#d8576b\"],[0.6666666666666666,\"#ed7953\"],[0.7777777777777778,\"#fb9f3a\"],[0.8888888888888888,\"#fdca26\"],[1.0,\"#f0f921\"]]}],\"choropleth\":[{\"type\":\"choropleth\",\"colorbar\":{\"outlinewidth\":0,\"ticks\":\"\"}}],\"histogram2d\":[{\"type\":\"histogram2d\",\"colorbar\":{\"outlinewidth\":0,\"ticks\":\"\"},\"colorscale\":[[0.0,\"#0d0887\"],[0.1111111111111111,\"#46039f\"],[0.2222222222222222,\"#7201a8\"],[0.3333333333333333,\"#9c179e\"],[0.4444444444444444,\"#bd3786\"],[0.5555555555555556,\"#d8576b\"],[0.6666666666666666,\"#ed7953\"],[0.7777777777777778,\"#fb9f3a\"],[0.8888888888888888,\"#fdca26\"],[1.0,\"#f0f921\"]]}],\"heatmap\":[{\"type\":\"heatmap\",\"colorbar\":{\"outlinewidth\":0,\"ticks\":\"\"},\"colorscale\":[[0.0,\"#0d0887\"],[0.1111111111111111,\"#46039f\"],[0.2222222222222222,\"#7201a8\"],[0.3333333333333333,\"#9c179e\"],[0.4444444444444444,\"#bd3786\"],[0.5555555555555556,\"#d8576b\"],[0.6666666666666666,\"#ed7953\"],[0.7777777777777778,\"#fb9f3a\"],[0.8888888888888888,\"#fdca26\"],[1.0,\"#f0f921\"]]}],\"heatmapgl\":[{\"type\":\"heatmapgl\",\"colorbar\":{\"outlinewidth\":0,\"ticks\":\"\"},\"colorscale\":[[0.0,\"#0d0887\"],[0.1111111111111111,\"#46039f\"],[0.2222222222222222,\"#7201a8\"],[0.3333333333333333,\"#9c179e\"],[0.4444444444444444,\"#bd3786\"],[0.5555555555555556,\"#d8576b\"],[0.6666666666666666,\"#ed7953\"],[0.7777777777777778,\"#fb9f3a\"],[0.8888888888888888,\"#fdca26\"],[1.0,\"#f0f921\"]]}],\"contourcarpet\":[{\"type\":\"contourcarpet\",\"colorbar\":{\"outlinewidth\":0,\"ticks\":\"\"}}],\"contour\":[{\"type\":\"contour\",\"colorbar\":{\"outlinewidth\":0,\"ticks\":\"\"},\"colorscale\":[[0.0,\"#0d0887\"],[0.1111111111111111,\"#46039f\"],[0.2222222222222222,\"#7201a8\"],[0.3333333333333333,\"#9c179e\"],[0.4444444444444444,\"#bd3786\"],[0.5555555555555556,\"#d8576b\"],[0.6666666666666666,\"#ed7953\"],[0.7777777777777778,\"#fb9f3a\"],[0.8888888888888888,\"#fdca26\"],[1.0,\"#f0f921\"]]}],\"surface\":[{\"type\":\"surface\",\"colorbar\":{\"outlinewidth\":0,\"ticks\":\"\"},\"colorscale\":[[0.0,\"#0d0887\"],[0.1111111111111111,\"#46039f\"],[0.2222222222222222,\"#7201a8\"],[0.3333333333333333,\"#9c179e\"],[0.4444444444444444,\"#bd3786\"],[0.5555555555555556,\"#d8576b\"],[0.6666666666666666,\"#ed7953\"],[0.7777777777777778,\"#fb9f3a\"],[0.8888888888888888,\"#fdca26\"],[1.0,\"#f0f921\"]]}],\"mesh3d\":[{\"type\":\"mesh3d\",\"colorbar\":{\"outlinewidth\":0,\"ticks\":\"\"}}],\"scatter\":[{\"fillpattern\":{\"fillmode\":\"overlay\",\"size\":10,\"solidity\":0.2},\"type\":\"scatter\"}],\"parcoords\":[{\"type\":\"parcoords\",\"line\":{\"colorbar\":{\"outlinewidth\":0,\"ticks\":\"\"}}}],\"scatterpolargl\":[{\"type\":\"scatterpolargl\",\"marker\":{\"colorbar\":{\"outlinewidth\":0,\"ticks\":\"\"}}}],\"bar\":[{\"error_x\":{\"color\":\"#2a3f5f\"},\"error_y\":{\"color\":\"#2a3f5f\"},\"marker\":{\"line\":{\"color\":\"#E5ECF6\",\"width\":0.5},\"pattern\":{\"fillmode\":\"overlay\",\"size\":10,\"solidity\":0.2}},\"type\":\"bar\"}],\"scattergeo\":[{\"type\":\"scattergeo\",\"marker\":{\"colorbar\":{\"outlinewidth\":0,\"ticks\":\"\"}}}],\"scatterpolar\":[{\"type\":\"scatterpolar\",\"marker\":{\"colorbar\":{\"outlinewidth\":0,\"ticks\":\"\"}}}],\"histogram\":[{\"marker\":{\"pattern\":{\"fillmode\":\"overlay\",\"size\":10,\"solidity\":0.2}},\"type\":\"histogram\"}],\"scattergl\":[{\"type\":\"scattergl\",\"marker\":{\"colorbar\":{\"outlinewidth\":0,\"ticks\":\"\"}}}],\"scatter3d\":[{\"type\":\"scatter3d\",\"line\":{\"colorbar\":{\"outlinewidth\":0,\"ticks\":\"\"}},\"marker\":{\"colorbar\":{\"outlinewidth\":0,\"ticks\":\"\"}}}],\"scattermapbox\":[{\"type\":\"scattermapbox\",\"marker\":{\"colorbar\":{\"outlinewidth\":0,\"ticks\":\"\"}}}],\"scatterternary\":[{\"type\":\"scatterternary\",\"marker\":{\"colorbar\":{\"outlinewidth\":0,\"ticks\":\"\"}}}],\"scattercarpet\":[{\"type\":\"scattercarpet\",\"marker\":{\"colorbar\":{\"outlinewidth\":0,\"ticks\":\"\"}}}],\"carpet\":[{\"aaxis\":{\"endlinecolor\":\"#2a3f5f\",\"gridcolor\":\"white\",\"linecolor\":\"white\",\"minorgridcolor\":\"white\",\"startlinecolor\":\"#2a3f5f\"},\"baxis\":{\"endlinecolor\":\"#2a3f5f\",\"gridcolor\":\"white\",\"linecolor\":\"white\",\"minorgridcolor\":\"white\",\"startlinecolor\":\"#2a3f5f\"},\"type\":\"carpet\"}],\"table\":[{\"cells\":{\"fill\":{\"color\":\"#EBF0F8\"},\"line\":{\"color\":\"white\"}},\"header\":{\"fill\":{\"color\":\"#C8D4E3\"},\"line\":{\"color\":\"white\"}},\"type\":\"table\"}],\"barpolar\":[{\"marker\":{\"line\":{\"color\":\"#E5ECF6\",\"width\":0.5},\"pattern\":{\"fillmode\":\"overlay\",\"size\":10,\"solidity\":0.2}},\"type\":\"barpolar\"}],\"pie\":[{\"automargin\":true,\"type\":\"pie\"}]},\"layout\":{\"autotypenumbers\":\"strict\",\"colorway\":[\"#636efa\",\"#EF553B\",\"#00cc96\",\"#ab63fa\",\"#FFA15A\",\"#19d3f3\",\"#FF6692\",\"#B6E880\",\"#FF97FF\",\"#FECB52\"],\"font\":{\"color\":\"#2a3f5f\"},\"hovermode\":\"closest\",\"hoverlabel\":{\"align\":\"left\"},\"paper_bgcolor\":\"white\",\"plot_bgcolor\":\"#E5ECF6\",\"polar\":{\"bgcolor\":\"#E5ECF6\",\"angularaxis\":{\"gridcolor\":\"white\",\"linecolor\":\"white\",\"ticks\":\"\"},\"radialaxis\":{\"gridcolor\":\"white\",\"linecolor\":\"white\",\"ticks\":\"\"}},\"ternary\":{\"bgcolor\":\"#E5ECF6\",\"aaxis\":{\"gridcolor\":\"white\",\"linecolor\":\"white\",\"ticks\":\"\"},\"baxis\":{\"gridcolor\":\"white\",\"linecolor\":\"white\",\"ticks\":\"\"},\"caxis\":{\"gridcolor\":\"white\",\"linecolor\":\"white\",\"ticks\":\"\"}},\"coloraxis\":{\"colorbar\":{\"outlinewidth\":0,\"ticks\":\"\"}},\"colorscale\":{\"sequential\":[[0.0,\"#0d0887\"],[0.1111111111111111,\"#46039f\"],[0.2222222222222222,\"#7201a8\"],[0.3333333333333333,\"#9c179e\"],[0.4444444444444444,\"#bd3786\"],[0.5555555555555556,\"#d8576b\"],[0.6666666666666666,\"#ed7953\"],[0.7777777777777778,\"#fb9f3a\"],[0.8888888888888888,\"#fdca26\"],[1.0,\"#f0f921\"]],\"sequentialminus\":[[0.0,\"#0d0887\"],[0.1111111111111111,\"#46039f\"],[0.2222222222222222,\"#7201a8\"],[0.3333333333333333,\"#9c179e\"],[0.4444444444444444,\"#bd3786\"],[0.5555555555555556,\"#d8576b\"],[0.6666666666666666,\"#ed7953\"],[0.7777777777777778,\"#fb9f3a\"],[0.8888888888888888,\"#fdca26\"],[1.0,\"#f0f921\"]],\"diverging\":[[0,\"#8e0152\"],[0.1,\"#c51b7d\"],[0.2,\"#de77ae\"],[0.3,\"#f1b6da\"],[0.4,\"#fde0ef\"],[0.5,\"#f7f7f7\"],[0.6,\"#e6f5d0\"],[0.7,\"#b8e186\"],[0.8,\"#7fbc41\"],[0.9,\"#4d9221\"],[1,\"#276419\"]]},\"xaxis\":{\"gridcolor\":\"white\",\"linecolor\":\"white\",\"ticks\":\"\",\"title\":{\"standoff\":15},\"zerolinecolor\":\"white\",\"automargin\":true,\"zerolinewidth\":2},\"yaxis\":{\"gridcolor\":\"white\",\"linecolor\":\"white\",\"ticks\":\"\",\"title\":{\"standoff\":15},\"zerolinecolor\":\"white\",\"automargin\":true,\"zerolinewidth\":2},\"scene\":{\"xaxis\":{\"backgroundcolor\":\"#E5ECF6\",\"gridcolor\":\"white\",\"linecolor\":\"white\",\"showbackground\":true,\"ticks\":\"\",\"zerolinecolor\":\"white\",\"gridwidth\":2},\"yaxis\":{\"backgroundcolor\":\"#E5ECF6\",\"gridcolor\":\"white\",\"linecolor\":\"white\",\"showbackground\":true,\"ticks\":\"\",\"zerolinecolor\":\"white\",\"gridwidth\":2},\"zaxis\":{\"backgroundcolor\":\"#E5ECF6\",\"gridcolor\":\"white\",\"linecolor\":\"white\",\"showbackground\":true,\"ticks\":\"\",\"zerolinecolor\":\"white\",\"gridwidth\":2}},\"shapedefaults\":{\"line\":{\"color\":\"#2a3f5f\"}},\"annotationdefaults\":{\"arrowcolor\":\"#2a3f5f\",\"arrowhead\":0,\"arrowwidth\":1},\"geo\":{\"bgcolor\":\"white\",\"landcolor\":\"#E5ECF6\",\"subunitcolor\":\"white\",\"showland\":true,\"showlakes\":true,\"lakecolor\":\"white\"},\"title\":{\"x\":0.05},\"mapbox\":{\"style\":\"light\"}}},\"xaxis\":{\"anchor\":\"y\",\"domain\":[0.0,1.0],\"title\":{\"text\":\"Year\"}},\"yaxis\":{\"anchor\":\"x\",\"domain\":[0.0,1.0],\"title\":{\"text\":\"value\"}},\"legend\":{\"title\":{\"text\":\"variable\"},\"tracegroupgap\":0},\"title\":{\"text\":\"Population density\"}},                        {\"responsive\": true}                    ).then(function(){\n                            \nvar gd = document.getElementById('34f9b58d-8320-49d1-9520-b20326c707b8');\nvar x = new MutationObserver(function (mutations, observer) {{\n        var display = window.getComputedStyle(gd).display;\n        if (!display || display === 'none') {{\n            console.log([gd, 'removed!']);\n            Plotly.purge(gd);\n            observer.disconnect();\n        }}\n}});\n\n// Listen for the removal of the full notebook cells\nvar notebookContainer = gd.closest('#notebook-container');\nif (notebookContainer) {{\n    x.observe(notebookContainer, {childList: true});\n}}\n\n// Listen for the clearing of the current output cell\nvar outputEl = gd.closest('.output');\nif (outputEl) {{\n    x.observe(outputEl, {childList: true});\n}}\n\n                        })                };                });            </script>        </div>"
     },
     "metadata": {},
     "output_type": "display_data"
    }
   ],
   "source": [
    "px.line(fr3,\n",
    "x='Year',\n",
    "y=['Population'],\n",
    "title='Population density') #Source: https://plotly.com/python/px-arguments/"
   ]
  },
  {
   "cell_type": "code",
   "execution_count": 269,
   "id": "be659db0",
   "metadata": {},
   "outputs": [],
   "source": [
    "file1 = file1.drop(columns = ['Country Code','Indicator Name','Indicator Code'])"
   ]
  },
  {
   "cell_type": "code",
   "execution_count": 270,
   "id": "2ed2d12e",
   "metadata": {},
   "outputs": [
    {
     "data": {
      "text/plain": "                    Country Name         1960         1961         1962  \\\n0                          Aruba          NaN          NaN          NaN   \n1    Africa Eastern and Southern          NaN          NaN          NaN   \n2                    Afghanistan          NaN          NaN          NaN   \n3     Africa Western and Central          NaN          NaN          NaN   \n4                         Angola          NaN          NaN          NaN   \n..                           ...          ...          ...          ...   \n261                       Kosovo          NaN          NaN          NaN   \n262                  Yemen, Rep.          NaN          NaN          NaN   \n263                 South Africa  377999849.0  639799744.3  743399702.9   \n264                       Zambia          NaN          NaN          NaN   \n265                     Zimbabwe          NaN          NaN          NaN   \n\n            1963         1964         1965         1966         1967  \\\n0            NaN          NaN          NaN          NaN          NaN   \n1            NaN          NaN          NaN          NaN          NaN   \n2            NaN          NaN          NaN          NaN          NaN   \n3            NaN          NaN          NaN          NaN          NaN   \n4            NaN          NaN          NaN          NaN          NaN   \n..           ...          ...          ...          ...          ...   \n261          NaN          NaN          NaN          NaN          NaN   \n262          NaN          NaN          NaN          NaN          NaN   \n263  510999795.8  198799920.6 -121799951.3  264599894.3  47599980.98   \n264          NaN          NaN          NaN          NaN          NaN   \n265          NaN          NaN          NaN          NaN          NaN   \n\n            1968  ...          2011          2012          2013          2014  \\\n0            NaN  ...  1.010056e+08  2.816201e+08 -1.072514e+08  3.798384e+07   \n1            NaN  ...           NaN           NaN           NaN           NaN   \n2            NaN  ... -4.149500e+09 -7.442379e+09 -8.671425e+09 -6.261264e+09   \n3            NaN  ...           NaN           NaN           NaN           NaN   \n4            NaN  ...  2.414421e+10  2.602509e+10  2.016915e+10  7.313314e+09   \n..           ...  ...           ...           ...           ...           ...   \n261          NaN  ... -2.292999e+09 -1.995451e+09 -1.964453e+09 -2.113819e+09   \n262          NaN  ... -3.237628e+08 -4.310360e+09 -3.460906e+09 -5.813165e+09   \n263  449399820.4  ...  3.577040e+09 -5.624549e+09 -8.513751e+09 -5.763323e+09   \n264          NaN  ...  1.871776e+09  1.251409e+09  5.897951e+08  8.318351e+08   \n265          NaN  ... -4.402367e+09 -4.081525e+09 -4.226655e+09 -3.872564e+09   \n\n             2015          2016          2017          2018          2019  \\\n0    3.045392e+08  3.335406e+08  2.673671e+08  2.874049e+08  3.216642e+08   \n1             NaN           NaN           NaN           NaN           NaN   \n2   -7.044964e+09 -6.191464e+09 -6.803560e+09 -6.378167e+09 -5.855061e+09   \n3             NaN           NaN           NaN           NaN           NaN   \n4   -3.531471e+09  2.642737e+09  7.341498e+09  1.550154e+10  1.288081e+10   \n..            ...           ...           ...           ...           ...   \n261 -1.828855e+09 -1.824923e+09 -1.842030e+09 -2.219858e+09 -2.142138e+09   \n262 -5.830133e+09 -7.317641e+09           NaN           NaN           NaN   \n263 -4.456306e+09  1.533892e+09  4.349083e+09  1.830402e+09  2.039797e+09   \n264 -6.451492e+08 -5.118977e+08  3.508694e+08 -2.104189e+08  2.221698e+08   \n265 -3.250613e+09 -2.129621e+09 -1.581086e+09 -2.464036e+09 -1.314305e+08   \n\n             2020  \n0   -2.201169e+08  \n1             NaN  \n2   -5.506547e+09  \n3             NaN  \n4    5.858758e+09  \n..            ...  \n261 -2.499808e+09  \n262           NaN  \n263  1.510318e+10  \n264  2.722224e+09  \n265 -2.260065e+08  \n\n[266 rows x 62 columns]",
      "text/html": "<div>\n<style scoped>\n    .dataframe tbody tr th:only-of-type {\n        vertical-align: middle;\n    }\n\n    .dataframe tbody tr th {\n        vertical-align: top;\n    }\n\n    .dataframe thead th {\n        text-align: right;\n    }\n</style>\n<table border=\"1\" class=\"dataframe\">\n  <thead>\n    <tr style=\"text-align: right;\">\n      <th></th>\n      <th>Country Name</th>\n      <th>1960</th>\n      <th>1961</th>\n      <th>1962</th>\n      <th>1963</th>\n      <th>1964</th>\n      <th>1965</th>\n      <th>1966</th>\n      <th>1967</th>\n      <th>1968</th>\n      <th>...</th>\n      <th>2011</th>\n      <th>2012</th>\n      <th>2013</th>\n      <th>2014</th>\n      <th>2015</th>\n      <th>2016</th>\n      <th>2017</th>\n      <th>2018</th>\n      <th>2019</th>\n      <th>2020</th>\n    </tr>\n  </thead>\n  <tbody>\n    <tr>\n      <th>0</th>\n      <td>Aruba</td>\n      <td>NaN</td>\n      <td>NaN</td>\n      <td>NaN</td>\n      <td>NaN</td>\n      <td>NaN</td>\n      <td>NaN</td>\n      <td>NaN</td>\n      <td>NaN</td>\n      <td>NaN</td>\n      <td>...</td>\n      <td>1.010056e+08</td>\n      <td>2.816201e+08</td>\n      <td>-1.072514e+08</td>\n      <td>3.798384e+07</td>\n      <td>3.045392e+08</td>\n      <td>3.335406e+08</td>\n      <td>2.673671e+08</td>\n      <td>2.874049e+08</td>\n      <td>3.216642e+08</td>\n      <td>-2.201169e+08</td>\n    </tr>\n    <tr>\n      <th>1</th>\n      <td>Africa Eastern and Southern</td>\n      <td>NaN</td>\n      <td>NaN</td>\n      <td>NaN</td>\n      <td>NaN</td>\n      <td>NaN</td>\n      <td>NaN</td>\n      <td>NaN</td>\n      <td>NaN</td>\n      <td>NaN</td>\n      <td>...</td>\n      <td>NaN</td>\n      <td>NaN</td>\n      <td>NaN</td>\n      <td>NaN</td>\n      <td>NaN</td>\n      <td>NaN</td>\n      <td>NaN</td>\n      <td>NaN</td>\n      <td>NaN</td>\n      <td>NaN</td>\n    </tr>\n    <tr>\n      <th>2</th>\n      <td>Afghanistan</td>\n      <td>NaN</td>\n      <td>NaN</td>\n      <td>NaN</td>\n      <td>NaN</td>\n      <td>NaN</td>\n      <td>NaN</td>\n      <td>NaN</td>\n      <td>NaN</td>\n      <td>NaN</td>\n      <td>...</td>\n      <td>-4.149500e+09</td>\n      <td>-7.442379e+09</td>\n      <td>-8.671425e+09</td>\n      <td>-6.261264e+09</td>\n      <td>-7.044964e+09</td>\n      <td>-6.191464e+09</td>\n      <td>-6.803560e+09</td>\n      <td>-6.378167e+09</td>\n      <td>-5.855061e+09</td>\n      <td>-5.506547e+09</td>\n    </tr>\n    <tr>\n      <th>3</th>\n      <td>Africa Western and Central</td>\n      <td>NaN</td>\n      <td>NaN</td>\n      <td>NaN</td>\n      <td>NaN</td>\n      <td>NaN</td>\n      <td>NaN</td>\n      <td>NaN</td>\n      <td>NaN</td>\n      <td>NaN</td>\n      <td>...</td>\n      <td>NaN</td>\n      <td>NaN</td>\n      <td>NaN</td>\n      <td>NaN</td>\n      <td>NaN</td>\n      <td>NaN</td>\n      <td>NaN</td>\n      <td>NaN</td>\n      <td>NaN</td>\n      <td>NaN</td>\n    </tr>\n    <tr>\n      <th>4</th>\n      <td>Angola</td>\n      <td>NaN</td>\n      <td>NaN</td>\n      <td>NaN</td>\n      <td>NaN</td>\n      <td>NaN</td>\n      <td>NaN</td>\n      <td>NaN</td>\n      <td>NaN</td>\n      <td>NaN</td>\n      <td>...</td>\n      <td>2.414421e+10</td>\n      <td>2.602509e+10</td>\n      <td>2.016915e+10</td>\n      <td>7.313314e+09</td>\n      <td>-3.531471e+09</td>\n      <td>2.642737e+09</td>\n      <td>7.341498e+09</td>\n      <td>1.550154e+10</td>\n      <td>1.288081e+10</td>\n      <td>5.858758e+09</td>\n    </tr>\n    <tr>\n      <th>...</th>\n      <td>...</td>\n      <td>...</td>\n      <td>...</td>\n      <td>...</td>\n      <td>...</td>\n      <td>...</td>\n      <td>...</td>\n      <td>...</td>\n      <td>...</td>\n      <td>...</td>\n      <td>...</td>\n      <td>...</td>\n      <td>...</td>\n      <td>...</td>\n      <td>...</td>\n      <td>...</td>\n      <td>...</td>\n      <td>...</td>\n      <td>...</td>\n      <td>...</td>\n      <td>...</td>\n    </tr>\n    <tr>\n      <th>261</th>\n      <td>Kosovo</td>\n      <td>NaN</td>\n      <td>NaN</td>\n      <td>NaN</td>\n      <td>NaN</td>\n      <td>NaN</td>\n      <td>NaN</td>\n      <td>NaN</td>\n      <td>NaN</td>\n      <td>NaN</td>\n      <td>...</td>\n      <td>-2.292999e+09</td>\n      <td>-1.995451e+09</td>\n      <td>-1.964453e+09</td>\n      <td>-2.113819e+09</td>\n      <td>-1.828855e+09</td>\n      <td>-1.824923e+09</td>\n      <td>-1.842030e+09</td>\n      <td>-2.219858e+09</td>\n      <td>-2.142138e+09</td>\n      <td>-2.499808e+09</td>\n    </tr>\n    <tr>\n      <th>262</th>\n      <td>Yemen, Rep.</td>\n      <td>NaN</td>\n      <td>NaN</td>\n      <td>NaN</td>\n      <td>NaN</td>\n      <td>NaN</td>\n      <td>NaN</td>\n      <td>NaN</td>\n      <td>NaN</td>\n      <td>NaN</td>\n      <td>...</td>\n      <td>-3.237628e+08</td>\n      <td>-4.310360e+09</td>\n      <td>-3.460906e+09</td>\n      <td>-5.813165e+09</td>\n      <td>-5.830133e+09</td>\n      <td>-7.317641e+09</td>\n      <td>NaN</td>\n      <td>NaN</td>\n      <td>NaN</td>\n      <td>NaN</td>\n    </tr>\n    <tr>\n      <th>263</th>\n      <td>South Africa</td>\n      <td>377999849.0</td>\n      <td>639799744.3</td>\n      <td>743399702.9</td>\n      <td>510999795.8</td>\n      <td>198799920.6</td>\n      <td>-121799951.3</td>\n      <td>264599894.3</td>\n      <td>47599980.98</td>\n      <td>449399820.4</td>\n      <td>...</td>\n      <td>3.577040e+09</td>\n      <td>-5.624549e+09</td>\n      <td>-8.513751e+09</td>\n      <td>-5.763323e+09</td>\n      <td>-4.456306e+09</td>\n      <td>1.533892e+09</td>\n      <td>4.349083e+09</td>\n      <td>1.830402e+09</td>\n      <td>2.039797e+09</td>\n      <td>1.510318e+10</td>\n    </tr>\n    <tr>\n      <th>264</th>\n      <td>Zambia</td>\n      <td>NaN</td>\n      <td>NaN</td>\n      <td>NaN</td>\n      <td>NaN</td>\n      <td>NaN</td>\n      <td>NaN</td>\n      <td>NaN</td>\n      <td>NaN</td>\n      <td>NaN</td>\n      <td>...</td>\n      <td>1.871776e+09</td>\n      <td>1.251409e+09</td>\n      <td>5.897951e+08</td>\n      <td>8.318351e+08</td>\n      <td>-6.451492e+08</td>\n      <td>-5.118977e+08</td>\n      <td>3.508694e+08</td>\n      <td>-2.104189e+08</td>\n      <td>2.221698e+08</td>\n      <td>2.722224e+09</td>\n    </tr>\n    <tr>\n      <th>265</th>\n      <td>Zimbabwe</td>\n      <td>NaN</td>\n      <td>NaN</td>\n      <td>NaN</td>\n      <td>NaN</td>\n      <td>NaN</td>\n      <td>NaN</td>\n      <td>NaN</td>\n      <td>NaN</td>\n      <td>NaN</td>\n      <td>...</td>\n      <td>-4.402367e+09</td>\n      <td>-4.081525e+09</td>\n      <td>-4.226655e+09</td>\n      <td>-3.872564e+09</td>\n      <td>-3.250613e+09</td>\n      <td>-2.129621e+09</td>\n      <td>-1.581086e+09</td>\n      <td>-2.464036e+09</td>\n      <td>-1.314305e+08</td>\n      <td>-2.260065e+08</td>\n    </tr>\n  </tbody>\n</table>\n<p>266 rows × 62 columns</p>\n</div>"
     },
     "execution_count": 270,
     "metadata": {},
     "output_type": "execute_result"
    }
   ],
   "source": [
    "file1 #EDA for Net_Trade file "
   ]
  },
  {
   "cell_type": "code",
   "execution_count": 271,
   "id": "5b90fcc7",
   "metadata": {},
   "outputs": [],
   "source": [
    "file1 = file1.set_index('Country Name')"
   ]
  },
  {
   "cell_type": "code",
   "execution_count": 272,
   "id": "61ebaa3b",
   "metadata": {},
   "outputs": [],
   "source": [
    "file1 = file1.stack()"
   ]
  },
  {
   "cell_type": "code",
   "execution_count": 273,
   "id": "9258fdaf",
   "metadata": {},
   "outputs": [],
   "source": [
    "final_stacked_Trade = file1.index.set_names('Year', level=len(file1.index.names)-1, inplace=True)"
   ]
  },
  {
   "cell_type": "code",
   "execution_count": 274,
   "id": "1669ef0f",
   "metadata": {},
   "outputs": [],
   "source": [
    "final_stacked_Trade = file1.reset_index().rename(columns={0:'Net_Trade'})"
   ]
  },
  {
   "cell_type": "code",
   "execution_count": 275,
   "id": "aa96fe8b",
   "metadata": {},
   "outputs": [],
   "source": [
    "final_stacked_Trade = pd.DataFrame(final_stacked_Trade)"
   ]
  },
  {
   "cell_type": "code",
   "execution_count": 276,
   "id": "6cf24cea",
   "metadata": {},
   "outputs": [],
   "source": [
    "final_stacked_Trade ['Country Name'] = final_stacked_Trade ['Country Name'].str.upper()"
   ]
  },
  {
   "cell_type": "code",
   "execution_count": 277,
   "id": "7db694f2",
   "metadata": {},
   "outputs": [],
   "source": [
    "final_stacked_Trade['Net_Trade'] = final_stacked_Trade['Net_Trade'].astype('float')\n",
    "final_stacked_Trade['Year'] = final_stacked_Trade['Year'].astype('int')"
   ]
  },
  {
   "cell_type": "code",
   "execution_count": 278,
   "id": "1862cbe7",
   "metadata": {},
   "outputs": [
    {
     "data": {
      "text/plain": "     Country Name  Year     Net_Trade\n0           ARUBA  1986 -1.458101e+07\n1           ARUBA  1987 -7.430168e+06\n2           ARUBA  1988 -2.631285e+07\n3           ARUBA  1989 -3.877095e+07\n4           ARUBA  1990 -1.492737e+08\n...           ...   ...           ...\n6966     ZIMBABWE  2016 -2.129621e+09\n6967     ZIMBABWE  2017 -1.581086e+09\n6968     ZIMBABWE  2018 -2.464036e+09\n6969     ZIMBABWE  2019 -1.314305e+08\n6970     ZIMBABWE  2020 -2.260065e+08\n\n[6971 rows x 3 columns]",
      "text/html": "<div>\n<style scoped>\n    .dataframe tbody tr th:only-of-type {\n        vertical-align: middle;\n    }\n\n    .dataframe tbody tr th {\n        vertical-align: top;\n    }\n\n    .dataframe thead th {\n        text-align: right;\n    }\n</style>\n<table border=\"1\" class=\"dataframe\">\n  <thead>\n    <tr style=\"text-align: right;\">\n      <th></th>\n      <th>Country Name</th>\n      <th>Year</th>\n      <th>Net_Trade</th>\n    </tr>\n  </thead>\n  <tbody>\n    <tr>\n      <th>0</th>\n      <td>ARUBA</td>\n      <td>1986</td>\n      <td>-1.458101e+07</td>\n    </tr>\n    <tr>\n      <th>1</th>\n      <td>ARUBA</td>\n      <td>1987</td>\n      <td>-7.430168e+06</td>\n    </tr>\n    <tr>\n      <th>2</th>\n      <td>ARUBA</td>\n      <td>1988</td>\n      <td>-2.631285e+07</td>\n    </tr>\n    <tr>\n      <th>3</th>\n      <td>ARUBA</td>\n      <td>1989</td>\n      <td>-3.877095e+07</td>\n    </tr>\n    <tr>\n      <th>4</th>\n      <td>ARUBA</td>\n      <td>1990</td>\n      <td>-1.492737e+08</td>\n    </tr>\n    <tr>\n      <th>...</th>\n      <td>...</td>\n      <td>...</td>\n      <td>...</td>\n    </tr>\n    <tr>\n      <th>6966</th>\n      <td>ZIMBABWE</td>\n      <td>2016</td>\n      <td>-2.129621e+09</td>\n    </tr>\n    <tr>\n      <th>6967</th>\n      <td>ZIMBABWE</td>\n      <td>2017</td>\n      <td>-1.581086e+09</td>\n    </tr>\n    <tr>\n      <th>6968</th>\n      <td>ZIMBABWE</td>\n      <td>2018</td>\n      <td>-2.464036e+09</td>\n    </tr>\n    <tr>\n      <th>6969</th>\n      <td>ZIMBABWE</td>\n      <td>2019</td>\n      <td>-1.314305e+08</td>\n    </tr>\n    <tr>\n      <th>6970</th>\n      <td>ZIMBABWE</td>\n      <td>2020</td>\n      <td>-2.260065e+08</td>\n    </tr>\n  </tbody>\n</table>\n<p>6971 rows × 3 columns</p>\n</div>"
     },
     "execution_count": 278,
     "metadata": {},
     "output_type": "execute_result"
    }
   ],
   "source": [
    "final_stacked_Trade"
   ]
  },
  {
   "cell_type": "code",
   "execution_count": 279,
   "id": "54119f65",
   "metadata": {},
   "outputs": [],
   "source": [
    "def filter_def(filename):\n",
    "    \"\"\"\n",
    "\n",
    "    :param filename: It is a cleaned dataframe with the net trades of all countries\n",
    "    :return: It returns the names of countries that have been in a trade deficit for almost all the years considered\n",
    "    \"\"\"\n",
    "    df = filename[(filename['Year'] > 2009 ) & (filename['Year'] < 2021) & (filename['Net_Trade'] < 0)]\n",
    "    df2 = df.groupby('Year').apply(lambda x: x.sort_values(by = 'Net_Trade', ascending = True).head(5))\n",
    "    df3 = df2.groupby('Country Name').count() > 9 \n",
    "    df4 = df3.loc[df3['Year'] == True]\n",
    "    print(df4)"
   ]
  },
  {
   "cell_type": "code",
   "execution_count": 280,
   "id": "e91aedec",
   "metadata": {},
   "outputs": [
    {
     "name": "stdout",
     "output_type": "stream",
     "text": [
      "               Year  Net_Trade\n",
      "Country Name                  \n",
      "INDIA          True       True\n",
      "UNITED STATES  True       True\n"
     ]
    }
   ],
   "source": [
    "filter_def(final_stacked_Trade)"
   ]
  },
  {
   "cell_type": "code",
   "execution_count": 281,
   "id": "1fe49467",
   "metadata": {},
   "outputs": [],
   "source": [
    "#After finding USA and INDIA as the trade deficit countries I defined a function to plot the Net trade of both these countries\n",
    "def plot_country(filename, country1, country2):\n",
    "    \"\"\"\n",
    "\n",
    "    :param filename: It is a cleaned dataframe with the net trades of all countries\n",
    "    :param country1: It is the name of the country we found in a trade deficit\n",
    "    :param country2: It is the name of the country we found in a trade deficit\n",
    "    :return: It returns graphs that show the net trade patterns of each country\n",
    "    \"\"\"\n",
    "    df = filename[(filename['Year'] > 2009 ) & (filename['Year'] < 2021) & (filename['Net_Trade'] < 0)]\n",
    "    df2 = df.loc[df['Country Name'].isin([country1, country2])]\n",
    "    sns.set()\n",
    "    sns.catplot(x='Year', hue='Country Name', col='Country Name', y='Net_Trade', data=df2, kind='bar', col_wrap=3)\n"
   ]
  },
  {
   "cell_type": "code",
   "execution_count": 282,
   "id": "f8c2df7d",
   "metadata": {},
   "outputs": [
    {
     "data": {
      "text/plain": "<Figure size 1080x360 with 2 Axes>",
      "image/png": "[encoded data removed]"
     },
     "metadata": {},
     "output_type": "display_data"
    }
   ],
   "source": [
    "plot_country(final_stacked_Trade, 'INDIA', 'UNITED STATES')"
   ]
  },
  {
   "cell_type": "code",
   "execution_count": 283,
   "id": "1eed81cc",
   "metadata": {},
   "outputs": [],
   "source": [
    "for i in range(1960, 2010):\n",
    "    file2 = file2.drop(columns = str(i))"
   ]
  },
  {
   "cell_type": "code",
   "execution_count": 284,
   "id": "d3cb5c4f",
   "metadata": {},
   "outputs": [],
   "source": [
    "file2 = file2.drop(columns = ['Indicator Name', 'Indicator Code', 'Country Code'])"
   ]
  },
  {
   "cell_type": "code",
   "execution_count": 285,
   "id": "81fedeca",
   "metadata": {},
   "outputs": [],
   "source": [
    "file2 = file2.set_index('Country Name')\n",
    "file2 = file2.stack()"
   ]
  },
  {
   "cell_type": "code",
   "execution_count": 286,
   "id": "d0fc775b",
   "metadata": {},
   "outputs": [
    {
     "data": {
      "text/plain": "pandas.core.series.Series"
     },
     "execution_count": 286,
     "metadata": {},
     "output_type": "execute_result"
    }
   ],
   "source": [
    "type(file2)"
   ]
  },
  {
   "cell_type": "code",
   "execution_count": 287,
   "id": "a85f825c",
   "metadata": {},
   "outputs": [],
   "source": [
    "df_GDP = pd.DataFrame(file2)"
   ]
  },
  {
   "cell_type": "code",
   "execution_count": 288,
   "id": "a45183d3",
   "metadata": {},
   "outputs": [
    {
     "data": {
      "text/plain": "                              0\nCountry Name                   \nAruba        2010  2.390503e+09\n             2011  2.549721e+09\n             2012  2.534637e+09\n             2013  2.727850e+09\n             2014  2.790849e+09\n...                         ...\nZimbabwe     2016  2.054868e+10\n             2017  1.758489e+10\n             2018  1.811554e+10\n             2019  1.928429e+10\n             2020  1.805117e+10\n\n[2807 rows x 1 columns]",
      "text/html": "<div>\n<style scoped>\n    .dataframe tbody tr th:only-of-type {\n        vertical-align: middle;\n    }\n\n    .dataframe tbody tr th {\n        vertical-align: top;\n    }\n\n    .dataframe thead th {\n        text-align: right;\n    }\n</style>\n<table border=\"1\" class=\"dataframe\">\n  <thead>\n    <tr style=\"text-align: right;\">\n      <th></th>\n      <th></th>\n      <th>0</th>\n    </tr>\n    <tr>\n      <th>Country Name</th>\n      <th></th>\n      <th></th>\n    </tr>\n  </thead>\n  <tbody>\n    <tr>\n      <th rowspan=\"5\" valign=\"top\">Aruba</th>\n      <th>2010</th>\n      <td>2.390503e+09</td>\n    </tr>\n    <tr>\n      <th>2011</th>\n      <td>2.549721e+09</td>\n    </tr>\n    <tr>\n      <th>2012</th>\n      <td>2.534637e+09</td>\n    </tr>\n    <tr>\n      <th>2013</th>\n      <td>2.727850e+09</td>\n    </tr>\n    <tr>\n      <th>2014</th>\n      <td>2.790849e+09</td>\n    </tr>\n    <tr>\n      <th>...</th>\n      <th>...</th>\n      <td>...</td>\n    </tr>\n    <tr>\n      <th rowspan=\"5\" valign=\"top\">Zimbabwe</th>\n      <th>2016</th>\n      <td>2.054868e+10</td>\n    </tr>\n    <tr>\n      <th>2017</th>\n      <td>1.758489e+10</td>\n    </tr>\n    <tr>\n      <th>2018</th>\n      <td>1.811554e+10</td>\n    </tr>\n    <tr>\n      <th>2019</th>\n      <td>1.928429e+10</td>\n    </tr>\n    <tr>\n      <th>2020</th>\n      <td>1.805117e+10</td>\n    </tr>\n  </tbody>\n</table>\n<p>2807 rows × 1 columns</p>\n</div>"
     },
     "execution_count": 288,
     "metadata": {},
     "output_type": "execute_result"
    }
   ],
   "source": [
    "df_GDP"
   ]
  },
  {
   "cell_type": "code",
   "execution_count": 289,
   "id": "d864ad2f",
   "metadata": {},
   "outputs": [],
   "source": [
    "final_stacked_GDP = df_GDP.index.set_names('Year', level=len(df_GDP.index.names)-1, inplace=True)"
   ]
  },
  {
   "cell_type": "code",
   "execution_count": 290,
   "id": "ef75342a",
   "metadata": {},
   "outputs": [],
   "source": [
    "final_stacked_GDP = df_GDP.reset_index().rename(columns={0:'GDP'})"
   ]
  },
  {
   "cell_type": "code",
   "execution_count": 291,
   "id": "e8409292",
   "metadata": {},
   "outputs": [
    {
     "data": {
      "text/plain": "     Country Name  Year           GDP\n0           Aruba  2010  2.390503e+09\n1           Aruba  2011  2.549721e+09\n2           Aruba  2012  2.534637e+09\n3           Aruba  2013  2.727850e+09\n4           Aruba  2014  2.790849e+09\n...           ...   ...           ...\n2802     Zimbabwe  2016  2.054868e+10\n2803     Zimbabwe  2017  1.758489e+10\n2804     Zimbabwe  2018  1.811554e+10\n2805     Zimbabwe  2019  1.928429e+10\n2806     Zimbabwe  2020  1.805117e+10\n\n[2807 rows x 3 columns]",
      "text/html": "<div>\n<style scoped>\n    .dataframe tbody tr th:only-of-type {\n        vertical-align: middle;\n    }\n\n    .dataframe tbody tr th {\n        vertical-align: top;\n    }\n\n    .dataframe thead th {\n        text-align: right;\n    }\n</style>\n<table border=\"1\" class=\"dataframe\">\n  <thead>\n    <tr style=\"text-align: right;\">\n      <th></th>\n      <th>Country Name</th>\n      <th>Year</th>\n      <th>GDP</th>\n    </tr>\n  </thead>\n  <tbody>\n    <tr>\n      <th>0</th>\n      <td>Aruba</td>\n      <td>2010</td>\n      <td>2.390503e+09</td>\n    </tr>\n    <tr>\n      <th>1</th>\n      <td>Aruba</td>\n      <td>2011</td>\n      <td>2.549721e+09</td>\n    </tr>\n    <tr>\n      <th>2</th>\n      <td>Aruba</td>\n      <td>2012</td>\n      <td>2.534637e+09</td>\n    </tr>\n    <tr>\n      <th>3</th>\n      <td>Aruba</td>\n      <td>2013</td>\n      <td>2.727850e+09</td>\n    </tr>\n    <tr>\n      <th>4</th>\n      <td>Aruba</td>\n      <td>2014</td>\n      <td>2.790849e+09</td>\n    </tr>\n    <tr>\n      <th>...</th>\n      <td>...</td>\n      <td>...</td>\n      <td>...</td>\n    </tr>\n    <tr>\n      <th>2802</th>\n      <td>Zimbabwe</td>\n      <td>2016</td>\n      <td>2.054868e+10</td>\n    </tr>\n    <tr>\n      <th>2803</th>\n      <td>Zimbabwe</td>\n      <td>2017</td>\n      <td>1.758489e+10</td>\n    </tr>\n    <tr>\n      <th>2804</th>\n      <td>Zimbabwe</td>\n      <td>2018</td>\n      <td>1.811554e+10</td>\n    </tr>\n    <tr>\n      <th>2805</th>\n      <td>Zimbabwe</td>\n      <td>2019</td>\n      <td>1.928429e+10</td>\n    </tr>\n    <tr>\n      <th>2806</th>\n      <td>Zimbabwe</td>\n      <td>2020</td>\n      <td>1.805117e+10</td>\n    </tr>\n  </tbody>\n</table>\n<p>2807 rows × 3 columns</p>\n</div>"
     },
     "execution_count": 291,
     "metadata": {},
     "output_type": "execute_result"
    }
   ],
   "source": [
    "final_stacked_GDP"
   ]
  },
  {
   "cell_type": "code",
   "execution_count": 292,
   "id": "c2da5ab9",
   "metadata": {},
   "outputs": [],
   "source": [
    "final_stacked_GDP['GDP'] = round(final_stacked_GDP['GDP']/1000000,2)"
   ]
  },
  {
   "cell_type": "code",
   "execution_count": 293,
   "id": "80ad49f4",
   "metadata": {},
   "outputs": [
    {
     "data": {
      "text/plain": "     Country Name  Year       GDP\n0           Aruba  2010   2390.50\n1           Aruba  2011   2549.72\n2           Aruba  2012   2534.64\n3           Aruba  2013   2727.85\n4           Aruba  2014   2790.85\n...           ...   ...       ...\n2802     Zimbabwe  2016  20548.68\n2803     Zimbabwe  2017  17584.89\n2804     Zimbabwe  2018  18115.54\n2805     Zimbabwe  2019  19284.29\n2806     Zimbabwe  2020  18051.17\n\n[2807 rows x 3 columns]",
      "text/html": "<div>\n<style scoped>\n    .dataframe tbody tr th:only-of-type {\n        vertical-align: middle;\n    }\n\n    .dataframe tbody tr th {\n        vertical-align: top;\n    }\n\n    .dataframe thead th {\n        text-align: right;\n    }\n</style>\n<table border=\"1\" class=\"dataframe\">\n  <thead>\n    <tr style=\"text-align: right;\">\n      <th></th>\n      <th>Country Name</th>\n      <th>Year</th>\n      <th>GDP</th>\n    </tr>\n  </thead>\n  <tbody>\n    <tr>\n      <th>0</th>\n      <td>Aruba</td>\n      <td>2010</td>\n      <td>2390.50</td>\n    </tr>\n    <tr>\n      <th>1</th>\n      <td>Aruba</td>\n      <td>2011</td>\n      <td>2549.72</td>\n    </tr>\n    <tr>\n      <th>2</th>\n      <td>Aruba</td>\n      <td>2012</td>\n      <td>2534.64</td>\n    </tr>\n    <tr>\n      <th>3</th>\n      <td>Aruba</td>\n      <td>2013</td>\n      <td>2727.85</td>\n    </tr>\n    <tr>\n      <th>4</th>\n      <td>Aruba</td>\n      <td>2014</td>\n      <td>2790.85</td>\n    </tr>\n    <tr>\n      <th>...</th>\n      <td>...</td>\n      <td>...</td>\n      <td>...</td>\n    </tr>\n    <tr>\n      <th>2802</th>\n      <td>Zimbabwe</td>\n      <td>2016</td>\n      <td>20548.68</td>\n    </tr>\n    <tr>\n      <th>2803</th>\n      <td>Zimbabwe</td>\n      <td>2017</td>\n      <td>17584.89</td>\n    </tr>\n    <tr>\n      <th>2804</th>\n      <td>Zimbabwe</td>\n      <td>2018</td>\n      <td>18115.54</td>\n    </tr>\n    <tr>\n      <th>2805</th>\n      <td>Zimbabwe</td>\n      <td>2019</td>\n      <td>19284.29</td>\n    </tr>\n    <tr>\n      <th>2806</th>\n      <td>Zimbabwe</td>\n      <td>2020</td>\n      <td>18051.17</td>\n    </tr>\n  </tbody>\n</table>\n<p>2807 rows × 3 columns</p>\n</div>"
     },
     "execution_count": 293,
     "metadata": {},
     "output_type": "execute_result"
    }
   ],
   "source": [
    "final_stacked_GDP"
   ]
  },
  {
   "cell_type": "code",
   "execution_count": 294,
   "id": "879c3ae2",
   "metadata": {},
   "outputs": [],
   "source": [
    "India = final_stacked_GDP.loc[final_stacked_GDP['Country Name'] == 'India']\n",
    "United_States = final_stacked_GDP.loc[final_stacked_GDP['Country Name'] == 'United States']"
   ]
  },
  {
   "cell_type": "code",
   "execution_count": 295,
   "id": "9fc82bc1",
   "metadata": {},
   "outputs": [],
   "source": [
    "combined_GDP = pd.merge(India, United_States, on='Year', how='outer')"
   ]
  },
  {
   "cell_type": "code",
   "execution_count": 296,
   "id": "71ea6818",
   "metadata": {},
   "outputs": [
    {
     "data": {
      "text/plain": "   Country Name_x  Year      GDP_x Country Name_y       GDP_y\n0           India  2010  1675620.0  United States  14992100.0\n1           India  2011  1823050.0  United States  15542600.0\n2           India  2012  1827640.0  United States  16197000.0\n3           India  2013  1856720.0  United States  16784800.0\n4           India  2014  2039130.0  United States  17527200.0\n5           India  2015  2103590.0  United States  18238300.0\n6           India  2016  2294800.0  United States  18745100.0\n7           India  2017  2651470.0  United States  19543000.0\n8           India  2018  2701110.0  United States  20611900.0\n9           India  2019  2870500.0  United States  21433200.0\n10          India  2020  2660250.0  United States  20953000.0",
      "text/html": "<div>\n<style scoped>\n    .dataframe tbody tr th:only-of-type {\n        vertical-align: middle;\n    }\n\n    .dataframe tbody tr th {\n        vertical-align: top;\n    }\n\n    .dataframe thead th {\n        text-align: right;\n    }\n</style>\n<table border=\"1\" class=\"dataframe\">\n  <thead>\n    <tr style=\"text-align: right;\">\n      <th></th>\n      <th>Country Name_x</th>\n      <th>Year</th>\n      <th>GDP_x</th>\n      <th>Country Name_y</th>\n      <th>GDP_y</th>\n    </tr>\n  </thead>\n  <tbody>\n    <tr>\n      <th>0</th>\n      <td>India</td>\n      <td>2010</td>\n      <td>1675620.0</td>\n      <td>United States</td>\n      <td>14992100.0</td>\n    </tr>\n    <tr>\n      <th>1</th>\n      <td>India</td>\n      <td>2011</td>\n      <td>1823050.0</td>\n      <td>United States</td>\n      <td>15542600.0</td>\n    </tr>\n    <tr>\n      <th>2</th>\n      <td>India</td>\n      <td>2012</td>\n      <td>1827640.0</td>\n      <td>United States</td>\n      <td>16197000.0</td>\n    </tr>\n    <tr>\n      <th>3</th>\n      <td>India</td>\n      <td>2013</td>\n      <td>1856720.0</td>\n      <td>United States</td>\n      <td>16784800.0</td>\n    </tr>\n    <tr>\n      <th>4</th>\n      <td>India</td>\n      <td>2014</td>\n      <td>2039130.0</td>\n      <td>United States</td>\n      <td>17527200.0</td>\n    </tr>\n    <tr>\n      <th>5</th>\n      <td>India</td>\n      <td>2015</td>\n      <td>2103590.0</td>\n      <td>United States</td>\n      <td>18238300.0</td>\n    </tr>\n    <tr>\n      <th>6</th>\n      <td>India</td>\n      <td>2016</td>\n      <td>2294800.0</td>\n      <td>United States</td>\n      <td>18745100.0</td>\n    </tr>\n    <tr>\n      <th>7</th>\n      <td>India</td>\n      <td>2017</td>\n      <td>2651470.0</td>\n      <td>United States</td>\n      <td>19543000.0</td>\n    </tr>\n    <tr>\n      <th>8</th>\n      <td>India</td>\n      <td>2018</td>\n      <td>2701110.0</td>\n      <td>United States</td>\n      <td>20611900.0</td>\n    </tr>\n    <tr>\n      <th>9</th>\n      <td>India</td>\n      <td>2019</td>\n      <td>2870500.0</td>\n      <td>United States</td>\n      <td>21433200.0</td>\n    </tr>\n    <tr>\n      <th>10</th>\n      <td>India</td>\n      <td>2020</td>\n      <td>2660250.0</td>\n      <td>United States</td>\n      <td>20953000.0</td>\n    </tr>\n  </tbody>\n</table>\n</div>"
     },
     "execution_count": 296,
     "metadata": {},
     "output_type": "execute_result"
    }
   ],
   "source": [
    "combined_GDP"
   ]
  },
  {
   "cell_type": "code",
   "execution_count": 297,
   "id": "a3239d15",
   "metadata": {},
   "outputs": [
    {
     "data": {
      "text/plain": "<AxesSubplot:xlabel='Year', ylabel='GDP_x'>"
     },
     "execution_count": 297,
     "metadata": {},
     "output_type": "execute_result"
    },
    {
     "data": {
      "text/plain": "<Figure size 432x288 with 1 Axes>",
      "image/png": "[encoded data removed]"
     },
     "metadata": {},
     "output_type": "display_data"
    }
   ],
   "source": [
    "import seaborn as sns\n",
    "sns.lineplot(x='Year', y='GDP_x', hue='Country Name_x', data=combined_GDP)"
   ]
  },
  {
   "cell_type": "code",
   "execution_count": 298,
   "id": "959ceb42",
   "metadata": {},
   "outputs": [
    {
     "data": {
      "text/plain": "<AxesSubplot:xlabel='Year', ylabel='GDP_y'>"
     },
     "execution_count": 298,
     "metadata": {},
     "output_type": "execute_result"
    },
    {
     "data": {
      "text/plain": "<Figure size 432x288 with 1 Axes>",
      "image/png": "[encoded data removed]"
     },
     "metadata": {},
     "output_type": "display_data"
    }
   ],
   "source": [
    "sns.lineplot(x='Year', y='GDP_y', hue='Country Name_y', data=combined_GDP)"
   ]
  },
  {
   "cell_type": "code",
   "execution_count": 298,
   "id": "7dd8d863",
   "metadata": {},
   "outputs": [],
   "source": []
  },
  {
   "cell_type": "code",
   "execution_count": 298,
   "id": "3b6436c0",
   "metadata": {},
   "outputs": [],
   "source": []
  },
  {
   "cell_type": "code",
   "execution_count": 299,
   "id": "e1eebebb",
   "metadata": {},
   "outputs": [
    {
     "name": "stderr",
     "output_type": "stream",
     "text": [
      "C:\\Users\\aayus\\AppData\\Local\\Temp\\ipykernel_3176\\3238002776.py:1: FutureWarning:\n",
      "\n",
      "Indexing with multiple keys (implicitly converted to a tuple of keys) will be deprecated, use a list instead.\n",
      "\n"
     ]
    }
   ],
   "source": [
    "expimp = combined.groupby('Year')['Export','Import','GDP'].sum().sort_values('Year' , ascending=True).reset_index()"
   ]
  },
  {
   "cell_type": "code",
   "execution_count": 300,
   "id": "e6d0a599",
   "metadata": {},
   "outputs": [
    {
     "data": {
      "text/plain": "<AxesSubplot:xlabel='Year'>"
     },
     "execution_count": 300,
     "metadata": {},
     "output_type": "execute_result"
    },
    {
     "data": {
      "text/plain": "<Figure size 2160x720 with 1 Axes>",
      "image/png": "[encoded data removed]"
     },
     "metadata": {},
     "output_type": "display_data"
    }
   ],
   "source": [
    "expimp.plot(x='Year' , y = ['Export','Import'],\n",
    "kind = 'line',figsize=(30,10))"
   ]
  },
  {
   "cell_type": "code",
   "execution_count": 301,
   "id": "e76961bb",
   "metadata": {},
   "outputs": [
    {
     "data": {
      "text/plain": "        HSCode                                          Commodity  value  \\\n0            2                        MEAT AND EDIBLE MEAT OFFAL.   0.18   \n1            3  FISH AND CRUSTACEANS, MOLLUSCS AND OTHER AQUAT...   0.00   \n2            4  DAIRY PRODUCE; BIRDS' EGGS; NATURAL HONEY; EDI...  12.48   \n3            6  LIVE TREES AND OTHER PLANTS; BULBS; ROOTS AND ...   0.00   \n4            7    EDIBLE VEGETABLES AND CERTAIN ROOTS AND TUBERS.   1.89   \n...        ...                                                ...    ...   \n137018      95  TOYS, GAMES AND SPORTS REQUISITES; PARTS AND A...   0.03   \n137019      96               MISCELLANEOUS MANUFACTURED ARTICLES.   0.45   \n137020      97      WORKS OF ART COLLECTORS' PIECES AND ANTIQUES.   0.00   \n137021      98                  PROJECT GOODS; SOME SPECIAL USES.   0.00   \n137022      99                               MISCELLANEOUS GOODS.   0.07   \n\n                country  year  \n0       AFGHANISTAN TIS  2018  \n1       AFGHANISTAN TIS  2018  \n2       AFGHANISTAN TIS  2018  \n3       AFGHANISTAN TIS  2018  \n4       AFGHANISTAN TIS  2018  \n...                 ...   ...  \n137018         ZIMBABWE  2010  \n137019         ZIMBABWE  2010  \n137020         ZIMBABWE  2010  \n137021         ZIMBABWE  2010  \n137022         ZIMBABWE  2010  \n\n[137023 rows x 5 columns]",
      "text/html": "<div>\n<style scoped>\n    .dataframe tbody tr th:only-of-type {\n        vertical-align: middle;\n    }\n\n    .dataframe tbody tr th {\n        vertical-align: top;\n    }\n\n    .dataframe thead th {\n        text-align: right;\n    }\n</style>\n<table border=\"1\" class=\"dataframe\">\n  <thead>\n    <tr style=\"text-align: right;\">\n      <th></th>\n      <th>HSCode</th>\n      <th>Commodity</th>\n      <th>value</th>\n      <th>country</th>\n      <th>year</th>\n    </tr>\n  </thead>\n  <tbody>\n    <tr>\n      <th>0</th>\n      <td>2</td>\n      <td>MEAT AND EDIBLE MEAT OFFAL.</td>\n      <td>0.18</td>\n      <td>AFGHANISTAN TIS</td>\n      <td>2018</td>\n    </tr>\n    <tr>\n      <th>1</th>\n      <td>3</td>\n      <td>FISH AND CRUSTACEANS, MOLLUSCS AND OTHER AQUAT...</td>\n      <td>0.00</td>\n      <td>AFGHANISTAN TIS</td>\n      <td>2018</td>\n    </tr>\n    <tr>\n      <th>2</th>\n      <td>4</td>\n      <td>DAIRY PRODUCE; BIRDS' EGGS; NATURAL HONEY; EDI...</td>\n      <td>12.48</td>\n      <td>AFGHANISTAN TIS</td>\n      <td>2018</td>\n    </tr>\n    <tr>\n      <th>3</th>\n      <td>6</td>\n      <td>LIVE TREES AND OTHER PLANTS; BULBS; ROOTS AND ...</td>\n      <td>0.00</td>\n      <td>AFGHANISTAN TIS</td>\n      <td>2018</td>\n    </tr>\n    <tr>\n      <th>4</th>\n      <td>7</td>\n      <td>EDIBLE VEGETABLES AND CERTAIN ROOTS AND TUBERS.</td>\n      <td>1.89</td>\n      <td>AFGHANISTAN TIS</td>\n      <td>2018</td>\n    </tr>\n    <tr>\n      <th>...</th>\n      <td>...</td>\n      <td>...</td>\n      <td>...</td>\n      <td>...</td>\n      <td>...</td>\n    </tr>\n    <tr>\n      <th>137018</th>\n      <td>95</td>\n      <td>TOYS, GAMES AND SPORTS REQUISITES; PARTS AND A...</td>\n      <td>0.03</td>\n      <td>ZIMBABWE</td>\n      <td>2010</td>\n    </tr>\n    <tr>\n      <th>137019</th>\n      <td>96</td>\n      <td>MISCELLANEOUS MANUFACTURED ARTICLES.</td>\n      <td>0.45</td>\n      <td>ZIMBABWE</td>\n      <td>2010</td>\n    </tr>\n    <tr>\n      <th>137020</th>\n      <td>97</td>\n      <td>WORKS OF ART COLLECTORS' PIECES AND ANTIQUES.</td>\n      <td>0.00</td>\n      <td>ZIMBABWE</td>\n      <td>2010</td>\n    </tr>\n    <tr>\n      <th>137021</th>\n      <td>98</td>\n      <td>PROJECT GOODS; SOME SPECIAL USES.</td>\n      <td>0.00</td>\n      <td>ZIMBABWE</td>\n      <td>2010</td>\n    </tr>\n    <tr>\n      <th>137022</th>\n      <td>99</td>\n      <td>MISCELLANEOUS GOODS.</td>\n      <td>0.07</td>\n      <td>ZIMBABWE</td>\n      <td>2010</td>\n    </tr>\n  </tbody>\n</table>\n<p>137023 rows × 5 columns</p>\n</div>"
     },
     "execution_count": 301,
     "metadata": {},
     "output_type": "execute_result"
    }
   ],
   "source": [
    "fr4"
   ]
  },
  {
   "cell_type": "code",
   "execution_count": 302,
   "id": "baa83137",
   "metadata": {},
   "outputs": [],
   "source": [
    "fr4 = fr4.drop(columns = ['country', 'HSCode'])"
   ]
  },
  {
   "cell_type": "code",
   "execution_count": 303,
   "id": "c5546fb0",
   "metadata": {},
   "outputs": [
    {
     "data": {
      "text/plain": "                                                Commodity  value  year\n0                             MEAT AND EDIBLE MEAT OFFAL.   0.18  2018\n1       FISH AND CRUSTACEANS, MOLLUSCS AND OTHER AQUAT...   0.00  2018\n2       DAIRY PRODUCE; BIRDS' EGGS; NATURAL HONEY; EDI...  12.48  2018\n3       LIVE TREES AND OTHER PLANTS; BULBS; ROOTS AND ...   0.00  2018\n4         EDIBLE VEGETABLES AND CERTAIN ROOTS AND TUBERS.   1.89  2018\n...                                                   ...    ...   ...\n137018  TOYS, GAMES AND SPORTS REQUISITES; PARTS AND A...   0.03  2010\n137019               MISCELLANEOUS MANUFACTURED ARTICLES.   0.45  2010\n137020      WORKS OF ART COLLECTORS' PIECES AND ANTIQUES.   0.00  2010\n137021                  PROJECT GOODS; SOME SPECIAL USES.   0.00  2010\n137022                               MISCELLANEOUS GOODS.   0.07  2010\n\n[137023 rows x 3 columns]",
      "text/html": "<div>\n<style scoped>\n    .dataframe tbody tr th:only-of-type {\n        vertical-align: middle;\n    }\n\n    .dataframe tbody tr th {\n        vertical-align: top;\n    }\n\n    .dataframe thead th {\n        text-align: right;\n    }\n</style>\n<table border=\"1\" class=\"dataframe\">\n  <thead>\n    <tr style=\"text-align: right;\">\n      <th></th>\n      <th>Commodity</th>\n      <th>value</th>\n      <th>year</th>\n    </tr>\n  </thead>\n  <tbody>\n    <tr>\n      <th>0</th>\n      <td>MEAT AND EDIBLE MEAT OFFAL.</td>\n      <td>0.18</td>\n      <td>2018</td>\n    </tr>\n    <tr>\n      <th>1</th>\n      <td>FISH AND CRUSTACEANS, MOLLUSCS AND OTHER AQUAT...</td>\n      <td>0.00</td>\n      <td>2018</td>\n    </tr>\n    <tr>\n      <th>2</th>\n      <td>DAIRY PRODUCE; BIRDS' EGGS; NATURAL HONEY; EDI...</td>\n      <td>12.48</td>\n      <td>2018</td>\n    </tr>\n    <tr>\n      <th>3</th>\n      <td>LIVE TREES AND OTHER PLANTS; BULBS; ROOTS AND ...</td>\n      <td>0.00</td>\n      <td>2018</td>\n    </tr>\n    <tr>\n      <th>4</th>\n      <td>EDIBLE VEGETABLES AND CERTAIN ROOTS AND TUBERS.</td>\n      <td>1.89</td>\n      <td>2018</td>\n    </tr>\n    <tr>\n      <th>...</th>\n      <td>...</td>\n      <td>...</td>\n      <td>...</td>\n    </tr>\n    <tr>\n      <th>137018</th>\n      <td>TOYS, GAMES AND SPORTS REQUISITES; PARTS AND A...</td>\n      <td>0.03</td>\n      <td>2010</td>\n    </tr>\n    <tr>\n      <th>137019</th>\n      <td>MISCELLANEOUS MANUFACTURED ARTICLES.</td>\n      <td>0.45</td>\n      <td>2010</td>\n    </tr>\n    <tr>\n      <th>137020</th>\n      <td>WORKS OF ART COLLECTORS' PIECES AND ANTIQUES.</td>\n      <td>0.00</td>\n      <td>2010</td>\n    </tr>\n    <tr>\n      <th>137021</th>\n      <td>PROJECT GOODS; SOME SPECIAL USES.</td>\n      <td>0.00</td>\n      <td>2010</td>\n    </tr>\n    <tr>\n      <th>137022</th>\n      <td>MISCELLANEOUS GOODS.</td>\n      <td>0.07</td>\n      <td>2010</td>\n    </tr>\n  </tbody>\n</table>\n<p>137023 rows × 3 columns</p>\n</div>"
     },
     "execution_count": 303,
     "metadata": {},
     "output_type": "execute_result"
    }
   ],
   "source": [
    "fr4"
   ]
  },
  {
   "cell_type": "code",
   "execution_count": 304,
   "id": "2cd02abd",
   "metadata": {},
   "outputs": [],
   "source": [
    "fr4 = fr4.set_index(['year','Commodity'])"
   ]
  },
  {
   "cell_type": "code",
   "execution_count": 305,
   "id": "e5801666",
   "metadata": {},
   "outputs": [],
   "source": [
    "n = fr4.groupby([\"year\",\"Commodity\"])['value'].sum()"
   ]
  },
  {
   "cell_type": "code",
   "execution_count": 306,
   "id": "915887d8",
   "metadata": {},
   "outputs": [],
   "source": [
    "n = n.reset_index(name='value')"
   ]
  },
  {
   "cell_type": "code",
   "execution_count": 307,
   "id": "d9a5b05a",
   "metadata": {},
   "outputs": [
    {
     "data": {
      "text/plain": "     year                                          Commodity    value\n0    2010           AIRCRAFT, SPACECRAFT, AND PARTS THEREOF.  1667.77\n1    2010  ALBUMINOIDAL SUBSTANCES; MODIFIED STARCHES; GL...   240.78\n2    2010                    ALUMINIUM AND ARTICLES THEREOF.  1243.26\n3    2010  ANIMAL OR VEGETABLE FATS AND OILS AND THEIR CL...   745.10\n4    2010  ARMS AND AMMUNITION; PARTS AND ACCESSORIES THE...    17.03\n..    ...                                                ...      ...\n877  2018  WADDING, FELT AND NONWOVENS; SPACIAL YARNS; TW...   427.20\n878  2018          WOOD AND ARTICLES OF WOOD; WOOD CHARCOAL.   491.04\n879  2018  WOOL, FINE OR COARSE ANIMAL HAIR, HORSEHAIR YA...   198.68\n880  2018      WORKS OF ART COLLECTORS' PIECES AND ANTIQUES.   102.98\n881  2018                         ZINC AND ARTICLES THEREOF.   603.02\n\n[882 rows x 3 columns]",
      "text/html": "<div>\n<style scoped>\n    .dataframe tbody tr th:only-of-type {\n        vertical-align: middle;\n    }\n\n    .dataframe tbody tr th {\n        vertical-align: top;\n    }\n\n    .dataframe thead th {\n        text-align: right;\n    }\n</style>\n<table border=\"1\" class=\"dataframe\">\n  <thead>\n    <tr style=\"text-align: right;\">\n      <th></th>\n      <th>year</th>\n      <th>Commodity</th>\n      <th>value</th>\n    </tr>\n  </thead>\n  <tbody>\n    <tr>\n      <th>0</th>\n      <td>2010</td>\n      <td>AIRCRAFT, SPACECRAFT, AND PARTS THEREOF.</td>\n      <td>1667.77</td>\n    </tr>\n    <tr>\n      <th>1</th>\n      <td>2010</td>\n      <td>ALBUMINOIDAL SUBSTANCES; MODIFIED STARCHES; GL...</td>\n      <td>240.78</td>\n    </tr>\n    <tr>\n      <th>2</th>\n      <td>2010</td>\n      <td>ALUMINIUM AND ARTICLES THEREOF.</td>\n      <td>1243.26</td>\n    </tr>\n    <tr>\n      <th>3</th>\n      <td>2010</td>\n      <td>ANIMAL OR VEGETABLE FATS AND OILS AND THEIR CL...</td>\n      <td>745.10</td>\n    </tr>\n    <tr>\n      <th>4</th>\n      <td>2010</td>\n      <td>ARMS AND AMMUNITION; PARTS AND ACCESSORIES THE...</td>\n      <td>17.03</td>\n    </tr>\n    <tr>\n      <th>...</th>\n      <td>...</td>\n      <td>...</td>\n      <td>...</td>\n    </tr>\n    <tr>\n      <th>877</th>\n      <td>2018</td>\n      <td>WADDING, FELT AND NONWOVENS; SPACIAL YARNS; TW...</td>\n      <td>427.20</td>\n    </tr>\n    <tr>\n      <th>878</th>\n      <td>2018</td>\n      <td>WOOD AND ARTICLES OF WOOD; WOOD CHARCOAL.</td>\n      <td>491.04</td>\n    </tr>\n    <tr>\n      <th>879</th>\n      <td>2018</td>\n      <td>WOOL, FINE OR COARSE ANIMAL HAIR, HORSEHAIR YA...</td>\n      <td>198.68</td>\n    </tr>\n    <tr>\n      <th>880</th>\n      <td>2018</td>\n      <td>WORKS OF ART COLLECTORS' PIECES AND ANTIQUES.</td>\n      <td>102.98</td>\n    </tr>\n    <tr>\n      <th>881</th>\n      <td>2018</td>\n      <td>ZINC AND ARTICLES THEREOF.</td>\n      <td>603.02</td>\n    </tr>\n  </tbody>\n</table>\n<p>882 rows × 3 columns</p>\n</div>"
     },
     "execution_count": 307,
     "metadata": {},
     "output_type": "execute_result"
    }
   ],
   "source": [
    "n"
   ]
  },
  {
   "cell_type": "code",
   "execution_count": 308,
   "id": "b08d62c3",
   "metadata": {},
   "outputs": [],
   "source": [
    "n = n.groupby('year').apply(lambda x: x.sort_values(by = 'value', ascending = False).head(2))"
   ]
  },
  {
   "cell_type": "code",
   "execution_count": 309,
   "id": "eb99cfe9",
   "metadata": {},
   "outputs": [
    {
     "data": {
      "text/plain": "          year                                          Commodity     value\nyear                                                                       \n2010 52   2010  NATURAL OR CULTURED PEARLS,PRECIOUS OR SEMIPRE...  43684.89\n     45   2010  MINERAL FUELS, MINERAL OILS AND PRODUCTS OF TH...  42735.86\n2011 143  2011  MINERAL FUELS, MINERAL OILS AND PRODUCTS OF TH...  57391.80\n     150  2011  NATURAL OR CULTURED PEARLS,PRECIOUS OR SEMIPRE...  47277.76\n2012 241  2012  MINERAL FUELS, MINERAL OILS AND PRODUCTS OF TH...  62105.38\n     248  2012  NATURAL OR CULTURED PEARLS,PRECIOUS OR SEMIPRE...  43768.29\n2013 339  2013  MINERAL FUELS, MINERAL OILS AND PRODUCTS OF TH...  64685.28\n     346  2013  NATURAL OR CULTURED PEARLS,PRECIOUS OR SEMIPRE...  41692.10\n2014 437  2014  MINERAL FUELS, MINERAL OILS AND PRODUCTS OF TH...  57619.94\n     444  2014  NATURAL OR CULTURED PEARLS,PRECIOUS OR SEMIPRE...  41549.59\n2015 542  2015  NATURAL OR CULTURED PEARLS,PRECIOUS OR SEMIPRE...  39553.82\n     535  2015  MINERAL FUELS, MINERAL OILS AND PRODUCTS OF TH...  31231.47\n2016 640  2016  NATURAL OR CULTURED PEARLS,PRECIOUS OR SEMIPRE...  43623.03\n     633  2016  MINERAL FUELS, MINERAL OILS AND PRODUCTS OF TH...  32435.54\n2017 738  2017  NATURAL OR CULTURED PEARLS,PRECIOUS OR SEMIPRE...  41743.33\n     731  2017  MINERAL FUELS, MINERAL OILS AND PRODUCTS OF TH...  38469.31\n2018 829  2018  MINERAL FUELS, MINERAL OILS AND PRODUCTS OF TH...  47920.23\n     836  2018  NATURAL OR CULTURED PEARLS,PRECIOUS OR SEMIPRE...  40449.05",
      "text/html": "<div>\n<style scoped>\n    .dataframe tbody tr th:only-of-type {\n        vertical-align: middle;\n    }\n\n    .dataframe tbody tr th {\n        vertical-align: top;\n    }\n\n    .dataframe thead th {\n        text-align: right;\n    }\n</style>\n<table border=\"1\" class=\"dataframe\">\n  <thead>\n    <tr style=\"text-align: right;\">\n      <th></th>\n      <th></th>\n      <th>year</th>\n      <th>Commodity</th>\n      <th>value</th>\n    </tr>\n    <tr>\n      <th>year</th>\n      <th></th>\n      <th></th>\n      <th></th>\n      <th></th>\n    </tr>\n  </thead>\n  <tbody>\n    <tr>\n      <th rowspan=\"2\" valign=\"top\">2010</th>\n      <th>52</th>\n      <td>2010</td>\n      <td>NATURAL OR CULTURED PEARLS,PRECIOUS OR SEMIPRE...</td>\n      <td>43684.89</td>\n    </tr>\n    <tr>\n      <th>45</th>\n      <td>2010</td>\n      <td>MINERAL FUELS, MINERAL OILS AND PRODUCTS OF TH...</td>\n      <td>42735.86</td>\n    </tr>\n    <tr>\n      <th rowspan=\"2\" valign=\"top\">2011</th>\n      <th>143</th>\n      <td>2011</td>\n      <td>MINERAL FUELS, MINERAL OILS AND PRODUCTS OF TH...</td>\n      <td>57391.80</td>\n    </tr>\n    <tr>\n      <th>150</th>\n      <td>2011</td>\n      <td>NATURAL OR CULTURED PEARLS,PRECIOUS OR SEMIPRE...</td>\n      <td>47277.76</td>\n    </tr>\n    <tr>\n      <th rowspan=\"2\" valign=\"top\">2012</th>\n      <th>241</th>\n      <td>2012</td>\n      <td>MINERAL FUELS, MINERAL OILS AND PRODUCTS OF TH...</td>\n      <td>62105.38</td>\n    </tr>\n    <tr>\n      <th>248</th>\n      <td>2012</td>\n      <td>NATURAL OR CULTURED PEARLS,PRECIOUS OR SEMIPRE...</td>\n      <td>43768.29</td>\n    </tr>\n    <tr>\n      <th rowspan=\"2\" valign=\"top\">2013</th>\n      <th>339</th>\n      <td>2013</td>\n      <td>MINERAL FUELS, MINERAL OILS AND PRODUCTS OF TH...</td>\n      <td>64685.28</td>\n    </tr>\n    <tr>\n      <th>346</th>\n      <td>2013</td>\n      <td>NATURAL OR CULTURED PEARLS,PRECIOUS OR SEMIPRE...</td>\n      <td>41692.10</td>\n    </tr>\n    <tr>\n      <th rowspan=\"2\" valign=\"top\">2014</th>\n      <th>437</th>\n      <td>2014</td>\n      <td>MINERAL FUELS, MINERAL OILS AND PRODUCTS OF TH...</td>\n      <td>57619.94</td>\n    </tr>\n    <tr>\n      <th>444</th>\n      <td>2014</td>\n      <td>NATURAL OR CULTURED PEARLS,PRECIOUS OR SEMIPRE...</td>\n      <td>41549.59</td>\n    </tr>\n    <tr>\n      <th rowspan=\"2\" valign=\"top\">2015</th>\n      <th>542</th>\n      <td>2015</td>\n      <td>NATURAL OR CULTURED PEARLS,PRECIOUS OR SEMIPRE...</td>\n      <td>39553.82</td>\n    </tr>\n    <tr>\n      <th>535</th>\n      <td>2015</td>\n      <td>MINERAL FUELS, MINERAL OILS AND PRODUCTS OF TH...</td>\n      <td>31231.47</td>\n    </tr>\n    <tr>\n      <th rowspan=\"2\" valign=\"top\">2016</th>\n      <th>640</th>\n      <td>2016</td>\n      <td>NATURAL OR CULTURED PEARLS,PRECIOUS OR SEMIPRE...</td>\n      <td>43623.03</td>\n    </tr>\n    <tr>\n      <th>633</th>\n      <td>2016</td>\n      <td>MINERAL FUELS, MINERAL OILS AND PRODUCTS OF TH...</td>\n      <td>32435.54</td>\n    </tr>\n    <tr>\n      <th rowspan=\"2\" valign=\"top\">2017</th>\n      <th>738</th>\n      <td>2017</td>\n      <td>NATURAL OR CULTURED PEARLS,PRECIOUS OR SEMIPRE...</td>\n      <td>41743.33</td>\n    </tr>\n    <tr>\n      <th>731</th>\n      <td>2017</td>\n      <td>MINERAL FUELS, MINERAL OILS AND PRODUCTS OF TH...</td>\n      <td>38469.31</td>\n    </tr>\n    <tr>\n      <th rowspan=\"2\" valign=\"top\">2018</th>\n      <th>829</th>\n      <td>2018</td>\n      <td>MINERAL FUELS, MINERAL OILS AND PRODUCTS OF TH...</td>\n      <td>47920.23</td>\n    </tr>\n    <tr>\n      <th>836</th>\n      <td>2018</td>\n      <td>NATURAL OR CULTURED PEARLS,PRECIOUS OR SEMIPRE...</td>\n      <td>40449.05</td>\n    </tr>\n  </tbody>\n</table>\n</div>"
     },
     "execution_count": 309,
     "metadata": {},
     "output_type": "execute_result"
    }
   ],
   "source": [
    "n"
   ]
  },
  {
   "cell_type": "code",
   "execution_count": 310,
   "id": "a380bff6",
   "metadata": {},
   "outputs": [],
   "source": [
    "n.index = n.index.droplevel()"
   ]
  },
  {
   "cell_type": "code",
   "execution_count": 311,
   "id": "5086075a",
   "metadata": {},
   "outputs": [
    {
     "data": {
      "text/plain": "     year                                          Commodity     value\n52   2010  NATURAL OR CULTURED PEARLS,PRECIOUS OR SEMIPRE...  43684.89\n45   2010  MINERAL FUELS, MINERAL OILS AND PRODUCTS OF TH...  42735.86\n143  2011  MINERAL FUELS, MINERAL OILS AND PRODUCTS OF TH...  57391.80\n150  2011  NATURAL OR CULTURED PEARLS,PRECIOUS OR SEMIPRE...  47277.76\n241  2012  MINERAL FUELS, MINERAL OILS AND PRODUCTS OF TH...  62105.38\n248  2012  NATURAL OR CULTURED PEARLS,PRECIOUS OR SEMIPRE...  43768.29\n339  2013  MINERAL FUELS, MINERAL OILS AND PRODUCTS OF TH...  64685.28\n346  2013  NATURAL OR CULTURED PEARLS,PRECIOUS OR SEMIPRE...  41692.10\n437  2014  MINERAL FUELS, MINERAL OILS AND PRODUCTS OF TH...  57619.94\n444  2014  NATURAL OR CULTURED PEARLS,PRECIOUS OR SEMIPRE...  41549.59\n542  2015  NATURAL OR CULTURED PEARLS,PRECIOUS OR SEMIPRE...  39553.82\n535  2015  MINERAL FUELS, MINERAL OILS AND PRODUCTS OF TH...  31231.47\n640  2016  NATURAL OR CULTURED PEARLS,PRECIOUS OR SEMIPRE...  43623.03\n633  2016  MINERAL FUELS, MINERAL OILS AND PRODUCTS OF TH...  32435.54\n738  2017  NATURAL OR CULTURED PEARLS,PRECIOUS OR SEMIPRE...  41743.33\n731  2017  MINERAL FUELS, MINERAL OILS AND PRODUCTS OF TH...  38469.31\n829  2018  MINERAL FUELS, MINERAL OILS AND PRODUCTS OF TH...  47920.23\n836  2018  NATURAL OR CULTURED PEARLS,PRECIOUS OR SEMIPRE...  40449.05",
      "text/html": "<div>\n<style scoped>\n    .dataframe tbody tr th:only-of-type {\n        vertical-align: middle;\n    }\n\n    .dataframe tbody tr th {\n        vertical-align: top;\n    }\n\n    .dataframe thead th {\n        text-align: right;\n    }\n</style>\n<table border=\"1\" class=\"dataframe\">\n  <thead>\n    <tr style=\"text-align: right;\">\n      <th></th>\n      <th>year</th>\n      <th>Commodity</th>\n      <th>value</th>\n    </tr>\n  </thead>\n  <tbody>\n    <tr>\n      <th>52</th>\n      <td>2010</td>\n      <td>NATURAL OR CULTURED PEARLS,PRECIOUS OR SEMIPRE...</td>\n      <td>43684.89</td>\n    </tr>\n    <tr>\n      <th>45</th>\n      <td>2010</td>\n      <td>MINERAL FUELS, MINERAL OILS AND PRODUCTS OF TH...</td>\n      <td>42735.86</td>\n    </tr>\n    <tr>\n      <th>143</th>\n      <td>2011</td>\n      <td>MINERAL FUELS, MINERAL OILS AND PRODUCTS OF TH...</td>\n      <td>57391.80</td>\n    </tr>\n    <tr>\n      <th>150</th>\n      <td>2011</td>\n      <td>NATURAL OR CULTURED PEARLS,PRECIOUS OR SEMIPRE...</td>\n      <td>47277.76</td>\n    </tr>\n    <tr>\n      <th>241</th>\n      <td>2012</td>\n      <td>MINERAL FUELS, MINERAL OILS AND PRODUCTS OF TH...</td>\n      <td>62105.38</td>\n    </tr>\n    <tr>\n      <th>248</th>\n      <td>2012</td>\n      <td>NATURAL OR CULTURED PEARLS,PRECIOUS OR SEMIPRE...</td>\n      <td>43768.29</td>\n    </tr>\n    <tr>\n      <th>339</th>\n      <td>2013</td>\n      <td>MINERAL FUELS, MINERAL OILS AND PRODUCTS OF TH...</td>\n      <td>64685.28</td>\n    </tr>\n    <tr>\n      <th>346</th>\n      <td>2013</td>\n      <td>NATURAL OR CULTURED PEARLS,PRECIOUS OR SEMIPRE...</td>\n      <td>41692.10</td>\n    </tr>\n    <tr>\n      <th>437</th>\n      <td>2014</td>\n      <td>MINERAL FUELS, MINERAL OILS AND PRODUCTS OF TH...</td>\n      <td>57619.94</td>\n    </tr>\n    <tr>\n      <th>444</th>\n      <td>2014</td>\n      <td>NATURAL OR CULTURED PEARLS,PRECIOUS OR SEMIPRE...</td>\n      <td>41549.59</td>\n    </tr>\n    <tr>\n      <th>542</th>\n      <td>2015</td>\n      <td>NATURAL OR CULTURED PEARLS,PRECIOUS OR SEMIPRE...</td>\n      <td>39553.82</td>\n    </tr>\n    <tr>\n      <th>535</th>\n      <td>2015</td>\n      <td>MINERAL FUELS, MINERAL OILS AND PRODUCTS OF TH...</td>\n      <td>31231.47</td>\n    </tr>\n    <tr>\n      <th>640</th>\n      <td>2016</td>\n      <td>NATURAL OR CULTURED PEARLS,PRECIOUS OR SEMIPRE...</td>\n      <td>43623.03</td>\n    </tr>\n    <tr>\n      <th>633</th>\n      <td>2016</td>\n      <td>MINERAL FUELS, MINERAL OILS AND PRODUCTS OF TH...</td>\n      <td>32435.54</td>\n    </tr>\n    <tr>\n      <th>738</th>\n      <td>2017</td>\n      <td>NATURAL OR CULTURED PEARLS,PRECIOUS OR SEMIPRE...</td>\n      <td>41743.33</td>\n    </tr>\n    <tr>\n      <th>731</th>\n      <td>2017</td>\n      <td>MINERAL FUELS, MINERAL OILS AND PRODUCTS OF TH...</td>\n      <td>38469.31</td>\n    </tr>\n    <tr>\n      <th>829</th>\n      <td>2018</td>\n      <td>MINERAL FUELS, MINERAL OILS AND PRODUCTS OF TH...</td>\n      <td>47920.23</td>\n    </tr>\n    <tr>\n      <th>836</th>\n      <td>2018</td>\n      <td>NATURAL OR CULTURED PEARLS,PRECIOUS OR SEMIPRE...</td>\n      <td>40449.05</td>\n    </tr>\n  </tbody>\n</table>\n</div>"
     },
     "execution_count": 311,
     "metadata": {},
     "output_type": "execute_result"
    }
   ],
   "source": [
    "n"
   ]
  },
  {
   "cell_type": "code",
   "execution_count": 312,
   "id": "5bc32aa5",
   "metadata": {},
   "outputs": [],
   "source": [
    "Y = n['year'].tolist()\n",
    "C = n['Commodity'].tolist()\n",
    "S = n['value'].tolist()"
   ]
  },
  {
   "cell_type": "code",
   "execution_count": 313,
   "id": "9a2e58c5",
   "metadata": {},
   "outputs": [],
   "source": [
    "arrays = [Y,C]"
   ]
  },
  {
   "cell_type": "code",
   "execution_count": 314,
   "id": "b4adaa2f",
   "metadata": {},
   "outputs": [],
   "source": [
    "tuples = list(zip(*arrays))"
   ]
  },
  {
   "cell_type": "code",
   "execution_count": 315,
   "id": "1017b78c",
   "metadata": {},
   "outputs": [],
   "source": [
    "index = pd.MultiIndex.from_tuples(tuples, names=['year', 'Commodity']) "
   ]
  },
  {
   "cell_type": "code",
   "execution_count": 316,
   "id": "7f0f4a6d",
   "metadata": {},
   "outputs": [],
   "source": [
    "df = pd.DataFrame({'value': S}, index=index)"
   ]
  },
  {
   "cell_type": "code",
   "execution_count": 317,
   "id": "3919006f",
   "metadata": {},
   "outputs": [
    {
     "data": {
      "text/plain": "                                                            value\nyear Commodity                                                   \n2010 NATURAL OR CULTURED PEARLS,PRECIOUS OR SEMIPREC...  43684.89\n     MINERAL FUELS, MINERAL OILS AND PRODUCTS OF THE...  42735.86\n2011 MINERAL FUELS, MINERAL OILS AND PRODUCTS OF THE...  57391.80\n     NATURAL OR CULTURED PEARLS,PRECIOUS OR SEMIPREC...  47277.76\n2012 MINERAL FUELS, MINERAL OILS AND PRODUCTS OF THE...  62105.38\n     NATURAL OR CULTURED PEARLS,PRECIOUS OR SEMIPREC...  43768.29\n2013 MINERAL FUELS, MINERAL OILS AND PRODUCTS OF THE...  64685.28\n     NATURAL OR CULTURED PEARLS,PRECIOUS OR SEMIPREC...  41692.10\n2014 MINERAL FUELS, MINERAL OILS AND PRODUCTS OF THE...  57619.94\n     NATURAL OR CULTURED PEARLS,PRECIOUS OR SEMIPREC...  41549.59\n2015 NATURAL OR CULTURED PEARLS,PRECIOUS OR SEMIPREC...  39553.82\n     MINERAL FUELS, MINERAL OILS AND PRODUCTS OF THE...  31231.47\n2016 NATURAL OR CULTURED PEARLS,PRECIOUS OR SEMIPREC...  43623.03\n     MINERAL FUELS, MINERAL OILS AND PRODUCTS OF THE...  32435.54\n2017 NATURAL OR CULTURED PEARLS,PRECIOUS OR SEMIPREC...  41743.33\n     MINERAL FUELS, MINERAL OILS AND PRODUCTS OF THE...  38469.31\n2018 MINERAL FUELS, MINERAL OILS AND PRODUCTS OF THE...  47920.23\n     NATURAL OR CULTURED PEARLS,PRECIOUS OR SEMIPREC...  40449.05",
      "text/html": "<div>\n<style scoped>\n    .dataframe tbody tr th:only-of-type {\n        vertical-align: middle;\n    }\n\n    .dataframe tbody tr th {\n        vertical-align: top;\n    }\n\n    .dataframe thead th {\n        text-align: right;\n    }\n</style>\n<table border=\"1\" class=\"dataframe\">\n  <thead>\n    <tr style=\"text-align: right;\">\n      <th></th>\n      <th></th>\n      <th>value</th>\n    </tr>\n    <tr>\n      <th>year</th>\n      <th>Commodity</th>\n      <th></th>\n    </tr>\n  </thead>\n  <tbody>\n    <tr>\n      <th rowspan=\"2\" valign=\"top\">2010</th>\n      <th>NATURAL OR CULTURED PEARLS,PRECIOUS OR SEMIPRECIOUS STONES,PRE.METALS,CLAD WITH PRE.METAL AND ARTCLS THEREOF;IMIT.JEWLRY;COIN.</th>\n      <td>43684.89</td>\n    </tr>\n    <tr>\n      <th>MINERAL FUELS, MINERAL OILS AND PRODUCTS OF THEIR DISTILLATION; BITUMINOUS SUBSTANCES; MINERAL WAXES.</th>\n      <td>42735.86</td>\n    </tr>\n    <tr>\n      <th rowspan=\"2\" valign=\"top\">2011</th>\n      <th>MINERAL FUELS, MINERAL OILS AND PRODUCTS OF THEIR DISTILLATION; BITUMINOUS SUBSTANCES; MINERAL WAXES.</th>\n      <td>57391.80</td>\n    </tr>\n    <tr>\n      <th>NATURAL OR CULTURED PEARLS,PRECIOUS OR SEMIPRECIOUS STONES,PRE.METALS,CLAD WITH PRE.METAL AND ARTCLS THEREOF;IMIT.JEWLRY;COIN.</th>\n      <td>47277.76</td>\n    </tr>\n    <tr>\n      <th rowspan=\"2\" valign=\"top\">2012</th>\n      <th>MINERAL FUELS, MINERAL OILS AND PRODUCTS OF THEIR DISTILLATION; BITUMINOUS SUBSTANCES; MINERAL WAXES.</th>\n      <td>62105.38</td>\n    </tr>\n    <tr>\n      <th>NATURAL OR CULTURED PEARLS,PRECIOUS OR SEMIPRECIOUS STONES,PRE.METALS,CLAD WITH PRE.METAL AND ARTCLS THEREOF;IMIT.JEWLRY;COIN.</th>\n      <td>43768.29</td>\n    </tr>\n    <tr>\n      <th rowspan=\"2\" valign=\"top\">2013</th>\n      <th>MINERAL FUELS, MINERAL OILS AND PRODUCTS OF THEIR DISTILLATION; BITUMINOUS SUBSTANCES; MINERAL WAXES.</th>\n      <td>64685.28</td>\n    </tr>\n    <tr>\n      <th>NATURAL OR CULTURED PEARLS,PRECIOUS OR SEMIPRECIOUS STONES,PRE.METALS,CLAD WITH PRE.METAL AND ARTCLS THEREOF;IMIT.JEWLRY;COIN.</th>\n      <td>41692.10</td>\n    </tr>\n    <tr>\n      <th rowspan=\"2\" valign=\"top\">2014</th>\n      <th>MINERAL FUELS, MINERAL OILS AND PRODUCTS OF THEIR DISTILLATION; BITUMINOUS SUBSTANCES; MINERAL WAXES.</th>\n      <td>57619.94</td>\n    </tr>\n    <tr>\n      <th>NATURAL OR CULTURED PEARLS,PRECIOUS OR SEMIPRECIOUS STONES,PRE.METALS,CLAD WITH PRE.METAL AND ARTCLS THEREOF;IMIT.JEWLRY;COIN.</th>\n      <td>41549.59</td>\n    </tr>\n    <tr>\n      <th rowspan=\"2\" valign=\"top\">2015</th>\n      <th>NATURAL OR CULTURED PEARLS,PRECIOUS OR SEMIPRECIOUS STONES,PRE.METALS,CLAD WITH PRE.METAL AND ARTCLS THEREOF;IMIT.JEWLRY;COIN.</th>\n      <td>39553.82</td>\n    </tr>\n    <tr>\n      <th>MINERAL FUELS, MINERAL OILS AND PRODUCTS OF THEIR DISTILLATION; BITUMINOUS SUBSTANCES; MINERAL WAXES.</th>\n      <td>31231.47</td>\n    </tr>\n    <tr>\n      <th rowspan=\"2\" valign=\"top\">2016</th>\n      <th>NATURAL OR CULTURED PEARLS,PRECIOUS OR SEMIPRECIOUS STONES,PRE.METALS,CLAD WITH PRE.METAL AND ARTCLS THEREOF;IMIT.JEWLRY;COIN.</th>\n      <td>43623.03</td>\n    </tr>\n    <tr>\n      <th>MINERAL FUELS, MINERAL OILS AND PRODUCTS OF THEIR DISTILLATION; BITUMINOUS SUBSTANCES; MINERAL WAXES.</th>\n      <td>32435.54</td>\n    </tr>\n    <tr>\n      <th rowspan=\"2\" valign=\"top\">2017</th>\n      <th>NATURAL OR CULTURED PEARLS,PRECIOUS OR SEMIPRECIOUS STONES,PRE.METALS,CLAD WITH PRE.METAL AND ARTCLS THEREOF;IMIT.JEWLRY;COIN.</th>\n      <td>41743.33</td>\n    </tr>\n    <tr>\n      <th>MINERAL FUELS, MINERAL OILS AND PRODUCTS OF THEIR DISTILLATION; BITUMINOUS SUBSTANCES; MINERAL WAXES.</th>\n      <td>38469.31</td>\n    </tr>\n    <tr>\n      <th rowspan=\"2\" valign=\"top\">2018</th>\n      <th>MINERAL FUELS, MINERAL OILS AND PRODUCTS OF THEIR DISTILLATION; BITUMINOUS SUBSTANCES; MINERAL WAXES.</th>\n      <td>47920.23</td>\n    </tr>\n    <tr>\n      <th>NATURAL OR CULTURED PEARLS,PRECIOUS OR SEMIPRECIOUS STONES,PRE.METALS,CLAD WITH PRE.METAL AND ARTCLS THEREOF;IMIT.JEWLRY;COIN.</th>\n      <td>40449.05</td>\n    </tr>\n  </tbody>\n</table>\n</div>"
     },
     "execution_count": 317,
     "metadata": {},
     "output_type": "execute_result"
    }
   ],
   "source": [
    "df"
   ]
  },
  {
   "cell_type": "code",
   "execution_count": 318,
   "id": "584f2ef3",
   "metadata": {},
   "outputs": [],
   "source": [
    "df = df.unstack(level = 1)"
   ]
  },
  {
   "cell_type": "code",
   "execution_count": 319,
   "id": "44c36f87",
   "metadata": {},
   "outputs": [
    {
     "data": {
      "text/plain": "                                                                                                          value  \\\nCommodity MINERAL FUELS, MINERAL OILS AND PRODUCTS OF THEIR DISTILLATION; BITUMINOUS SUBSTANCES; MINERAL WAXES.   \nyear                                                                                                              \n2010                                                42735.86                                                      \n2011                                                57391.80                                                      \n2012                                                62105.38                                                      \n2013                                                64685.28                                                      \n2014                                                57619.94                                                      \n2015                                                31231.47                                                      \n2016                                                32435.54                                                      \n2017                                                38469.31                                                      \n2018                                                47920.23                                                      \n\n                                                                                                                                          \nCommodity NATURAL OR CULTURED PEARLS,PRECIOUS OR SEMIPRECIOUS STONES,PRE.METALS,CLAD WITH PRE.METAL AND ARTCLS THEREOF;IMIT.JEWLRY;COIN.  \nyear                                                                                                                                      \n2010                                                43684.89                                                                              \n2011                                                47277.76                                                                              \n2012                                                43768.29                                                                              \n2013                                                41692.10                                                                              \n2014                                                41549.59                                                                              \n2015                                                39553.82                                                                              \n2016                                                43623.03                                                                              \n2017                                                41743.33                                                                              \n2018                                                40449.05                                                                              ",
      "text/html": "<div>\n<style scoped>\n    .dataframe tbody tr th:only-of-type {\n        vertical-align: middle;\n    }\n\n    .dataframe tbody tr th {\n        vertical-align: top;\n    }\n\n    .dataframe thead tr th {\n        text-align: left;\n    }\n\n    .dataframe thead tr:last-of-type th {\n        text-align: right;\n    }\n</style>\n<table border=\"1\" class=\"dataframe\">\n  <thead>\n    <tr>\n      <th></th>\n      <th colspan=\"2\" halign=\"left\">value</th>\n    </tr>\n    <tr>\n      <th>Commodity</th>\n      <th>MINERAL FUELS, MINERAL OILS AND PRODUCTS OF THEIR DISTILLATION; BITUMINOUS SUBSTANCES; MINERAL WAXES.</th>\n      <th>NATURAL OR CULTURED PEARLS,PRECIOUS OR SEMIPRECIOUS STONES,PRE.METALS,CLAD WITH PRE.METAL AND ARTCLS THEREOF;IMIT.JEWLRY;COIN.</th>\n    </tr>\n    <tr>\n      <th>year</th>\n      <th></th>\n      <th></th>\n    </tr>\n  </thead>\n  <tbody>\n    <tr>\n      <th>2010</th>\n      <td>42735.86</td>\n      <td>43684.89</td>\n    </tr>\n    <tr>\n      <th>2011</th>\n      <td>57391.80</td>\n      <td>47277.76</td>\n    </tr>\n    <tr>\n      <th>2012</th>\n      <td>62105.38</td>\n      <td>43768.29</td>\n    </tr>\n    <tr>\n      <th>2013</th>\n      <td>64685.28</td>\n      <td>41692.10</td>\n    </tr>\n    <tr>\n      <th>2014</th>\n      <td>57619.94</td>\n      <td>41549.59</td>\n    </tr>\n    <tr>\n      <th>2015</th>\n      <td>31231.47</td>\n      <td>39553.82</td>\n    </tr>\n    <tr>\n      <th>2016</th>\n      <td>32435.54</td>\n      <td>43623.03</td>\n    </tr>\n    <tr>\n      <th>2017</th>\n      <td>38469.31</td>\n      <td>41743.33</td>\n    </tr>\n    <tr>\n      <th>2018</th>\n      <td>47920.23</td>\n      <td>40449.05</td>\n    </tr>\n  </tbody>\n</table>\n</div>"
     },
     "execution_count": 319,
     "metadata": {},
     "output_type": "execute_result"
    }
   ],
   "source": [
    "df"
   ]
  },
  {
   "cell_type": "code",
   "execution_count": 320,
   "id": "6f0eff7a",
   "metadata": {},
   "outputs": [],
   "source": [
    "df = df.value.rename_axis([None], axis=1).reset_index()"
   ]
  },
  {
   "cell_type": "code",
   "execution_count": 321,
   "id": "45aeda92",
   "metadata": {},
   "outputs": [
    {
     "data": {
      "text/plain": "   year  \\\n0  2010   \n1  2011   \n2  2012   \n3  2013   \n4  2014   \n5  2015   \n6  2016   \n7  2017   \n8  2018   \n\n   MINERAL FUELS, MINERAL OILS AND PRODUCTS OF THEIR DISTILLATION; BITUMINOUS SUBSTANCES; MINERAL WAXES.  \\\n0                                           42735.86                                                       \n1                                           57391.80                                                       \n2                                           62105.38                                                       \n3                                           64685.28                                                       \n4                                           57619.94                                                       \n5                                           31231.47                                                       \n6                                           32435.54                                                       \n7                                           38469.31                                                       \n8                                           47920.23                                                       \n\n   NATURAL OR CULTURED PEARLS,PRECIOUS OR SEMIPRECIOUS STONES,PRE.METALS,CLAD WITH PRE.METAL AND ARTCLS THEREOF;IMIT.JEWLRY;COIN.  \n0                                           43684.89                                                                               \n1                                           47277.76                                                                               \n2                                           43768.29                                                                               \n3                                           41692.10                                                                               \n4                                           41549.59                                                                               \n5                                           39553.82                                                                               \n6                                           43623.03                                                                               \n7                                           41743.33                                                                               \n8                                           40449.05                                                                               ",
      "text/html": "<div>\n<style scoped>\n    .dataframe tbody tr th:only-of-type {\n        vertical-align: middle;\n    }\n\n    .dataframe tbody tr th {\n        vertical-align: top;\n    }\n\n    .dataframe thead th {\n        text-align: right;\n    }\n</style>\n<table border=\"1\" class=\"dataframe\">\n  <thead>\n    <tr style=\"text-align: right;\">\n      <th></th>\n      <th>year</th>\n      <th>MINERAL FUELS, MINERAL OILS AND PRODUCTS OF THEIR DISTILLATION; BITUMINOUS SUBSTANCES; MINERAL WAXES.</th>\n      <th>NATURAL OR CULTURED PEARLS,PRECIOUS OR SEMIPRECIOUS STONES,PRE.METALS,CLAD WITH PRE.METAL AND ARTCLS THEREOF;IMIT.JEWLRY;COIN.</th>\n    </tr>\n  </thead>\n  <tbody>\n    <tr>\n      <th>0</th>\n      <td>2010</td>\n      <td>42735.86</td>\n      <td>43684.89</td>\n    </tr>\n    <tr>\n      <th>1</th>\n      <td>2011</td>\n      <td>57391.80</td>\n      <td>47277.76</td>\n    </tr>\n    <tr>\n      <th>2</th>\n      <td>2012</td>\n      <td>62105.38</td>\n      <td>43768.29</td>\n    </tr>\n    <tr>\n      <th>3</th>\n      <td>2013</td>\n      <td>64685.28</td>\n      <td>41692.10</td>\n    </tr>\n    <tr>\n      <th>4</th>\n      <td>2014</td>\n      <td>57619.94</td>\n      <td>41549.59</td>\n    </tr>\n    <tr>\n      <th>5</th>\n      <td>2015</td>\n      <td>31231.47</td>\n      <td>39553.82</td>\n    </tr>\n    <tr>\n      <th>6</th>\n      <td>2016</td>\n      <td>32435.54</td>\n      <td>43623.03</td>\n    </tr>\n    <tr>\n      <th>7</th>\n      <td>2017</td>\n      <td>38469.31</td>\n      <td>41743.33</td>\n    </tr>\n    <tr>\n      <th>8</th>\n      <td>2018</td>\n      <td>47920.23</td>\n      <td>40449.05</td>\n    </tr>\n  </tbody>\n</table>\n</div>"
     },
     "execution_count": 321,
     "metadata": {},
     "output_type": "execute_result"
    }
   ],
   "source": [
    "df"
   ]
  },
  {
   "cell_type": "code",
   "execution_count": 322,
   "id": "852f5d90",
   "metadata": {},
   "outputs": [],
   "source": [
    "df.rename(columns = {'MINERAL FUELS, MINERAL OILS AND PRODUCTS OF THEIR DISTILLATION; BITUMINOUS SUBSTANCES; MINERAL WAXES.':'Mineral_Fuels', 'NATURAL OR CULTURED PEARLS,PRECIOUS OR SEMIPRECIOUS STONES,PRE.METALS,CLAD WITH PRE.METAL AND ARTCLS THEREOF;IMIT.JEWLRY;COIN.':'Natural_Gems'}, inplace = True)"
   ]
  },
  {
   "cell_type": "code",
   "execution_count": 323,
   "id": "6427217c",
   "metadata": {},
   "outputs": [
    {
     "data": {
      "text/plain": "   year  Mineral_Fuels  Natural_Gems\n0  2010       42735.86      43684.89\n1  2011       57391.80      47277.76\n2  2012       62105.38      43768.29\n3  2013       64685.28      41692.10\n4  2014       57619.94      41549.59\n5  2015       31231.47      39553.82\n6  2016       32435.54      43623.03\n7  2017       38469.31      41743.33\n8  2018       47920.23      40449.05",
      "text/html": "<div>\n<style scoped>\n    .dataframe tbody tr th:only-of-type {\n        vertical-align: middle;\n    }\n\n    .dataframe tbody tr th {\n        vertical-align: top;\n    }\n\n    .dataframe thead th {\n        text-align: right;\n    }\n</style>\n<table border=\"1\" class=\"dataframe\">\n  <thead>\n    <tr style=\"text-align: right;\">\n      <th></th>\n      <th>year</th>\n      <th>Mineral_Fuels</th>\n      <th>Natural_Gems</th>\n    </tr>\n  </thead>\n  <tbody>\n    <tr>\n      <th>0</th>\n      <td>2010</td>\n      <td>42735.86</td>\n      <td>43684.89</td>\n    </tr>\n    <tr>\n      <th>1</th>\n      <td>2011</td>\n      <td>57391.80</td>\n      <td>47277.76</td>\n    </tr>\n    <tr>\n      <th>2</th>\n      <td>2012</td>\n      <td>62105.38</td>\n      <td>43768.29</td>\n    </tr>\n    <tr>\n      <th>3</th>\n      <td>2013</td>\n      <td>64685.28</td>\n      <td>41692.10</td>\n    </tr>\n    <tr>\n      <th>4</th>\n      <td>2014</td>\n      <td>57619.94</td>\n      <td>41549.59</td>\n    </tr>\n    <tr>\n      <th>5</th>\n      <td>2015</td>\n      <td>31231.47</td>\n      <td>39553.82</td>\n    </tr>\n    <tr>\n      <th>6</th>\n      <td>2016</td>\n      <td>32435.54</td>\n      <td>43623.03</td>\n    </tr>\n    <tr>\n      <th>7</th>\n      <td>2017</td>\n      <td>38469.31</td>\n      <td>41743.33</td>\n    </tr>\n    <tr>\n      <th>8</th>\n      <td>2018</td>\n      <td>47920.23</td>\n      <td>40449.05</td>\n    </tr>\n  </tbody>\n</table>\n</div>"
     },
     "execution_count": 323,
     "metadata": {},
     "output_type": "execute_result"
    }
   ],
   "source": [
    "df"
   ]
  },
  {
   "cell_type": "code",
   "execution_count": 324,
   "id": "73415379",
   "metadata": {
    "scrolled": true
   },
   "outputs": [
    {
     "data": {
      "text/plain": "<Figure size 720x720 with 1 Axes>",
      "image/png": "[encoded data removed]"
     },
     "metadata": {},
     "output_type": "display_data"
    }
   ],
   "source": [
    "#Source: https://pythonguides.com/matplotlib-plot-bar-chart/#:~:text=You%20can%20use%20the%20function%20bar%20%28%29%20of,matplotlib.pyplot.bar%20%28categories%2C%20heights%20%20%20width%2C%20bottom%2C%20align%2C...%5D%29%26%5D\n",
    "\n",
    "# Importing the required libraries\n",
    "from matplotlib import pyplot as plt\n",
    "import numpy as np\n",
    "\n",
    "# Visualizing the data with multiple bar chart\n",
    "plt.figure(figsize=[10, 10])\n",
    "\n",
    "# Set the width of the bars\n",
    "wd = 0.3\n",
    "x_pos = np.arange(1, 2*len(df), 2)\n",
    "\n",
    "# Plotting the multiple bar graphs on the same figure\n",
    "plt.bar(x_pos, df.Mineral_Fuels, color='r', width=wd,edgecolor = 'k', label='Mineral Fuels')\n",
    "plt.bar(x_pos+wd, df.Natural_Gems, color='b', width=wd, edgecolor = 'k' ,label='Natural Gems')\n",
    "\n",
    "# Add xticks\n",
    "plt.xticks(x_pos+wd, df.year.values, fontsize=9)\n",
    "plt.yticks(fontsize=10)\n",
    "plt.title('The Total Indian Export Of The Top 2 Commodities By Year', fontsize=7)\n",
    "plt.xlabel('Year', fontsize=7)\n",
    "plt.ylabel('USD', fontsize=7)\n",
    "\n",
    "plt.legend(loc='upper center', fontsize=7)\n",
    "plt.show()"
   ]
  },
  {
   "cell_type": "markdown",
   "id": "2eda8eff",
   "metadata": {
    "pycharm": {
     "name": "#%% md\n"
    }
   },
   "source": [
    "Some additional statistical considerations,"
   ]
  },
  {
   "cell_type": "code",
   "execution_count": 325,
   "id": "5fc62245",
   "metadata": {},
   "outputs": [
    {
     "data": {
      "text/plain": "          Country  Export  Import  Total Trade  Trade Balance  Year(start)  \\\n0     AFGHANISTAN  422.41  146.03       568.44         276.38         2010   \n1     AFGHANISTAN  510.90  132.50       643.41         378.40         2011   \n2     AFGHANISTAN  472.63  159.55       632.18         313.07         2012   \n3     AFGHANISTAN  474.34  208.77       683.10         265.57         2013   \n4     AFGHANISTAN  422.56  261.91       684.47         160.65         2014   \n...           ...     ...     ...          ...            ...          ...   \n1753     ZIMBABWE  109.08   60.46       169.54          48.63         2016   \n1754     ZIMBABWE  163.54   62.20       225.74         101.34         2017   \n1755     ZIMBABWE  181.72    7.79       189.51         173.93         2018   \n1756     ZIMBABWE  161.13   13.59       174.72         147.54         2019   \n1757     ZIMBABWE  175.72    5.71       181.42         170.01         2020   \n\n     Country Name  Year       GDP  \n0     AFGHANISTAN  2010  15856.68  \n1     AFGHANISTAN  2011  17805.11  \n2     AFGHANISTAN  2012  19907.32  \n3     AFGHANISTAN  2013  20146.40  \n4     AFGHANISTAN  2014  20497.13  \n...           ...   ...       ...  \n1753     ZIMBABWE  2016  20548.68  \n1754     ZIMBABWE  2017  17584.89  \n1755     ZIMBABWE  2018  18115.54  \n1756     ZIMBABWE  2019  19284.29  \n1757     ZIMBABWE  2020  18051.17  \n\n[1758 rows x 9 columns]",
      "text/html": "<div>\n<style scoped>\n    .dataframe tbody tr th:only-of-type {\n        vertical-align: middle;\n    }\n\n    .dataframe tbody tr th {\n        vertical-align: top;\n    }\n\n    .dataframe thead th {\n        text-align: right;\n    }\n</style>\n<table border=\"1\" class=\"dataframe\">\n  <thead>\n    <tr style=\"text-align: right;\">\n      <th></th>\n      <th>Country</th>\n      <th>Export</th>\n      <th>Import</th>\n      <th>Total Trade</th>\n      <th>Trade Balance</th>\n      <th>Year(start)</th>\n      <th>Country Name</th>\n      <th>Year</th>\n      <th>GDP</th>\n    </tr>\n  </thead>\n  <tbody>\n    <tr>\n      <th>0</th>\n      <td>AFGHANISTAN</td>\n      <td>422.41</td>\n      <td>146.03</td>\n      <td>568.44</td>\n      <td>276.38</td>\n      <td>2010</td>\n      <td>AFGHANISTAN</td>\n      <td>2010</td>\n      <td>15856.68</td>\n    </tr>\n    <tr>\n      <th>1</th>\n      <td>AFGHANISTAN</td>\n      <td>510.90</td>\n      <td>132.50</td>\n      <td>643.41</td>\n      <td>378.40</td>\n      <td>2011</td>\n      <td>AFGHANISTAN</td>\n      <td>2011</td>\n      <td>17805.11</td>\n    </tr>\n    <tr>\n      <th>2</th>\n      <td>AFGHANISTAN</td>\n      <td>472.63</td>\n      <td>159.55</td>\n      <td>632.18</td>\n      <td>313.07</td>\n      <td>2012</td>\n      <td>AFGHANISTAN</td>\n      <td>2012</td>\n      <td>19907.32</td>\n    </tr>\n    <tr>\n      <th>3</th>\n      <td>AFGHANISTAN</td>\n      <td>474.34</td>\n      <td>208.77</td>\n      <td>683.10</td>\n      <td>265.57</td>\n      <td>2013</td>\n      <td>AFGHANISTAN</td>\n      <td>2013</td>\n      <td>20146.40</td>\n    </tr>\n    <tr>\n      <th>4</th>\n      <td>AFGHANISTAN</td>\n      <td>422.56</td>\n      <td>261.91</td>\n      <td>684.47</td>\n      <td>160.65</td>\n      <td>2014</td>\n      <td>AFGHANISTAN</td>\n      <td>2014</td>\n      <td>20497.13</td>\n    </tr>\n    <tr>\n      <th>...</th>\n      <td>...</td>\n      <td>...</td>\n      <td>...</td>\n      <td>...</td>\n      <td>...</td>\n      <td>...</td>\n      <td>...</td>\n      <td>...</td>\n      <td>...</td>\n    </tr>\n    <tr>\n      <th>1753</th>\n      <td>ZIMBABWE</td>\n      <td>109.08</td>\n      <td>60.46</td>\n      <td>169.54</td>\n      <td>48.63</td>\n      <td>2016</td>\n      <td>ZIMBABWE</td>\n      <td>2016</td>\n      <td>20548.68</td>\n    </tr>\n    <tr>\n      <th>1754</th>\n      <td>ZIMBABWE</td>\n      <td>163.54</td>\n      <td>62.20</td>\n      <td>225.74</td>\n      <td>101.34</td>\n      <td>2017</td>\n      <td>ZIMBABWE</td>\n      <td>2017</td>\n      <td>17584.89</td>\n    </tr>\n    <tr>\n      <th>1755</th>\n      <td>ZIMBABWE</td>\n      <td>181.72</td>\n      <td>7.79</td>\n      <td>189.51</td>\n      <td>173.93</td>\n      <td>2018</td>\n      <td>ZIMBABWE</td>\n      <td>2018</td>\n      <td>18115.54</td>\n    </tr>\n    <tr>\n      <th>1756</th>\n      <td>ZIMBABWE</td>\n      <td>161.13</td>\n      <td>13.59</td>\n      <td>174.72</td>\n      <td>147.54</td>\n      <td>2019</td>\n      <td>ZIMBABWE</td>\n      <td>2019</td>\n      <td>19284.29</td>\n    </tr>\n    <tr>\n      <th>1757</th>\n      <td>ZIMBABWE</td>\n      <td>175.72</td>\n      <td>5.71</td>\n      <td>181.42</td>\n      <td>170.01</td>\n      <td>2020</td>\n      <td>ZIMBABWE</td>\n      <td>2020</td>\n      <td>18051.17</td>\n    </tr>\n  </tbody>\n</table>\n<p>1758 rows × 9 columns</p>\n</div>"
     },
     "execution_count": 325,
     "metadata": {},
     "output_type": "execute_result"
    }
   ],
   "source": [
    "combined"
   ]
  },
  {
   "cell_type": "code",
   "execution_count": 325,
   "outputs": [],
   "source": [],
   "metadata": {
    "collapsed": false,
    "pycharm": {
     "name": "#%%\n"
    }
   }
  },
  {
   "cell_type": "code",
   "execution_count": 326,
   "outputs": [],
   "source": [
    "combined_heatmap = combined.drop(['Country','Year(start)','Country Name', 'Year'],axis=1)"
   ],
   "metadata": {
    "collapsed": false,
    "pycharm": {
     "name": "#%%\n"
    }
   }
  },
  {
   "cell_type": "code",
   "execution_count": 327,
   "outputs": [
    {
     "data": {
      "text/plain": "      Export  Import  Total Trade  Trade Balance       GDP\n0     422.41  146.03       568.44         276.38  15856.68\n1     510.90  132.50       643.41         378.40  17805.11\n2     472.63  159.55       632.18         313.07  19907.32\n3     474.34  208.77       683.10         265.57  20146.40\n4     422.56  261.91       684.47         160.65  20497.13\n...      ...     ...          ...            ...       ...\n1753  109.08   60.46       169.54          48.63  20548.68\n1754  163.54   62.20       225.74         101.34  17584.89\n1755  181.72    7.79       189.51         173.93  18115.54\n1756  161.13   13.59       174.72         147.54  19284.29\n1757  175.72    5.71       181.42         170.01  18051.17\n\n[1758 rows x 5 columns]",
      "text/html": "<div>\n<style scoped>\n    .dataframe tbody tr th:only-of-type {\n        vertical-align: middle;\n    }\n\n    .dataframe tbody tr th {\n        vertical-align: top;\n    }\n\n    .dataframe thead th {\n        text-align: right;\n    }\n</style>\n<table border=\"1\" class=\"dataframe\">\n  <thead>\n    <tr style=\"text-align: right;\">\n      <th></th>\n      <th>Export</th>\n      <th>Import</th>\n      <th>Total Trade</th>\n      <th>Trade Balance</th>\n      <th>GDP</th>\n    </tr>\n  </thead>\n  <tbody>\n    <tr>\n      <th>0</th>\n      <td>422.41</td>\n      <td>146.03</td>\n      <td>568.44</td>\n      <td>276.38</td>\n      <td>15856.68</td>\n    </tr>\n    <tr>\n      <th>1</th>\n      <td>510.90</td>\n      <td>132.50</td>\n      <td>643.41</td>\n      <td>378.40</td>\n      <td>17805.11</td>\n    </tr>\n    <tr>\n      <th>2</th>\n      <td>472.63</td>\n      <td>159.55</td>\n      <td>632.18</td>\n      <td>313.07</td>\n      <td>19907.32</td>\n    </tr>\n    <tr>\n      <th>3</th>\n      <td>474.34</td>\n      <td>208.77</td>\n      <td>683.10</td>\n      <td>265.57</td>\n      <td>20146.40</td>\n    </tr>\n    <tr>\n      <th>4</th>\n      <td>422.56</td>\n      <td>261.91</td>\n      <td>684.47</td>\n      <td>160.65</td>\n      <td>20497.13</td>\n    </tr>\n    <tr>\n      <th>...</th>\n      <td>...</td>\n      <td>...</td>\n      <td>...</td>\n      <td>...</td>\n      <td>...</td>\n    </tr>\n    <tr>\n      <th>1753</th>\n      <td>109.08</td>\n      <td>60.46</td>\n      <td>169.54</td>\n      <td>48.63</td>\n      <td>20548.68</td>\n    </tr>\n    <tr>\n      <th>1754</th>\n      <td>163.54</td>\n      <td>62.20</td>\n      <td>225.74</td>\n      <td>101.34</td>\n      <td>17584.89</td>\n    </tr>\n    <tr>\n      <th>1755</th>\n      <td>181.72</td>\n      <td>7.79</td>\n      <td>189.51</td>\n      <td>173.93</td>\n      <td>18115.54</td>\n    </tr>\n    <tr>\n      <th>1756</th>\n      <td>161.13</td>\n      <td>13.59</td>\n      <td>174.72</td>\n      <td>147.54</td>\n      <td>19284.29</td>\n    </tr>\n    <tr>\n      <th>1757</th>\n      <td>175.72</td>\n      <td>5.71</td>\n      <td>181.42</td>\n      <td>170.01</td>\n      <td>18051.17</td>\n    </tr>\n  </tbody>\n</table>\n<p>1758 rows × 5 columns</p>\n</div>"
     },
     "execution_count": 327,
     "metadata": {},
     "output_type": "execute_result"
    }
   ],
   "source": [
    "combined_heatmap"
   ],
   "metadata": {
    "collapsed": false,
    "pycharm": {
     "name": "#%%\n"
    }
   }
  },
  {
   "cell_type": "code",
   "execution_count": 328,
   "outputs": [
    {
     "data": {
      "text/plain": "<AxesSubplot:>"
     },
     "execution_count": 328,
     "metadata": {},
     "output_type": "execute_result"
    },
    {
     "data": {
      "text/plain": "<Figure size 720x360 with 2 Axes>",
      "image/png": "[encoded data removed]"
     },
     "metadata": {},
     "output_type": "display_data"
    }
   ],
   "source": [
    "heatmap1 = combined_heatmap.corr()\n",
    "plt.subplots(figsize=(10,5))\n",
    "sns.heatmap(heatmap1, xticklabels=heatmap1.columns, yticklabels=heatmap1.columns, annot=True, cmap=sns.diverging_palette(220, 20, as_cmap=True))"
   ],
   "metadata": {
    "collapsed": false,
    "pycharm": {
     "name": "#%%\n"
    }
   }
  },
  {
   "cell_type": "markdown",
   "source": [
    "The above heatmap shows a correlation between components like Export, Import, Total Trade, Trade Balance and GDP. It shows the extent to which each component is affected by the other. You can see that Import and Trade Balance are highly negatively correlated which means they are inversely proportional. Higher the Imports, lower is the Trade Balance."
   ],
   "metadata": {
    "collapsed": false,
    "pycharm": {
     "name": "#%% md\n"
    }
   }
  },
  {
   "cell_type": "code",
   "execution_count": 329,
   "outputs": [
    {
     "data": {
      "text/plain": "                    Country Name Country Code  \\\n0                          Aruba          ABW   \n1    Africa Eastern and Southern          AFE   \n2                    Afghanistan          AFG   \n3     Africa Western and Central          AFW   \n4                         Angola          AGO   \n..                           ...          ...   \n261                       Kosovo          XKX   \n262                  Yemen, Rep.          YEM   \n263                 South Africa          ZAF   \n264                       Zambia          ZMB   \n265                     Zimbabwe          ZWE   \n\n                                        Indicator Name  Indicator Code  \\\n0    Net trade in goods and services (BoP, current ...  BN.GSR.GNFS.CD   \n1    Net trade in goods and services (BoP, current ...  BN.GSR.GNFS.CD   \n2    Net trade in goods and services (BoP, current ...  BN.GSR.GNFS.CD   \n3    Net trade in goods and services (BoP, current ...  BN.GSR.GNFS.CD   \n4    Net trade in goods and services (BoP, current ...  BN.GSR.GNFS.CD   \n..                                                 ...             ...   \n261  Net trade in goods and services (BoP, current ...  BN.GSR.GNFS.CD   \n262  Net trade in goods and services (BoP, current ...  BN.GSR.GNFS.CD   \n263  Net trade in goods and services (BoP, current ...  BN.GSR.GNFS.CD   \n264  Net trade in goods and services (BoP, current ...  BN.GSR.GNFS.CD   \n265  Net trade in goods and services (BoP, current ...  BN.GSR.GNFS.CD   \n\n            1960         1961         1962         1963         1964  \\\n0            NaN          NaN          NaN          NaN          NaN   \n1            NaN          NaN          NaN          NaN          NaN   \n2            NaN          NaN          NaN          NaN          NaN   \n3            NaN          NaN          NaN          NaN          NaN   \n4            NaN          NaN          NaN          NaN          NaN   \n..           ...          ...          ...          ...          ...   \n261          NaN          NaN          NaN          NaN          NaN   \n262          NaN          NaN          NaN          NaN          NaN   \n263  377999849.0  639799744.3  743399702.9  510999795.8  198799920.6   \n264          NaN          NaN          NaN          NaN          NaN   \n265          NaN          NaN          NaN          NaN          NaN   \n\n            1965  ...          2011          2012          2013          2014  \\\n0            NaN  ...  1.010056e+08  2.816201e+08 -1.072514e+08  3.798384e+07   \n1            NaN  ...           NaN           NaN           NaN           NaN   \n2            NaN  ... -4.149500e+09 -7.442379e+09 -8.671425e+09 -6.261264e+09   \n3            NaN  ...           NaN           NaN           NaN           NaN   \n4            NaN  ...  2.414421e+10  2.602509e+10  2.016915e+10  7.313314e+09   \n..           ...  ...           ...           ...           ...           ...   \n261          NaN  ... -2.292999e+09 -1.995451e+09 -1.964453e+09 -2.113819e+09   \n262          NaN  ... -3.237628e+08 -4.310360e+09 -3.460906e+09 -5.813165e+09   \n263 -121799951.3  ...  3.577040e+09 -5.624549e+09 -8.513751e+09 -5.763323e+09   \n264          NaN  ...  1.871776e+09  1.251409e+09  5.897951e+08  8.318351e+08   \n265          NaN  ... -4.402367e+09 -4.081525e+09 -4.226655e+09 -3.872564e+09   \n\n             2015          2016          2017          2018          2019  \\\n0    3.045392e+08  3.335406e+08  2.673671e+08  2.874049e+08  3.216642e+08   \n1             NaN           NaN           NaN           NaN           NaN   \n2   -7.044964e+09 -6.191464e+09 -6.803560e+09 -6.378167e+09 -5.855061e+09   \n3             NaN           NaN           NaN           NaN           NaN   \n4   -3.531471e+09  2.642737e+09  7.341498e+09  1.550154e+10  1.288081e+10   \n..            ...           ...           ...           ...           ...   \n261 -1.828855e+09 -1.824923e+09 -1.842030e+09 -2.219858e+09 -2.142138e+09   \n262 -5.830133e+09 -7.317641e+09           NaN           NaN           NaN   \n263 -4.456306e+09  1.533892e+09  4.349083e+09  1.830402e+09  2.039797e+09   \n264 -6.451492e+08 -5.118977e+08  3.508694e+08 -2.104189e+08  2.221698e+08   \n265 -3.250613e+09 -2.129621e+09 -1.581086e+09 -2.464036e+09 -1.314305e+08   \n\n             2020  \n0   -2.201169e+08  \n1             NaN  \n2   -5.506547e+09  \n3             NaN  \n4    5.858758e+09  \n..            ...  \n261 -2.499808e+09  \n262           NaN  \n263  1.510318e+10  \n264  2.722224e+09  \n265 -2.260065e+08  \n\n[266 rows x 65 columns]",
      "text/html": "<div>\n<style scoped>\n    .dataframe tbody tr th:only-of-type {\n        vertical-align: middle;\n    }\n\n    .dataframe tbody tr th {\n        vertical-align: top;\n    }\n\n    .dataframe thead th {\n        text-align: right;\n    }\n</style>\n<table border=\"1\" class=\"dataframe\">\n  <thead>\n    <tr style=\"text-align: right;\">\n      <th></th>\n      <th>Country Name</th>\n      <th>Country Code</th>\n      <th>Indicator Name</th>\n      <th>Indicator Code</th>\n      <th>1960</th>\n      <th>1961</th>\n      <th>1962</th>\n      <th>1963</th>\n      <th>1964</th>\n      <th>1965</th>\n      <th>...</th>\n      <th>2011</th>\n      <th>2012</th>\n      <th>2013</th>\n      <th>2014</th>\n      <th>2015</th>\n      <th>2016</th>\n      <th>2017</th>\n      <th>2018</th>\n      <th>2019</th>\n      <th>2020</th>\n    </tr>\n  </thead>\n  <tbody>\n    <tr>\n      <th>0</th>\n      <td>Aruba</td>\n      <td>ABW</td>\n      <td>Net trade in goods and services (BoP, current ...</td>\n      <td>BN.GSR.GNFS.CD</td>\n      <td>NaN</td>\n      <td>NaN</td>\n      <td>NaN</td>\n      <td>NaN</td>\n      <td>NaN</td>\n      <td>NaN</td>\n      <td>...</td>\n      <td>1.010056e+08</td>\n      <td>2.816201e+08</td>\n      <td>-1.072514e+08</td>\n      <td>3.798384e+07</td>\n      <td>3.045392e+08</td>\n      <td>3.335406e+08</td>\n      <td>2.673671e+08</td>\n      <td>2.874049e+08</td>\n      <td>3.216642e+08</td>\n      <td>-2.201169e+08</td>\n    </tr>\n    <tr>\n      <th>1</th>\n      <td>Africa Eastern and Southern</td>\n      <td>AFE</td>\n      <td>Net trade in goods and services (BoP, current ...</td>\n      <td>BN.GSR.GNFS.CD</td>\n      <td>NaN</td>\n      <td>NaN</td>\n      <td>NaN</td>\n      <td>NaN</td>\n      <td>NaN</td>\n      <td>NaN</td>\n      <td>...</td>\n      <td>NaN</td>\n      <td>NaN</td>\n      <td>NaN</td>\n      <td>NaN</td>\n      <td>NaN</td>\n      <td>NaN</td>\n      <td>NaN</td>\n      <td>NaN</td>\n      <td>NaN</td>\n      <td>NaN</td>\n    </tr>\n    <tr>\n      <th>2</th>\n      <td>Afghanistan</td>\n      <td>AFG</td>\n      <td>Net trade in goods and services (BoP, current ...</td>\n      <td>BN.GSR.GNFS.CD</td>\n      <td>NaN</td>\n      <td>NaN</td>\n      <td>NaN</td>\n      <td>NaN</td>\n      <td>NaN</td>\n      <td>NaN</td>\n      <td>...</td>\n      <td>-4.149500e+09</td>\n      <td>-7.442379e+09</td>\n      <td>-8.671425e+09</td>\n      <td>-6.261264e+09</td>\n      <td>-7.044964e+09</td>\n      <td>-6.191464e+09</td>\n      <td>-6.803560e+09</td>\n      <td>-6.378167e+09</td>\n      <td>-5.855061e+09</td>\n      <td>-5.506547e+09</td>\n    </tr>\n    <tr>\n      <th>3</th>\n      <td>Africa Western and Central</td>\n      <td>AFW</td>\n      <td>Net trade in goods and services (BoP, current ...</td>\n      <td>BN.GSR.GNFS.CD</td>\n      <td>NaN</td>\n      <td>NaN</td>\n      <td>NaN</td>\n      <td>NaN</td>\n      <td>NaN</td>\n      <td>NaN</td>\n      <td>...</td>\n      <td>NaN</td>\n      <td>NaN</td>\n      <td>NaN</td>\n      <td>NaN</td>\n      <td>NaN</td>\n      <td>NaN</td>\n      <td>NaN</td>\n      <td>NaN</td>\n      <td>NaN</td>\n      <td>NaN</td>\n    </tr>\n    <tr>\n      <th>4</th>\n      <td>Angola</td>\n      <td>AGO</td>\n      <td>Net trade in goods and services (BoP, current ...</td>\n      <td>BN.GSR.GNFS.CD</td>\n      <td>NaN</td>\n      <td>NaN</td>\n      <td>NaN</td>\n      <td>NaN</td>\n      <td>NaN</td>\n      <td>NaN</td>\n      <td>...</td>\n      <td>2.414421e+10</td>\n      <td>2.602509e+10</td>\n      <td>2.016915e+10</td>\n      <td>7.313314e+09</td>\n      <td>-3.531471e+09</td>\n      <td>2.642737e+09</td>\n      <td>7.341498e+09</td>\n      <td>1.550154e+10</td>\n      <td>1.288081e+10</td>\n      <td>5.858758e+09</td>\n    </tr>\n    <tr>\n      <th>...</th>\n      <td>...</td>\n      <td>...</td>\n      <td>...</td>\n      <td>...</td>\n      <td>...</td>\n      <td>...</td>\n      <td>...</td>\n      <td>...</td>\n      <td>...</td>\n      <td>...</td>\n      <td>...</td>\n      <td>...</td>\n      <td>...</td>\n      <td>...</td>\n      <td>...</td>\n      <td>...</td>\n      <td>...</td>\n      <td>...</td>\n      <td>...</td>\n      <td>...</td>\n      <td>...</td>\n    </tr>\n    <tr>\n      <th>261</th>\n      <td>Kosovo</td>\n      <td>XKX</td>\n      <td>Net trade in goods and services (BoP, current ...</td>\n      <td>BN.GSR.GNFS.CD</td>\n      <td>NaN</td>\n      <td>NaN</td>\n      <td>NaN</td>\n      <td>NaN</td>\n      <td>NaN</td>\n      <td>NaN</td>\n      <td>...</td>\n      <td>-2.292999e+09</td>\n      <td>-1.995451e+09</td>\n      <td>-1.964453e+09</td>\n      <td>-2.113819e+09</td>\n      <td>-1.828855e+09</td>\n      <td>-1.824923e+09</td>\n      <td>-1.842030e+09</td>\n      <td>-2.219858e+09</td>\n      <td>-2.142138e+09</td>\n      <td>-2.499808e+09</td>\n    </tr>\n    <tr>\n      <th>262</th>\n      <td>Yemen, Rep.</td>\n      <td>YEM</td>\n      <td>Net trade in goods and services (BoP, current ...</td>\n      <td>BN.GSR.GNFS.CD</td>\n      <td>NaN</td>\n      <td>NaN</td>\n      <td>NaN</td>\n      <td>NaN</td>\n      <td>NaN</td>\n      <td>NaN</td>\n      <td>...</td>\n      <td>-3.237628e+08</td>\n      <td>-4.310360e+09</td>\n      <td>-3.460906e+09</td>\n      <td>-5.813165e+09</td>\n      <td>-5.830133e+09</td>\n      <td>-7.317641e+09</td>\n      <td>NaN</td>\n      <td>NaN</td>\n      <td>NaN</td>\n      <td>NaN</td>\n    </tr>\n    <tr>\n      <th>263</th>\n      <td>South Africa</td>\n      <td>ZAF</td>\n      <td>Net trade in goods and services (BoP, current ...</td>\n      <td>BN.GSR.GNFS.CD</td>\n      <td>377999849.0</td>\n      <td>639799744.3</td>\n      <td>743399702.9</td>\n      <td>510999795.8</td>\n      <td>198799920.6</td>\n      <td>-121799951.3</td>\n      <td>...</td>\n      <td>3.577040e+09</td>\n      <td>-5.624549e+09</td>\n      <td>-8.513751e+09</td>\n      <td>-5.763323e+09</td>\n      <td>-4.456306e+09</td>\n      <td>1.533892e+09</td>\n      <td>4.349083e+09</td>\n      <td>1.830402e+09</td>\n      <td>2.039797e+09</td>\n      <td>1.510318e+10</td>\n    </tr>\n    <tr>\n      <th>264</th>\n      <td>Zambia</td>\n      <td>ZMB</td>\n      <td>Net trade in goods and services (BoP, current ...</td>\n      <td>BN.GSR.GNFS.CD</td>\n      <td>NaN</td>\n      <td>NaN</td>\n      <td>NaN</td>\n      <td>NaN</td>\n      <td>NaN</td>\n      <td>NaN</td>\n      <td>...</td>\n      <td>1.871776e+09</td>\n      <td>1.251409e+09</td>\n      <td>5.897951e+08</td>\n      <td>8.318351e+08</td>\n      <td>-6.451492e+08</td>\n      <td>-5.118977e+08</td>\n      <td>3.508694e+08</td>\n      <td>-2.104189e+08</td>\n      <td>2.221698e+08</td>\n      <td>2.722224e+09</td>\n    </tr>\n    <tr>\n      <th>265</th>\n      <td>Zimbabwe</td>\n      <td>ZWE</td>\n      <td>Net trade in goods and services (BoP, current ...</td>\n      <td>BN.GSR.GNFS.CD</td>\n      <td>NaN</td>\n      <td>NaN</td>\n      <td>NaN</td>\n      <td>NaN</td>\n      <td>NaN</td>\n      <td>NaN</td>\n      <td>...</td>\n      <td>-4.402367e+09</td>\n      <td>-4.081525e+09</td>\n      <td>-4.226655e+09</td>\n      <td>-3.872564e+09</td>\n      <td>-3.250613e+09</td>\n      <td>-2.129621e+09</td>\n      <td>-1.581086e+09</td>\n      <td>-2.464036e+09</td>\n      <td>-1.314305e+08</td>\n      <td>-2.260065e+08</td>\n    </tr>\n  </tbody>\n</table>\n<p>266 rows × 65 columns</p>\n</div>"
     },
     "execution_count": 329,
     "metadata": {},
     "output_type": "execute_result"
    }
   ],
   "source": [
    "duplicate_file1"
   ],
   "metadata": {
    "collapsed": false,
    "pycharm": {
     "name": "#%%\n"
    }
   }
  },
  {
   "cell_type": "code",
   "execution_count": 330,
   "outputs": [],
   "source": [
    "duplicate_file1 = duplicate_file1.drop(columns = ['Country Code', 'Indicator Name', 'Indicator Code'])"
   ],
   "metadata": {
    "collapsed": false,
    "pycharm": {
     "name": "#%%\n"
    }
   }
  },
  {
   "cell_type": "code",
   "execution_count": 331,
   "outputs": [
    {
     "data": {
      "text/plain": "                    Country Name         1960         1961         1962  \\\n0                          Aruba          NaN          NaN          NaN   \n1    Africa Eastern and Southern          NaN          NaN          NaN   \n2                    Afghanistan          NaN          NaN          NaN   \n3     Africa Western and Central          NaN          NaN          NaN   \n4                         Angola          NaN          NaN          NaN   \n..                           ...          ...          ...          ...   \n261                       Kosovo          NaN          NaN          NaN   \n262                  Yemen, Rep.          NaN          NaN          NaN   \n263                 South Africa  377999849.0  639799744.3  743399702.9   \n264                       Zambia          NaN          NaN          NaN   \n265                     Zimbabwe          NaN          NaN          NaN   \n\n            1963         1964         1965         1966         1967  \\\n0            NaN          NaN          NaN          NaN          NaN   \n1            NaN          NaN          NaN          NaN          NaN   \n2            NaN          NaN          NaN          NaN          NaN   \n3            NaN          NaN          NaN          NaN          NaN   \n4            NaN          NaN          NaN          NaN          NaN   \n..           ...          ...          ...          ...          ...   \n261          NaN          NaN          NaN          NaN          NaN   \n262          NaN          NaN          NaN          NaN          NaN   \n263  510999795.8  198799920.6 -121799951.3  264599894.3  47599980.98   \n264          NaN          NaN          NaN          NaN          NaN   \n265          NaN          NaN          NaN          NaN          NaN   \n\n            1968  ...          2011          2012          2013          2014  \\\n0            NaN  ...  1.010056e+08  2.816201e+08 -1.072514e+08  3.798384e+07   \n1            NaN  ...           NaN           NaN           NaN           NaN   \n2            NaN  ... -4.149500e+09 -7.442379e+09 -8.671425e+09 -6.261264e+09   \n3            NaN  ...           NaN           NaN           NaN           NaN   \n4            NaN  ...  2.414421e+10  2.602509e+10  2.016915e+10  7.313314e+09   \n..           ...  ...           ...           ...           ...           ...   \n261          NaN  ... -2.292999e+09 -1.995451e+09 -1.964453e+09 -2.113819e+09   \n262          NaN  ... -3.237628e+08 -4.310360e+09 -3.460906e+09 -5.813165e+09   \n263  449399820.4  ...  3.577040e+09 -5.624549e+09 -8.513751e+09 -5.763323e+09   \n264          NaN  ...  1.871776e+09  1.251409e+09  5.897951e+08  8.318351e+08   \n265          NaN  ... -4.402367e+09 -4.081525e+09 -4.226655e+09 -3.872564e+09   \n\n             2015          2016          2017          2018          2019  \\\n0    3.045392e+08  3.335406e+08  2.673671e+08  2.874049e+08  3.216642e+08   \n1             NaN           NaN           NaN           NaN           NaN   \n2   -7.044964e+09 -6.191464e+09 -6.803560e+09 -6.378167e+09 -5.855061e+09   \n3             NaN           NaN           NaN           NaN           NaN   \n4   -3.531471e+09  2.642737e+09  7.341498e+09  1.550154e+10  1.288081e+10   \n..            ...           ...           ...           ...           ...   \n261 -1.828855e+09 -1.824923e+09 -1.842030e+09 -2.219858e+09 -2.142138e+09   \n262 -5.830133e+09 -7.317641e+09           NaN           NaN           NaN   \n263 -4.456306e+09  1.533892e+09  4.349083e+09  1.830402e+09  2.039797e+09   \n264 -6.451492e+08 -5.118977e+08  3.508694e+08 -2.104189e+08  2.221698e+08   \n265 -3.250613e+09 -2.129621e+09 -1.581086e+09 -2.464036e+09 -1.314305e+08   \n\n             2020  \n0   -2.201169e+08  \n1             NaN  \n2   -5.506547e+09  \n3             NaN  \n4    5.858758e+09  \n..            ...  \n261 -2.499808e+09  \n262           NaN  \n263  1.510318e+10  \n264  2.722224e+09  \n265 -2.260065e+08  \n\n[266 rows x 62 columns]",
      "text/html": "<div>\n<style scoped>\n    .dataframe tbody tr th:only-of-type {\n        vertical-align: middle;\n    }\n\n    .dataframe tbody tr th {\n        vertical-align: top;\n    }\n\n    .dataframe thead th {\n        text-align: right;\n    }\n</style>\n<table border=\"1\" class=\"dataframe\">\n  <thead>\n    <tr style=\"text-align: right;\">\n      <th></th>\n      <th>Country Name</th>\n      <th>1960</th>\n      <th>1961</th>\n      <th>1962</th>\n      <th>1963</th>\n      <th>1964</th>\n      <th>1965</th>\n      <th>1966</th>\n      <th>1967</th>\n      <th>1968</th>\n      <th>...</th>\n      <th>2011</th>\n      <th>2012</th>\n      <th>2013</th>\n      <th>2014</th>\n      <th>2015</th>\n      <th>2016</th>\n      <th>2017</th>\n      <th>2018</th>\n      <th>2019</th>\n      <th>2020</th>\n    </tr>\n  </thead>\n  <tbody>\n    <tr>\n      <th>0</th>\n      <td>Aruba</td>\n      <td>NaN</td>\n      <td>NaN</td>\n      <td>NaN</td>\n      <td>NaN</td>\n      <td>NaN</td>\n      <td>NaN</td>\n      <td>NaN</td>\n      <td>NaN</td>\n      <td>NaN</td>\n      <td>...</td>\n      <td>1.010056e+08</td>\n      <td>2.816201e+08</td>\n      <td>-1.072514e+08</td>\n      <td>3.798384e+07</td>\n      <td>3.045392e+08</td>\n      <td>3.335406e+08</td>\n      <td>2.673671e+08</td>\n      <td>2.874049e+08</td>\n      <td>3.216642e+08</td>\n      <td>-2.201169e+08</td>\n    </tr>\n    <tr>\n      <th>1</th>\n      <td>Africa Eastern and Southern</td>\n      <td>NaN</td>\n      <td>NaN</td>\n      <td>NaN</td>\n      <td>NaN</td>\n      <td>NaN</td>\n      <td>NaN</td>\n      <td>NaN</td>\n      <td>NaN</td>\n      <td>NaN</td>\n      <td>...</td>\n      <td>NaN</td>\n      <td>NaN</td>\n      <td>NaN</td>\n      <td>NaN</td>\n      <td>NaN</td>\n      <td>NaN</td>\n      <td>NaN</td>\n      <td>NaN</td>\n      <td>NaN</td>\n      <td>NaN</td>\n    </tr>\n    <tr>\n      <th>2</th>\n      <td>Afghanistan</td>\n      <td>NaN</td>\n      <td>NaN</td>\n      <td>NaN</td>\n      <td>NaN</td>\n      <td>NaN</td>\n      <td>NaN</td>\n      <td>NaN</td>\n      <td>NaN</td>\n      <td>NaN</td>\n      <td>...</td>\n      <td>-4.149500e+09</td>\n      <td>-7.442379e+09</td>\n      <td>-8.671425e+09</td>\n      <td>-6.261264e+09</td>\n      <td>-7.044964e+09</td>\n      <td>-6.191464e+09</td>\n      <td>-6.803560e+09</td>\n      <td>-6.378167e+09</td>\n      <td>-5.855061e+09</td>\n      <td>-5.506547e+09</td>\n    </tr>\n    <tr>\n      <th>3</th>\n      <td>Africa Western and Central</td>\n      <td>NaN</td>\n      <td>NaN</td>\n      <td>NaN</td>\n      <td>NaN</td>\n      <td>NaN</td>\n      <td>NaN</td>\n      <td>NaN</td>\n      <td>NaN</td>\n      <td>NaN</td>\n      <td>...</td>\n      <td>NaN</td>\n      <td>NaN</td>\n      <td>NaN</td>\n      <td>NaN</td>\n      <td>NaN</td>\n      <td>NaN</td>\n      <td>NaN</td>\n      <td>NaN</td>\n      <td>NaN</td>\n      <td>NaN</td>\n    </tr>\n    <tr>\n      <th>4</th>\n      <td>Angola</td>\n      <td>NaN</td>\n      <td>NaN</td>\n      <td>NaN</td>\n      <td>NaN</td>\n      <td>NaN</td>\n      <td>NaN</td>\n      <td>NaN</td>\n      <td>NaN</td>\n      <td>NaN</td>\n      <td>...</td>\n      <td>2.414421e+10</td>\n      <td>2.602509e+10</td>\n      <td>2.016915e+10</td>\n      <td>7.313314e+09</td>\n      <td>-3.531471e+09</td>\n      <td>2.642737e+09</td>\n      <td>7.341498e+09</td>\n      <td>1.550154e+10</td>\n      <td>1.288081e+10</td>\n      <td>5.858758e+09</td>\n    </tr>\n    <tr>\n      <th>...</th>\n      <td>...</td>\n      <td>...</td>\n      <td>...</td>\n      <td>...</td>\n      <td>...</td>\n      <td>...</td>\n      <td>...</td>\n      <td>...</td>\n      <td>...</td>\n      <td>...</td>\n      <td>...</td>\n      <td>...</td>\n      <td>...</td>\n      <td>...</td>\n      <td>...</td>\n      <td>...</td>\n      <td>...</td>\n      <td>...</td>\n      <td>...</td>\n      <td>...</td>\n      <td>...</td>\n    </tr>\n    <tr>\n      <th>261</th>\n      <td>Kosovo</td>\n      <td>NaN</td>\n      <td>NaN</td>\n      <td>NaN</td>\n      <td>NaN</td>\n      <td>NaN</td>\n      <td>NaN</td>\n      <td>NaN</td>\n      <td>NaN</td>\n      <td>NaN</td>\n      <td>...</td>\n      <td>-2.292999e+09</td>\n      <td>-1.995451e+09</td>\n      <td>-1.964453e+09</td>\n      <td>-2.113819e+09</td>\n      <td>-1.828855e+09</td>\n      <td>-1.824923e+09</td>\n      <td>-1.842030e+09</td>\n      <td>-2.219858e+09</td>\n      <td>-2.142138e+09</td>\n      <td>-2.499808e+09</td>\n    </tr>\n    <tr>\n      <th>262</th>\n      <td>Yemen, Rep.</td>\n      <td>NaN</td>\n      <td>NaN</td>\n      <td>NaN</td>\n      <td>NaN</td>\n      <td>NaN</td>\n      <td>NaN</td>\n      <td>NaN</td>\n      <td>NaN</td>\n      <td>NaN</td>\n      <td>...</td>\n      <td>-3.237628e+08</td>\n      <td>-4.310360e+09</td>\n      <td>-3.460906e+09</td>\n      <td>-5.813165e+09</td>\n      <td>-5.830133e+09</td>\n      <td>-7.317641e+09</td>\n      <td>NaN</td>\n      <td>NaN</td>\n      <td>NaN</td>\n      <td>NaN</td>\n    </tr>\n    <tr>\n      <th>263</th>\n      <td>South Africa</td>\n      <td>377999849.0</td>\n      <td>639799744.3</td>\n      <td>743399702.9</td>\n      <td>510999795.8</td>\n      <td>198799920.6</td>\n      <td>-121799951.3</td>\n      <td>264599894.3</td>\n      <td>47599980.98</td>\n      <td>449399820.4</td>\n      <td>...</td>\n      <td>3.577040e+09</td>\n      <td>-5.624549e+09</td>\n      <td>-8.513751e+09</td>\n      <td>-5.763323e+09</td>\n      <td>-4.456306e+09</td>\n      <td>1.533892e+09</td>\n      <td>4.349083e+09</td>\n      <td>1.830402e+09</td>\n      <td>2.039797e+09</td>\n      <td>1.510318e+10</td>\n    </tr>\n    <tr>\n      <th>264</th>\n      <td>Zambia</td>\n      <td>NaN</td>\n      <td>NaN</td>\n      <td>NaN</td>\n      <td>NaN</td>\n      <td>NaN</td>\n      <td>NaN</td>\n      <td>NaN</td>\n      <td>NaN</td>\n      <td>NaN</td>\n      <td>...</td>\n      <td>1.871776e+09</td>\n      <td>1.251409e+09</td>\n      <td>5.897951e+08</td>\n      <td>8.318351e+08</td>\n      <td>-6.451492e+08</td>\n      <td>-5.118977e+08</td>\n      <td>3.508694e+08</td>\n      <td>-2.104189e+08</td>\n      <td>2.221698e+08</td>\n      <td>2.722224e+09</td>\n    </tr>\n    <tr>\n      <th>265</th>\n      <td>Zimbabwe</td>\n      <td>NaN</td>\n      <td>NaN</td>\n      <td>NaN</td>\n      <td>NaN</td>\n      <td>NaN</td>\n      <td>NaN</td>\n      <td>NaN</td>\n      <td>NaN</td>\n      <td>NaN</td>\n      <td>...</td>\n      <td>-4.402367e+09</td>\n      <td>-4.081525e+09</td>\n      <td>-4.226655e+09</td>\n      <td>-3.872564e+09</td>\n      <td>-3.250613e+09</td>\n      <td>-2.129621e+09</td>\n      <td>-1.581086e+09</td>\n      <td>-2.464036e+09</td>\n      <td>-1.314305e+08</td>\n      <td>-2.260065e+08</td>\n    </tr>\n  </tbody>\n</table>\n<p>266 rows × 62 columns</p>\n</div>"
     },
     "execution_count": 331,
     "metadata": {},
     "output_type": "execute_result"
    }
   ],
   "source": [
    "duplicate_file1"
   ],
   "metadata": {
    "collapsed": false,
    "pycharm": {
     "name": "#%%\n"
    }
   }
  },
  {
   "cell_type": "code",
   "execution_count": 332,
   "outputs": [],
   "source": [
    "duplicate_file1 = duplicate_file1.set_index('Country Name')"
   ],
   "metadata": {
    "collapsed": false,
    "pycharm": {
     "name": "#%%\n"
    }
   }
  },
  {
   "cell_type": "code",
   "execution_count": 333,
   "outputs": [],
   "source": [
    "for i in range(1960, 2015):\n",
    "       duplicate_file1 = duplicate_file1.drop(columns = str(i))"
   ],
   "metadata": {
    "collapsed": false,
    "pycharm": {
     "name": "#%%\n"
    }
   }
  },
  {
   "cell_type": "code",
   "execution_count": 334,
   "outputs": [],
   "source": [
    "duplicate_file1 = duplicate_file1.stack()"
   ],
   "metadata": {
    "collapsed": false,
    "pycharm": {
     "name": "#%%\n"
    }
   }
  },
  {
   "cell_type": "code",
   "execution_count": 335,
   "outputs": [
    {
     "data": {
      "text/plain": "Country Name      \nAruba         2015    3.045392e+08\n              2016    3.335406e+08\n              2017    2.673671e+08\n              2018    2.874049e+08\n              2019    3.216642e+08\n                          ...     \nZimbabwe      2016   -2.129621e+09\n              2017   -1.581086e+09\n              2018   -2.464036e+09\n              2019   -1.314305e+08\n              2020   -2.260065e+08\nLength: 1079, dtype: float64"
     },
     "execution_count": 335,
     "metadata": {},
     "output_type": "execute_result"
    }
   ],
   "source": [
    "duplicate_file1"
   ],
   "metadata": {
    "collapsed": false,
    "pycharm": {
     "name": "#%%\n"
    }
   }
  },
  {
   "cell_type": "code",
   "execution_count": 336,
   "outputs": [],
   "source": [
    "dat = pd.DataFrame(duplicate_file1)"
   ],
   "metadata": {
    "collapsed": false,
    "pycharm": {
     "name": "#%%\n"
    }
   }
  },
  {
   "cell_type": "code",
   "execution_count": 337,
   "outputs": [
    {
     "data": {
      "text/plain": "                              0\nCountry Name                   \nAruba        2015  3.045392e+08\n             2016  3.335406e+08\n             2017  2.673671e+08\n             2018  2.874049e+08\n             2019  3.216642e+08\n...                         ...\nZimbabwe     2016 -2.129621e+09\n             2017 -1.581086e+09\n             2018 -2.464036e+09\n             2019 -1.314305e+08\n             2020 -2.260065e+08\n\n[1079 rows x 1 columns]",
      "text/html": "<div>\n<style scoped>\n    .dataframe tbody tr th:only-of-type {\n        vertical-align: middle;\n    }\n\n    .dataframe tbody tr th {\n        vertical-align: top;\n    }\n\n    .dataframe thead th {\n        text-align: right;\n    }\n</style>\n<table border=\"1\" class=\"dataframe\">\n  <thead>\n    <tr style=\"text-align: right;\">\n      <th></th>\n      <th></th>\n      <th>0</th>\n    </tr>\n    <tr>\n      <th>Country Name</th>\n      <th></th>\n      <th></th>\n    </tr>\n  </thead>\n  <tbody>\n    <tr>\n      <th rowspan=\"5\" valign=\"top\">Aruba</th>\n      <th>2015</th>\n      <td>3.045392e+08</td>\n    </tr>\n    <tr>\n      <th>2016</th>\n      <td>3.335406e+08</td>\n    </tr>\n    <tr>\n      <th>2017</th>\n      <td>2.673671e+08</td>\n    </tr>\n    <tr>\n      <th>2018</th>\n      <td>2.874049e+08</td>\n    </tr>\n    <tr>\n      <th>2019</th>\n      <td>3.216642e+08</td>\n    </tr>\n    <tr>\n      <th>...</th>\n      <th>...</th>\n      <td>...</td>\n    </tr>\n    <tr>\n      <th rowspan=\"5\" valign=\"top\">Zimbabwe</th>\n      <th>2016</th>\n      <td>-2.129621e+09</td>\n    </tr>\n    <tr>\n      <th>2017</th>\n      <td>-1.581086e+09</td>\n    </tr>\n    <tr>\n      <th>2018</th>\n      <td>-2.464036e+09</td>\n    </tr>\n    <tr>\n      <th>2019</th>\n      <td>-1.314305e+08</td>\n    </tr>\n    <tr>\n      <th>2020</th>\n      <td>-2.260065e+08</td>\n    </tr>\n  </tbody>\n</table>\n<p>1079 rows × 1 columns</p>\n</div>"
     },
     "execution_count": 337,
     "metadata": {},
     "output_type": "execute_result"
    }
   ],
   "source": [
    "dat"
   ],
   "metadata": {
    "collapsed": false,
    "pycharm": {
     "name": "#%%\n"
    }
   }
  },
  {
   "cell_type": "code",
   "execution_count": 338,
   "outputs": [],
   "source": [
    "dat2 = dat.index.set_names('Year', level=len(dat.index.names)-1, inplace=True)\n",
    "dat2 = dat.reset_index().rename(columns={0:'Net Trade'})"
   ],
   "metadata": {
    "collapsed": false,
    "pycharm": {
     "name": "#%%\n"
    }
   }
  },
  {
   "cell_type": "code",
   "execution_count": 339,
   "outputs": [
    {
     "data": {
      "text/plain": "     Country Name  Year     Net Trade\n0           Aruba  2015  3.045392e+08\n1           Aruba  2016  3.335406e+08\n2           Aruba  2017  2.673671e+08\n3           Aruba  2018  2.874049e+08\n4           Aruba  2019  3.216642e+08\n...           ...   ...           ...\n1074     Zimbabwe  2016 -2.129621e+09\n1075     Zimbabwe  2017 -1.581086e+09\n1076     Zimbabwe  2018 -2.464036e+09\n1077     Zimbabwe  2019 -1.314305e+08\n1078     Zimbabwe  2020 -2.260065e+08\n\n[1079 rows x 3 columns]",
      "text/html": "<div>\n<style scoped>\n    .dataframe tbody tr th:only-of-type {\n        vertical-align: middle;\n    }\n\n    .dataframe tbody tr th {\n        vertical-align: top;\n    }\n\n    .dataframe thead th {\n        text-align: right;\n    }\n</style>\n<table border=\"1\" class=\"dataframe\">\n  <thead>\n    <tr style=\"text-align: right;\">\n      <th></th>\n      <th>Country Name</th>\n      <th>Year</th>\n      <th>Net Trade</th>\n    </tr>\n  </thead>\n  <tbody>\n    <tr>\n      <th>0</th>\n      <td>Aruba</td>\n      <td>2015</td>\n      <td>3.045392e+08</td>\n    </tr>\n    <tr>\n      <th>1</th>\n      <td>Aruba</td>\n      <td>2016</td>\n      <td>3.335406e+08</td>\n    </tr>\n    <tr>\n      <th>2</th>\n      <td>Aruba</td>\n      <td>2017</td>\n      <td>2.673671e+08</td>\n    </tr>\n    <tr>\n      <th>3</th>\n      <td>Aruba</td>\n      <td>2018</td>\n      <td>2.874049e+08</td>\n    </tr>\n    <tr>\n      <th>4</th>\n      <td>Aruba</td>\n      <td>2019</td>\n      <td>3.216642e+08</td>\n    </tr>\n    <tr>\n      <th>...</th>\n      <td>...</td>\n      <td>...</td>\n      <td>...</td>\n    </tr>\n    <tr>\n      <th>1074</th>\n      <td>Zimbabwe</td>\n      <td>2016</td>\n      <td>-2.129621e+09</td>\n    </tr>\n    <tr>\n      <th>1075</th>\n      <td>Zimbabwe</td>\n      <td>2017</td>\n      <td>-1.581086e+09</td>\n    </tr>\n    <tr>\n      <th>1076</th>\n      <td>Zimbabwe</td>\n      <td>2018</td>\n      <td>-2.464036e+09</td>\n    </tr>\n    <tr>\n      <th>1077</th>\n      <td>Zimbabwe</td>\n      <td>2019</td>\n      <td>-1.314305e+08</td>\n    </tr>\n    <tr>\n      <th>1078</th>\n      <td>Zimbabwe</td>\n      <td>2020</td>\n      <td>-2.260065e+08</td>\n    </tr>\n  </tbody>\n</table>\n<p>1079 rows × 3 columns</p>\n</div>"
     },
     "execution_count": 339,
     "metadata": {},
     "output_type": "execute_result"
    }
   ],
   "source": [
    "dat2"
   ],
   "metadata": {
    "collapsed": false,
    "pycharm": {
     "name": "#%%\n"
    }
   }
  },
  {
   "cell_type": "code",
   "execution_count": 340,
   "outputs": [],
   "source": [
    "dat2['Year']=dat2['Year'].astype(int)\n",
    "dat2['Net Trade']=dat2['Net Trade'].astype(float)"
   ],
   "metadata": {
    "collapsed": false,
    "pycharm": {
     "name": "#%%\n"
    }
   }
  },
  {
   "cell_type": "code",
   "execution_count": 341,
   "outputs": [],
   "source": [
    "heatmap2_data = pd.pivot_table(dat2, values='Net Trade',\n",
    "                     index=['Country Name'],\n",
    "                     columns='Year')"
   ],
   "metadata": {
    "collapsed": false,
    "pycharm": {
     "name": "#%%\n"
    }
   }
  },
  {
   "cell_type": "code",
   "execution_count": 342,
   "outputs": [
    {
     "data": {
      "text/plain": "Year                        2015          2016          2017          2018  \\\nCountry Name                                                                 \nAfghanistan        -7.044964e+09 -6.191464e+09 -6.803560e+09 -6.378167e+09   \nAlbania            -1.966181e+09 -2.001510e+09 -1.978659e+09 -2.069587e+09   \nAlgeria            -2.538491e+10 -2.744949e+10 -2.240264e+10 -1.570139e+10   \nAndorra                      NaN           NaN           NaN           NaN   \nAngola             -3.531471e+09  2.642737e+09  7.341498e+09  1.550154e+10   \n...                          ...           ...           ...           ...   \nVietnam             2.609000e+09  6.784000e+09  6.816000e+09  1.286013e+10   \nWest Bank and Gaza -5.401125e+09 -5.664562e+09 -5.967411e+09 -6.425749e+09   \nYemen, Rep.        -5.830133e+09 -7.317641e+09           NaN           NaN   \nZambia             -6.451492e+08 -5.118977e+08  3.508694e+08 -2.104189e+08   \nZimbabwe           -3.250613e+09 -2.129621e+09 -1.581086e+09 -2.464036e+09   \n\nYear                        2019          2020  \nCountry Name                                    \nAfghanistan        -5.855061e+09 -5.506547e+09  \nAlbania            -2.103429e+09 -2.210462e+09  \nAlgeria            -1.570764e+10 -1.749259e+10  \nAndorra             3.027997e+08           NaN  \nAngola              1.288081e+10  5.858758e+09  \n...                          ...           ...  \nVietnam             1.914325e+10  2.029100e+10  \nWest Bank and Gaza -6.502449e+09 -5.452071e+09  \nYemen, Rep.                  NaN           NaN  \nZambia              2.221698e+08  2.722224e+09  \nZimbabwe           -1.314305e+08 -2.260065e+08  \n\n[191 rows x 6 columns]",
      "text/html": "<div>\n<style scoped>\n    .dataframe tbody tr th:only-of-type {\n        vertical-align: middle;\n    }\n\n    .dataframe tbody tr th {\n        vertical-align: top;\n    }\n\n    .dataframe thead th {\n        text-align: right;\n    }\n</style>\n<table border=\"1\" class=\"dataframe\">\n  <thead>\n    <tr style=\"text-align: right;\">\n      <th>Year</th>\n      <th>2015</th>\n      <th>2016</th>\n      <th>2017</th>\n      <th>2018</th>\n      <th>2019</th>\n      <th>2020</th>\n    </tr>\n    <tr>\n      <th>Country Name</th>\n      <th></th>\n      <th></th>\n      <th></th>\n      <th></th>\n      <th></th>\n      <th></th>\n    </tr>\n  </thead>\n  <tbody>\n    <tr>\n      <th>Afghanistan</th>\n      <td>-7.044964e+09</td>\n      <td>-6.191464e+09</td>\n      <td>-6.803560e+09</td>\n      <td>-6.378167e+09</td>\n      <td>-5.855061e+09</td>\n      <td>-5.506547e+09</td>\n    </tr>\n    <tr>\n      <th>Albania</th>\n      <td>-1.966181e+09</td>\n      <td>-2.001510e+09</td>\n      <td>-1.978659e+09</td>\n      <td>-2.069587e+09</td>\n      <td>-2.103429e+09</td>\n      <td>-2.210462e+09</td>\n    </tr>\n    <tr>\n      <th>Algeria</th>\n      <td>-2.538491e+10</td>\n      <td>-2.744949e+10</td>\n      <td>-2.240264e+10</td>\n      <td>-1.570139e+10</td>\n      <td>-1.570764e+10</td>\n      <td>-1.749259e+10</td>\n    </tr>\n    <tr>\n      <th>Andorra</th>\n      <td>NaN</td>\n      <td>NaN</td>\n      <td>NaN</td>\n      <td>NaN</td>\n      <td>3.027997e+08</td>\n      <td>NaN</td>\n    </tr>\n    <tr>\n      <th>Angola</th>\n      <td>-3.531471e+09</td>\n      <td>2.642737e+09</td>\n      <td>7.341498e+09</td>\n      <td>1.550154e+10</td>\n      <td>1.288081e+10</td>\n      <td>5.858758e+09</td>\n    </tr>\n    <tr>\n      <th>...</th>\n      <td>...</td>\n      <td>...</td>\n      <td>...</td>\n      <td>...</td>\n      <td>...</td>\n      <td>...</td>\n    </tr>\n    <tr>\n      <th>Vietnam</th>\n      <td>2.609000e+09</td>\n      <td>6.784000e+09</td>\n      <td>6.816000e+09</td>\n      <td>1.286013e+10</td>\n      <td>1.914325e+10</td>\n      <td>2.029100e+10</td>\n    </tr>\n    <tr>\n      <th>West Bank and Gaza</th>\n      <td>-5.401125e+09</td>\n      <td>-5.664562e+09</td>\n      <td>-5.967411e+09</td>\n      <td>-6.425749e+09</td>\n      <td>-6.502449e+09</td>\n      <td>-5.452071e+09</td>\n    </tr>\n    <tr>\n      <th>Yemen, Rep.</th>\n      <td>-5.830133e+09</td>\n      <td>-7.317641e+09</td>\n      <td>NaN</td>\n      <td>NaN</td>\n      <td>NaN</td>\n      <td>NaN</td>\n    </tr>\n    <tr>\n      <th>Zambia</th>\n      <td>-6.451492e+08</td>\n      <td>-5.118977e+08</td>\n      <td>3.508694e+08</td>\n      <td>-2.104189e+08</td>\n      <td>2.221698e+08</td>\n      <td>2.722224e+09</td>\n    </tr>\n    <tr>\n      <th>Zimbabwe</th>\n      <td>-3.250613e+09</td>\n      <td>-2.129621e+09</td>\n      <td>-1.581086e+09</td>\n      <td>-2.464036e+09</td>\n      <td>-1.314305e+08</td>\n      <td>-2.260065e+08</td>\n    </tr>\n  </tbody>\n</table>\n<p>191 rows × 6 columns</p>\n</div>"
     },
     "execution_count": 342,
     "metadata": {},
     "output_type": "execute_result"
    }
   ],
   "source": [
    "heatmap2_data"
   ],
   "metadata": {
    "collapsed": false,
    "pycharm": {
     "name": "#%%\n"
    }
   }
  },
  {
   "cell_type": "code",
   "execution_count": 343,
   "outputs": [],
   "source": [
    "heatmap2_data['Total of all years'] = heatmap2_data.sum(axis=1)"
   ],
   "metadata": {
    "collapsed": false,
    "pycharm": {
     "name": "#%%\n"
    }
   }
  },
  {
   "cell_type": "code",
   "execution_count": 344,
   "outputs": [],
   "source": [
    "heatmap2_data = heatmap2_data.sort_values(by = 'Total of all years', ascending = False).head(5)"
   ],
   "metadata": {
    "collapsed": false,
    "pycharm": {
     "name": "#%%\n"
    }
   }
  },
  {
   "cell_type": "code",
   "execution_count": 345,
   "outputs": [
    {
     "data": {
      "text/plain": "Year                        2015          2016          2017          2018  \\\nCountry Name                                                                 \nEuro area           4.405600e+11  4.540740e+11  4.941170e+11  4.765640e+11   \nGermany             2.550380e+11  2.564020e+11  2.605920e+11  2.459330e+11   \nChina P RP          3.578710e+11  2.557370e+11  2.170100e+11  8.790515e+10   \nRussian Federation  1.112460e+11  6.625605e+10  8.323475e+10  1.649760e+11   \nSingapore           8.407688e+10  8.341978e+10  9.077379e+10  1.082060e+11   \n\nYear                        2019          2020  Total of all years  \nCountry Name                                                        \nEuro area           3.850180e+11  4.030330e+11        2.653366e+12  \nGermany             2.194700e+11  2.220560e+11        1.459491e+12  \nChina P RP          1.318440e+11  3.696730e+11        1.420040e+12  \nRussian Federation  1.291000e+11  7.668946e+10        6.315023e+11  \nSingapore           1.058310e+11  1.085180e+11        5.808255e+11  ",
      "text/html": "<div>\n<style scoped>\n    .dataframe tbody tr th:only-of-type {\n        vertical-align: middle;\n    }\n\n    .dataframe tbody tr th {\n        vertical-align: top;\n    }\n\n    .dataframe thead th {\n        text-align: right;\n    }\n</style>\n<table border=\"1\" class=\"dataframe\">\n  <thead>\n    <tr style=\"text-align: right;\">\n      <th>Year</th>\n      <th>2015</th>\n      <th>2016</th>\n      <th>2017</th>\n      <th>2018</th>\n      <th>2019</th>\n      <th>2020</th>\n      <th>Total of all years</th>\n    </tr>\n    <tr>\n      <th>Country Name</th>\n      <th></th>\n      <th></th>\n      <th></th>\n      <th></th>\n      <th></th>\n      <th></th>\n      <th></th>\n    </tr>\n  </thead>\n  <tbody>\n    <tr>\n      <th>Euro area</th>\n      <td>4.405600e+11</td>\n      <td>4.540740e+11</td>\n      <td>4.941170e+11</td>\n      <td>4.765640e+11</td>\n      <td>3.850180e+11</td>\n      <td>4.030330e+11</td>\n      <td>2.653366e+12</td>\n    </tr>\n    <tr>\n      <th>Germany</th>\n      <td>2.550380e+11</td>\n      <td>2.564020e+11</td>\n      <td>2.605920e+11</td>\n      <td>2.459330e+11</td>\n      <td>2.194700e+11</td>\n      <td>2.220560e+11</td>\n      <td>1.459491e+12</td>\n    </tr>\n    <tr>\n      <th>China P RP</th>\n      <td>3.578710e+11</td>\n      <td>2.557370e+11</td>\n      <td>2.170100e+11</td>\n      <td>8.790515e+10</td>\n      <td>1.318440e+11</td>\n      <td>3.696730e+11</td>\n      <td>1.420040e+12</td>\n    </tr>\n    <tr>\n      <th>Russian Federation</th>\n      <td>1.112460e+11</td>\n      <td>6.625605e+10</td>\n      <td>8.323475e+10</td>\n      <td>1.649760e+11</td>\n      <td>1.291000e+11</td>\n      <td>7.668946e+10</td>\n      <td>6.315023e+11</td>\n    </tr>\n    <tr>\n      <th>Singapore</th>\n      <td>8.407688e+10</td>\n      <td>8.341978e+10</td>\n      <td>9.077379e+10</td>\n      <td>1.082060e+11</td>\n      <td>1.058310e+11</td>\n      <td>1.085180e+11</td>\n      <td>5.808255e+11</td>\n    </tr>\n  </tbody>\n</table>\n</div>"
     },
     "execution_count": 345,
     "metadata": {},
     "output_type": "execute_result"
    }
   ],
   "source": [
    "heatmap2_data"
   ],
   "metadata": {
    "collapsed": false,
    "pycharm": {
     "name": "#%%\n"
    }
   }
  },
  {
   "cell_type": "code",
   "execution_count": 346,
   "outputs": [],
   "source": [
    "heatmap3_data = heatmap2_data.drop(columns = 'Total of all years')"
   ],
   "metadata": {
    "collapsed": false,
    "pycharm": {
     "name": "#%%\n"
    }
   }
  },
  {
   "cell_type": "code",
   "execution_count": 347,
   "outputs": [
    {
     "data": {
      "text/plain": "<AxesSubplot:xlabel='Year', ylabel='Country Name'>"
     },
     "execution_count": 347,
     "metadata": {},
     "output_type": "execute_result"
    },
    {
     "data": {
      "text/plain": "<Figure size 432x288 with 2 Axes>",
      "image/png": "[encoded data removed]"
     },
     "metadata": {},
     "output_type": "display_data"
    }
   ],
   "source": [
    "sns.heatmap(heatmap3_data.head(), cmap=\"YlGnBu\")"
   ],
   "metadata": {
    "collapsed": false,
    "pycharm": {
     "name": "#%%\n"
    }
   }
  },
  {
   "cell_type": "markdown",
   "source": [
    "The above visual is a heatmap that demonstrates the progress of the net trade of the top 5 countries over the years 2015-2020. As shown above, it is clear that Euro area has had a high net trade over the overs whereas, China has seen significant fluctuations throughout. Other countries have seen a constant net trade."
   ],
   "metadata": {
    "collapsed": false,
    "pycharm": {
     "name": "#%% md\n"
    }
   }
  },
  {
   "cell_type": "code",
   "execution_count": 347,
   "outputs": [],
   "source": [],
   "metadata": {
    "collapsed": false,
    "pycharm": {
     "name": "#%%\n"
    }
   }
  }
 ],
 "metadata": {
  "kernelspec": {
   "display_name": "Python 3 (ipykernel)",
   "language": "python",
   "name": "python3"
  },
  "language_info": {
   "codemirror_mode": {
    "name": "ipython",
    "version": 3
   },
   "file_extension": ".py",
   "mimetype": "text/x-python",
   "name": "python",
   "nbconvert_exporter": "python",
   "pygments_lexer": "ipython3",
   "version": "3.9.7"
  }
 },
 "nbformat": 4,
 "nbformat_minor": 5
}